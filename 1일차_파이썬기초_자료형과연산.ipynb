{
  "nbformat": 4,
  "nbformat_minor": 0,
  "metadata": {
    "colab": {
      "provenance": [],
      "authorship_tag": "ABX9TyOOjdmVOEqopr6G8rGsBJ7G",
      "include_colab_link": true
    },
    "kernelspec": {
      "name": "python3",
      "display_name": "Python 3"
    },
    "language_info": {
      "name": "python"
    }
  },
  "cells": [
    {
      "cell_type": "markdown",
      "metadata": {
        "id": "view-in-github",
        "colab_type": "text"
      },
      "source": [
        "<a href=\"https://colab.research.google.com/github/ellieyakim0829/dataAnalysis/blob/main/1%EC%9D%BC%EC%B0%A8_%ED%8C%8C%EC%9D%B4%EC%8D%AC%EA%B8%B0%EC%B4%88_%EC%9E%90%EB%A3%8C%ED%98%95%EA%B3%BC%EC%97%B0%EC%82%B0.ipynb\" target=\"_parent\"><img src=\"https://colab.research.google.com/assets/colab-badge.svg\" alt=\"Open In Colab\"/></a>"
      ]
    },
    {
      "cell_type": "markdown",
      "source": [],
      "metadata": {
        "id": "xLwNa7GerjDE"
      }
    },
    {
      "cell_type": "code",
      "execution_count": null,
      "metadata": {
        "id": "OAwptNkFqiXq"
      },
      "outputs": [],
      "source": []
    },
    {
      "cell_type": "markdown",
      "source": [],
      "metadata": {
        "id": "-ifLsKhMqi3s"
      }
    },
    {
      "cell_type": "code",
      "source": [],
      "metadata": {
        "id": "qISBSDckrhd0"
      },
      "execution_count": null,
      "outputs": []
    },
    {
      "cell_type": "markdown",
      "source": [
        "# 1. 파이썬 자료형과 연산"
      ],
      "metadata": {
        "id": "4EWjm19PrlZ0"
      }
    },
    {
      "cell_type": "markdown",
      "source": [],
      "metadata": {
        "id": "qEaGdvh2y85B"
      }
    },
    {
      "cell_type": "markdown",
      "source": [
        "# 오류"
      ],
      "metadata": {
        "id": "CjF2meWQzAZw"
      }
    },
    {
      "cell_type": "code",
      "source": [
        "a= 10   # number\n",
        "b='파이썬 ' #string\n",
        "# print(a + b) #, 공백하나랑 같음 문자열과 정수는 더할수 없음"
      ],
      "metadata": {
        "id": "kUIa6WoHsvia"
      },
      "execution_count": 8,
      "outputs": []
    },
    {
      "cell_type": "markdown",
      "source": [
        "# 실습문제"
      ],
      "metadata": {
        "id": "kjzrP9bn0V_Z"
      }
    },
    {
      "cell_type": "markdown",
      "source": [
        "#1. 파이썬 버전 출력\n"
      ],
      "metadata": {
        "id": "k0Ojnl_jzKe5"
      }
    },
    {
      "cell_type": "code",
      "source": [
        "!python -V"
      ],
      "metadata": {
        "colab": {
          "base_uri": "https://localhost:8080/"
        },
        "id": "fZ-sCs8Ozj46",
        "outputId": "affbdb23-38b2-4784-b973-1048d8589197"
      },
      "execution_count": 10,
      "outputs": [
        {
          "output_type": "stream",
          "name": "stdout",
          "text": [
            "Python 3.10.12\n"
          ]
        }
      ]
    },
    {
      "cell_type": "code",
      "source": [
        "import sys\n",
        "print('---',sys.version)\n",
        "# sys.version\n",
        "100+400\n"
      ],
      "metadata": {
        "colab": {
          "base_uri": "https://localhost:8080/"
        },
        "id": "BGS0hACYzOoQ",
        "outputId": "9dad9438-efb3-4ec3-8865-0a1f3734a1e2"
      },
      "execution_count": 13,
      "outputs": [
        {
          "output_type": "stream",
          "name": "stdout",
          "text": [
            "--- 3.10.12 (main, Nov 20 2023, 15:14:05) [GCC 11.4.0]\n"
          ]
        },
        {
          "output_type": "execute_result",
          "data": {
            "text/plain": [
              "500"
            ]
          },
          "metadata": {},
          "execution_count": 13
        }
      ]
    },
    {
      "cell_type": "markdown",
      "source": [
        "# 파이썬 설치위치"
      ],
      "metadata": {
        "id": "xgjFh4z70c0A"
      }
    },
    {
      "cell_type": "code",
      "source": [
        "#2. 파이썬 설치 위치\n",
        "import sys\n",
        "print(sys.executable)"
      ],
      "metadata": {
        "colab": {
          "base_uri": "https://localhost:8080/"
        },
        "id": "2UxnYeEy0fiI",
        "outputId": "ba48a2eb-908e-4892-bd36-17140a4c802b"
      },
      "execution_count": 14,
      "outputs": [
        {
          "output_type": "stream",
          "name": "stdout",
          "text": [
            "/usr/bin/python3\n"
          ]
        }
      ]
    },
    {
      "cell_type": "markdown",
      "source": [],
      "metadata": {
        "id": "RGfrwtnT0vgx"
      }
    },
    {
      "cell_type": "code",
      "source": [
        "# 물리적 폴더 위치\n",
        "#import sys 는 한번 작성해주면 서버상에 자동으로 올라가기때문에 반복으로 적지 않아도 된다\n",
        "import os # 폴더를 이동하고 추하나는 모든 함수가 포함되어 있다. 함수호출하는 라이브러리임\n",
        "os.getcwd()"
      ],
      "metadata": {
        "colab": {
          "base_uri": "https://localhost:8080/",
          "height": 35
        },
        "id": "duz0kg4k0w5H",
        "outputId": "213367dc-0268-4312-c7f5-d2bb0429ea9f"
      },
      "execution_count": 15,
      "outputs": [
        {
          "output_type": "execute_result",
          "data": {
            "text/plain": [
              "'/content'"
            ],
            "application/vnd.google.colaboratory.intrinsic+json": {
              "type": "string"
            }
          },
          "metadata": {},
          "execution_count": 15
        }
      ]
    },
    {
      "cell_type": "code",
      "source": [
        "10+20"
      ],
      "metadata": {
        "colab": {
          "base_uri": "https://localhost:8080/"
        },
        "id": "sIgy4lI13GGo",
        "outputId": "1f7d560e-54b5-4f00-b815-1897c0245545"
      },
      "execution_count": 16,
      "outputs": [
        {
          "output_type": "execute_result",
          "data": {
            "text/plain": [
              "30"
            ]
          },
          "metadata": {},
          "execution_count": 16
        }
      ]
    },
    {
      "cell_type": "code",
      "source": [
        "# ✓ 문제1: 10 + 3 x 4 결과 출력\n",
        "print(10+3*4)\n",
        "\n",
        "# ✓ 문제2: 아이폰 15대를 가지고 있다. 아이폰의 가격이 130만원 일 때 총 금액은?\n",
        "iphone = 15\n",
        "price = 1300000\n",
        "print(iphone*price)\n",
        "\n",
        "# ✓ 문제3: 주어진 임의의 자연수가 홀수인지 짝수인지 판별하는 방법은?\n",
        "a =10\n",
        "if a % 2 == 1:\n",
        "  print('홀수')\n",
        "else:\n",
        "  print('짝수')\n",
        "\n",
        "# ✓ 문제4: 2x2x2x5x5x5x5x3x3x3x3을 제곱형태로 나타낸 후 그 결과 출력하기\n",
        "print(2**3*5**4*3**4)\n",
        "\n"
      ],
      "metadata": {
        "colab": {
          "base_uri": "https://localhost:8080/"
        },
        "id": "Hs470aLv3TEe",
        "outputId": "72246170-90fc-4999-fd1e-0c50a60bdd13"
      },
      "execution_count": 30,
      "outputs": [
        {
          "output_type": "stream",
          "name": "stdout",
          "text": [
            "22\n",
            "19500000\n",
            "짝수\n",
            "405000\n"
          ]
        }
      ]
    },
    {
      "cell_type": "markdown",
      "source": [
        "# 1. 표준입출력"
      ],
      "metadata": {
        "id": "iwHlaneCCyB7"
      }
    },
    {
      "cell_type": "markdown",
      "source": [
        "### 파이썬 자료형 확인(Data Type)확인 함수: type()"
      ],
      "metadata": {
        "id": "4tWrcpS69yu7"
      }
    },
    {
      "cell_type": "code",
      "source": [
        "print(type(123))\n",
        "print(type(3.14))\n",
        "print(type(\"123\"))\n",
        "print(type([123]))\n",
        "print(type((123,)))\n",
        "print(type({'123': 123}))\n",
        "print(type({123}))\n",
        "print(type(True))"
      ],
      "metadata": {
        "colab": {
          "base_uri": "https://localhost:8080/"
        },
        "id": "MMP2ak8m98bs",
        "outputId": "d3fc29ba-6306-41d8-f20d-72c2468d8e08"
      },
      "execution_count": 31,
      "outputs": [
        {
          "output_type": "stream",
          "name": "stdout",
          "text": [
            "<class 'int'>\n",
            "<class 'float'>\n",
            "<class 'str'>\n",
            "<class 'list'>\n",
            "<class 'tuple'>\n",
            "<class 'dict'>\n",
            "<class 'set'>\n",
            "<class 'bool'>\n"
          ]
        }
      ]
    },
    {
      "cell_type": "markdown",
      "source": [
        "## 2.표준입출력"
      ],
      "metadata": {
        "id": "g14wLZodCeBS"
      }
    },
    {
      "cell_type": "markdown",
      "source": [
        "### 문자열 데이터를 숫자로 변환하기"
      ],
      "metadata": {
        "id": "D37TJx37C8FS"
      }
    },
    {
      "cell_type": "code",
      "source": [
        "a=input('숫자를 입력하세요: ') # input 안내문구를 넣어주는게 낫다\n",
        "print(type(a))\n",
        "a=int(a) # 정수로 변환하는 함수 : int()\n",
        "print(type(a))\n"
      ],
      "metadata": {
        "colab": {
          "base_uri": "https://localhost:8080/"
        },
        "id": "wbpM209VCoxG",
        "outputId": "61eb8bea-7d32-41e4-f7ba-107faace3a79"
      },
      "execution_count": 35,
      "outputs": [
        {
          "output_type": "stream",
          "name": "stdout",
          "text": [
            "숫자를 입력하세요: 100\n",
            "<class 'str'>\n",
            "<class 'int'>\n"
          ]
        }
      ]
    },
    {
      "cell_type": "code",
      "source": [
        "# a=input('숫자를 입력하세요: ')\n",
        "# a=int(a)\n",
        "\n",
        "a=int(input('숫자를 입력하세요: '))"
      ],
      "metadata": {
        "colab": {
          "base_uri": "https://localhost:8080/"
        },
        "id": "2jT57c8vEAIJ",
        "outputId": "4b76a606-2322-44e8-84ec-502b2cac6381"
      },
      "execution_count": 36,
      "outputs": [
        {
          "name": "stdout",
          "output_type": "stream",
          "text": [
            "숫자를 입력하세요: 100\n"
          ]
        }
      ]
    },
    {
      "cell_type": "code",
      "source": [
        "# 문자열 포맷팅\n",
        "a=input('키보드로 입력해 주세요')\n",
        "print('변수 a 의 값은' ,a, '입니다.')\n",
        "print('변수 a의 값은 %s 입니다.' %a)\n",
        "print(f'변수 a의 값은 {a} 입니다.') # 가장 많이 쓰는 방식"
      ],
      "metadata": {
        "colab": {
          "base_uri": "https://localhost:8080/"
        },
        "id": "iimmFWXQFqsi",
        "outputId": "d63ad85a-c80f-4569-c7e1-1522cde82936"
      },
      "execution_count": 37,
      "outputs": [
        {
          "output_type": "stream",
          "name": "stdout",
          "text": [
            "키보드로 입력해 주세요사과\n",
            "변수 a 의 값은 사과 입니다.\n",
            "변수 a의 값은 사과 입니다.\n",
            "변수 a의 값은 사과 입니다.\n"
          ]
        }
      ]
    },
    {
      "cell_type": "code",
      "source": [
        "a=int(input('키보드로  첫번째 숫자 입력해 주세요'))\n",
        "b=int(input('키보드로 두번째 숫자 입력해 주세요'))\n",
        "\n",
        "print(f'덧셈 :{a} + {b}={a+b}')\n",
        "print(f'뺄셈 :{a}- {b}={a-b}')\n",
        "print(f'곱셈 :{a} * {b}={a*b}')\n",
        "print(f'몫 :{a} // {b}={a//b}')\n",
        "print(f'나머지 :{a} % {b}={a%b}')"
      ],
      "metadata": {
        "colab": {
          "base_uri": "https://localhost:8080/"
        },
        "id": "pyMo9OpiGx2a",
        "outputId": "4c752440-5766-4e1c-82bd-3f9b68a7bf26"
      },
      "execution_count": 49,
      "outputs": [
        {
          "output_type": "stream",
          "name": "stdout",
          "text": [
            "키보드로  첫번째 숫자 입력해 주세요50\n",
            "키보드로 두번째 숫자 입력해 주세요3\n",
            "덧셈 :50 + 3=53\n",
            "뺄셈 :50- 3=47\n",
            "곱셈 :50 * 3=150\n",
            "몫 :50 // 3=16\n",
            "나머지 :50 % 3=2\n"
          ]
        }
      ]
    },
    {
      "cell_type": "code",
      "source": [],
      "metadata": {
        "id": "h3CITmzXLvuf"
      },
      "execution_count": null,
      "outputs": []
    },
    {
      "cell_type": "markdown",
      "source": [],
      "metadata": {
        "id": "d4KYisDSKZqI"
      }
    },
    {
      "cell_type": "code",
      "source": [
        "# val = input('첫번쨰 숫자:')\n",
        "# # print(f'a의 값은: {val:>10'}) #val 값을 10자리로 오른쪽 정렬\n",
        "# # print(f'a의 값은: {val:<10'}) #val 값을 10자리로 오른쪽 정렬"
      ],
      "metadata": {
        "id": "W2iWnecmKt3Z"
      },
      "execution_count": null,
      "outputs": []
    },
    {
      "cell_type": "code",
      "source": [
        "velocity = input('속력을 입력해 주세요(km/h) :')\n",
        "distance = input('거리을 입력해 주세요(km) :')\n",
        "print('-'*30)\n",
        "a=int(distance)/int(velocity)\n",
        "print(f'속력 : {velocity} km/h')\n",
        "print(f'거리 : {distance}km')\n",
        "print(f'시간 : {a} h')\n",
        "\n",
        "# #속력과 거리를 입력 받아 시간을 계산하는 프로그램을 만들어 보세요\n",
        "# velocity = input('속력을 입력해 주세요(km/h) : ')\n",
        "# distance = input('거리를 입력해 주세요(km) : ')\n",
        "# print('-'*30)\n",
        "# print(f'속력 : {float(velocity)} km/h ')\n",
        "# print(f'거리 : {float(distance)} km ')\n",
        "# print(f'시간 : {float(distance) / float(velocity)} h' )\n"
      ],
      "metadata": {
        "colab": {
          "base_uri": "https://localhost:8080/"
        },
        "id": "VcRgLeoXL2pX",
        "outputId": "f7d15235-af8f-41e6-95a0-1169333b6569"
      },
      "execution_count": 56,
      "outputs": [
        {
          "output_type": "stream",
          "name": "stdout",
          "text": [
            "속력을 입력해 주세요(km/h) :100\n",
            "거리을 입력해 주세요(km) :340\n",
            "------------------------------\n",
            "속력 : 100 km/h\n",
            "거리 : 340km\n",
            "시간 : 3.4 h\n"
          ]
        }
      ]
    },
    {
      "cell_type": "markdown",
      "source": [
        "# 내장된 수학함수"
      ],
      "metadata": {
        "id": "ruNzTGwnO-TP"
      }
    },
    {
      "cell_type": "code",
      "source": [],
      "metadata": {
        "id": "zjR6AuOASVXD"
      },
      "execution_count": null,
      "outputs": []
    },
    {
      "cell_type": "code",
      "source": [
        "import math\n",
        "# ✓ 문제1: 반지름이 4인 원의 넓이 출력\n",
        "print(f'원의 넓이: {round(math.pi* math.pow(r,2) , 4)}')\n",
        "# ✓ 문제2: 3.14 곱하기 2 나누기 7의 값을 반올림하여 계산 결과 출력\n",
        "pi = 3.14\n",
        "# ✓ 문제3: 원주율을 3.14로 만들어서 반지름이 4인 원의 둘레의 길이 출력\n",
        "\n",
        "\n"
      ],
      "metadata": {
        "id": "wDGvqY2-OtWv"
      },
      "execution_count": null,
      "outputs": []
    },
    {
      "cell_type": "markdown",
      "source": [],
      "metadata": {
        "id": "PvO1aW3ISCEK"
      }
    },
    {
      "cell_type": "code",
      "source": [],
      "metadata": {
        "id": "mkw6YLFYSem0"
      },
      "execution_count": null,
      "outputs": []
    }
  ]
}