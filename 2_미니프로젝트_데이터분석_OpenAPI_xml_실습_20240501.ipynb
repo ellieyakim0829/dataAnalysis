{
  "cells": [
    {
      "cell_type": "markdown",
      "metadata": {
        "id": "view-in-github",
        "colab_type": "text"
      },
      "source": [
        "<a href=\"https://colab.research.google.com/github/ellieyakim0829/dataAnalysis/blob/main/2_%EB%AF%B8%EB%8B%88%ED%94%84%EB%A1%9C%EC%A0%9D%ED%8A%B8_%EB%8D%B0%EC%9D%B4%ED%84%B0%EB%B6%84%EC%84%9D_OpenAPI_xml_%EC%8B%A4%EC%8A%B5_20240501.ipynb\" target=\"_parent\"><img src=\"https://colab.research.google.com/assets/colab-badge.svg\" alt=\"Open In Colab\"/></a>"
      ]
    },
    {
      "cell_type": "markdown",
      "id": "46265587",
      "metadata": {
        "id": "46265587"
      },
      "source": [
        "# 데이터 분석"
      ]
    },
    {
      "cell_type": "markdown",
      "id": "go-R3kQSaSrk",
      "metadata": {
        "id": "go-R3kQSaSrk"
      },
      "source": [
        "## 5. OpenAPI를 이용한 데이터 수집"
      ]
    },
    {
      "cell_type": "markdown",
      "id": "VGDzYiKZhR0U",
      "metadata": {
        "id": "VGDzYiKZhR0U"
      },
      "source": [
        "### #그래프에서 한글사용하는 방법\n",
        "- **(코랩에서)한글폰트 설치하기**"
      ]
    },
    {
      "cell_type": "code",
      "execution_count": null,
      "id": "hwAJP1nahhrF",
      "metadata": {
        "id": "hwAJP1nahhrF"
      },
      "outputs": [],
      "source": [
        "!sudo apt-get install -y fonts-nanum\n",
        "!sudo fc-cache -fv\n",
        "!rm ~/.cache/matplotlib -rf\n",
        "\n",
        "# 코랩에서 위 코드를 실행시킨 후  반드시 코랩 메뉴: \"런타임>런타임 다시 시작\" 합니다."
      ]
    },
    {
      "cell_type": "markdown",
      "id": "4YrZX8Hf1hQ8",
      "metadata": {
        "id": "4YrZX8Hf1hQ8"
      },
      "source": [
        "- **한글 폰트 지정하기**"
      ]
    },
    {
      "cell_type": "code",
      "execution_count": 1,
      "id": "ld3tL_Sh1gXu",
      "metadata": {
        "id": "ld3tL_Sh1gXu"
      },
      "outputs": [],
      "source": [
        "# 코랩에서 한글 폰트 종류와 이름이 win과 다를 수 있다!!!\n",
        "# 코랩: NanumGothic, 윈도우: Malgun Gothic\n",
        "import matplotlib.pyplot as plt\n",
        "plt.rcParams.update({'font.family': 'NanumBarunGothic',\n",
        "                     'font.size': 12,\n",
        "                     'figure.figsize': (6, 4),\n",
        "                     'axes.unicode_minus':  False }) # 폰트 설정"
      ]
    },
    {
      "cell_type": "markdown",
      "id": "6d0c04ae",
      "metadata": {
        "id": "6d0c04ae"
      },
      "source": [
        "---"
      ]
    },
    {
      "cell_type": "markdown",
      "id": "f4f12800",
      "metadata": {
        "id": "f4f12800"
      },
      "source": [
        "### <a name=\"1)OpenAPI통한데이터수집\">1) OpenAPI 통한 데이터 수집</a>"
      ]
    },
    {
      "cell_type": "markdown",
      "id": "db60e9f8",
      "metadata": {
        "id": "db60e9f8"
      },
      "source": [
        "#### 1.도서관 정보나루  OpenAPI 신청하기\n",
        "*  도서관 데이터 제공, 신청 활용 가능\n",
        "    - 오픈 API 활용 방법: https://www.data4library.kr/apiUtilization\n",
        "    - OpenAPI 신청하기: https://www.data4library.kr/myPage?isValid=true"
      ]
    },
    {
      "cell_type": "markdown",
      "id": "0245934c",
      "metadata": {
        "id": "0245934c"
      },
      "source": [
        "#### 도서관 정보나루 API 사용하여 데이터 수집하기"
      ]
    },
    {
      "cell_type": "code",
      "execution_count": null,
      "id": "51bbff90",
      "metadata": {
        "id": "51bbff90"
      },
      "outputs": [],
      "source": [
        "# requests 설치\n",
        "!pip install requests"
      ]
    },
    {
      "cell_type": "code",
      "source": [
        "import requests\n",
        "import xml.etree.ElementTree as ET #Python의 표준 라이브러리 중 하나로 XML 데이터를 파싱하고, XML 트리를 생성하고, XML 문서를 생성하는 기능\n",
        "\n",
        "# URL 설정\n",
        "url = \"http://data4library.kr/api/loanItemSrch?authKey=b8604a40cf9f0ce1e10c1d20ac9c70e6b6ddf0a5b7b751370b67131552680c20&startDt=2024-01-01&endDt=2024-04-30&gender=0;1&age=30;40;50&region=11\"\n",
        "\n",
        "# GET 요청을 보내고 응답 받기.\n",
        "r = requests.get(url)\n",
        "print(r)\n",
        "\n",
        "# 응답의 인코딩을 UTF-8로 설정.\n",
        "r.encoding = 'UTF-8'\n",
        "\n",
        "# 응답을 XML 형식으로 파싱.\n",
        "tree = ET.fromstring(r.text)\n",
        "print(tree)"
      ],
      "metadata": {
        "id": "cSAdDrpkACWr"
      },
      "id": "cSAdDrpkACWr",
      "execution_count": null,
      "outputs": []
    },
    {
      "cell_type": "code",
      "source": [
        "import requests\n",
        "import xml.etree.ElementTree as ET\n",
        "from urllib.parse import urlparse, parse_qs\n",
        "\n",
        "url = 'http://data4library.kr/api/loanItemSrch?authKey=b8604a40cf9f0ce1e10c1d20ac9c70e6b6ddf0a5b7b751370b67131552680c20&startDt=2024-01-01&endDt=2024-04-30&gender=0;1&age=30;40;50&region=11'\n",
        "\n",
        "# URL을 파싱하여 쿼리 문자열의 매개변수를 가져오기.\n",
        "parsed_url = urlparse(url)\n",
        "query_params = parse_qs(parsed_url.query)\n",
        "\n",
        "# 각 매개변수의 값을 가져오기\n",
        "gender = query_params.get('gender', [''])[0]\n",
        "age = query_params.get('age', [''])[0]\n",
        "addCode = query_params.get('addCode', [''])[0]\n",
        "kdc = query_params.get('kdc', [''])[0]\n",
        "region = query_params.get('region', [''])[0]\n",
        "\n",
        "print(\"Gender:\", gender)\n",
        "print(\"Age:\", age)\n",
        "print(\"Add Code:\", addCode)\n",
        "print(\"KDC:\", kdc)\n",
        "print(\"Region:\", region)\n",
        "\n",
        "# URL에서 XML 데이터를 추출.\n",
        "response = requests.get(url)\n",
        "\n",
        "# 응답의 텍스트를 XML 문자열로 변환.\n",
        "xml_data = response.text\n",
        "\n",
        "# XML 문자열을 파싱.\n",
        "root = ET.fromstring(xml_data)\n",
        "\n",
        "# 각 도서 정보에 접근하여 출력.\n",
        "for doc in root.findall('docs/doc'):\n",
        "    bookname = doc.find('bookname').text\n",
        "    ranking = doc.find('ranking').text\n",
        "    authors = doc.find('authors').text\n",
        "    publisher = doc.find('publisher').text\n",
        "    publication_year = doc.find('publication_year').text\n",
        "    isbn13 = doc.find('isbn13').text\n",
        "    loan_count = doc.find('loan_count').text\n",
        "    print(\"도서명:\", bookname)\n",
        "    print(\"순위\",ranking)\n",
        "    print(\"저자:\", authors)\n",
        "    print(\"출판사:\", publisher)\n",
        "    print(\"출판년도:\", publication_year)\n",
        "    print(\"ISBN:\", isbn13)\n",
        "    print(\"대출 횟수:\", loan_count)\n",
        "    print(\"-----\")"
      ],
      "metadata": {
        "id": "cTHTcsp_IALP"
      },
      "id": "cTHTcsp_IALP",
      "execution_count": null,
      "outputs": []
    },
    {
      "cell_type": "code",
      "source": [
        "import requests\n",
        "import xml.etree.ElementTree as ET\n",
        "import pandas as pd\n",
        "\n",
        "url = 'http://data4library.kr/api/loanItemSrch?authKey=b8604a40cf9f0ce1e10c1d20ac9c70e6b6ddf0a5b7b751370b67131552680c20&startDt=2024-01-01&endDt=2024-04-30&gender=0;1&age=30;40;50&region=11'\n",
        "\n",
        "# URL에서 XML 데이터 추출\n",
        "response = requests.get(url)\n",
        "\n",
        "# XML 데이터를 파싱하여 ElementTree 객체로 변환\n",
        "root = ET.fromstring(response.content)\n",
        "\n",
        "# 'request' 요소에서 매개변수 정보를 추출하여 딕셔너리에 저장\n",
        "params_data = {\n",
        "    '성별': root.find('.//request/gender').text,\n",
        "    '연령': root.find('.//request/age').text,\n",
        "    '지역': root.find('.//request/region').text\n",
        "    }\n",
        "\n",
        "# 매개변수 정보를 DataFrame으로 변환\n",
        "params_df = pd.DataFrame([params_data])\n",
        "\n",
        "# 도서 정보를 저장할 리스트 초기화\n",
        "books = []\n",
        "\n",
        "# 각 도서 정보에 접근하여 리스트에 추가\n",
        "for doc in root.findall('.//docs/doc'):\n",
        "    bookname = doc.find('bookname').text\n",
        "    ranking = doc.find('ranking').text\n",
        "    authors = doc.find('authors').text\n",
        "    publisher = doc.find('publisher').text\n",
        "    publication_year = doc.find('publication_year').text\n",
        "    isbn13 = doc.find('isbn13').text\n",
        "    class_nm = doc.find('class_nm').text\n",
        "    loan_count = doc.find('loan_count').text\n",
        "    bookImageURL = doc.find('bookImageURL').text\n",
        "    bookDtlUrl = doc.find('bookDtlUrl').text\n",
        "\n",
        "    books.append({\n",
        "        '도서명': bookname,\n",
        "        '순위': ranking,\n",
        "        '저자': authors,\n",
        "        '출판사': publisher,\n",
        "        '출판년도': publication_year,\n",
        "        'ISBN': isbn13,\n",
        "        '주제분류명':class_nm,\n",
        "        '대출 횟수': loan_count,\n",
        "        '책표지': bookImageURL,\n",
        "        '도서상세페이지 URL': bookDtlUrl\n",
        "    })\n",
        "\n",
        "# 도서 정보를 DataFrame으로 변환\n",
        "books_df = pd.DataFrame(books)\n",
        "\n",
        "# 매개변수 정보와 도서 정보를 가로 방향으로 결합하여 하나의 DataFrame으로 만듭니다.\n",
        "result_df = pd.concat([params_df, books_df], axis=1)\n",
        "result_df.head(5)\n",
        "# # 결과 DataFrame 출력\n",
        "# print(result_df)"
      ],
      "metadata": {
        "id": "8GJ9WM13Dbco"
      },
      "id": "8GJ9WM13Dbco",
      "execution_count": null,
      "outputs": []
    },
    {
      "cell_type": "code",
      "source": [
        "import requests\n",
        "import xml.etree.ElementTree as ET\n",
        "import pandas as pd\n",
        "\n",
        "url = 'http://data4library.kr/api/loanItemSrch?authKey=b8604a40cf9f0ce1e10c1d20ac9c70e6b6ddf0a5b7b751370b67131552680c20&startDt=2023-04-01&endDt=2024-04-29&gender=0;1&age=8;20;30;40;50;60&region=11&addCode=0;1;2;4;5;6;7;9&kdc=0;1;2;3;4;5;6;7;8;9'\n",
        "\n",
        "# URL에서 XML 데이터 추출\n",
        "response = requests.get(url)\n",
        "\n",
        "# XML 데이터를 파싱하여 ElementTree 객체로 변환\n",
        "root = ET.fromstring(response.content)\n",
        "\n",
        "# 도서 정보를 저장할 리스트 초기화\n",
        "books = []\n",
        "\n",
        "# 각 도서 정보에 접근하여 리스트에 추가\n",
        "for doc in root.findall('.//docs/doc'):\n",
        "    ranking = doc.find('ranking').text\n",
        "    bookname = doc.find('bookname').text\n",
        "    ranking = doc.find('ranking').text\n",
        "    authors = doc.find('authors').text\n",
        "    publisher = doc.find('publisher').text\n",
        "    publication_year = doc.find('publication_year').text\n",
        "    isbn13 = doc.find('isbn13').text\n",
        "    class_nm = doc.find('class_nm').text\n",
        "    loan_count = doc.find('loan_count').text\n",
        "    bookImageURL = doc.find('bookImageURL').text\n",
        "    bookDtlUrl = doc.find('bookDtlUrl').text\n",
        "\n",
        "    books.append({\n",
        "        '순위': ranking,\n",
        "        '도서명': bookname,\n",
        "        '순위': ranking,\n",
        "        '저자': authors,\n",
        "        '출판사': publisher,\n",
        "        '출판년도': publication_year,\n",
        "        'ISBN': isbn13,\n",
        "        '주제분류명':class_nm,\n",
        "        '대출 횟수': loan_count,\n",
        "        '책표지': bookImageURL,\n",
        "        '도서상세페이지 URL': bookDtlUrl\n",
        "    })\n",
        "\n",
        "# 도서 정보를 DataFrame으로 변환\n",
        "books_df = pd.DataFrame(books)\n",
        "books_df.head(5)\n",
        "# DataFrame 출력\n",
        "# print(books_df)"
      ],
      "metadata": {
        "id": "HO9utWYpMtWp"
      },
      "id": "HO9utWYpMtWp",
      "execution_count": null,
      "outputs": []
    },
    {
      "cell_type": "code",
      "source": [
        "result_df.info()"
      ],
      "metadata": {
        "id": "WBvr2a4DnKri"
      },
      "id": "WBvr2a4DnKri",
      "execution_count": null,
      "outputs": []
    },
    {
      "cell_type": "code",
      "source": [
        "!pip install missingno"
      ],
      "metadata": {
        "id": "0QRAMlubX3oe"
      },
      "id": "0QRAMlubX3oe",
      "execution_count": null,
      "outputs": []
    },
    {
      "cell_type": "code",
      "source": [
        "import missingno as msno\n",
        "msno.matrix(result_df)\n",
        "plt.show()"
      ],
      "metadata": {
        "id": "U6dFEASwX7N4"
      },
      "id": "U6dFEASwX7N4",
      "execution_count": null,
      "outputs": []
    },
    {
      "cell_type": "markdown",
      "source": [
        "# 현재 DataFrame의 열 이름 확인"
      ],
      "metadata": {
        "id": "BqHouviSjOTz"
      },
      "id": "BqHouviSjOTz"
    },
    {
      "cell_type": "code",
      "source": [
        "print(f\"현재 DataFrame의 열 이름:, {result_df.columns}\")\n",
        "result_df.head(3)"
      ],
      "metadata": {
        "id": "32qcCqT51RkQ"
      },
      "id": "32qcCqT51RkQ",
      "execution_count": null,
      "outputs": []
    },
    {
      "cell_type": "markdown",
      "source": [
        "# 도서명에서 중복되는 값 제거 하기"
      ],
      "metadata": {
        "id": "6HW1QwxnX3SD"
      },
      "id": "6HW1QwxnX3SD"
    },
    {
      "cell_type": "code",
      "source": [
        "# 중복 되지 않은 값의 개수와  책 이름을 확인\n",
        "# print( f'#고유한 값 갯수:{len(books_df.도서명.unique())}' )\n",
        "# print( f'#고유한 책 이름명:{books_df.도서명.unique()}' )\n",
        "\n",
        "# # '도서명' 열에서 중복되지 않는 고유한 값들을 추출하여 unique_books 변수에 저장\n",
        "# unique_books = books_df['도서명'].unique()\n",
        "# print(len(unique_books))\n",
        "\n",
        "# # '도서명' 열을 기준으로 중복된 값을 제거하고 고유한 값들을 추출하여 unique_books_df 변수에 저장 새로운 DataFrame을 생성\n",
        "unique_books_df = books_df.drop_duplicates(subset=['도서명'])\n",
        "print(len(unique_books_df))\n",
        "unique_books_df.head(10)\n",
        "\n",
        "\n"
      ],
      "metadata": {
        "id": "gZivkLlMX2se"
      },
      "id": "gZivkLlMX2se",
      "execution_count": null,
      "outputs": []
    },
    {
      "cell_type": "markdown",
      "source": [
        "#### 6.가공된 파일 신규 저장하기"
      ],
      "metadata": {
        "id": "b_uVmIUGutk5"
      },
      "id": "b_uVmIUGutk5"
    },
    {
      "cell_type": "code",
      "source": [
        "# 가공된 데이터 신규 파일로 저장하기\n",
        "outfile = 'BestLoanList_books_data.csv'\n",
        "unique_books_df.to_csv(outfile, encoding='cp949', mode='w', index=False)"
      ],
      "metadata": {
        "id": "4KDPyjkKuepA"
      },
      "id": "4KDPyjkKuepA",
      "execution_count": 45,
      "outputs": []
    },
    {
      "cell_type": "markdown",
      "source": [
        "#### 7.가공된 csv 파일 확인하기"
      ],
      "metadata": {
        "id": "WaXSxbo-gP7p"
      },
      "id": "WaXSxbo-gP7p"
    },
    {
      "cell_type": "code",
      "source": [
        "unique_books_df = pd.read_csv('BestLoanList_books_data.csv', encoding='cp949')\n",
        "\n",
        "print(f\"현재 DataFrame의 열 이름:, {unique_books_df.columns}\")\n",
        "unique_books_df.head(10)"
      ],
      "metadata": {
        "id": "10oK71uF2ujH"
      },
      "id": "10oK71uF2ujH",
      "execution_count": null,
      "outputs": []
    },
    {
      "cell_type": "markdown",
      "source": [
        "# 막대 그래프로 표시하기"
      ],
      "metadata": {
        "id": "L70LKDHCi5GA"
      },
      "id": "L70LKDHCi5GA"
    },
    {
      "cell_type": "code",
      "source": [
        "import matplotlib.pyplot as plt\n",
        "\n",
        "# 인기도서 순위 데이터 가져오기\n",
        "rankings = unique_books_df['순위'].astype(int)\n",
        "books_names = unique_books_df['도서명']\n",
        "\n",
        "# 막대 그래프 그리기\n",
        "plt.figure(figsize=(10, 6))\n",
        "plt.barh(books_names.head(10), rankings.head(10), color='skyblue')  # head(10)을 사용하여 상위 10개만 선택\n",
        "plt.xlabel('순위')\n",
        "plt.ylabel('도서명')\n",
        "plt.title('30대 40대 50대 서울시민 인기도서 순위 (상위 10개)')\n",
        "plt.gca().invert_yaxis()  # y 축 역순으로 변경하여 1위가 위로 오도록 설정\n",
        "plt.show()"
      ],
      "metadata": {
        "id": "PifsQBMQ27ZK"
      },
      "id": "PifsQBMQ27ZK",
      "execution_count": null,
      "outputs": []
    },
    {
      "cell_type": "markdown",
      "source": [
        "# Pie 그래프로 표시하기"
      ],
      "metadata": {
        "id": "tJFvQQxAi0EV"
      },
      "id": "tJFvQQxAi0EV"
    },
    {
      "cell_type": "code",
      "source": [
        "# 순위별 도서 수 세기\n",
        "# 상위 10개의 도서명과 해당 도서의 비율(퍼센트) 계산\n",
        "top_10_books = unique_books_df['도서명'].head(10)\n",
        "book_percentages = (unique_books_df['순위'].value_counts(normalize=True) * 100).head(10)\n",
        "\n",
        "# 파이 그래프로 나타내기\n",
        "plt.figure(figsize=(8, 8))\n",
        "plt.pie(book_percentages, labels=top_10_books, autopct='%.3f%%', startangle=90, explode=[0.1]+[0]*9)\n",
        "plt.title('30대 40대 50대 서울시민 인기도서 순위 (상위 10개) 비율')\n",
        "plt.show()\n"
      ],
      "metadata": {
        "id": "29ZOsTougmad"
      },
      "id": "29ZOsTougmad",
      "execution_count": null,
      "outputs": []
    },
    {
      "cell_type": "markdown",
      "source": [
        "##대출건수를 계산할 때 각 책을 구분할 수 있는 고유한 식별자가 주어짐\n",
        "## - 가장 일반적인 고유한 식별자는 ISBN (International Standard Book Number)  활용하여 대출건수를 계산하면 된다.\n",
        "\n",
        "##### * 1.먼저, 데이터를 읽어올 때 ISBN 컬럼을 사용하여 DataFrame을 생성하기\n",
        "##### * 2.도서명 대신 ISBN을 사용하여 각 책의 대출건수를 계산.\n",
        "##### * 3.필요에 따라 ISBN을 인덱스로 설정하여 데이터를 재구성.\n",
        "##### * 4.이후에 대출건수 순위를 계산하고 시각화하기."
      ],
      "metadata": {
        "id": "smsRg7w-1qlP"
      },
      "id": "smsRg7w-1qlP"
    },
    {
      "cell_type": "code",
      "source": [
        "# import pandas as pd\n",
        "\n",
        "# # ISBN과 대출 횟수를 포함한 데이터 파일을 불러옵니다.\n",
        "# books_data = pd.read_csv('BestLoanList_books_data.csv', encoding='cp949')\n",
        "# print(books_data)\n",
        "\n",
        "# # ISBN을 기준으로 대출 횟수와 도서명을 포함한 데이터를 생성.\n",
        "books_with_loan_count = unique_books_df[['ISBN','대출 횟수', '도서명']]\n",
        "\n",
        "# ISBN을 인덱스로 설정.\n",
        "books_with_loan_count.set_index('ISBN', inplace=True)\n",
        "\n",
        "# 대출 횟수에 따라 정렬한 뒤 상위 10개의 도서 생성.\n",
        "top_10_books_with_loan_count = books_with_loan_count.sort_values(by='대출 횟수', ascending=False).head(10)\n",
        "\n",
        "# 결과를 확인.\n",
        "print(top_10_books_with_loan_count)\n",
        "top_10_books_with_loan_count"
      ],
      "metadata": {
        "id": "GdZiDUbBvJgO"
      },
      "id": "GdZiDUbBvJgO",
      "execution_count": null,
      "outputs": []
    },
    {
      "cell_type": "code",
      "source": [
        "import matplotlib.pyplot as plt\n",
        "\n",
        "# 상위 10개의 도서명과 대출 횟수를 추출합니다.\n",
        "books_names = top_10_books_with_loan_count['도서명']\n",
        "loan_counts = top_10_books_with_loan_count['대출 횟수']\n",
        "\n",
        "# 막대 그래프 그리기\n",
        "plt.figure(figsize=(12, 8))  # 그래프 크기 설정\n",
        "plt.barh(books_names, loan_counts, color='skyblue')  # 가로 막대 그래프 그리기\n",
        "plt.xlabel('대출 횟수')\n",
        "plt.ylabel('도서명')\n",
        "plt.title('서울시민 30대 40대 50대 인기도서 순위 (상위 10개)')\n",
        "plt.gca().invert_yaxis()  # y 축 역순으로 변경하여 1위가 위로 오도록 설정\n",
        "\n",
        "# 각 막대에 대출 횟수 표시\n",
        "for i, v in enumerate(loan_counts):\n",
        "    plt.text(v, i, str(v), color='black', va='center')\n",
        "\n",
        "# 그래프 테마 설정\n",
        "plt.grid(axis='x', linestyle='--', alpha=0.7)\n",
        "\n",
        "# 그래프를 파일로 저장\n",
        "plt.savefig('서울시민_30대 40대 50대_인기도서_10개_막대그래프.png')\n",
        "\n",
        "# 그래프 보여주기\n",
        "plt.show()"
      ],
      "metadata": {
        "id": "lgBuJGKptBGx"
      },
      "id": "lgBuJGKptBGx",
      "execution_count": null,
      "outputs": []
    },
    {
      "cell_type": "code",
      "source": [
        "# import matplotlib.pyplot as plt\n",
        "\n",
        "# # 상위 10개의 도서명과 해당 도서의 비율(퍼센트) 계산\n",
        "# top_10_books = top_10_books_with_loan_count['도서명'].head(10)\n",
        "# book_percentages = (top_10_books_with_loan_count['대출 횟수'].value_counts(normalize=True) * 100).head(10)\n",
        "# print(top_10_books)\n",
        "# print(book_percentages)\n",
        "# # 파이 그래프로 나타내기\n",
        "# # plt.figure(figsize=(8, 8))\n",
        "# # plt.pie(book_percentages, labels=top_10_books, autopct='%.3f%%', startangle=90, explode=[0.1]+[0]*9)\n",
        "# # plt.title('30대 40대 50대 서울시민 인기도서 순위 (상위 10개) 비율')\n",
        "# # plt.show()\n",
        "\n",
        "import matplotlib.pyplot as plt\n",
        "\n",
        "# 상위 10개의 도서명과 해당 도서의 비율(퍼센트) 계산\n",
        "top_10_books = top_10_books_with_loan_count['도서명'].head(10)\n",
        "book_percentages = (top_10_books_with_loan_count['대출 횟수'] / top_10_books_with_loan_count['대출 횟수'].sum() * 100).head(10)\n",
        "\n",
        "# 파이 그래프로 나타내기\n",
        "plt.figure(figsize=(8, 8))\n",
        "plt.pie(book_percentages, labels=top_10_books, autopct='%.3f%%', startangle=90, explode=[0.1]+[0]*9)\n",
        "plt.title('서울시민 30대 40대 50대 인기도서 순위 (상위 10개) 비율')\n",
        "\n",
        "# 파일로 저장\n",
        "plt.savefig('서울시민_30대 40대 50대_인기도서_10개_비율_파이그래프.png')\n",
        "\n",
        "plt.show()"
      ],
      "metadata": {
        "id": "h3JJ9kVCtkOg"
      },
      "id": "h3JJ9kVCtkOg",
      "execution_count": null,
      "outputs": []
    },
    {
      "cell_type": "code",
      "source": [
        "# 라이브러리 설치하기\n",
        "!pip install wordcloud"
      ],
      "metadata": {
        "id": "GoWmbqH1DIIP"
      },
      "id": "GoWmbqH1DIIP",
      "execution_count": null,
      "outputs": []
    },
    {
      "cell_type": "markdown",
      "source": [
        "# 워드 클라우드 만들기"
      ],
      "metadata": {
        "id": "Y22swhjoxZaW"
      },
      "id": "Y22swhjoxZaW"
    },
    {
      "cell_type": "code",
      "source": [
        "from wordcloud import WordCloud\n",
        "import matplotlib.pyplot as plt\n",
        "\n",
        "# 상위 10개의 도서명 추출\n",
        "top_10_books_names = top_10_books_with_loan_count['도서명'].head(10)\n",
        "\n",
        "# 워드 클라우드 생성\n",
        "wordcloud = WordCloud(font_path='NanumBarunGothic.ttf', background_color='white').generate(' '.join(top_10_books_names))\n",
        "\n",
        "# 워드 클라우드 표시\n",
        "plt.figure(figsize=(10, 6))\n",
        "plt.imshow(wordcloud, interpolation='bilinear')\n",
        "plt.title('서울시민 30대 40대 50대 인기도서 순위 (상위 10개) ')\n",
        "plt.axis('off')\n",
        "plt.show()\n",
        "\n",
        "# 파일로 저장하기\n",
        "wordcloud.to_file('서울시민_30대 40대 50대_인기도서_10개_워드클라우드.png')"
      ],
      "metadata": {
        "id": "oivx2tDew497"
      },
      "id": "oivx2tDew497",
      "execution_count": null,
      "outputs": []
    },
    {
      "cell_type": "markdown",
      "id": "aa56f180",
      "metadata": {
        "id": "aa56f180"
      },
      "source": [
        "-------------------------"
      ]
    }
  ],
  "metadata": {
    "colab": {
      "provenance": [],
      "include_colab_link": true
    },
    "kernelspec": {
      "display_name": "Python 3 (ipykernel)",
      "language": "python",
      "name": "python3"
    },
    "language_info": {
      "codemirror_mode": {
        "name": "ipython",
        "version": 3
      },
      "file_extension": ".py",
      "mimetype": "text/x-python",
      "name": "python",
      "nbconvert_exporter": "python",
      "pygments_lexer": "ipython3",
      "version": "3.12.1"
    }
  },
  "nbformat": 4,
  "nbformat_minor": 5
}