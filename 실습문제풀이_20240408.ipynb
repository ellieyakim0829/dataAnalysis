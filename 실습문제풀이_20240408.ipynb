{
  "nbformat": 4,
  "nbformat_minor": 0,
  "metadata": {
    "colab": {
      "provenance": [],
      "authorship_tag": "ABX9TyPPE1X1yG5VPaW/JNW8Lt+u",
      "include_colab_link": true
    },
    "kernelspec": {
      "name": "python3",
      "display_name": "Python 3"
    },
    "language_info": {
      "name": "python"
    }
  },
  "cells": [
    {
      "cell_type": "markdown",
      "metadata": {
        "id": "view-in-github",
        "colab_type": "text"
      },
      "source": [
        "<a href=\"https://colab.research.google.com/github/ellieyakim0829/dataAnalysis/blob/main/%EC%8B%A4%EC%8A%B5%EB%AC%B8%EC%A0%9C%ED%92%80%EC%9D%B4_20240408.ipynb\" target=\"_parent\"><img src=\"https://colab.research.google.com/assets/colab-badge.svg\" alt=\"Open In Colab\"/></a>"
      ]
    },
    {
      "cell_type": "code",
      "execution_count": 5,
      "metadata": {
        "colab": {
          "base_uri": "https://localhost:8080/"
        },
        "id": "N9pv7nCaE1h4",
        "outputId": "4a0b56ab-77f3-481c-f3db-42b57727cfde"
      },
      "outputs": [
        {
          "output_type": "stream",
          "name": "stdout",
          "text": [
            "1부터 1000까지 자연수 중 2의 배수의 합은:166833\n"
          ]
        }
      ],
      "source": [
        "total_sum = 0\n",
        "num = 1\n",
        "while num <=1000:\n",
        "    if num%3 ==0:\n",
        "        total_sum += num\n",
        "    num+=1\n",
        "print(f'1부터 1000까지 자연수 중 2의 배수의 합은:{total_sum}')\n",
        "\n"
      ]
    },
    {
      "cell_type": "code",
      "source": [
        "# 1부터 1000까지의 자연수 중 3의 배수를 포함하는 리스트 생성\n",
        "multiples_of_three = [num for num in range(1, 1001) if num % 3 == 0]\n",
        "\n",
        "# 리스트의 합 계산\n",
        "total_sum = sum(multiples_of_three)\n",
        "\n",
        "# 결과 출력\n",
        "print(\"1부터 1000까지의 자연수 중 3의 배수의 합:\", total_sum)"
      ],
      "metadata": {
        "colab": {
          "base_uri": "https://localhost:8080/"
        },
        "id": "Hkpl32yqKD4c",
        "outputId": "f783d83c-7276-4eaf-f827-79147d618ff2"
      },
      "execution_count": 6,
      "outputs": [
        {
          "output_type": "stream",
          "name": "stdout",
          "text": [
            "1부터 1000까지의 자연수 중 3의 배수의 합: 166833\n"
          ]
        }
      ]
    },
    {
      "cell_type": "code",
      "source": [
        "result = sum([num for num in range(1, 1001) if num % 3 == 0])\n",
        "print(f'{result}')"
      ],
      "metadata": {
        "colab": {
          "base_uri": "https://localhost:8080/"
        },
        "id": "y6J-3HN0KXbU",
        "outputId": "12dfec02-2220-4cf8-ea30-226e5ca07595"
      },
      "execution_count": 7,
      "outputs": [
        {
          "output_type": "stream",
          "name": "stdout",
          "text": [
            "166833\n"
          ]
        }
      ]
    },
    {
      "cell_type": "code",
      "source": [
        "star =\"*\"\n",
        "numbers = input(\"숫자를 입력하세요(0~9): \")\n",
        "for number in numbers:\n",
        "    for _ in range(int(number)*2):\n",
        "        print(star, end='')\n",
        "    print()\n",
        "\n"
      ],
      "metadata": {
        "colab": {
          "base_uri": "https://localhost:8080/"
        },
        "id": "scf-69xySQMK",
        "outputId": "c37b7aa4-3b0b-4f98-c6d3-bcce8dfaad65"
      },
      "execution_count": 10,
      "outputs": [
        {
          "output_type": "stream",
          "name": "stdout",
          "text": [
            "숫자를 입력하세요(0~9): 4325\n",
            "********\n",
            "******\n",
            "****\n",
            "**********\n"
          ]
        }
      ]
    },
    {
      "cell_type": "code",
      "source": [
        "# 아래와 같이 구구단을 출력해 보세요.\n",
        "# 구구단 출력\n",
        "for i in range(1, 10):\n",
        "    for j in range(1, 10):\n",
        "        print(f\"{j} x {i} = {i*j}\")\n",
        "\n",
        "#2단 출력\n",
        "for i in range(1, 10):\n",
        "    print(f\"2 x {i} = {2*i}\")\n",
        "\n",
        "\n",
        "# 가로로 구구단 출력\n",
        "for i in range(1, 10):\n",
        "    for j in range(2, 10):\n",
        "        print(f\"{j} x {i} = {i*j}\", end=\"\\t\")\n",
        "    print()  # 줄 바꿈"
      ],
      "metadata": {
        "id": "v4zne_H2Uu2K"
      },
      "execution_count": null,
      "outputs": []
    }
  ]
}