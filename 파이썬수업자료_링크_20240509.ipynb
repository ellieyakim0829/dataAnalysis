{
  "nbformat": 4,
  "nbformat_minor": 0,
  "metadata": {
    "colab": {
      "provenance": [],
      "authorship_tag": "ABX9TyMdLKiBZzdj/zQdf2xozJx+",
      "include_colab_link": true
    },
    "kernelspec": {
      "name": "python3",
      "display_name": "Python 3"
    },
    "language_info": {
      "name": "python"
    }
  },
  "cells": [
    {
      "cell_type": "markdown",
      "metadata": {
        "id": "view-in-github",
        "colab_type": "text"
      },
      "source": [
        "<a href=\"https://colab.research.google.com/github/ellieyakim0829/dataAnalysis/blob/main/%ED%8C%8C%EC%9D%B4%EC%8D%AC%EC%88%98%EC%97%85%EC%9E%90%EB%A3%8C_%EB%A7%81%ED%81%AC_20240509.ipynb\" target=\"_parent\"><img src=\"https://colab.research.google.com/assets/colab-badge.svg\" alt=\"Open In Colab\"/></a>"
      ]
    },
    {
      "cell_type": "code",
      "execution_count": null,
      "metadata": {
        "id": "f3E2K35ezoIM"
      },
      "outputs": [],
      "source": []
    },
    {
      "cell_type": "markdown",
      "source": [
        "[select 정리]\n",
        "https://rachel0115.tistory.com/entry/SQL-%EA%B8%B0%EB%B3%B8-%EB%AC%B8%EB%B2%95-%EC%A0%95%EB%A6%AC-SELECT-%EC%A0%88\n",
        "[select 연습]\n",
        "https://www.sqlquery.net/\n",
        "[select 문제]\n",
        "https://www.w3schools.com/MySQL/exercise.asp\n",
        "\n",
        "기억의 정류장\n",
        "[MySQL] - SQL 기본 문법 정리 - (SELECT, WHERE, ORDER BY ..)\n",
        "\n",
        "\n",
        "\n",
        "sqlquery.net\n",
        "SQL Query\n",
        "데이터베이스 Query명령을 연습..\n",
        "\n",
        "w3schools.comw3schools.com\n",
        "W3Schools MySQL Exercise\n",
        "\n",
        "https://www.w3schools.com/python/default.asp\n",
        "\n",
        "w3schools.comw3schools.com\n",
        "Python Tutorial\n",
        "\n",
        "\n",
        "\n",
        "https://www.kaggle.com/\n",
        "\n",
        "kaggle.comkaggle.com\n",
        "Kaggle: Your Machine Learning and Data Science Community\n",
        "Kaggle is the world’s largest data science community with powerful tools and resources to help you achieve your data science goals.\n",
        "\n",
        "\n",
        "\n",
        "\n",
        "\n",
        "\n",
        "https://dacon.io/\n",
        "\n",
        "dacon.iodacon.io\n",
        "데이터사이언티스트 AI 컴피티션\n",
        "\n",
        "https://github.com/autogluon/autogluon  아마존 개발자용 딥러닝자동화 툴\n",
        "\n",
        "GitHubGitHub\n",
        "GitHub - autogluon/autogluon: Fast and Accurate ML in 3 Lines of Code\n",
        "Fast and Accurate ML in 3 Lines of Code. Contribute to autogluon/autogluon development by creating an account on GitHub. (72kB)\n",
        "\n",
        "파이썬 조윤실강사님 010-2570-0166 /yswoola@gamil.com\n",
        "\n",
        "\n",
        "https://teachablemachine.withgoogle.com/\n",
        "teachablemachine.withgoogle.comteachablemachine.withgoogle.com\n",
        "Teachable Machine\n",
        "Train a computer to recognize your own images, sounds, & poses.\n",
        "A fast, easy way to create machine learning models for your sites, apps, and more – no expertise or coding required. (151kB)\n",
        "\n",
        "\n",
        "https://aice.study/     가입하기\n",
        "aice.studyaice.study\n",
        "AICE\n",
        "KT가 개발하여 한국경제신문과 함께 주관하는 인공지능 능력시험입니다.\n"
      ],
      "metadata": {
        "id": "XbxoqSxazovW"
      }
    }
  ]
}