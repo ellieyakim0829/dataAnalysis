{
  "nbformat": 4,
  "nbformat_minor": 0,
  "metadata": {
    "colab": {
      "provenance": [],
      "authorship_tag": "ABX9TyPEDd0Lrrh0NdSvcVCUYg+v",
      "include_colab_link": true
    },
    "kernelspec": {
      "name": "python3",
      "display_name": "Python 3"
    },
    "language_info": {
      "name": "python"
    }
  },
  "cells": [
    {
      "cell_type": "markdown",
      "metadata": {
        "id": "view-in-github",
        "colab_type": "text"
      },
      "source": [
        "<a href=\"https://colab.research.google.com/github/ellieyakim0829/dataAnalysis/blob/main/6%EC%9D%BC%EC%B0%A8_%ED%8C%8C%EC%9D%B4%EC%8D%AC_%EA%B8%B0%EC%B4%88_%EC%A0%9C%EC%96%B4%EB%AC%B8_%EC%8B%A4%EC%8A%B5%EB%AC%B8%EC%A0%9C_%ED%92%80%EC%9D%B4.ipynb\" target=\"_parent\"><img src=\"https://colab.research.google.com/assets/colab-badge.svg\" alt=\"Open In Colab\"/></a>"
      ]
    },
    {
      "cell_type": "code",
      "execution_count": 5,
      "metadata": {
        "colab": {
          "base_uri": "https://localhost:8080/"
        },
        "id": "N9pv7nCaE1h4",
        "outputId": "4a0b56ab-77f3-481c-f3db-42b57727cfde"
      },
      "outputs": [
        {
          "output_type": "stream",
          "name": "stdout",
          "text": [
            "1부터 1000까지 자연수 중 2의 배수의 합은:166833\n"
          ]
        }
      ],
      "source": [
        "total_sum = 0\n",
        "num = 1\n",
        "while num <=1000:\n",
        "    if num%3 ==0:\n",
        "        total_sum += num\n",
        "    num+=1\n",
        "print(f'1부터 1000까지 자연수 중 2의 배수의 합은:{total_sum}')\n",
        "\n"
      ]
    },
    {
      "cell_type": "code",
      "source": [
        "# 1부터 1000까지의 자연수 중 3의 배수를 포함하는 리스트 생성\n",
        "multiples_of_three = [num for num in range(1, 1001) if num % 3 == 0]\n",
        "\n",
        "# 리스트의 합 계산\n",
        "total_sum = sum(multiples_of_three)\n",
        "\n",
        "# 결과 출력\n",
        "print(\"1부터 1000까지의 자연수 중 3의 배수의 합:\", total_sum)"
      ],
      "metadata": {
        "colab": {
          "base_uri": "https://localhost:8080/"
        },
        "id": "Hkpl32yqKD4c",
        "outputId": "f783d83c-7276-4eaf-f827-79147d618ff2"
      },
      "execution_count": 6,
      "outputs": [
        {
          "output_type": "stream",
          "name": "stdout",
          "text": [
            "1부터 1000까지의 자연수 중 3의 배수의 합: 166833\n"
          ]
        }
      ]
    },
    {
      "cell_type": "code",
      "source": [
        "result = sum([num for num in range(1, 1001) if num % 3 == 0])\n",
        "print(f'{result}')"
      ],
      "metadata": {
        "colab": {
          "base_uri": "https://localhost:8080/"
        },
        "id": "y6J-3HN0KXbU",
        "outputId": "12dfec02-2220-4cf8-ea30-226e5ca07595"
      },
      "execution_count": 7,
      "outputs": [
        {
          "output_type": "stream",
          "name": "stdout",
          "text": [
            "166833\n"
          ]
        }
      ]
    },
    {
      "cell_type": "code",
      "source": [
        "star =\"*\"\n",
        "numbers = input(\"숫자를 입력하세요(0~9): \")\n",
        "for number in numbers:\n",
        "    for _ in range(int(number)*2):\n",
        "        print(star, end='')\n",
        "    print()\n",
        "\n"
      ],
      "metadata": {
        "colab": {
          "base_uri": "https://localhost:8080/"
        },
        "id": "scf-69xySQMK",
        "outputId": "c37b7aa4-3b0b-4f98-c6d3-bcce8dfaad65"
      },
      "execution_count": 10,
      "outputs": [
        {
          "output_type": "stream",
          "name": "stdout",
          "text": [
            "숫자를 입력하세요(0~9): 4325\n",
            "********\n",
            "******\n",
            "****\n",
            "**********\n"
          ]
        }
      ]
    },
    {
      "cell_type": "code",
      "source": [
        "# 아래와 같이 구구단을 출력해 보세요.\n",
        "# 구구단 출력\n",
        "for i in range(1, 10):\n",
        "    for j in range(1, 10):\n",
        "        print(f\"{j} x {i} = {i*j}\")\n",
        "\n",
        "#2단 출력\n",
        "for i in range(1, 10):\n",
        "    print(f\"2 x {i} = {2*i}\")\n",
        "\n",
        "\n",
        "# 가로로 구구단 출력\n",
        "for i in range(1, 10):\n",
        "    for j in range(2, 10):\n",
        "        print(f\"{j} x {i} = {i*j}\", end=\"\\t\")\n",
        "    print()  # 줄 바꿈"
      ],
      "metadata": {
        "id": "v4zne_H2Uu2K"
      },
      "execution_count": null,
      "outputs": []
    },
    {
      "cell_type": "code",
      "source": [
        "#커피 자동주문 프로그램 만들기\n",
        "menu = '''[커피 주문 머신 메뉴]\n",
        "-----------------------------\n",
        "- 아메리카노: 2500원\n",
        "- 카페라테:   3000원\n",
        "- 카페모카:   3000원\n",
        "-----------------------------\n",
        "원하시는 커피종류와 잔수를 입력하세요.'''\n",
        "\n",
        "print(menu)\n",
        "coffee1 = int(input('아메리카노 몇잔: '))\n",
        "coffee2 = int(input('카페라테   몇잔: '))\n",
        "coffee3 = int(input('카페모카   몇잔: '))\n",
        "\n",
        "total = 2500 * coffee1 + 3000 * coffee2 + 3000 * coffee3\n",
        "\n",
        "while True:\n",
        "    print(f'-'*30)\n",
        "    money = int(input(f\"지불하실 총 금액은 {total:,}원 입니다. 돈을 넣어 주세요: \"))\n",
        "\n",
        "    change = money- total  # 거스름돈\n",
        "    if change >0:\n",
        "        print(f\"돈이 부족합니다. {abs(change):,}원을 더 넣어주세요.\")\n",
        "        total =  total - money\n",
        "    else:\n",
        "        print(f\"거스름돈은 {change:,}입니다. 커피 맛있게 드세요~\")\n",
        "        break"
      ],
      "metadata": {
        "id": "m86JGEOTW9iQ"
      },
      "execution_count": null,
      "outputs": []
    },
    {
      "cell_type": "code",
      "source": [
        "# 호텔관리 프로그램\n",
        "print('호텔관리 시스템입니다.')\n",
        "menu = '''\n",
        "1. 체크인\n",
        "2. 체크아웃\n",
        "3. 입실현황\n",
        "0. 종료'''\n",
        "number = int(input('호텔 방의 개수는(입력): '))\n",
        "hotel = [0 for _ in range(number)]\n",
        "print(f\"방 현황: {hotel} (0:빈방, 1:입실중)\")\n",
        "while True:\n",
        "    print('-------------------')\n",
        "    print(menu)\n",
        "    select = input('-->메뉴 선택: ')\n",
        "    if select == '0':\n",
        "        break\n",
        "\n",
        "    if select == '1': # 체크인\n",
        "        num = int(input(f'체크-in하실 방 호수(1~{len(hotel)}): '))\n",
        "        if hotel[num-1]:   # 이미 입실 중일 때\n",
        "            print(f\"{num}번 방은 이미 입실 중입니다.\")\n",
        "        else:\n",
        "            hotel[num-1] = 1\n",
        "        continue\n",
        "\n",
        "    if select == '2': # 체크아웃\n",
        "        num = int(input(f'체크-out하실 방 호수(1~{len(hotel)}): '))\n",
        "        if hotel[num-1]: # 체크아웃 처리\n",
        "            hotel[num-1] = 0    # 빈 방 상태로 만듦\n",
        "        else:\n",
        "            print(f'{hotel[num]}번 방은 빈 방입니다. 빈 방은 체크-out하실 수 없습니다.')\n",
        "\n",
        "    if select == '3': # 현황보기\n",
        "        for idx, room in enumerate(hotel): #[0, 0, 0]\n",
        "            if room == 0:\n",
        "                print(f\"{idx+1}호: 빈방\")\n",
        "            elif room == 1:\n",
        "                print(f\"{idx+1}호: 입실중\")\n",
        "\n",
        "\n",
        "print('-------------------')\n",
        "print('프로그램 종료!')"
      ],
      "metadata": {
        "colab": {
          "base_uri": "https://localhost:8080/"
        },
        "id": "q0TjnvLaaqP2",
        "outputId": "0be9d15c-04be-4f04-f0b2-392ea61957c5"
      },
      "execution_count": 3,
      "outputs": [
        {
          "output_type": "stream",
          "name": "stdout",
          "text": [
            "호텔관리 시스템입니다.\n",
            "호텔 방의 개수는(입력): 3\n",
            "방 현황: [0, 0, 0] (0:빈방, 1:입실중)\n",
            "-------------------\n",
            "\n",
            "1. 체크인\n",
            "2. 체크아웃\n",
            "3. 입실현황\n",
            "0. 종료\n",
            "-->메뉴 선택: 1\n",
            "체크-in하실 방 호수(1~3): 3\n",
            "-------------------\n",
            "\n",
            "1. 체크인\n",
            "2. 체크아웃\n",
            "3. 입실현황\n",
            "0. 종료\n",
            "-->메뉴 선택: 3\n",
            "1호: 빈방\n",
            "2호: 빈방\n",
            "3호: 입실중\n",
            "-------------------\n",
            "\n",
            "1. 체크인\n",
            "2. 체크아웃\n",
            "3. 입실현황\n",
            "0. 종료\n",
            "-->메뉴 선택: 1\n",
            "체크-in하실 방 호수(1~3): 3\n",
            "3번 방은 이미 입실 중입니다.\n",
            "-------------------\n",
            "\n",
            "1. 체크인\n",
            "2. 체크아웃\n",
            "3. 입실현황\n",
            "0. 종료\n",
            "-->메뉴 선택: 3\n",
            "1호: 빈방\n",
            "2호: 빈방\n",
            "3호: 입실중\n",
            "-------------------\n",
            "\n",
            "1. 체크인\n",
            "2. 체크아웃\n",
            "3. 입실현황\n",
            "0. 종료\n",
            "-->메뉴 선택: 0\n",
            "-------------------\n",
            "프로그램 종료!\n"
          ]
        }
      ]
    },
    {
      "cell_type": "code",
      "source": [
        "import random\n",
        "dice =[0,0,0,0,0,0]\n",
        "for _ in range(100):\n",
        "    num = random.randint(1,6)\n",
        "    dice[num -1]+= 1\n",
        "\n",
        "print(f'숫자별 개수:{dice}')\n",
        "print(f\"\\n가장 많이 나온 숫자는 {dice.index(dice) + 1} 이며, {max(dice)}번 나왔습니다.\")"
      ],
      "metadata": {
        "colab": {
          "base_uri": "https://localhost:8080/"
        },
        "id": "x086szoWoz06",
        "outputId": "58c8e897-4bc9-47ea-b40e-9b0d74c1f568"
      },
      "execution_count": 18,
      "outputs": [
        {
          "output_type": "stream",
          "name": "stdout",
          "text": [
            "숫자별 개수:[20, 11, 17, 15, 19, 18]\n"
          ]
        }
      ]
    },
    {
      "cell_type": "markdown",
      "source": [],
      "metadata": {
        "id": "tP4uDQWvv9ed"
      }
    },
    {
      "cell_type": "code",
      "source": [
        "import random\n",
        "dice = [0, 0, 0, 0, 0, 0]\n",
        "for _ in range(100):\n",
        "  x = random.randint(1, 6)\n",
        "  dice[x-1] += 1\n",
        "print(f\"숫자별 개수 : {dice}\")\n",
        "\n",
        "maxValue = max(dice)\n",
        "max_dice = [idx+1  for idx, v in enumerate(dice)  if v==maxValue]\n",
        "# max_dice = []\n",
        "# for idx, v in enumerate(dice):\n",
        "#     if v==maxValue:\n",
        "#         max_dice.append(idx+1)\n",
        "\n",
        "print(f\"가장많이 나온 숫자: {max_dice}, 횟수: {maxValue}\")"
      ],
      "metadata": {
        "id": "edYeDI0gs0z_"
      },
      "execution_count": null,
      "outputs": []
    }
  ]
}