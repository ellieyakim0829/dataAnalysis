{
  "nbformat": 4,
  "nbformat_minor": 0,
  "metadata": {
    "colab": {
      "provenance": [],
      "authorship_tag": "ABX9TyOqSvS6mVXw9EXzJSOi57C1",
      "include_colab_link": true
    },
    "kernelspec": {
      "name": "python3",
      "display_name": "Python 3"
    },
    "language_info": {
      "name": "python"
    }
  },
  "cells": [
    {
      "cell_type": "markdown",
      "metadata": {
        "id": "view-in-github",
        "colab_type": "text"
      },
      "source": [
        "<a href=\"https://colab.research.google.com/github/ellieyakim0829/dataAnalysis/blob/main/%ED%8C%8C%EC%9D%B4%EC%8D%AC_%EC%97%B0%EC%8A%B5%EB%AC%B8%EC%A0%9C%ED%92%80%EC%9D%B4_20240331.ipynb\" target=\"_parent\"><img src=\"https://colab.research.google.com/assets/colab-badge.svg\" alt=\"Open In Colab\"/></a>"
      ]
    },
    {
      "cell_type": "code",
      "execution_count": null,
      "metadata": {
        "colab": {
          "base_uri": "https://localhost:8080/"
        },
        "id": "FmPnaAmKCMnq",
        "outputId": "dec3b907-eecc-47a9-bc06-a0ff8ec282f4"
      },
      "outputs": [
        {
          "output_type": "execute_result",
          "data": {
            "text/plain": [
              "30"
            ]
          },
          "metadata": {},
          "execution_count": 1
        }
      ],
      "source": [
        "10+20"
      ]
    },
    {
      "cell_type": "code",
      "source": [
        "20-10\n"
      ],
      "metadata": {
        "colab": {
          "base_uri": "https://localhost:8080/"
        },
        "id": "XC0PZhhwCuYT",
        "outputId": "591d22ae-28f9-4d83-8adc-f4ca6386b73f"
      },
      "execution_count": null,
      "outputs": [
        {
          "output_type": "execute_result",
          "data": {
            "text/plain": [
              "10"
            ]
          },
          "metadata": {},
          "execution_count": 2
        }
      ]
    },
    {
      "cell_type": "code",
      "source": [
        "20*10"
      ],
      "metadata": {
        "colab": {
          "base_uri": "https://localhost:8080/"
        },
        "id": "VRf8nCi-Cw9q",
        "outputId": "cffa327e-c9c7-4607-cd08-3fa0828187e1"
      },
      "execution_count": null,
      "outputs": [
        {
          "output_type": "execute_result",
          "data": {
            "text/plain": [
              "200"
            ]
          },
          "metadata": {},
          "execution_count": 3
        }
      ]
    },
    {
      "cell_type": "code",
      "source": [
        "10/5"
      ],
      "metadata": {
        "colab": {
          "base_uri": "https://localhost:8080/"
        },
        "id": "MapF05ClCzNR",
        "outputId": "e5e54f54-41f2-4de4-be33-3ac9caec8587"
      },
      "execution_count": null,
      "outputs": [
        {
          "output_type": "execute_result",
          "data": {
            "text/plain": [
              "2.0"
            ]
          },
          "metadata": {},
          "execution_count": 4
        }
      ]
    },
    {
      "cell_type": "code",
      "source": [
        "10%5"
      ],
      "metadata": {
        "id": "NaVGZHn_C1L3"
      },
      "execution_count": null,
      "outputs": []
    },
    {
      "cell_type": "code",
      "source": [
        "# ✓ 문제1: 10 + 3 x 4 결과 출력\n",
        "result = 10+3*4\n",
        "print(result)\n",
        "# ✓ 문제2: 아이폰 15대를 가지고 있다. 아이폰의 가격이 130만원 일 때 총 금액은?\n",
        "iphone = 15\n",
        "price = 1300000\n",
        "total = iphone*price\n",
        "print(total)\n",
        "\n",
        "# ✓ 문제3: 주어진 임의의 자연수가 홀수인지 짝수인지 판별하는 방법은?\n",
        "a = int(input('임의의 자연수를 입력하세요:'))\n",
        "if a%2 == 0:\n",
        "  print('짝수입니다.')\n",
        "else:\n",
        "  print('홀수입니다.')\n",
        "\n",
        "# ✓ 문제4: 2x2x2x5x5x5x5x3x3x3x3을 제곱형태로 나타낸 후 그 결과 출력하기\n",
        "result = 2**3 * 5**4 * 3**4\n",
        "print(result)\n"
      ],
      "metadata": {
        "colab": {
          "base_uri": "https://localhost:8080/"
        },
        "id": "bGh9Tf2oC4Rw",
        "outputId": "8806a006-08ab-453c-b52e-034869f8d039"
      },
      "execution_count": null,
      "outputs": [
        {
          "output_type": "stream",
          "name": "stdout",
          "text": [
            "22\n",
            "19500000\n",
            "임의의 자연수를 입력하세요:10\n",
            "짝수입니다.\n",
            "405000\n"
          ]
        }
      ]
    },
    {
      "cell_type": "code",
      "source": [
        "a = input(' 키보드로 숫자를 입력해주세요:')\n",
        "print(type(a))\n",
        "\n",
        "a = int(a)\n",
        "print(type(a))\n",
        "\n",
        "a = input('키보드로 숫자를 입력해주세요:')\n",
        "#출력 방법 1\n",
        "print('변수 a에 기억된 값은', a,'입니다.')\n",
        "\n",
        "#출력 방법 2\n",
        "print('변수 a에 기억된 값은%s입니다.' %a)\n",
        "\n",
        "#출력 방법 3\n",
        "print(f'변수 a에 기억된 값은 {a} 입니다.')"
      ],
      "metadata": {
        "colab": {
          "base_uri": "https://localhost:8080/"
        },
        "id": "AIlvVSe6HMLy",
        "outputId": "d7cb4d41-a31a-44dc-f464-a724739d01a8"
      },
      "execution_count": null,
      "outputs": [
        {
          "output_type": "stream",
          "name": "stdout",
          "text": [
            " 키보드로 숫자를 입력해주세요:10\n",
            "<class 'str'>\n",
            "<class 'int'>\n",
            "키보드로 숫자를 입력해주세요:5\n",
            "변수 a에 기억된 값은 5 입니다.\n",
            "변수 a에 기억된 값은5입니다.\n",
            "변수 a에 기억된 값은 5 입니다.\n"
          ]
        }
      ]
    },
    {
      "cell_type": "code",
      "source": [
        "# 키보드로 두 수를 입력 받아 간단한 계산기 프로그램 만들기\n",
        "# 덧셈, 뺄셈, 곱셈, 몫, 나머지를 출력하는 프로그램을 만들어 보세요.\n",
        "\n",
        "num1 = int(input('첫번째 숫자 :'))\n",
        "num2 = int(input('두번째 숫자 :'))\n",
        "print('-' *40)\n",
        "print(f'덧셈 : {num1} + {num2} = {num1+num2} ')\n",
        "print(f'뺄셈 : {num1} - {num2} = {num1-num2} ')\n",
        "print(f'곱셈 : {num1} * {num2} = {num1*num2} ')\n",
        "print(f'몫 : {num1} // {num2} = {num1//num2} ')\n",
        "print(f'나머지 : {num1} % {num2} = {num1%num2} ')\n",
        "\n"
      ],
      "metadata": {
        "colab": {
          "base_uri": "https://localhost:8080/"
        },
        "id": "hV2gpoI7LFjs",
        "outputId": "d9f99314-0bde-4488-91c0-3addc5e333c9"
      },
      "execution_count": null,
      "outputs": [
        {
          "output_type": "stream",
          "name": "stdout",
          "text": [
            "첫번째 숫자 :50\n",
            "두번째 숫자 :3\n",
            "----------------------------------------\n",
            "덧셈 : 50 + 3 = 53 \n",
            "뺄셈 : 50 - 3 = 47 \n",
            "곱셈 : 50 * 3 = 150 \n",
            "몫 : 50 // 3 = 16 \n",
            "나머지 : 50 % 3 = 2 \n"
          ]
        }
      ]
    },
    {
      "cell_type": "code",
      "source": [
        "# 키보드로 두 수를 입력 받아 계산하는 프로그램 만들기\n",
        "# • 속력과 거리를 입력 받아 시간을 계산하는 프로그램을 만들어 보세요.\n",
        "velocity = input(' 속력을 입력해 주세요(km/h) :')\n",
        "distance = input('거리를 입력해 주세요(km) :')\n",
        "time=float(distance)/float(velocity) #속도는 거리 나누기 시간\n",
        "print('-'*40)\n",
        "print(f'속력 :{float(velocity)} km/h')\n",
        "print(f'거리 :{float(distance)} km')\n",
        "print(f'시간 :{time}h')\n",
        "\n"
      ],
      "metadata": {
        "colab": {
          "base_uri": "https://localhost:8080/"
        },
        "id": "WtjCJFjzNF6G",
        "outputId": "4b615662-9c56-4e5b-b0c2-60a6953118b3"
      },
      "execution_count": null,
      "outputs": [
        {
          "output_type": "stream",
          "name": "stdout",
          "text": [
            " 속력을 입력해 주세요(km/h) :100\n",
            "거리를 입력해 주세요(km) :340\n",
            "----------------------------------------\n",
            "속력 :100.0 km/h\n",
            "거리 :340.0 km\n",
            "시간 :3.4h\n"
          ]
        }
      ]
    },
    {
      "cell_type": "code",
      "source": [
        "# 아래와 같이 정수 a을 입력 받아, a + aa + aaa의 결과 값을 구하는 프로그램을 작성하세요.\n",
        "#출력 방법 1\n",
        "a = input('정수를 입력하세요:')\n",
        "# 입력된 정수를 문자열로 받아와서 덧셈 연산을 수행\n",
        "result = int(a) + int(a*2) + int(a*3)\n",
        "print(f'{a}','+',f'{a*2}','+',f'{a*3}','=', result)\n",
        "\n",
        "#출력방법 2\n",
        "a = input('정수를 입력하세요:')\n",
        "print(f'{a}+{a}{a}+{a}{a}{a} = {int(a)+int(a*2)+int(a*3)}')\n",
        "\n",
        "# 출력방법 3\n",
        "a = int(input(\"정수를 입력하세요: \"))  # 사용자로부터 정수 입력 받기\n",
        "# aa와 aaa 계산\n",
        "aa = int(str(a) + str(a))  # a를 문자열로 변환하여 두 번 붙여서 정수로 변환\n",
        "aaa = int(str(a) + str(a) + str(a))  # a를 문자열로 변환하여 세 번 붙여서 정수로 변환\n",
        "\n",
        "# 결과 값 계산\n",
        "result = a + aa + aaa\n",
        "# 결과 값 출력\n",
        "print(a, \"+\", aa ,\"+\", aaa, \"=\", result)\n",
        "\n",
        "\n",
        "\n"
      ],
      "metadata": {
        "colab": {
          "base_uri": "https://localhost:8080/"
        },
        "id": "8UAuWmhSWYFV",
        "outputId": "f7066ec3-4e3d-435a-8f11-7cb90accf0ce"
      },
      "execution_count": null,
      "outputs": [
        {
          "output_type": "stream",
          "name": "stdout",
          "text": [
            "정수를 입력하세요:7\n",
            "7 + 77 + 777 = 861\n",
            "정수를 입력하세요:7\n",
            "7+77+777 = 861\n",
            "정수를 입력하세요: 7\n",
            "7 + 77 + 777 = 861\n"
          ]
        }
      ]
    },
    {
      "cell_type": "code",
      "source": [
        "print('Hello' + 'world')\n",
        "print('Hello','world','!')\n",
        "a =\"파이썬\"\n",
        "b =\"is very fun!\"\n",
        "print(a+b)\n",
        "\n",
        "print('hello'*3)\n",
        "\n",
        "print(\"Mary` cosmetics\")\n",
        "print('박씨가 소리질렀다.\"도둑이야!\"')\n",
        "print(\"안녕하세요.\\n오늘\\t날씨가\\t\\t좋습니다.\")"
      ],
      "metadata": {
        "colab": {
          "base_uri": "https://localhost:8080/"
        },
        "id": "P4Hg1Rq9cc4b",
        "outputId": "29488ef9-d3dd-4208-96b9-12d5ef896411"
      },
      "execution_count": null,
      "outputs": [
        {
          "output_type": "stream",
          "name": "stdout",
          "text": [
            "Helloworld\n",
            "Hello world !\n",
            "파이썬is very fun!\n",
            "hellohellohello\n",
            "Mary` cosmetics\n",
            "박씨가 소리질렀다.\"도둑이야!\"\n",
            "안녕하세요.\n",
            "오늘\t날씨가\t\t좋습니다.\n"
          ]
        }
      ]
    },
    {
      "cell_type": "code",
      "source": [
        "a ='우리는 민족중흥의 역사적 사명을 띠고 이땅에 태어났다.'\n",
        "a[3:12]"
      ],
      "metadata": {
        "colab": {
          "base_uri": "https://localhost:8080/",
          "height": 35
        },
        "id": "SdsCRI0JdqyE",
        "outputId": "a5cb782c-eca9-48a0-f95d-7724d2617e9f"
      },
      "execution_count": null,
      "outputs": [
        {
          "output_type": "execute_result",
          "data": {
            "text/plain": [
              "' 민족중흥의 역사'"
            ],
            "application/vnd.google.colaboratory.intrinsic+json": {
              "type": "string"
            }
          },
          "metadata": {},
          "execution_count": 43
        }
      ]
    },
    {
      "cell_type": "code",
      "source": [
        "fruits ='orange'\n",
        "print(fruits[1:3])"
      ],
      "metadata": {
        "colab": {
          "base_uri": "https://localhost:8080/"
        },
        "id": "XIrVpHGLdqO9",
        "outputId": "c6c7a0ae-10fa-4ff4-d68a-380f63ac72e1"
      },
      "execution_count": null,
      "outputs": [
        {
          "output_type": "stream",
          "name": "stdout",
          "text": [
            "ra\n"
          ]
        }
      ]
    },
    {
      "cell_type": "code",
      "source": [
        "# 문자열을 입력 받아 거꾸로 출력하는 프로그램을 작성하세요.\n",
        "# s = input('문자열을 입력하세요 :')\n",
        "# print(s[::-1])\n",
        "\n",
        "\n",
        "# 확장자가 포함된 파일명 전체를 입력 받아 파일명과 확장자를 분리해서\n",
        "# 출력하는 프로그램을 만들어 보세요\n",
        "\n",
        "a = input('파일을 입력하세요 :')\n",
        "print('파일 :',a)\n",
        "print('파일명 :',a[0:5],'확장자 :',a[5:7])\n",
        "# filename, extensions = a.split('.')\n",
        "# print('파일명 :',filename,'확장자 :',extensions)"
      ],
      "metadata": {
        "colab": {
          "base_uri": "https://localhost:8080/"
        },
        "id": "QpAn5B2GeSU6",
        "outputId": "feb09448-1da7-4ddc-9acf-7de73933be96"
      },
      "execution_count": null,
      "outputs": [
        {
          "output_type": "stream",
          "name": "stdout",
          "text": [
            "파일을 입력하세요 :test.py\n",
            "파일 : test.py\n",
            "파일명 : test. 확장자 : py\n"
          ]
        }
      ]
    },
    {
      "cell_type": "code",
      "source": [
        "# ✓ 음식가격: 4,450 원\n",
        "# ✓ 세금: 6.75%\n",
        "# ✓ 팁: 15%\n",
        "# • 아래 조건을 보고 음식의 총 가격에 팁을 적용하여 지출할 음식 가격을 출력하세요.\n",
        "# 지불할 음식 총 가격 계산하기\n",
        "\n",
        "# 1. meal 변수를 선언하고 값을 4450으로 지정하세요.\n",
        "# 2. tax 변수를 생성하고 값으로 6.75%를 소수점 형태로 지정하세요.\n",
        "# 3. tip 변수를 생성하고 값으로 15%를 소수점 형태로 지정하세요.\n",
        "# 4. meal의 변수값에 세금을 곱해 meal 변수에 지정하세요.\n",
        "# 5. 음식값에 tip을 더해 total 변수에 지정하세요.\n",
        "# 6. total 변수 값을 출력하세요.\n",
        "\n",
        "meal = 4450\n",
        "tax = 0.0675\n",
        "tip = 0.15\n",
        "meal_tax = meal * tax\n",
        "meal_price = meal + meal_tax\n",
        "meal_tip = meal * tip\n",
        "total = meal + meal_tax + meal_tip\n",
        "print('세금 :',meal_tax)\n",
        "# print('세금 포함 음식값 :',meal_price)\n",
        "print('팁 :',meal_tip)\n",
        "print('총음식가격 :',total)\n"
      ],
      "metadata": {
        "colab": {
          "base_uri": "https://localhost:8080/"
        },
        "id": "ZKfzmdJHivNH",
        "outputId": "223dbbc5-1059-46b5-fd89-a3115f39f403"
      },
      "execution_count": null,
      "outputs": [
        {
          "output_type": "stream",
          "name": "stdout",
          "text": [
            "세금 : 300.375\n",
            "팁 : 667.5\n",
            "총음식가격 : 5417.875\n"
          ]
        }
      ]
    },
    {
      "cell_type": "code",
      "source": [
        "# 리스트 생성\n",
        "a = list()\n",
        "a = []\n",
        "a = [1,2,3]\n",
        "a = ['I','love','BTS']\n",
        "a = [1,2,'사랑해요','BTS']\n",
        "a = ['a','b',[1,2,3],-4]\n",
        "a = [1,2,['a','b',['사랑해요','BTS']]]\n",
        "\n",
        "\n",
        "num = list()\n",
        "for i in range(1,21,2):\n",
        "  num.append(i)\n",
        "print(num)\n",
        "num = list(range(1,21,2))\n",
        "print(num)\n",
        "\n",
        "color = ['red','green','blue','black','white']\n",
        "print(color[0])\n",
        "print(color[4])\n",
        "print(color[1:4])"
      ],
      "metadata": {
        "colab": {
          "base_uri": "https://localhost:8080/"
        },
        "id": "hX6_IzK2nkNq",
        "outputId": "a5ecde2d-f8d2-484e-a4b4-832f8861510d"
      },
      "execution_count": null,
      "outputs": [
        {
          "output_type": "stream",
          "name": "stdout",
          "text": [
            "[1, 3, 5, 7, 9, 11, 13, 15, 17, 19]\n",
            "[1, 3, 5, 7, 9, 11, 13, 15, 17, 19]\n",
            "red\n",
            "white\n",
            "['green', 'blue', 'black']\n"
          ]
        }
      ]
    },
    {
      "cell_type": "code",
      "source": [
        "colors = ['red','green','blue','black','white']\n",
        "for color in colors:\n",
        "  print('나는 %s을 가장 좋아합니다' % color)\n",
        "\n",
        "flowers =['무궁화','장미','개나리']\n",
        "print(flowers)\n",
        "flowers.append('진달래')\n",
        "print(flowers)\n",
        "flowers.insert(1,'벗꽃')\n",
        "print(flowers)\n",
        "flowers[2] = '목련'\n",
        "print(flowers)\n",
        "flowers.pop()\n",
        "print(flowers)\n",
        "flowers.remove('개나리')\n",
        "print(flowers)\n"
      ],
      "metadata": {
        "colab": {
          "base_uri": "https://localhost:8080/"
        },
        "id": "j0Kvun3hpeXF",
        "outputId": "e7445d22-1e40-410b-bd40-bd5c2b677499"
      },
      "execution_count": null,
      "outputs": [
        {
          "output_type": "stream",
          "name": "stdout",
          "text": [
            "나는 red을 가장 좋아합니다\n",
            "나는 green을 가장 좋아합니다\n",
            "나는 blue을 가장 좋아합니다\n",
            "나는 black을 가장 좋아합니다\n",
            "나는 white을 가장 좋아합니다\n",
            "['무궁화', '장미', '개나리']\n",
            "['무궁화', '장미', '개나리', '진달래']\n",
            "['무궁화', '벗꽃', '장미', '개나리', '진달래']\n",
            "['무궁화', '벗꽃', '목련', '개나리', '진달래']\n",
            "['무궁화', '벗꽃', '목련', '개나리']\n",
            "['무궁화', '벗꽃', '목련']\n"
          ]
        }
      ]
    },
    {
      "cell_type": "code",
      "source": [
        "a =[37, 888, -273, 'kim','hwang',66.77]\n",
        "print(a[2:4])"
      ],
      "metadata": {
        "colab": {
          "base_uri": "https://localhost:8080/"
        },
        "id": "7p64AMDRrh4-",
        "outputId": "fffba6ea-03ef-457c-d20c-1ba94b8c7871"
      },
      "execution_count": null,
      "outputs": [
        {
          "output_type": "stream",
          "name": "stdout",
          "text": [
            "[-273, 'kim']\n"
          ]
        }
      ]
    },
    {
      "cell_type": "code",
      "source": [
        "members = {'name':'진','age':29,'email':'jin@gggmail.com','1':3 }\n",
        "print(members)\n",
        "print(members['name'])\n",
        "print(members['age'])\n",
        "\n",
        "print('길이 : %d' % len(members))\n",
        "\n",
        "scores ={'kor' : 70, 'eng':89, 'math' : 95, 'music':100}\n",
        "print(scores)\n",
        "#for key in scores:\n",
        " # print('%s => %d' % (key, scores[key]))\n",
        "print(scores.keys())\n",
        "print(scores.values())\n",
        "print(scores.items())\n"
      ],
      "metadata": {
        "id": "2ieHZKpAr0Oc",
        "colab": {
          "base_uri": "https://localhost:8080/"
        },
        "outputId": "e72a0040-d927-4c7e-8fad-1aab7a1eb0c3"
      },
      "execution_count": 11,
      "outputs": [
        {
          "output_type": "stream",
          "name": "stdout",
          "text": [
            "{'name': '진', 'age': 29, 'email': 'jin@gggmail.com', '1': 3}\n",
            "진\n",
            "29\n",
            "길이 : 4\n",
            "{'kor': 70, 'eng': 89, 'math': 95, 'music': 100}\n",
            "dict_keys(['kor', 'eng', 'math', 'music'])\n",
            "dict_values([70, 89, 95, 100])\n",
            "dict_items([('kor', 70), ('eng', 89), ('math', 95), ('music', 100)])\n"
          ]
        }
      ]
    }
  ]
}