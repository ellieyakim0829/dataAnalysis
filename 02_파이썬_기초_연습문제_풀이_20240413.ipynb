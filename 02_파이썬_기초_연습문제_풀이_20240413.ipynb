{
  "nbformat": 4,
  "nbformat_minor": 0,
  "metadata": {
    "colab": {
      "provenance": [],
      "include_colab_link": true
    },
    "kernelspec": {
      "name": "python3",
      "display_name": "Python 3"
    },
    "language_info": {
      "name": "python"
    }
  },
  "cells": [
    {
      "cell_type": "markdown",
      "metadata": {
        "id": "view-in-github",
        "colab_type": "text"
      },
      "source": [
        "<a href=\"https://colab.research.google.com/github/ellieyakim0829/dataAnalysis/blob/main/02_%ED%8C%8C%EC%9D%B4%EC%8D%AC_%EA%B8%B0%EC%B4%88_%EC%97%B0%EC%8A%B5%EB%AC%B8%EC%A0%9C_%ED%92%80%EC%9D%B4_20240413.ipynb\" target=\"_parent\"><img src=\"https://colab.research.google.com/assets/colab-badge.svg\" alt=\"Open In Colab\"/></a>"
      ]
    },
    {
      "cell_type": "code",
      "execution_count": null,
      "metadata": {
        "colab": {
          "base_uri": "https://localhost:8080/"
        },
        "id": "PMuwGl-eEdwy",
        "outputId": "d34ceea0-48a2-4e6c-ac2a-8683fa2ea254"
      },
      "outputs": [
        {
          "output_type": "stream",
          "name": "stdout",
          "text": [
            "첫번째 숫자:50\n",
            "두번째 숫자:3\n",
            "-----------------------------------\n",
            "덧셈 :50+3 =53\n",
            "뺼셈 :50-3 =47\n",
            "곱셈 :50*3 =150\n",
            "몫 :50//3 =16\n",
            "나머지 :50%3 =2\n"
          ]
        }
      ],
      "source": [
        "#   키보드로 두 수를 입력받아 간단히 계산하는 프로그램 만들기\n",
        "a = int(input(\"첫번째 숫자:\"))\n",
        "b = int(input(\"두번째 숫자:\"))\n",
        "print('-'*35)\n",
        "print(f'덧셈 :{a}+{b} ={a+b}')\n",
        "print(f'뺼셈 :{a}-{b} ={a-b}')\n",
        "print(f'곱셈 :{a}*{b} ={a*b}')\n",
        "print(f'몫 :{a}//{b} ={a//b}')\n",
        "print(f'나머지 :{a}%{b} ={a%b}')\n",
        "\n"
      ]
    },
    {
      "cell_type": "code",
      "source": [
        "velocity = int(input('속력을 입력해 주세요(km/h):'))\n",
        "distance = int(input('거리를 입력해 주세요(km):'))\n",
        "print('-'*35)\n",
        "print(f'속력: {float(velocity)}km/h')\n",
        "print(f'거리: {float(distance)}km/h')\n",
        "print(f'시간: {float(distance/velocity)}km/h')"
      ],
      "metadata": {
        "colab": {
          "base_uri": "https://localhost:8080/"
        },
        "id": "kdVtGbr8FsGB",
        "outputId": "4647164d-ea20-443d-ab8e-b1c2c5b8f83a"
      },
      "execution_count": null,
      "outputs": [
        {
          "output_type": "stream",
          "name": "stdout",
          "text": [
            "속력을 입력해 주세요(km/h):100\n",
            "거리를 입력해 주세요(km):340\n",
            "-----------------------------------\n",
            "속력: 100.0km/h\n",
            "거리: 340.0km/h\n",
            "시간: 3.4km/h\n"
          ]
        }
      ]
    },
    {
      "cell_type": "code",
      "source": [
        "import math\n",
        "radius = 4\n",
        "area = math.pi*radius\n",
        "print(f'반지름이 4인 원의 넓이는 :{area:.2f}')\n",
        "\n",
        "\n"
      ],
      "metadata": {
        "colab": {
          "base_uri": "https://localhost:8080/"
        },
        "id": "z_RXJcsSHcYY",
        "outputId": "2da9c8bd-b445-43f5-babf-1cd6199d41c8"
      },
      "execution_count": null,
      "outputs": [
        {
          "output_type": "stream",
          "name": "stdout",
          "text": [
            "반지름이 4인 원의 넓이는 :12.57\n"
          ]
        }
      ]
    },
    {
      "cell_type": "code",
      "source": [
        "a = input('정수를 입력하세요:')\n",
        "print(int(a)+int(a+a)+int(a+a+a))\n",
        "print(f\"{a} + {a*2} + {a*3} = {int(a) + int(a*2) + int(a*3)}\")"
      ],
      "metadata": {
        "colab": {
          "base_uri": "https://localhost:8080/"
        },
        "id": "c4uZREHkIjd5",
        "outputId": "498f68ed-5c4f-47c5-c779-3e7af540d286"
      },
      "execution_count": null,
      "outputs": [
        {
          "output_type": "stream",
          "name": "stdout",
          "text": [
            "정수를 입력하세요:7\n",
            "861\n",
            "7 + 77 + 777 = 861\n"
          ]
        }
      ]
    },
    {
      "cell_type": "code",
      "source": [
        "s = input('문자열을 입력하세요:')\n",
        "print(s[::-1])"
      ],
      "metadata": {
        "colab": {
          "base_uri": "https://localhost:8080/"
        },
        "id": "oMIyZk6bMrO7",
        "outputId": "53b87f0f-b5c4-4b52-a05b-6de600c3ef36"
      },
      "execution_count": null,
      "outputs": [
        {
          "output_type": "stream",
          "name": "stdout",
          "text": [
            "문자열을 입력하세요:사랑해요 파이썬!\n",
            "!썬이파 요해랑사\n"
          ]
        }
      ]
    },
    {
      "cell_type": "code",
      "source": [
        "a = input('파일명을 입력하세요:')\n",
        "filename, extension = a.split('.')\n",
        "print(f'파일 :{a}')\n",
        "print(f'파일명:{filename} 확장자:{extension}')"
      ],
      "metadata": {
        "colab": {
          "base_uri": "https://localhost:8080/"
        },
        "id": "xj-4t5oBNFD_",
        "outputId": "1c21ff21-1693-40e8-cf6f-7c0978246195"
      },
      "execution_count": null,
      "outputs": [
        {
          "output_type": "stream",
          "name": "stdout",
          "text": [
            "파일명을 입력하세요:test.py\n",
            "파일 :test.py\n",
            "파일명:test 확장자:py\n"
          ]
        }
      ]
    },
    {
      "cell_type": "code",
      "source": [
        "# 동전 교환 프로그램 만들기\n",
        "coin = int(input('동전으로 교환할 금액을 입력하세요:'))\n",
        "print('-'*35)\n",
        "coin500 = coin//500\n",
        "coin100 = coin%500//100\n",
        "coin50 = coin%100//50\n",
        "coin10 = coin%50//10\n",
        "coin1 = coin%10\n",
        "\n",
        "#잔돈 결과 출력\n",
        "print(f'500원짜리 ==>{coin500}개')\n",
        "print(f'100원짜리 ==>{coin100}개')\n",
        "print(f'50원짜리 ==>{coin50}개')\n",
        "print(f'10원짜리 ==>{coin10}개')\n",
        "print(f'잔돈 ==>{coin1}')"
      ],
      "metadata": {
        "colab": {
          "base_uri": "https://localhost:8080/"
        },
        "id": "MEl-9r1hNEPn",
        "outputId": "9089f54c-2add-4535-9a13-1ccf8402228a"
      },
      "execution_count": null,
      "outputs": [
        {
          "output_type": "stream",
          "name": "stdout",
          "text": [
            "동전으로 교환할 금액을 입력하세요:4321\n",
            "-----------------------------------\n",
            "500원짜리 ==>8개\n",
            "100원짜리 ==>3개\n",
            "50원짜리 ==>0개\n",
            "10원짜리 ==>2개\n",
            "잔돈 ==>1\n"
          ]
        }
      ]
    },
    {
      "cell_type": "code",
      "source": [
        "members ={'namse':'진','age':29,'email':'jin@gggmail.com'}\n",
        "print(members)\n",
        "print(members['namse'])\n",
        "print(members['age'])\n",
        "print('길이 :%d' % len(members))"
      ],
      "metadata": {
        "colab": {
          "base_uri": "https://localhost:8080/"
        },
        "id": "FRHrGACmUgF2",
        "outputId": "27df782e-92bd-4cf3-b5f5-17ec48d13a7a"
      },
      "execution_count": null,
      "outputs": [
        {
          "output_type": "stream",
          "name": "stdout",
          "text": [
            "{'namse': '진', 'age': 29, 'email': 'jin@gggmail.com'}\n",
            "진\n",
            "29\n",
            "길이 :3\n"
          ]
        }
      ]
    },
    {
      "cell_type": "code",
      "source": [
        "name = '박지민'\n",
        "scores = {'kor':70,'eng':89, 'math':95,'music':100}\n",
        "print(scores)\n",
        "\n",
        "for key in scores:\n",
        "    print('%s => %d' % (key, scores[key]))\n",
        "\n",
        "print(scores.keys())\n",
        "print(scores.values())\n",
        "print(scores.items())\n",
        "print(len(scores.items()))\n",
        "scores['science'] = 100\n",
        "print(scores)\n",
        "scores['math'] = 50\n",
        "print(scores)\n",
        "del scores['science']\n",
        "print(scores)\n"
      ],
      "metadata": {
        "colab": {
          "base_uri": "https://localhost:8080/"
        },
        "id": "j1IWj-DBWiRb",
        "outputId": "0275e64e-ff3a-4366-d170-a13e5021d7f1"
      },
      "execution_count": null,
      "outputs": [
        {
          "output_type": "stream",
          "name": "stdout",
          "text": [
            "{'kor': 70, 'eng': 89, 'math': 95, 'music': 100}\n",
            "kor => 70\n",
            "eng => 89\n",
            "math => 95\n",
            "music => 100\n",
            "dict_keys(['kor', 'eng', 'math', 'music'])\n",
            "dict_values([70, 89, 95, 100])\n",
            "dict_items([('kor', 70), ('eng', 89), ('math', 95), ('music', 100)])\n",
            "4\n",
            "{'kor': 70, 'eng': 89, 'math': 95, 'music': 100, 'science': 100}\n",
            "{'kor': 70, 'eng': 89, 'math': 50, 'music': 100, 'science': 100}\n",
            "{'kor': 70, 'eng': 89, 'math': 50, 'music': 100}\n"
          ]
        }
      ]
    },
    {
      "cell_type": "code",
      "source": [
        "#W짝수/ 홀수 판별하기\n",
        "x = int(input('숫자를 입력하세요:'))\n",
        "if x%2 ==0:\n",
        "    print(f'입력된 수 :{x} 짝수')\n",
        "else:\n",
        "    print(f'입력된 수 :{x} 홀수')"
      ],
      "metadata": {
        "colab": {
          "base_uri": "https://localhost:8080/"
        },
        "id": "qewxhIqla17R",
        "outputId": "a94ea6fd-91dc-4c12-b8fb-a141ae78f841"
      },
      "execution_count": null,
      "outputs": [
        {
          "output_type": "stream",
          "name": "stdout",
          "text": [
            "숫자를 입력하세요:43\n",
            "입력된 수 :43 홀수\n"
          ]
        }
      ]
    },
    {
      "cell_type": "code",
      "source": [
        "import random\n",
        "print(f'가위바위보 게임을 시작합니다.')\n",
        "print('-'*35)\n",
        "print(f'컴퓨터는 정했습니다.')\n",
        "my = input('당신의 가위(0), 바위(1),보(2) 숫자는 :')\n",
        "print('-'*30, '게임결과는>')\n",
        "\n",
        "computer = random.randint(0, 2)\n",
        "\n",
        "if computer == my:\n",
        "    print(f'비겼습니다.)')\n",
        "else:\n",
        "    if (computer=='가위' and my=='보') or \\\n",
        "    (computer=='바위' and my=='가위') or \\\n",
        "    (computer=='보' and my=='바위') :\n",
        "        print('컴퓨터가 이겼습니다.')\n",
        "    else:\n",
        "        print('내가 이겼습니다.')\n",
        "\n",
        "\n",
        "# number2 = random.randint(0, 2)\n",
        "# print(number2)"
      ],
      "metadata": {
        "colab": {
          "base_uri": "https://localhost:8080/"
        },
        "id": "YLvB6f3McnzR",
        "outputId": "0203dd83-660c-4ef3-9115-6c9af5e9029f"
      },
      "execution_count": null,
      "outputs": [
        {
          "output_type": "stream",
          "name": "stdout",
          "text": [
            "가위바위보 게임을 시작합니다.\n",
            "-----------------------------------\n",
            "컴퓨터는 정했습니다.\n",
            "당신의 가위(0), 바위(1),보(2) 숫자는 :0\n",
            "------------------------------ 게임결과는>\n",
            "내가 이겼습니다.\n"
          ]
        }
      ]
    },
    {
      "cell_type": "code",
      "source": [
        "# 커피 자동주문 프로그램 만들기\n",
        "menu = '''[커피 주문 머신 메뉴]\n",
        "-----------------------------\n",
        "- 아메리카노: 2500원\n",
        "- 카페라테:   3000원\n",
        "- 카페모카:   3000원\n",
        "-----------------------------\n",
        "원하시는 커피종류와 잔수를 입력하세요.'''\n",
        "print(menu)\n",
        "coffee1 = int(input(f'아메리카노 몇잔:'))\n",
        "coffee2 = int(input(f'까페라떼 몇잔:'))\n",
        "coffee3 = int(input(f'카푸치노 몇잔:'))\n",
        "sum = (2500*coffee1)+(3000*coffee2)+(3000*coffee3)\n",
        "print(f'지불할 총 금액은 {sum}입니다.')\n",
        "money = int(input(f'돈을 넣어주세요:'))\n",
        "\n",
        "if money < sum:\n",
        "    print(f'입력한 금액이 부족합니다.{sum-money}원을 넣어주세요')\n",
        "elif money > sum:\n",
        "    print(f'거스름돈은 {money-sum}원 입니다.')\n",
        "else:\n",
        "    print(f'맛있게 드세요')\n"
      ],
      "metadata": {
        "colab": {
          "base_uri": "https://localhost:8080/"
        },
        "id": "TsWee4xBjWAN",
        "outputId": "56aa9c28-db48-47c4-e095-b49189c73d4f"
      },
      "execution_count": null,
      "outputs": [
        {
          "output_type": "stream",
          "name": "stdout",
          "text": [
            "[커피 주문 머신 메뉴]\n",
            "-----------------------------\n",
            "- 아메리카노: 2500원\n",
            "- 카페라테:   3000원\n",
            "- 카페모카:   3000원\n",
            "-----------------------------\n",
            "원하시는 커피종류와 잔수를 입력하세요.\n",
            "아메리카노 몇잔:2\n",
            "까페라떼 몇잔:3\n",
            "카푸치노 몇잔:5\n",
            "지불할 총 금액은 29000입니다.\n",
            "돈을 넣어주세요:29000\n",
            "맛있게 드세요\n"
          ]
        }
      ]
    },
    {
      "cell_type": "code",
      "source": [
        "n = int(input('합계를 구할 숫자 입력:'))\n",
        "hap = 0\n",
        "for i in range(1,101,1):\n",
        "    if i%2 !=0:\n",
        "        hap +=i\n",
        "print(f'1~{n}까지  짝수를 제외한 합은:{hap}')\n"
      ],
      "metadata": {
        "colab": {
          "base_uri": "https://localhost:8080/"
        },
        "id": "HYLk6d6poRar",
        "outputId": "d98d4c09-4cd2-4890-9cd3-e36da9bfb44a"
      },
      "execution_count": null,
      "outputs": [
        {
          "output_type": "stream",
          "name": "stdout",
          "text": [
            "합계를 구할 숫자 입력:100\n",
            "1~100까지  짝수를 제외한 합은:2500\n"
          ]
        }
      ]
    },
    {
      "cell_type": "code",
      "source": [
        "hap = 0\n",
        "i =1\n",
        "while True:\n",
        "    try:\n",
        "        n = int(input(\"양의 정수 n을 입력하세요: \"))\n",
        "        if n <= 0:\n",
        "            print(f\"양의 정수를 입력해 주세요.\")\n",
        "        else:\n",
        "            break\n",
        "    except ValueError:\n",
        "        print(\"유효한 숫자를 입력해주세요.\")\n",
        "\n",
        "while i<=n:\n",
        "    if i%2 !=0:\n",
        "        hap +=i\n",
        "    i += 1\n",
        "print(f'1~{n}까지  짝수를 제외한 합은:{hap}')\n",
        "\n",
        "\n",
        "\n"
      ],
      "metadata": {
        "colab": {
          "base_uri": "https://localhost:8080/"
        },
        "id": "T5EbdKSQtbQv",
        "outputId": "7ef10eca-ba6d-4486-805d-c2b13ee65754"
      },
      "execution_count": null,
      "outputs": [
        {
          "output_type": "stream",
          "name": "stdout",
          "text": [
            "양의 정수 n을 입력하세요: 200\n",
            "1~200까지  짝수를 제외한 합은:10000\n"
          ]
        }
      ]
    },
    {
      "cell_type": "code",
      "source": [
        "for i in range(1,101):\n",
        "    print(i,end=\" \")\n",
        "    if i%10 == 0:\n",
        "        print(i)"
      ],
      "metadata": {
        "colab": {
          "base_uri": "https://localhost:8080/"
        },
        "id": "PEP7FGW4wJKn",
        "outputId": "804665e6-d945-4e70-944e-2997dafb125d"
      },
      "execution_count": null,
      "outputs": [
        {
          "output_type": "stream",
          "name": "stdout",
          "text": [
            "1 2 3 4 5 6 7 8 9 10 10\n",
            "11 12 13 14 15 16 17 18 19 20 20\n",
            "21 22 23 24 25 26 27 28 29 30 30\n",
            "31 32 33 34 35 36 37 38 39 40 40\n",
            "41 42 43 44 45 46 47 48 49 50 50\n",
            "51 52 53 54 55 56 57 58 59 60 60\n",
            "61 62 63 64 65 66 67 68 69 70 70\n",
            "71 72 73 74 75 76 77 78 79 80 80\n",
            "81 82 83 84 85 86 87 88 89 90 90\n",
            "91 92 93 94 95 96 97 98 99 100 100\n"
          ]
        }
      ]
    },
    {
      "cell_type": "code",
      "source": [
        "scores = [90,25,67,45,80]\n",
        "\n",
        "number = 0\n",
        "\n",
        "for i in scores:\n",
        "    number +=1\n",
        "    if i >= 60:\n",
        "        print(f'{number}번 학생 {i}은 합격입니다.')\n",
        "    else:\n",
        "        print(f'{number}번 학생 {i}은 불합격입니다.')\n",
        "\n",
        "\n"
      ],
      "metadata": {
        "colab": {
          "base_uri": "https://localhost:8080/"
        },
        "id": "CEMVGEunxR6l",
        "outputId": "58e8c27d-0836-41d0-d983-61a642a53ef2"
      },
      "execution_count": null,
      "outputs": [
        {
          "output_type": "stream",
          "name": "stdout",
          "text": [
            "1번 학생 90은 합격입니다.\n",
            "2번 학생 25은 불합격입니다.\n",
            "3번 학생 67은 합격입니다.\n",
            "4번 학생 45은 불합격입니다.\n",
            "5번 학생 80은 합격입니다.\n"
          ]
        }
      ]
    },
    {
      "cell_type": "code",
      "source": [
        "scores = [90,25,67,45,80]\n",
        "number = 0\n",
        "index = 0\n",
        "while index <len(scores):\n",
        "        number += 1\n",
        "        score = scores[index]\n",
        "        index += 1\n",
        "        if score >= 60:\n",
        "            print(f'{number}번 학생 {score}은 합격입니다.')\n",
        "        else:\n",
        "            print(f'{number}번 학생 {score}은 붏합격입니다.')\n"
      ],
      "metadata": {
        "colab": {
          "base_uri": "https://localhost:8080/"
        },
        "id": "3NNkUW3OzElY",
        "outputId": "ff6e27a8-f7ac-4a45-cee4-27e978eb5c56"
      },
      "execution_count": null,
      "outputs": [
        {
          "output_type": "stream",
          "name": "stdout",
          "text": [
            "1번 학생 90은 합격입니다.\n",
            "2번 학생 25은 붏합격입니다.\n",
            "3번 학생 67은 합격입니다.\n",
            "4번 학생 45은 붏합격입니다.\n",
            "5번 학생 80은 합격입니다.\n"
          ]
        }
      ]
    },
    {
      "cell_type": "code",
      "source": [
        "\n",
        "'''\n",
        "예)\n",
        "    )))()()((( => False\n",
        "    ()()()()()) => False\n",
        "    ()(())()()  => True\n",
        "    ))(())(( => False\n",
        "    ()(()))( => False\n",
        "    ((())()) => True\n",
        "'''\n",
        "p_list = list(input('판별할 괄호는: '))\n",
        "print(p_list)\n",
        "t = 0\n",
        "for p in p_list:\n",
        "    if p == '(':\n",
        "        t +=1\n",
        "    elif p== ')':\n",
        "        t -=1\n",
        "    if t < 0:\n",
        "        break\n",
        "if t == 0:\n",
        "    print('True')\n",
        "else:\n",
        "    print('false')\n",
        "\n",
        "\n"
      ],
      "metadata": {
        "colab": {
          "base_uri": "https://localhost:8080/"
        },
        "id": "x3YBsFYA3wr0",
        "outputId": "afcbc86b-1a33-4d5e-f2be-bd74b292885a"
      },
      "execution_count": null,
      "outputs": [
        {
          "output_type": "stream",
          "name": "stdout",
          "text": [
            "판별할 괄호는: )))()()(((\n",
            "[')', ')', ')', '(', ')', '(', ')', '(', '(', '(']\n",
            "false\n"
          ]
        }
      ]
    },
    {
      "cell_type": "code",
      "source": [
        "sum = 0\n",
        "for i in range(1,1001):\n",
        "    if i%3 == 0:\n",
        "        sum += i\n",
        "print(sum)"
      ],
      "metadata": {
        "colab": {
          "base_uri": "https://localhost:8080/"
        },
        "id": "M92ZK19HwtSL",
        "outputId": "fec4c3a8-c987-4449-947d-89c12ddc3033"
      },
      "execution_count": null,
      "outputs": [
        {
          "output_type": "stream",
          "name": "stdout",
          "text": [
            "166833\n"
          ]
        }
      ]
    },
    {
      "cell_type": "code",
      "source": [
        "sum = 0\n",
        "i = 1\n",
        "while i<=1000:\n",
        "    if i%3 ==0:\n",
        "        sum +=i\n",
        "    i += 1\n",
        "print(sum)"
      ],
      "metadata": {
        "colab": {
          "base_uri": "https://localhost:8080/"
        },
        "id": "I9q_rsXU6xWV",
        "outputId": "7e99dbac-df84-4142-b7a0-23d588613f8d"
      },
      "execution_count": null,
      "outputs": [
        {
          "output_type": "stream",
          "name": "stdout",
          "text": [
            "166833\n"
          ]
        }
      ]
    },
    {
      "cell_type": "code",
      "source": [
        "coffee ={'아메리키노':2500,'까페라떼':3000,'까페모카':3000}\n",
        "print(coffee)\n",
        "for key in coffee:\n",
        "    print(f'{key} =>{coffee[key]}')\n",
        "\n"
      ],
      "metadata": {
        "colab": {
          "base_uri": "https://localhost:8080/"
        },
        "id": "dBO0qGt_7kmP",
        "outputId": "7708b4b5-1590-4be6-cc02-7775a6559255"
      },
      "execution_count": null,
      "outputs": [
        {
          "output_type": "stream",
          "name": "stdout",
          "text": [
            "{'아메리키노': 2500, '까페라떼': 3000, '까페모카': 3000}\n",
            "아메리키노 =>2500\n",
            "까페라떼 =>3000\n",
            "까페모카 =>3000\n"
          ]
        }
      ]
    },
    {
      "cell_type": "code",
      "source": [
        "# 직각삼격형 판별하기\n",
        "#c*2 = a*2+b*2\n",
        "\n",
        "a = int(input('변 a의 길이:'))\n",
        "b = int(input('변 b의 길이:'))\n",
        "c = int(input('변 c의 길이:'))\n",
        "if c^2 == a^2+b^2:\n",
        "    print(f'직각삼각형입니다.')\n",
        "else:\n",
        "    print(f'직각삼각형이 아닙니다.')"
      ],
      "metadata": {
        "colab": {
          "base_uri": "https://localhost:8080/"
        },
        "id": "NLH3VCnVXXK_",
        "outputId": "11953062-dab4-4ebd-81ea-2f44717ed157"
      },
      "execution_count": null,
      "outputs": [
        {
          "output_type": "stream",
          "name": "stdout",
          "text": [
            "변 a의 길이:5\n",
            "변 b의 길이:4\n",
            "변 c의 길이:4\n",
            "직각삼각형이 아닙니다.\n"
          ]
        }
      ]
    },
    {
      "cell_type": "code",
      "source": [
        "money =1000\n",
        "money2 = 2000\n",
        "rate = 0.07\n",
        "year =0\n",
        "\n",
        "while money <=money2:\n",
        "    rate_money = money*rate\n",
        "    money += rate_money\n",
        "    year +=1\n",
        "    print(money)\n",
        "\n",
        "print(f'2000만원이 되는데 걸리는 시간은 {year}입니다.')\n"
      ],
      "metadata": {
        "colab": {
          "base_uri": "https://localhost:8080/"
        },
        "id": "LGE0e1e2aTDM",
        "outputId": "a6fdd3f9-b83a-4949-ea6c-210499a0dfc3"
      },
      "execution_count": null,
      "outputs": [
        {
          "output_type": "stream",
          "name": "stdout",
          "text": [
            "1070.0\n",
            "1144.9\n",
            "1225.0430000000001\n",
            "1310.79601\n",
            "1402.5517307\n",
            "1500.730351849\n",
            "1605.78147647843\n",
            "1718.18617983192\n",
            "1838.4592124201545\n",
            "1967.1513572895653\n",
            "2104.851952299835\n",
            "2000만원이 되는데 걸리는 시간은 11입니다.\n"
          ]
        }
      ]
    },
    {
      "cell_type": "code",
      "source": [
        "number = input('숫자를 입력하세요:')\n",
        "\n",
        "for digit in str(number):\n",
        "    number2 = int(digit)*2\n",
        "    #print(number2)\n",
        "    print(number2*'*')\n",
        "\n"
      ],
      "metadata": {
        "colab": {
          "base_uri": "https://localhost:8080/"
        },
        "id": "h3xBrtFDe7XW",
        "outputId": "49b91e28-46dc-46c2-97e5-4cbb3ee1d05a"
      },
      "execution_count": null,
      "outputs": [
        {
          "output_type": "stream",
          "name": "stdout",
          "text": [
            "숫자를 입력하세요:345\n",
            "******\n",
            "********\n",
            "**********\n"
          ]
        }
      ]
    },
    {
      "cell_type": "code",
      "source": [
        "# 구구단 세로 출력\n",
        "for i in range(2,10):\n",
        "    for j in range(1,10):\n",
        "        print(f'{i}*{j}={i*j}', end='\\t')\n",
        "    print()\n",
        "# 구구단 가로출력\n",
        "for i in range(1,10):\n",
        "    for j in range(2,10):\n",
        "        print(f'{j}*{i}={j*i}', end='\\t')\n",
        "    print()\n",
        "\n",
        "\n"
      ],
      "metadata": {
        "colab": {
          "base_uri": "https://localhost:8080/"
        },
        "id": "cOfCARKx67vw",
        "outputId": "3e09d238-9ec3-45e9-82da-e4c8431b78f6"
      },
      "execution_count": null,
      "outputs": [
        {
          "output_type": "stream",
          "name": "stdout",
          "text": [
            "2*1=2\t2*2=4\t2*3=6\t2*4=8\t2*5=10\t2*6=12\t2*7=14\t2*8=16\t2*9=18\t\n",
            "3*1=3\t3*2=6\t3*3=9\t3*4=12\t3*5=15\t3*6=18\t3*7=21\t3*8=24\t3*9=27\t\n",
            "4*1=4\t4*2=8\t4*3=12\t4*4=16\t4*5=20\t4*6=24\t4*7=28\t4*8=32\t4*9=36\t\n",
            "5*1=5\t5*2=10\t5*3=15\t5*4=20\t5*5=25\t5*6=30\t5*7=35\t5*8=40\t5*9=45\t\n",
            "6*1=6\t6*2=12\t6*3=18\t6*4=24\t6*5=30\t6*6=36\t6*7=42\t6*8=48\t6*9=54\t\n",
            "7*1=7\t7*2=14\t7*3=21\t7*4=28\t7*5=35\t7*6=42\t7*7=49\t7*8=56\t7*9=63\t\n",
            "8*1=8\t8*2=16\t8*3=24\t8*4=32\t8*5=40\t8*6=48\t8*7=56\t8*8=64\t8*9=72\t\n",
            "9*1=9\t9*2=18\t9*3=27\t9*4=36\t9*5=45\t9*6=54\t9*7=63\t9*8=72\t9*9=81\t\n",
            "2*1=2\t3*1=3\t4*1=4\t5*1=5\t6*1=6\t7*1=7\t8*1=8\t9*1=9\t\n",
            "2*2=4\t3*2=6\t4*2=8\t5*2=10\t6*2=12\t7*2=14\t8*2=16\t9*2=18\t\n",
            "2*3=6\t3*3=9\t4*3=12\t5*3=15\t6*3=18\t7*3=21\t8*3=24\t9*3=27\t\n",
            "2*4=8\t3*4=12\t4*4=16\t5*4=20\t6*4=24\t7*4=28\t8*4=32\t9*4=36\t\n",
            "2*5=10\t3*5=15\t4*5=20\t5*5=25\t6*5=30\t7*5=35\t8*5=40\t9*5=45\t\n",
            "2*6=12\t3*6=18\t4*6=24\t5*6=30\t6*6=36\t7*6=42\t8*6=48\t9*6=54\t\n",
            "2*7=14\t3*7=21\t4*7=28\t5*7=35\t6*7=42\t7*7=49\t8*7=56\t9*7=63\t\n",
            "2*8=16\t3*8=24\t4*8=32\t5*8=40\t6*8=48\t7*8=56\t8*8=64\t9*8=72\t\n",
            "2*9=18\t3*9=27\t4*9=36\t5*9=45\t6*9=54\t7*9=63\t8*9=72\t9*9=81\t\n"
          ]
        }
      ]
    },
    {
      "cell_type": "code",
      "source": [
        "# 반복문 계속 2로 나눠서 반복하다 0.00001보다 낮으면 빠져나가는 문제\n",
        "meter = int(input('공의 높이를 입력하세요:'))\n",
        "times = 0\n",
        "limit =0.00001\n",
        "\n",
        "while meter >= float(limit):\n",
        "    meter_remain = meter/2\n",
        "    meter -= meter_remain\n",
        "    times +=1\n",
        "print(f'공을 튕긴 총 횟수는 :{times}')\n",
        "\n",
        "\n"
      ],
      "metadata": {
        "colab": {
          "base_uri": "https://localhost:8080/"
        },
        "id": "9vsEtyaGDQza",
        "outputId": "02b523be-a6fc-431b-ea43-26216fc53205"
      },
      "execution_count": null,
      "outputs": [
        {
          "output_type": "stream",
          "name": "stdout",
          "text": [
            "공의 높이를 입력하세요:30\n",
            "공을 튕긴 총 횟수는 :22\n"
          ]
        }
      ]
    },
    {
      "cell_type": "code",
      "source": [
        "import random\n",
        "score_count = 0\n",
        "score = 0\n",
        "\n",
        "print('-'*30, '도둑잡기 결과는?')\n",
        "while True:\n",
        "    computer = random.choice(['1','2','3'])\n",
        "    room = input('1,2,3 중 방번호 하나를 입력하세요: ')\n",
        "    if computer != room:\n",
        "        score -=10\n",
        "        print(f\"computer:{computer}, my:{room}\")\n",
        "        print(f'범인찾지못했다 점수는 {score}')\n",
        "    else:\n",
        "        score +=100\n",
        "        print(f\"computer:{computer}, my:{room}\")\n",
        "        print(f'범인체포 점수는 {score}점입니다.')\n",
        "        break\n",
        "\n",
        "\n",
        "\n"
      ],
      "metadata": {
        "id": "gjMvdy5YaWxP"
      },
      "execution_count": null,
      "outputs": []
    },
    {
      "cell_type": "code",
      "source": [
        "\n",
        "import random           # 난수 발생 모듈\n",
        "# random.randint(1,10)    # 1~10 사이의 임의의 정수 선택\n",
        "print('가위/바위/보 게임을 시작합니다.')\n",
        "print('-'*30)\n",
        "\n",
        "computer = random.choice(['가위','바위','보'])\n",
        "print('컴퓨터는 정했습니다!')\n",
        "my = input('가위/바위/보 중 하나 입력: ')\n",
        "print('-'*30, '게임 결과는?')\n",
        "print(f\"computer:{computer}, my:{my}\")\n",
        "\n",
        "# 결과 판단하기\n",
        "if computer==my:\n",
        "    print('서로 비겼습니다.')\n",
        "# 컴퓨터가 이긴 경우\n",
        "else:\n",
        "    if (computer=='가위' and my=='보') or \\\n",
        "    (computer=='바위' and my=='가위') or \\\n",
        "    (computer=='보' and my=='바위') :\n",
        "        print('컴퓨터가 이겼습니다.')\n",
        "    else:\n",
        "        print('내가 이겼습니다.')"
      ],
      "metadata": {
        "id": "SPjkR9DWh5Qf"
      },
      "execution_count": null,
      "outputs": []
    },
    {
      "cell_type": "code",
      "source": [
        "menu =''' [커피 자동주문 머신메뉴]-------------------\n",
        "- 아메리카노 2500원\n",
        "- 까페라떼 3000원\n",
        "- 카푸치노 3000원 입니다,\n",
        "원하시는 커피 종류와 잔수를 입력하세요.\n",
        "-----------------------------------------\n",
        "'''\n",
        "print(menu)\n",
        "coffee1 = int(input('아메리카노 몇잔:'))\n",
        "coffee2 = int(input('까페라떼 몇잔:'))\n",
        "coffee3 = int(input('카푸치노 몇잔:'))\n",
        "sum = (2500 * coffee1) + (3000 * coffee2) + (3000 * coffee3)\n",
        "print(f'지불할 총 금액은 {sum}원입니다')\n",
        "print('-' * 35)\n",
        "money = int(input(f'[지불할 금액:{sum}]:돈을 넣어주세요:'))  # 지불할 금액 입력\n",
        "\n",
        "\n",
        "while money < sum:\n",
        "\n",
        "    change_money = sum - money\n",
        "    print(f'입력한 금액이 부족합니다. {change_money}원을 더 넣어주세요')\n",
        "    print('-'*35)\n",
        "    money += int(input(f'[지불할 금액:{change_money}]:돈을 넣어주세요:')) # 부족한 금액 입력\n",
        "\n",
        "change_money = money - sum\n",
        "print(f'잔돈은 {change_money}원입니다.')\n",
        "print('-'*35)\n",
        "print(f'맛있게 드세요')"
      ],
      "metadata": {
        "colab": {
          "base_uri": "https://localhost:8080/"
        },
        "id": "j--hu4gOrG8w",
        "outputId": "6d0c1ecb-a5ac-4546-b6ed-1c2318c95907"
      },
      "execution_count": null,
      "outputs": [
        {
          "output_type": "stream",
          "name": "stdout",
          "text": [
            " [커피 자동주문 머신메뉴]-------------------\n",
            "- 아메리카노 2500원\n",
            "- 까페라떼 3000원\n",
            "- 카푸치노 3000원 입니다,\n",
            "원하시는 커피 종류와 잔수를 입력하세요.\n",
            "-----------------------------------------\n",
            "\n",
            "아메리카노 몇잔:2\n",
            "까페라떼 몇잔:2\n",
            "카푸치노 몇잔:2\n",
            "지불할 총 금액은 17000원입니다\n",
            "-----------------------------------\n",
            "[지불할 금액:17000]:돈을 넣어주세요:10000\n",
            "입력한 금액이 부족합니다. 7000원을 더 넣어주세요\n",
            "-----------------------------------\n",
            "[지불할 금액:7000]:돈을 넣어주세요:5000\n",
            "입력한 금액이 부족합니다. 2000원을 더 넣어주세요\n",
            "-----------------------------------\n",
            "[지불할 금액:2000]:돈을 넣어주세요:2000\n",
            "잔돈은 0원입니다.\n",
            "-----------------------------------\n",
            "맛있게 드세요\n"
          ]
        }
      ]
    },
    {
      "cell_type": "code",
      "source": [
        "'''< 무인 호텔 관리 프로그램 >\n",
        "1) 방 개수를 입력 받는다.\n",
        "2) 방 개수와 같은 길이의 리스트를 생성한다.\n",
        "5 개 → [0,0,0,0,0]\n",
        "3 개 → [0,0,0]\n",
        "3) 사용자 메뉴를 메시지로 보여주고 메뉴를 선택 받는다.\n",
        "< 메뉴 >\n",
        "1. 체크인\n",
        "2. 체크아웃\n",
        "3. 현황 보기\n",
        "0. 종료하기\n",
        "4) 사용자가 메뉴에서 0을 입력할 때까지 (1~3) 과정을 진행한다.\n",
        "# '''\n",
        "\n",
        "menu = '''\n",
        "1. 체크인\n",
        "2. 체크아웃\n",
        "3. 현황 보기\n",
        "0. 종료하기\n",
        "'''\n",
        "\n",
        "room = int(input('방의 수를 입력하세요:'))\n",
        "#room_list = list(range(room))\n",
        "#room_list = list(range(1, room+1))\n",
        "room_list = [0 for _ in range(room)]\n",
        "print(f\"방 현황: {room_list} (0:빈방, 1:입실중)\")\n",
        "print(menu)\n",
        "\n",
        "\n",
        "while True:\n",
        "    print('-------------------')\n",
        "    print(menu)\n",
        "    select = input('-->메뉴 선택: ')\n",
        "    if select == '0':\n",
        "        break\n",
        "\n",
        "    elif select == '1': # 체크인\n",
        "        num = int(input(f'체크-in하실 방 호수(1~{len(room_list)}): '))\n",
        "        if room_list[num-1]:   # 이미 입실 중일 때\n",
        "            print(f\"{num}번 방은 이미 입실 중입니다.\")\n",
        "        else:\n",
        "            room_list[num-1] = 1\n",
        "        continue\n",
        "\n",
        "    elif select == '2': # 체크아웃\n",
        "        num = int(input(f'체크-out하실 방 호수(1~{len(room_list)}): '))\n",
        "        if room_list[num-1]: # 체크아웃 처리\n",
        "            room_list[num-1] = 0    # 빈 방 상태로 만듦\n",
        "        else:\n",
        "            print(f'{room_list[num]}번 방은 빈 방입니다. 빈 방은 체크-out하실 수 없습니다.')\n",
        "\n",
        "    elif select == '3': # 현황보기\n",
        "        for idx, room in enumerate(room_list): #[0, 0, 0]\n",
        "            if room == 0:\n",
        "                print(f\"{idx+1}호: 빈방\")\n",
        "            elif room == 1:\n",
        "                print(f\"{idx+1}호: 입실중\")\n",
        "\n",
        "\n",
        "print('-------------------')\n",
        "print('프로그램 종료!')\n",
        "\n",
        "\n",
        "\n"
      ],
      "metadata": {
        "id": "_G43cx8bs0Kb",
        "colab": {
          "base_uri": "https://localhost:8080/"
        },
        "outputId": "20d74960-6c79-46bf-a76b-32d103a3c2e9"
      },
      "execution_count": 6,
      "outputs": [
        {
          "output_type": "stream",
          "name": "stdout",
          "text": [
            "방의 수를 입력하세요:3\n",
            "방 현황: [0, 0, 0] (0:빈방, 1:입실중)\n",
            "\n",
            "1. 체크인\n",
            "2. 체크아웃\n",
            "3. 현황 보기\n",
            "0. 종료하기\n",
            "\n"
          ]
        }
      ]
    },
    {
      "cell_type": "code",
      "source": [
        "import random\n",
        "num = random.sample(range(1,10), 2)\n",
        "print(num)\n",
        "a = num[0]\n",
        "b = num[1]\n",
        "print(f'{a}+{b}={a+b}')"
      ],
      "metadata": {
        "colab": {
          "base_uri": "https://localhost:8080/"
        },
        "id": "0eYMywxUfR2t",
        "outputId": "c0f6bca3-9198-4de1-c990-9fc09b7fbeed"
      },
      "execution_count": 16,
      "outputs": [
        {
          "output_type": "stream",
          "name": "stdout",
          "text": [
            "[2, 8]\n",
            "2+8=10\n"
          ]
        }
      ]
    },
    {
      "cell_type": "code",
      "source": [
        "import random\n",
        "# 1.random.randint(start, end) # start <= N <= end\n",
        "\n",
        "#num = random.randint(1,6)\n",
        "dice =[0,0,0,0,0,0]\n",
        "for _ in range(101):\n",
        "    num = random.randint(1,6)\n",
        "    dice[num-1] += 1\n",
        "print(dice)\n",
        "\n",
        "max_value = max(dice)\n",
        "# print(\"최댓값:\", max_value)\n",
        "max_dice = []\n",
        "for idx, v in enumerate(dice):\n",
        "    if v==max_value:\n",
        "        max_dice.append(idx+1)\n",
        "print(f\"가장 많이 나온 숫자: {max_dice}, 횟수: {max_value}\")"
      ],
      "metadata": {
        "colab": {
          "base_uri": "https://localhost:8080/"
        },
        "id": "qBYVDVK0rCeF",
        "outputId": "a42b3150-21f1-45a8-b183-0fb545c63c1a"
      },
      "execution_count": 50,
      "outputs": [
        {
          "output_type": "stream",
          "name": "stdout",
          "text": [
            "[13, 19, 17, 18, 16, 18]\n",
            "가장 많이 나온 숫자: [2], 횟수: 19\n"
          ]
        }
      ]
    },
    {
      "cell_type": "code",
      "source": [
        "max_value = max(3, 7, 2, 10, 5)\n",
        "print(\"최댓값:\", max_value)"
      ],
      "metadata": {
        "colab": {
          "base_uri": "https://localhost:8080/"
        },
        "id": "Wa9cnKNSuA-k",
        "outputId": "e068e4ad-7834-4c79-bf8f-003381f7d495"
      },
      "execution_count": 41,
      "outputs": [
        {
          "output_type": "stream",
          "name": "stdout",
          "text": [
            "최댓값: 10\n"
          ]
        }
      ]
    },
    {
      "cell_type": "code",
      "source": [
        "def is_add(number):\n",
        "    if number%2 ==0:\n",
        "        return True\n",
        "    else:\n",
        "        return False\n",
        "\n",
        "print(is_add(10))\n",
        "\n"
      ],
      "metadata": {
        "colab": {
          "base_uri": "https://localhost:8080/"
        },
        "id": "pDvta9Kf0Rqc",
        "outputId": "c3f390db-de09-4ac0-e3ac-ee3d02ad8db6"
      },
      "execution_count": 52,
      "outputs": [
        {
          "output_type": "stream",
          "name": "stdout",
          "text": [
            "True\n"
          ]
        }
      ]
    },
    {
      "cell_type": "code",
      "source": [
        "def avg_numbers(*args):\n",
        "    result = 0\n",
        "    for i in args:\n",
        "        result +=i\n",
        "    return  result/len(args)\n",
        "\n",
        "print(avg_numbers(1,2))\n",
        "print(avg_numbers(1,2,3,4,5))\n"
      ],
      "metadata": {
        "colab": {
          "base_uri": "https://localhost:8080/"
        },
        "id": "NVX7zvPV1b0I",
        "outputId": "f2cc690c-f643-48b2-97eb-c34725a6ab3e"
      },
      "execution_count": 57,
      "outputs": [
        {
          "output_type": "stream",
          "name": "stdout",
          "text": [
            "1.5\n",
            "3.0\n"
          ]
        }
      ]
    },
    {
      "cell_type": "code",
      "source": [
        "f1 = open(\"새파일.txt\", 'w')\n",
        "f1.write(\"life is too short\")\n",
        "f1.close()\n",
        "\n",
        "\n",
        "f2 = open(\"새파일.txt\",'r')\n",
        "print(f2.read())"
      ],
      "metadata": {
        "colab": {
          "base_uri": "https://localhost:8080/"
        },
        "id": "2h0SGPS-7mv6",
        "outputId": "cdf7ffa5-8f0c-4496-97e7-7f79dd6833cf"
      },
      "execution_count": 63,
      "outputs": [
        {
          "output_type": "stream",
          "name": "stdout",
          "text": [
            "life is too short\n"
          ]
        }
      ]
    },
    {
      "cell_type": "code",
      "source": [
        "user_input = input(\"저장할 내용을 입력하세요\")\n",
        "f = open('test.txt','a')\n",
        "f.write(user_input)\n",
        "f.write(\"\\n\")\n",
        "f.close"
      ],
      "metadata": {
        "colab": {
          "base_uri": "https://localhost:8080/"
        },
        "id": "qAeOiORZ9H6Q",
        "outputId": "22c7050c-f9e5-4a6a-82a0-c8226d3df7a0"
      },
      "execution_count": 68,
      "outputs": [
        {
          "name": "stdout",
          "output_type": "stream",
          "text": [
            "저장할 내용을 입력하세요11111\n"
          ]
        },
        {
          "output_type": "execute_result",
          "data": {
            "text/plain": [
              "<function TextIOWrapper.close()>"
            ]
          },
          "metadata": {},
          "execution_count": 68
        }
      ]
    },
    {
      "cell_type": "code",
      "source": [
        "menu = ''' [선택메뉴]\n",
        "1. 단어 등록\n",
        "2. 단어 검색\n",
        "3. 단어 삭제\n",
        "4. 모든 단어 보기\n",
        "0. 종료하기\n",
        "'''\n",
        "\n",
        "print(menu)\n",
        "English_dict = {}\n",
        "\n",
        "while True:\n",
        "    print('-------------------')\n",
        "    print(menu)\n",
        "    select = input('-->메뉴 선택: ')\n",
        "    if select == '0':\n",
        "        break\n",
        "\n",
        "    elif select == '1': # 단어 등록\n",
        "        word = input('새단어 :')\n",
        "        word_mean =input('{word}의 뜻 :')\n",
        "        English_dict[word ] = word_mean\n",
        "        continue\n",
        "\n",
        "    elif select == '2': # 단어 검색\n",
        "        word_search = input('검색할 단어 :')\n",
        "        if word_search not in English_dict:\n",
        "            English_dict[word] = word_search\n",
        "            print(f\"새로운 단어가  추가되었습니다: {English_dict}\")\n",
        "        else:\n",
        "            word_search = English_dict[word]\n",
        "            print(f\"키 '{word}'에 해당하는 값은 '{word_search}'입니다.\")\n",
        "\n",
        "    elif select == '3': # 단어 삭제\n",
        "        word_Delete = input('삭제할 단어 :')\n",
        "        if word_Delete in English_dict:\n",
        "            del English_dict[word_Delete]\n",
        "            print(f\"단어가 삭제 되었습니다: {word_Delete}\")\n",
        "        else:\n",
        "            print(f\"미등록 단어입니다..\")\n",
        "\n",
        "    elif select == '4': # 현황보기\n",
        "        for key, value in English_dict.items():\n",
        "            print(f\"{key}: {value}\")\n",
        "\n",
        "print('-------------------')\n",
        "print('프로그램 종료!')\n"
      ],
      "metadata": {
        "colab": {
          "base_uri": "https://localhost:8080/"
        },
        "id": "5Ok9Ej0fI9Mk",
        "outputId": "43a303d4-4964-4726-e3d5-1b288909b2b7"
      },
      "execution_count": 71,
      "outputs": [
        {
          "output_type": "stream",
          "name": "stdout",
          "text": [
            " [선택메뉴]\n",
            "1. 단어 등록\n",
            "2. 단어 검색\n",
            "3. 단어 삭제\n",
            "4. 모든 단어 보기\n",
            "0. \n",
            "\n",
            "-------------------\n",
            " [선택메뉴]\n",
            "1. 단어 등록\n",
            "2. 단어 검색\n",
            "3. 단어 삭제\n",
            "4. 모든 단어 보기\n",
            "0. \n",
            "\n",
            "-->메뉴 선택: 1\n",
            "새단어 :apple\n",
            "{word}의 뜻 :사과\n",
            "-------------------\n",
            " [선택메뉴]\n",
            "1. 단어 등록\n",
            "2. 단어 검색\n",
            "3. 단어 삭제\n",
            "4. 모든 단어 보기\n",
            "0. \n",
            "\n",
            "-->메뉴 선택: 1\n",
            "새단어 :grape\n",
            "{word}의 뜻 :포도\n",
            "-------------------\n",
            " [선택메뉴]\n",
            "1. 단어 등록\n",
            "2. 단어 검색\n",
            "3. 단어 삭제\n",
            "4. 모든 단어 보기\n",
            "0. \n",
            "\n",
            "-->메뉴 선택: 1\n",
            "새단어 :orange\n",
            "{word}의 뜻 :오렌지\n",
            "-------------------\n",
            " [선택메뉴]\n",
            "1. 단어 등록\n",
            "2. 단어 검색\n",
            "3. 단어 삭제\n",
            "4. 모든 단어 보기\n",
            "0. \n",
            "\n",
            "-->메뉴 선택: 2\n",
            "검색할 단어 :grape\n",
            "키 'orange'에 해당하는 값은 '오렌지'입니다.\n",
            "-------------------\n",
            " [선택메뉴]\n",
            "1. 단어 등록\n",
            "2. 단어 검색\n",
            "3. 단어 삭제\n",
            "4. 모든 단어 보기\n",
            "0. \n",
            "\n",
            "-->메뉴 선택: 3\n",
            "삭제할 단어 :orange\n",
            "단어가 삭제 되었습니다: orange\n",
            "-------------------\n",
            " [선택메뉴]\n",
            "1. 단어 등록\n",
            "2. 단어 검색\n",
            "3. 단어 삭제\n",
            "4. 모든 단어 보기\n",
            "0. \n",
            "\n",
            "-->메뉴 선택: 4\n",
            "apple: 사과\n",
            "grape: 포도\n",
            "-------------------\n",
            " [선택메뉴]\n",
            "1. 단어 등록\n",
            "2. 단어 검색\n",
            "3. 단어 삭제\n",
            "4. 모든 단어 보기\n",
            "0. \n",
            "\n",
            "-->메뉴 선택: 0\n",
            "-------------------\n",
            "프로그램 종료!\n"
          ]
        }
      ]
    }
  ]
}