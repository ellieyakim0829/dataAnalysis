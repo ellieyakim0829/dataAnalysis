{
  "cells": [
    {
      "cell_type": "markdown",
      "metadata": {
        "id": "view-in-github",
        "colab_type": "text"
      },
      "source": [
        "<a href=\"https://colab.research.google.com/github/ellieyakim0829/dataAnalysis/blob/main/3_%EB%A8%B8%EC%8B%A0%EB%9F%AC%EB%8B%9D_%EB%B6%84%EB%A5%98_2_%EC%82%AC%EC%9D%B4%ED%82%B7%EB%9F%B0_%EB%B6%93%EA%BD%83%EB%B6%84%EB%A5%98_%EC%8B%A4%EC%8A%B5.ipynb\" target=\"_parent\"><img src=\"https://colab.research.google.com/assets/colab-badge.svg\" alt=\"Open In Colab\"/></a>"
      ]
    },
    {
      "cell_type": "markdown",
      "id": "45cc5f86",
      "metadata": {
        "id": "45cc5f86"
      },
      "source": [
        "# [실습] 붓꽃 종류 분류하기"
      ]
    },
    {
      "cell_type": "markdown",
      "id": "1b1615b5",
      "metadata": {
        "id": "1b1615b5"
      },
      "source": [
        "### 목표\n",
        "- **붓꽃 종류를 분류하는 모델을 구현하세요.**"
      ]
    },
    {
      "cell_type": "markdown",
      "id": "9eb71076",
      "metadata": {
        "id": "9eb71076"
      },
      "source": [
        "### 모델\n",
        "- 로지스틱 회귀\n",
        "- KNN"
      ]
    },
    {
      "cell_type": "markdown",
      "id": "9d74fd40",
      "metadata": {
        "id": "9d74fd40"
      },
      "source": [
        "### 평가지표\n",
        "- 정확도(accuracy_score)\n",
        "- ROC정확도(roc_auc_score)"
      ]
    },
    {
      "cell_type": "markdown",
      "id": "34670f5a",
      "metadata": {
        "id": "34670f5a"
      },
      "source": [
        "## [실습] Scikit-learn Logistic Regression으로 붓꽃 종류 분류하기"
      ]
    },
    {
      "cell_type": "markdown",
      "id": "ca594c91",
      "metadata": {
        "id": "ca594c91"
      },
      "source": [
        "### 1. Scikit-learn으로 붓꽃 데이터 가져오기"
      ]
    },
    {
      "cell_type": "code",
      "execution_count": 30,
      "id": "133d215c",
      "metadata": {
        "scrolled": true,
        "colab": {
          "base_uri": "https://localhost:8080/"
        },
        "id": "133d215c",
        "outputId": "d96ef3ac-e415-4f44-f647-3813b4151623"
      },
      "outputs": [
        {
          "output_type": "execute_result",
          "data": {
            "text/plain": [
              "{'data': array([[5.1, 3.5, 1.4, 0.2],\n",
              "        [4.9, 3. , 1.4, 0.2],\n",
              "        [4.7, 3.2, 1.3, 0.2],\n",
              "        [4.6, 3.1, 1.5, 0.2],\n",
              "        [5. , 3.6, 1.4, 0.2],\n",
              "        [5.4, 3.9, 1.7, 0.4],\n",
              "        [4.6, 3.4, 1.4, 0.3],\n",
              "        [5. , 3.4, 1.5, 0.2],\n",
              "        [4.4, 2.9, 1.4, 0.2],\n",
              "        [4.9, 3.1, 1.5, 0.1],\n",
              "        [5.4, 3.7, 1.5, 0.2],\n",
              "        [4.8, 3.4, 1.6, 0.2],\n",
              "        [4.8, 3. , 1.4, 0.1],\n",
              "        [4.3, 3. , 1.1, 0.1],\n",
              "        [5.8, 4. , 1.2, 0.2],\n",
              "        [5.7, 4.4, 1.5, 0.4],\n",
              "        [5.4, 3.9, 1.3, 0.4],\n",
              "        [5.1, 3.5, 1.4, 0.3],\n",
              "        [5.7, 3.8, 1.7, 0.3],\n",
              "        [5.1, 3.8, 1.5, 0.3],\n",
              "        [5.4, 3.4, 1.7, 0.2],\n",
              "        [5.1, 3.7, 1.5, 0.4],\n",
              "        [4.6, 3.6, 1. , 0.2],\n",
              "        [5.1, 3.3, 1.7, 0.5],\n",
              "        [4.8, 3.4, 1.9, 0.2],\n",
              "        [5. , 3. , 1.6, 0.2],\n",
              "        [5. , 3.4, 1.6, 0.4],\n",
              "        [5.2, 3.5, 1.5, 0.2],\n",
              "        [5.2, 3.4, 1.4, 0.2],\n",
              "        [4.7, 3.2, 1.6, 0.2],\n",
              "        [4.8, 3.1, 1.6, 0.2],\n",
              "        [5.4, 3.4, 1.5, 0.4],\n",
              "        [5.2, 4.1, 1.5, 0.1],\n",
              "        [5.5, 4.2, 1.4, 0.2],\n",
              "        [4.9, 3.1, 1.5, 0.2],\n",
              "        [5. , 3.2, 1.2, 0.2],\n",
              "        [5.5, 3.5, 1.3, 0.2],\n",
              "        [4.9, 3.6, 1.4, 0.1],\n",
              "        [4.4, 3. , 1.3, 0.2],\n",
              "        [5.1, 3.4, 1.5, 0.2],\n",
              "        [5. , 3.5, 1.3, 0.3],\n",
              "        [4.5, 2.3, 1.3, 0.3],\n",
              "        [4.4, 3.2, 1.3, 0.2],\n",
              "        [5. , 3.5, 1.6, 0.6],\n",
              "        [5.1, 3.8, 1.9, 0.4],\n",
              "        [4.8, 3. , 1.4, 0.3],\n",
              "        [5.1, 3.8, 1.6, 0.2],\n",
              "        [4.6, 3.2, 1.4, 0.2],\n",
              "        [5.3, 3.7, 1.5, 0.2],\n",
              "        [5. , 3.3, 1.4, 0.2],\n",
              "        [7. , 3.2, 4.7, 1.4],\n",
              "        [6.4, 3.2, 4.5, 1.5],\n",
              "        [6.9, 3.1, 4.9, 1.5],\n",
              "        [5.5, 2.3, 4. , 1.3],\n",
              "        [6.5, 2.8, 4.6, 1.5],\n",
              "        [5.7, 2.8, 4.5, 1.3],\n",
              "        [6.3, 3.3, 4.7, 1.6],\n",
              "        [4.9, 2.4, 3.3, 1. ],\n",
              "        [6.6, 2.9, 4.6, 1.3],\n",
              "        [5.2, 2.7, 3.9, 1.4],\n",
              "        [5. , 2. , 3.5, 1. ],\n",
              "        [5.9, 3. , 4.2, 1.5],\n",
              "        [6. , 2.2, 4. , 1. ],\n",
              "        [6.1, 2.9, 4.7, 1.4],\n",
              "        [5.6, 2.9, 3.6, 1.3],\n",
              "        [6.7, 3.1, 4.4, 1.4],\n",
              "        [5.6, 3. , 4.5, 1.5],\n",
              "        [5.8, 2.7, 4.1, 1. ],\n",
              "        [6.2, 2.2, 4.5, 1.5],\n",
              "        [5.6, 2.5, 3.9, 1.1],\n",
              "        [5.9, 3.2, 4.8, 1.8],\n",
              "        [6.1, 2.8, 4. , 1.3],\n",
              "        [6.3, 2.5, 4.9, 1.5],\n",
              "        [6.1, 2.8, 4.7, 1.2],\n",
              "        [6.4, 2.9, 4.3, 1.3],\n",
              "        [6.6, 3. , 4.4, 1.4],\n",
              "        [6.8, 2.8, 4.8, 1.4],\n",
              "        [6.7, 3. , 5. , 1.7],\n",
              "        [6. , 2.9, 4.5, 1.5],\n",
              "        [5.7, 2.6, 3.5, 1. ],\n",
              "        [5.5, 2.4, 3.8, 1.1],\n",
              "        [5.5, 2.4, 3.7, 1. ],\n",
              "        [5.8, 2.7, 3.9, 1.2],\n",
              "        [6. , 2.7, 5.1, 1.6],\n",
              "        [5.4, 3. , 4.5, 1.5],\n",
              "        [6. , 3.4, 4.5, 1.6],\n",
              "        [6.7, 3.1, 4.7, 1.5],\n",
              "        [6.3, 2.3, 4.4, 1.3],\n",
              "        [5.6, 3. , 4.1, 1.3],\n",
              "        [5.5, 2.5, 4. , 1.3],\n",
              "        [5.5, 2.6, 4.4, 1.2],\n",
              "        [6.1, 3. , 4.6, 1.4],\n",
              "        [5.8, 2.6, 4. , 1.2],\n",
              "        [5. , 2.3, 3.3, 1. ],\n",
              "        [5.6, 2.7, 4.2, 1.3],\n",
              "        [5.7, 3. , 4.2, 1.2],\n",
              "        [5.7, 2.9, 4.2, 1.3],\n",
              "        [6.2, 2.9, 4.3, 1.3],\n",
              "        [5.1, 2.5, 3. , 1.1],\n",
              "        [5.7, 2.8, 4.1, 1.3],\n",
              "        [6.3, 3.3, 6. , 2.5],\n",
              "        [5.8, 2.7, 5.1, 1.9],\n",
              "        [7.1, 3. , 5.9, 2.1],\n",
              "        [6.3, 2.9, 5.6, 1.8],\n",
              "        [6.5, 3. , 5.8, 2.2],\n",
              "        [7.6, 3. , 6.6, 2.1],\n",
              "        [4.9, 2.5, 4.5, 1.7],\n",
              "        [7.3, 2.9, 6.3, 1.8],\n",
              "        [6.7, 2.5, 5.8, 1.8],\n",
              "        [7.2, 3.6, 6.1, 2.5],\n",
              "        [6.5, 3.2, 5.1, 2. ],\n",
              "        [6.4, 2.7, 5.3, 1.9],\n",
              "        [6.8, 3. , 5.5, 2.1],\n",
              "        [5.7, 2.5, 5. , 2. ],\n",
              "        [5.8, 2.8, 5.1, 2.4],\n",
              "        [6.4, 3.2, 5.3, 2.3],\n",
              "        [6.5, 3. , 5.5, 1.8],\n",
              "        [7.7, 3.8, 6.7, 2.2],\n",
              "        [7.7, 2.6, 6.9, 2.3],\n",
              "        [6. , 2.2, 5. , 1.5],\n",
              "        [6.9, 3.2, 5.7, 2.3],\n",
              "        [5.6, 2.8, 4.9, 2. ],\n",
              "        [7.7, 2.8, 6.7, 2. ],\n",
              "        [6.3, 2.7, 4.9, 1.8],\n",
              "        [6.7, 3.3, 5.7, 2.1],\n",
              "        [7.2, 3.2, 6. , 1.8],\n",
              "        [6.2, 2.8, 4.8, 1.8],\n",
              "        [6.1, 3. , 4.9, 1.8],\n",
              "        [6.4, 2.8, 5.6, 2.1],\n",
              "        [7.2, 3. , 5.8, 1.6],\n",
              "        [7.4, 2.8, 6.1, 1.9],\n",
              "        [7.9, 3.8, 6.4, 2. ],\n",
              "        [6.4, 2.8, 5.6, 2.2],\n",
              "        [6.3, 2.8, 5.1, 1.5],\n",
              "        [6.1, 2.6, 5.6, 1.4],\n",
              "        [7.7, 3. , 6.1, 2.3],\n",
              "        [6.3, 3.4, 5.6, 2.4],\n",
              "        [6.4, 3.1, 5.5, 1.8],\n",
              "        [6. , 3. , 4.8, 1.8],\n",
              "        [6.9, 3.1, 5.4, 2.1],\n",
              "        [6.7, 3.1, 5.6, 2.4],\n",
              "        [6.9, 3.1, 5.1, 2.3],\n",
              "        [5.8, 2.7, 5.1, 1.9],\n",
              "        [6.8, 3.2, 5.9, 2.3],\n",
              "        [6.7, 3.3, 5.7, 2.5],\n",
              "        [6.7, 3. , 5.2, 2.3],\n",
              "        [6.3, 2.5, 5. , 1.9],\n",
              "        [6.5, 3. , 5.2, 2. ],\n",
              "        [6.2, 3.4, 5.4, 2.3],\n",
              "        [5.9, 3. , 5.1, 1.8]]),\n",
              " 'target': array([0, 0, 0, 0, 0, 0, 0, 0, 0, 0, 0, 0, 0, 0, 0, 0, 0, 0, 0, 0, 0, 0,\n",
              "        0, 0, 0, 0, 0, 0, 0, 0, 0, 0, 0, 0, 0, 0, 0, 0, 0, 0, 0, 0, 0, 0,\n",
              "        0, 0, 0, 0, 0, 0, 1, 1, 1, 1, 1, 1, 1, 1, 1, 1, 1, 1, 1, 1, 1, 1,\n",
              "        1, 1, 1, 1, 1, 1, 1, 1, 1, 1, 1, 1, 1, 1, 1, 1, 1, 1, 1, 1, 1, 1,\n",
              "        1, 1, 1, 1, 1, 1, 1, 1, 1, 1, 1, 1, 2, 2, 2, 2, 2, 2, 2, 2, 2, 2,\n",
              "        2, 2, 2, 2, 2, 2, 2, 2, 2, 2, 2, 2, 2, 2, 2, 2, 2, 2, 2, 2, 2, 2,\n",
              "        2, 2, 2, 2, 2, 2, 2, 2, 2, 2, 2, 2, 2, 2, 2, 2, 2, 2]),\n",
              " 'frame': None,\n",
              " 'target_names': array(['setosa', 'versicolor', 'virginica'], dtype='<U10'),\n",
              " 'DESCR': '.. _iris_dataset:\\n\\nIris plants dataset\\n--------------------\\n\\n**Data Set Characteristics:**\\n\\n    :Number of Instances: 150 (50 in each of three classes)\\n    :Number of Attributes: 4 numeric, predictive attributes and the class\\n    :Attribute Information:\\n        - sepal length in cm\\n        - sepal width in cm\\n        - petal length in cm\\n        - petal width in cm\\n        - class:\\n                - Iris-Setosa\\n                - Iris-Versicolour\\n                - Iris-Virginica\\n                \\n    :Summary Statistics:\\n\\n    ============== ==== ==== ======= ===== ====================\\n                    Min  Max   Mean    SD   Class Correlation\\n    ============== ==== ==== ======= ===== ====================\\n    sepal length:   4.3  7.9   5.84   0.83    0.7826\\n    sepal width:    2.0  4.4   3.05   0.43   -0.4194\\n    petal length:   1.0  6.9   3.76   1.76    0.9490  (high!)\\n    petal width:    0.1  2.5   1.20   0.76    0.9565  (high!)\\n    ============== ==== ==== ======= ===== ====================\\n\\n    :Missing Attribute Values: None\\n    :Class Distribution: 33.3% for each of 3 classes.\\n    :Creator: R.A. Fisher\\n    :Donor: Michael Marshall (MARSHALL%PLU@io.arc.nasa.gov)\\n    :Date: July, 1988\\n\\nThe famous Iris database, first used by Sir R.A. Fisher. The dataset is taken\\nfrom Fisher\\'s paper. Note that it\\'s the same as in R, but not as in the UCI\\nMachine Learning Repository, which has two wrong data points.\\n\\nThis is perhaps the best known database to be found in the\\npattern recognition literature.  Fisher\\'s paper is a classic in the field and\\nis referenced frequently to this day.  (See Duda & Hart, for example.)  The\\ndata set contains 3 classes of 50 instances each, where each class refers to a\\ntype of iris plant.  One class is linearly separable from the other 2; the\\nlatter are NOT linearly separable from each other.\\n\\n.. topic:: References\\n\\n   - Fisher, R.A. \"The use of multiple measurements in taxonomic problems\"\\n     Annual Eugenics, 7, Part II, 179-188 (1936); also in \"Contributions to\\n     Mathematical Statistics\" (John Wiley, NY, 1950).\\n   - Duda, R.O., & Hart, P.E. (1973) Pattern Classification and Scene Analysis.\\n     (Q327.D83) John Wiley & Sons.  ISBN 0-471-22361-1.  See page 218.\\n   - Dasarathy, B.V. (1980) \"Nosing Around the Neighborhood: A New System\\n     Structure and Classification Rule for Recognition in Partially Exposed\\n     Environments\".  IEEE Transactions on Pattern Analysis and Machine\\n     Intelligence, Vol. PAMI-2, No. 1, 67-71.\\n   - Gates, G.W. (1972) \"The Reduced Nearest Neighbor Rule\".  IEEE Transactions\\n     on Information Theory, May 1972, 431-433.\\n   - See also: 1988 MLC Proceedings, 54-64.  Cheeseman et al\"s AUTOCLASS II\\n     conceptual clustering system finds 3 classes in the data.\\n   - Many, many more ...',\n",
              " 'feature_names': ['sepal length (cm)',\n",
              "  'sepal width (cm)',\n",
              "  'petal length (cm)',\n",
              "  'petal width (cm)'],\n",
              " 'filename': 'iris.csv',\n",
              " 'data_module': 'sklearn.datasets.data'}"
            ]
          },
          "metadata": {},
          "execution_count": 30
        }
      ],
      "source": [
        "from sklearn.datasets import load_iris\n",
        "import pandas as pd\n",
        "import numpy as np\n",
        "\n",
        "# 붓꽃 데이터 셋트를 로딩\n",
        "iris = load_iris()    #iris의 품종 : [0:'setosa',1:'versicolor',2:'virginica']\n",
        "# print(iris)\n",
        "iris\n",
        "# X 피쳐만 추출: Features\n",
        "# iris_data = iris.data   #iris['data']\n",
        "# print(type(iris.data))\n",
        "# print(iris.data.shape) # (150, 4)\n",
        "\n",
        "# # Y 답(label)만 추출: target_Value\n",
        "# iris_label = iris.target\n",
        "\n",
        "# # Data Frame 만들기\n",
        "# iris_df = pd.DataFrame(data=iris_data, columns=iris.feature_names)\n",
        "# # iris_df = pd.DataFrame(data=iris['data'], columns=iris['feature_names'])\n",
        "# iris_df['label'] = iris_label  # # 예측(predict) 수행\n",
        "# iris_df.head()"
      ]
    },
    {
      "cell_type": "code",
      "source": [
        "iris_df.info()"
      ],
      "metadata": {
        "colab": {
          "base_uri": "https://localhost:8080/"
        },
        "id": "mFQqbzHAEf8b",
        "outputId": "156a0f0b-3ad6-4dd8-d436-05188391413b"
      },
      "id": "mFQqbzHAEf8b",
      "execution_count": 3,
      "outputs": [
        {
          "output_type": "stream",
          "name": "stdout",
          "text": [
            "<class 'pandas.core.frame.DataFrame'>\n",
            "RangeIndex: 150 entries, 0 to 149\n",
            "Data columns (total 5 columns):\n",
            " #   Column             Non-Null Count  Dtype  \n",
            "---  ------             --------------  -----  \n",
            " 0   sepal length (cm)  150 non-null    float64\n",
            " 1   sepal width (cm)   150 non-null    float64\n",
            " 2   petal length (cm)  150 non-null    float64\n",
            " 3   petal width (cm)   150 non-null    float64\n",
            " 4   label              150 non-null    int64  \n",
            "dtypes: float64(4), int64(1)\n",
            "memory usage: 6.0 KB\n"
          ]
        }
      ]
    },
    {
      "cell_type": "markdown",
      "id": "7ae650f3",
      "metadata": {
        "id": "7ae650f3"
      },
      "source": [
        "### 2.학습데이터 분류하고 분류 알고리즘 적용하여 학습모델(예측모델) 만들기"
      ]
    },
    {
      "cell_type": "markdown",
      "id": "101d86c0",
      "metadata": {
        "id": "101d86c0"
      },
      "source": [
        "#### 로지스틱 회귀 알고리즘 적용"
      ]
    },
    {
      "cell_type": "code",
      "execution_count": 36,
      "id": "22aeddd4",
      "metadata": {
        "colab": {
          "base_uri": "https://localhost:8080/"
        },
        "id": "22aeddd4",
        "outputId": "c408aa15-e840-4fbb-a9f7-410c6e59617c"
      },
      "outputs": [
        {
          "output_type": "stream",
          "name": "stdout",
          "text": [
            "예측: [2 2 1 1 2 0 1 0 0 1 1 1 1 2 2 0 2 1 2 2 1 0 0 1 0 0 2 1 0 1]\n",
            "실제: [2 2 2 1 2 0 1 0 0 1 2 1 1 2 2 0 2 1 2 2 1 0 0 1 0 0 2 1 0 1]\n",
            "정확도: 0.9333333333333333\n"
          ]
        }
      ],
      "source": [
        "from sklearn.model_selection import train_test_split\n",
        "from sklearn.linear_model import LogisticRegression\n",
        "from sklearn.metrics import accuracy_score\n",
        "# 학습데이터/테스트테이터 분리\n",
        "x_train,x_test,y_train,y_test = train_test_split(iris_data,iris_label,test_size=0.2,  # test_size:0.2(20%)\n",
        "                                                  random_state=11) # random seed 고정\n",
        "\n",
        "# 학습모델(분류) : 로지스틱 회귀\n",
        "model_lr = LogisticRegression()\n",
        "\n",
        "# 모델 훈련\n",
        "model_lr.fit(x_train, y_train)\n",
        "\n",
        "# 예측(predict) 수행하기\n",
        "y_pred_lr = model_lr.predict(x_test)\n",
        "print('예측:', y_pred_lr)\n",
        "\n",
        "# 실제데이터와 예측데이터 비교하기\n",
        "print('실제:', y_test)\n",
        "print(f'정확도: {accuracy_score(y_test, y_pred_lr)}')"
      ]
    },
    {
      "cell_type": "markdown",
      "id": "c4b77464",
      "metadata": {
        "id": "c4b77464"
      },
      "source": [
        "#### K-NN알고리즘 적용"
      ]
    },
    {
      "cell_type": "code",
      "execution_count": 37,
      "id": "8f3c6914",
      "metadata": {
        "colab": {
          "base_uri": "https://localhost:8080/"
        },
        "id": "8f3c6914",
        "outputId": "62d91790-31b5-461e-eed5-5bfe35d9e7d1"
      },
      "outputs": [
        {
          "output_type": "stream",
          "name": "stdout",
          "text": [
            "예측: [2 2 2 1 2 0 1 0 0 1 1 1 1 2 2 0 2 1 2 2 1 0 0 1 0 0 2 1 0 1]\n",
            "실제: [2 2 2 1 2 0 1 0 0 1 2 1 1 2 2 0 2 1 2 2 1 0 0 1 0 0 2 1 0 1]\n",
            "정확도: 0.9666666666666667\n"
          ]
        }
      ],
      "source": [
        "from sklearn.model_selection import train_test_split\n",
        "from sklearn.neighbors import KNeighborsClassifier\n",
        "from sklearn.metrics import accuracy_score\n",
        "\n",
        "# 학습데이터/테스트테이터 분리\n",
        "x_train,x_test,y_train,y_test = train_test_split(iris_data,iris_label,test_size=0.2,  # test_size:0.2(20%)\n",
        "                                                  random_state=11) # random seed 고정\n",
        "\n",
        "# 학습모델(분류) : KNN\n",
        "model_knn = KNeighborsClassifier(n_neighbors=5)\n",
        "\n",
        "# 모델 훈련\n",
        "model_knn.fit(x_train, y_train)\n",
        "\n",
        "# 예측(predict) 수행하기\n",
        "y_pred_knn = model_knn.predict(x_test)\n",
        "print('예측:', y_pred_knn)\n",
        "\n",
        "# 실제데이터와 예측데이터 비교하기\n",
        "print('실제:', y_test)\n",
        "\n",
        "# 평가 지표\n",
        "print(f'정확도: {accuracy_score(y_test, y_pred_knn)}')"
      ]
    },
    {
      "cell_type": "markdown",
      "id": "1d8fdbdc",
      "metadata": {
        "id": "1d8fdbdc"
      },
      "source": [
        "### 3. 모델 정확도 측정하기"
      ]
    },
    {
      "cell_type": "code",
      "execution_count": 22,
      "id": "4d5534e8",
      "metadata": {
        "colab": {
          "base_uri": "https://localhost:8080/"
        },
        "id": "4d5534e8",
        "outputId": "a0b45207-dc1a-44b0-db46-bc1b9ec3ab32"
      },
      "outputs": [
        {
          "output_type": "stream",
          "name": "stdout",
          "text": [
            "정확도(LR): 0.9666666666666667\n",
            "정확도(KNN): 0.9666666666666667\n",
            "roc_auc(LR): 0.9760765550239234\n",
            "roc_auc(KNN): 0.9760765550239234\n"
          ]
        }
      ],
      "source": [
        "# 정확도 측정 : accuracy\n",
        "from sklearn.metrics import accuracy_score, roc_curve, auc, classification_report\n",
        "\n",
        "# 정확도 출력하기 (로지스틱회귀, KNN)\n",
        "print(f'정확도(LR): {accuracy_score(y_test, y_pred_lr) }')\n",
        "print(f'정확도(KNN): {accuracy_score(y_test, y_pred_knn) }')\n",
        "\n",
        "# 로지스틱회귀 roc_auc :  출력하기\n",
        "fpr, tpr, thresholds =roc_curve(y_test, y_pred_lr , pos_label=2)\n",
        "print(f'roc_auc(LR): {auc(fpr, tpr)}')\n",
        "\n",
        "# KNN roc_auc :  출력하기\n",
        "fpr, tpr, thresholds =roc_curve(y_test, y_pred_lr , pos_label=2)\n",
        "print(f'roc_auc(KNN): {auc(fpr, tpr)}')\n"
      ]
    },
    {
      "cell_type": "markdown",
      "id": "e35112c5",
      "metadata": {
        "id": "e35112c5"
      },
      "source": [
        "### 4. 교차 검증하기(cross validation)"
      ]
    },
    {
      "cell_type": "code",
      "execution_count": 28,
      "id": "6ad6794f",
      "metadata": {
        "colab": {
          "base_uri": "https://localhost:8080/"
        },
        "id": "6ad6794f",
        "outputId": "1d7d9e1a-d4b5-494f-b2bf-84dfb841786b"
      },
      "outputs": [
        {
          "output_type": "stream",
          "name": "stdout",
          "text": [
            "교차 검증 정확도(LR): [0.98 0.98 0.98]\n",
            "교차 검증 정확도(KNN): [0.98 0.98 0.98]\n",
            "교차 검증 평균 정확도(LR): 0.98\n",
            "교차 검증 평균 정확도(KNN): 0.98\n"
          ]
        }
      ],
      "source": [
        "# 테스트 데이터에만 과적합 될 수 있으므로 데이터를 여러개로 나누어 테스트를 여러번 수행하여 평균 정확도를 구함\n",
        "from sklearn.model_selection import cross_val_score\n",
        "\n",
        "# 로지스틱회귀 교차 검증\n",
        "cv_score_lr = cross_val_score(model_lr, iris.data, iris.target,  # Estimator,X,Y값\n",
        "                           scoring='accuracy', cv = 3) # cv = 3, 3개로 쪼개어 검증(predict를 3회 수행)\n",
        "\n",
        "# KNN 교차 검증\n",
        "cv_score_knn = cross_val_score(model_knn, iris.data, iris.target,  # Estimator,X,Y값\n",
        "                           scoring='accuracy', cv = 3) # cv = 3, 3개로 쪼개어 검증(predict를 3회 수행)\n",
        "\n",
        "# 내부적으로 Stratified K-Fold 사용됨, 평가지표를 한개만 구할 수 있어서 StatifiedKFold사용 권장\n",
        "print('교차 검증 정확도(LR):',cv_score_lr)\n",
        "print('교차 검증 정확도(KNN):',cv_score_knn )\n",
        "print('교차 검증 평균 정확도(LR):',np.round(np.mean(cv_score_lr),4))    # 예측 한 결과의 정확도들의 평균\n",
        "print('교차 검증 평균 정확도(KNN):',np.round(np.mean(cv_score_knn),4) )"
      ]
    },
    {
      "cell_type": "markdown",
      "id": "db0a5386",
      "metadata": {
        "id": "db0a5386"
      },
      "source": [
        "### [실습문제] 고흐가 그린 붓꽃의 종류는 무엇일까?\n",
        "학습모델에 넣어  테스트데이터 예측하기"
      ]
    },
    {
      "cell_type": "code",
      "execution_count": 34,
      "id": "cabe9269",
      "metadata": {
        "colab": {
          "base_uri": "https://localhost:8080/"
        },
        "id": "cabe9269",
        "outputId": "f35ff31d-81fc-4cec-a6fd-8c2b3336fbe3"
      },
      "outputs": [
        {
          "output_type": "stream",
          "name": "stdout",
          "text": [
            "예측(KNN):[0 0 2]\n",
            "고흐의 붓꽃데이터 결과는? :\n",
            "[2.7, 2.4, 1.64, 0.67]: 0->setosa\n",
            "[2.7, 2.4, 1.64, 0.67]: 0->setosa\n",
            "[5.8, 2.7, 5.1, 1.9]: 2->virginica\n"
          ]
        }
      ],
      "source": [
        "# 그림에서 수집한 데이터\n",
        "my = [[2.7, 2.4, 1.64, 0.67 ],[5.84, 5.84, 3, 2.16],[5.8, 2.7, 5.1, 1.9]]\n",
        "X_test = np.array(my)\n",
        "\n",
        "# K-NN을 이용한 예측(predict) 수행\n",
        "y_pred_knn_my = model_knn.predict(X_test)\n",
        "print(f'예측(KNN):{y_pred_knn_my}')\n",
        "\n",
        "# 분류 결과 출력하기\n",
        "print('고흐의 붓꽃데이터 결과는? :')\n",
        "\n",
        "name ={0:'setosa',1: 'versicolor',2: 'virginica'}\n",
        "for i in y_pred_knn_my:\n",
        "    print(f'{my[i]}: {i}->{name[i]}')"
      ]
    },
    {
      "cell_type": "markdown",
      "id": "dbf74dde",
      "metadata": {
        "id": "dbf74dde"
      },
      "source": [
        "-------------------"
      ]
    },
    {
      "cell_type": "markdown",
      "id": "13f4a68a",
      "metadata": {
        "id": "13f4a68a"
      },
      "source": [
        "끝"
      ]
    }
  ],
  "metadata": {
    "kernelspec": {
      "display_name": "Python 3 (ipykernel)",
      "language": "python",
      "name": "python3"
    },
    "language_info": {
      "codemirror_mode": {
        "name": "ipython",
        "version": 3
      },
      "file_extension": ".py",
      "mimetype": "text/x-python",
      "name": "python",
      "nbconvert_exporter": "python",
      "pygments_lexer": "ipython3",
      "version": "3.10.9"
    },
    "colab": {
      "provenance": [],
      "include_colab_link": true
    }
  },
  "nbformat": 4,
  "nbformat_minor": 5
}