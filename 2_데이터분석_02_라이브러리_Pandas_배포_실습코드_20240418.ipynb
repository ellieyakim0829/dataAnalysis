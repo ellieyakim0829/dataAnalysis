{
  "cells": [
    {
      "cell_type": "markdown",
      "metadata": {
        "id": "view-in-github",
        "colab_type": "text"
      },
      "source": [
        "<a href=\"https://colab.research.google.com/github/ellieyakim0829/dataAnalysis/blob/main/2_%EB%8D%B0%EC%9D%B4%ED%84%B0%EB%B6%84%EC%84%9D_02_%EB%9D%BC%EC%9D%B4%EB%B8%8C%EB%9F%AC%EB%A6%AC_Pandas_%EB%B0%B0%ED%8F%AC_%EC%8B%A4%EC%8A%B5%EC%BD%94%EB%93%9C_20240418.ipynb\" target=\"_parent\"><img src=\"https://colab.research.google.com/assets/colab-badge.svg\" alt=\"Open In Colab\"/></a>"
      ]
    },
    {
      "cell_type": "markdown",
      "id": "6c983c03",
      "metadata": {
        "id": "6c983c03"
      },
      "source": [
        "# Pandas\n",
        "교재: 데이터 과학을 위한 파이썬 머신러닝(Chapter4)"
      ]
    },
    {
      "cell_type": "markdown",
      "id": "9476178e",
      "metadata": {
        "id": "9476178e"
      },
      "source": [
        "- <a href=\"#04.1판다스란\">04.1 판다스란</a>\n",
        "- <a href=\"#04.2데이터추출\">04.2 데이터 추출</a>\n",
        "- <a href=\"#04.3그룹별집계\">04.3 그룹별 집계</a>\n",
        "- <a href=\"#04.4병합과연결\">04.4 병합과 연결</a>"
      ]
    },
    {
      "cell_type": "markdown",
      "id": "330e9146",
      "metadata": {
        "id": "330e9146"
      },
      "source": [
        "---------------"
      ]
    },
    {
      "cell_type": "markdown",
      "id": "ae42aa8f",
      "metadata": {
        "id": "ae42aa8f"
      },
      "source": [
        "\n",
        "!pip install pandas"
      ]
    },
    {
      "cell_type": "markdown",
      "id": "07cd7ca1",
      "metadata": {
        "id": "07cd7ca1"
      },
      "source": [
        "### 라이브러리 설치"
      ]
    },
    {
      "cell_type": "code",
      "execution_count": null,
      "id": "10194609",
      "metadata": {
        "id": "10194609",
        "outputId": "699ca94a-90d2-4ed5-a9f6-f1cdc29cbac5"
      },
      "outputs": [
        {
          "data": {
            "text/plain": [
              "'2.2.2'"
            ]
          },
          "execution_count": 4,
          "metadata": {},
          "output_type": "execute_result"
        }
      ],
      "source": [
        "import pandas as pd\n",
        "pd.__version__"
      ]
    },
    {
      "cell_type": "code",
      "execution_count": null,
      "id": "13fe60b5",
      "metadata": {
        "scrolled": true,
        "id": "13fe60b5",
        "outputId": "2fda6f70-bad7-46c7-88b4-1d2181109644"
      },
      "outputs": [
        {
          "ename": "FileNotFoundError",
          "evalue": "[Errno 2] No such file or directory: './data/book.txt'",
          "output_type": "error",
          "traceback": [
            "\u001b[1;31m---------------------------------------------------------------------------\u001b[0m",
            "\u001b[1;31mFileNotFoundError\u001b[0m                         Traceback (most recent call last)",
            "Cell \u001b[1;32mIn[11], line 2\u001b[0m\n\u001b[0;32m      1\u001b[0m \u001b[38;5;28;01mimport\u001b[39;00m \u001b[38;5;21;01mpandas\u001b[39;00m \u001b[38;5;28;01mas\u001b[39;00m \u001b[38;5;21;01mpd\u001b[39;00m\n\u001b[1;32m----> 2\u001b[0m df \u001b[38;5;241m=\u001b[39m\u001b[43mpd\u001b[49m\u001b[38;5;241;43m.\u001b[39;49m\u001b[43mread_table\u001b[49m\u001b[43m(\u001b[49m\u001b[38;5;124;43m'\u001b[39;49m\u001b[38;5;124;43m./data/book.txt\u001b[39;49m\u001b[38;5;124;43m'\u001b[39;49m\u001b[43m)\u001b[49m\n",
            "File \u001b[1;32mc:\\python\\Python312\\Lib\\site-packages\\pandas\\io\\parsers\\readers.py:1405\u001b[0m, in \u001b[0;36mread_table\u001b[1;34m(filepath_or_buffer, sep, delimiter, header, names, index_col, usecols, dtype, engine, converters, true_values, false_values, skipinitialspace, skiprows, skipfooter, nrows, na_values, keep_default_na, na_filter, verbose, skip_blank_lines, parse_dates, infer_datetime_format, keep_date_col, date_parser, date_format, dayfirst, cache_dates, iterator, chunksize, compression, thousands, decimal, lineterminator, quotechar, quoting, doublequote, escapechar, comment, encoding, encoding_errors, dialect, on_bad_lines, delim_whitespace, low_memory, memory_map, float_precision, storage_options, dtype_backend)\u001b[0m\n\u001b[0;32m   1392\u001b[0m kwds_defaults \u001b[38;5;241m=\u001b[39m _refine_defaults_read(\n\u001b[0;32m   1393\u001b[0m     dialect,\n\u001b[0;32m   1394\u001b[0m     delimiter,\n\u001b[1;32m   (...)\u001b[0m\n\u001b[0;32m   1401\u001b[0m     dtype_backend\u001b[38;5;241m=\u001b[39mdtype_backend,\n\u001b[0;32m   1402\u001b[0m )\n\u001b[0;32m   1403\u001b[0m kwds\u001b[38;5;241m.\u001b[39mupdate(kwds_defaults)\n\u001b[1;32m-> 1405\u001b[0m \u001b[38;5;28;01mreturn\u001b[39;00m \u001b[43m_read\u001b[49m\u001b[43m(\u001b[49m\u001b[43mfilepath_or_buffer\u001b[49m\u001b[43m,\u001b[49m\u001b[43m \u001b[49m\u001b[43mkwds\u001b[49m\u001b[43m)\u001b[49m\n",
            "File \u001b[1;32mc:\\python\\Python312\\Lib\\site-packages\\pandas\\io\\parsers\\readers.py:620\u001b[0m, in \u001b[0;36m_read\u001b[1;34m(filepath_or_buffer, kwds)\u001b[0m\n\u001b[0;32m    617\u001b[0m _validate_names(kwds\u001b[38;5;241m.\u001b[39mget(\u001b[38;5;124m\"\u001b[39m\u001b[38;5;124mnames\u001b[39m\u001b[38;5;124m\"\u001b[39m, \u001b[38;5;28;01mNone\u001b[39;00m))\n\u001b[0;32m    619\u001b[0m \u001b[38;5;66;03m# Create the parser.\u001b[39;00m\n\u001b[1;32m--> 620\u001b[0m parser \u001b[38;5;241m=\u001b[39m \u001b[43mTextFileReader\u001b[49m\u001b[43m(\u001b[49m\u001b[43mfilepath_or_buffer\u001b[49m\u001b[43m,\u001b[49m\u001b[43m \u001b[49m\u001b[38;5;241;43m*\u001b[39;49m\u001b[38;5;241;43m*\u001b[39;49m\u001b[43mkwds\u001b[49m\u001b[43m)\u001b[49m\n\u001b[0;32m    622\u001b[0m \u001b[38;5;28;01mif\u001b[39;00m chunksize \u001b[38;5;129;01mor\u001b[39;00m iterator:\n\u001b[0;32m    623\u001b[0m     \u001b[38;5;28;01mreturn\u001b[39;00m parser\n",
            "File \u001b[1;32mc:\\python\\Python312\\Lib\\site-packages\\pandas\\io\\parsers\\readers.py:1620\u001b[0m, in \u001b[0;36mTextFileReader.__init__\u001b[1;34m(self, f, engine, **kwds)\u001b[0m\n\u001b[0;32m   1617\u001b[0m     \u001b[38;5;28mself\u001b[39m\u001b[38;5;241m.\u001b[39moptions[\u001b[38;5;124m\"\u001b[39m\u001b[38;5;124mhas_index_names\u001b[39m\u001b[38;5;124m\"\u001b[39m] \u001b[38;5;241m=\u001b[39m kwds[\u001b[38;5;124m\"\u001b[39m\u001b[38;5;124mhas_index_names\u001b[39m\u001b[38;5;124m\"\u001b[39m]\n\u001b[0;32m   1619\u001b[0m \u001b[38;5;28mself\u001b[39m\u001b[38;5;241m.\u001b[39mhandles: IOHandles \u001b[38;5;241m|\u001b[39m \u001b[38;5;28;01mNone\u001b[39;00m \u001b[38;5;241m=\u001b[39m \u001b[38;5;28;01mNone\u001b[39;00m\n\u001b[1;32m-> 1620\u001b[0m \u001b[38;5;28mself\u001b[39m\u001b[38;5;241m.\u001b[39m_engine \u001b[38;5;241m=\u001b[39m \u001b[38;5;28;43mself\u001b[39;49m\u001b[38;5;241;43m.\u001b[39;49m\u001b[43m_make_engine\u001b[49m\u001b[43m(\u001b[49m\u001b[43mf\u001b[49m\u001b[43m,\u001b[49m\u001b[43m \u001b[49m\u001b[38;5;28;43mself\u001b[39;49m\u001b[38;5;241;43m.\u001b[39;49m\u001b[43mengine\u001b[49m\u001b[43m)\u001b[49m\n",
            "File \u001b[1;32mc:\\python\\Python312\\Lib\\site-packages\\pandas\\io\\parsers\\readers.py:1880\u001b[0m, in \u001b[0;36mTextFileReader._make_engine\u001b[1;34m(self, f, engine)\u001b[0m\n\u001b[0;32m   1878\u001b[0m     \u001b[38;5;28;01mif\u001b[39;00m \u001b[38;5;124m\"\u001b[39m\u001b[38;5;124mb\u001b[39m\u001b[38;5;124m\"\u001b[39m \u001b[38;5;129;01mnot\u001b[39;00m \u001b[38;5;129;01min\u001b[39;00m mode:\n\u001b[0;32m   1879\u001b[0m         mode \u001b[38;5;241m+\u001b[39m\u001b[38;5;241m=\u001b[39m \u001b[38;5;124m\"\u001b[39m\u001b[38;5;124mb\u001b[39m\u001b[38;5;124m\"\u001b[39m\n\u001b[1;32m-> 1880\u001b[0m \u001b[38;5;28mself\u001b[39m\u001b[38;5;241m.\u001b[39mhandles \u001b[38;5;241m=\u001b[39m \u001b[43mget_handle\u001b[49m\u001b[43m(\u001b[49m\n\u001b[0;32m   1881\u001b[0m \u001b[43m    \u001b[49m\u001b[43mf\u001b[49m\u001b[43m,\u001b[49m\n\u001b[0;32m   1882\u001b[0m \u001b[43m    \u001b[49m\u001b[43mmode\u001b[49m\u001b[43m,\u001b[49m\n\u001b[0;32m   1883\u001b[0m \u001b[43m    \u001b[49m\u001b[43mencoding\u001b[49m\u001b[38;5;241;43m=\u001b[39;49m\u001b[38;5;28;43mself\u001b[39;49m\u001b[38;5;241;43m.\u001b[39;49m\u001b[43moptions\u001b[49m\u001b[38;5;241;43m.\u001b[39;49m\u001b[43mget\u001b[49m\u001b[43m(\u001b[49m\u001b[38;5;124;43m\"\u001b[39;49m\u001b[38;5;124;43mencoding\u001b[39;49m\u001b[38;5;124;43m\"\u001b[39;49m\u001b[43m,\u001b[49m\u001b[43m \u001b[49m\u001b[38;5;28;43;01mNone\u001b[39;49;00m\u001b[43m)\u001b[49m\u001b[43m,\u001b[49m\n\u001b[0;32m   1884\u001b[0m \u001b[43m    \u001b[49m\u001b[43mcompression\u001b[49m\u001b[38;5;241;43m=\u001b[39;49m\u001b[38;5;28;43mself\u001b[39;49m\u001b[38;5;241;43m.\u001b[39;49m\u001b[43moptions\u001b[49m\u001b[38;5;241;43m.\u001b[39;49m\u001b[43mget\u001b[49m\u001b[43m(\u001b[49m\u001b[38;5;124;43m\"\u001b[39;49m\u001b[38;5;124;43mcompression\u001b[39;49m\u001b[38;5;124;43m\"\u001b[39;49m\u001b[43m,\u001b[49m\u001b[43m \u001b[49m\u001b[38;5;28;43;01mNone\u001b[39;49;00m\u001b[43m)\u001b[49m\u001b[43m,\u001b[49m\n\u001b[0;32m   1885\u001b[0m \u001b[43m    \u001b[49m\u001b[43mmemory_map\u001b[49m\u001b[38;5;241;43m=\u001b[39;49m\u001b[38;5;28;43mself\u001b[39;49m\u001b[38;5;241;43m.\u001b[39;49m\u001b[43moptions\u001b[49m\u001b[38;5;241;43m.\u001b[39;49m\u001b[43mget\u001b[49m\u001b[43m(\u001b[49m\u001b[38;5;124;43m\"\u001b[39;49m\u001b[38;5;124;43mmemory_map\u001b[39;49m\u001b[38;5;124;43m\"\u001b[39;49m\u001b[43m,\u001b[49m\u001b[43m \u001b[49m\u001b[38;5;28;43;01mFalse\u001b[39;49;00m\u001b[43m)\u001b[49m\u001b[43m,\u001b[49m\n\u001b[0;32m   1886\u001b[0m \u001b[43m    \u001b[49m\u001b[43mis_text\u001b[49m\u001b[38;5;241;43m=\u001b[39;49m\u001b[43mis_text\u001b[49m\u001b[43m,\u001b[49m\n\u001b[0;32m   1887\u001b[0m \u001b[43m    \u001b[49m\u001b[43merrors\u001b[49m\u001b[38;5;241;43m=\u001b[39;49m\u001b[38;5;28;43mself\u001b[39;49m\u001b[38;5;241;43m.\u001b[39;49m\u001b[43moptions\u001b[49m\u001b[38;5;241;43m.\u001b[39;49m\u001b[43mget\u001b[49m\u001b[43m(\u001b[49m\u001b[38;5;124;43m\"\u001b[39;49m\u001b[38;5;124;43mencoding_errors\u001b[39;49m\u001b[38;5;124;43m\"\u001b[39;49m\u001b[43m,\u001b[49m\u001b[43m \u001b[49m\u001b[38;5;124;43m\"\u001b[39;49m\u001b[38;5;124;43mstrict\u001b[39;49m\u001b[38;5;124;43m\"\u001b[39;49m\u001b[43m)\u001b[49m\u001b[43m,\u001b[49m\n\u001b[0;32m   1888\u001b[0m \u001b[43m    \u001b[49m\u001b[43mstorage_options\u001b[49m\u001b[38;5;241;43m=\u001b[39;49m\u001b[38;5;28;43mself\u001b[39;49m\u001b[38;5;241;43m.\u001b[39;49m\u001b[43moptions\u001b[49m\u001b[38;5;241;43m.\u001b[39;49m\u001b[43mget\u001b[49m\u001b[43m(\u001b[49m\u001b[38;5;124;43m\"\u001b[39;49m\u001b[38;5;124;43mstorage_options\u001b[39;49m\u001b[38;5;124;43m\"\u001b[39;49m\u001b[43m,\u001b[49m\u001b[43m \u001b[49m\u001b[38;5;28;43;01mNone\u001b[39;49;00m\u001b[43m)\u001b[49m\u001b[43m,\u001b[49m\n\u001b[0;32m   1889\u001b[0m \u001b[43m\u001b[49m\u001b[43m)\u001b[49m\n\u001b[0;32m   1890\u001b[0m \u001b[38;5;28;01massert\u001b[39;00m \u001b[38;5;28mself\u001b[39m\u001b[38;5;241m.\u001b[39mhandles \u001b[38;5;129;01mis\u001b[39;00m \u001b[38;5;129;01mnot\u001b[39;00m \u001b[38;5;28;01mNone\u001b[39;00m\n\u001b[0;32m   1891\u001b[0m f \u001b[38;5;241m=\u001b[39m \u001b[38;5;28mself\u001b[39m\u001b[38;5;241m.\u001b[39mhandles\u001b[38;5;241m.\u001b[39mhandle\n",
            "File \u001b[1;32mc:\\python\\Python312\\Lib\\site-packages\\pandas\\io\\common.py:873\u001b[0m, in \u001b[0;36mget_handle\u001b[1;34m(path_or_buf, mode, encoding, compression, memory_map, is_text, errors, storage_options)\u001b[0m\n\u001b[0;32m    868\u001b[0m \u001b[38;5;28;01melif\u001b[39;00m \u001b[38;5;28misinstance\u001b[39m(handle, \u001b[38;5;28mstr\u001b[39m):\n\u001b[0;32m    869\u001b[0m     \u001b[38;5;66;03m# Check whether the filename is to be opened in binary mode.\u001b[39;00m\n\u001b[0;32m    870\u001b[0m     \u001b[38;5;66;03m# Binary mode does not support 'encoding' and 'newline'.\u001b[39;00m\n\u001b[0;32m    871\u001b[0m     \u001b[38;5;28;01mif\u001b[39;00m ioargs\u001b[38;5;241m.\u001b[39mencoding \u001b[38;5;129;01mand\u001b[39;00m \u001b[38;5;124m\"\u001b[39m\u001b[38;5;124mb\u001b[39m\u001b[38;5;124m\"\u001b[39m \u001b[38;5;129;01mnot\u001b[39;00m \u001b[38;5;129;01min\u001b[39;00m ioargs\u001b[38;5;241m.\u001b[39mmode:\n\u001b[0;32m    872\u001b[0m         \u001b[38;5;66;03m# Encoding\u001b[39;00m\n\u001b[1;32m--> 873\u001b[0m         handle \u001b[38;5;241m=\u001b[39m \u001b[38;5;28;43mopen\u001b[39;49m\u001b[43m(\u001b[49m\n\u001b[0;32m    874\u001b[0m \u001b[43m            \u001b[49m\u001b[43mhandle\u001b[49m\u001b[43m,\u001b[49m\n\u001b[0;32m    875\u001b[0m \u001b[43m            \u001b[49m\u001b[43mioargs\u001b[49m\u001b[38;5;241;43m.\u001b[39;49m\u001b[43mmode\u001b[49m\u001b[43m,\u001b[49m\n\u001b[0;32m    876\u001b[0m \u001b[43m            \u001b[49m\u001b[43mencoding\u001b[49m\u001b[38;5;241;43m=\u001b[39;49m\u001b[43mioargs\u001b[49m\u001b[38;5;241;43m.\u001b[39;49m\u001b[43mencoding\u001b[49m\u001b[43m,\u001b[49m\n\u001b[0;32m    877\u001b[0m \u001b[43m            \u001b[49m\u001b[43merrors\u001b[49m\u001b[38;5;241;43m=\u001b[39;49m\u001b[43merrors\u001b[49m\u001b[43m,\u001b[49m\n\u001b[0;32m    878\u001b[0m \u001b[43m            \u001b[49m\u001b[43mnewline\u001b[49m\u001b[38;5;241;43m=\u001b[39;49m\u001b[38;5;124;43m\"\u001b[39;49m\u001b[38;5;124;43m\"\u001b[39;49m\u001b[43m,\u001b[49m\n\u001b[0;32m    879\u001b[0m \u001b[43m        \u001b[49m\u001b[43m)\u001b[49m\n\u001b[0;32m    880\u001b[0m     \u001b[38;5;28;01melse\u001b[39;00m:\n\u001b[0;32m    881\u001b[0m         \u001b[38;5;66;03m# Binary mode\u001b[39;00m\n\u001b[0;32m    882\u001b[0m         handle \u001b[38;5;241m=\u001b[39m \u001b[38;5;28mopen\u001b[39m(handle, ioargs\u001b[38;5;241m.\u001b[39mmode)\n",
            "\u001b[1;31mFileNotFoundError\u001b[0m: [Errno 2] No such file or directory: './data/book.txt'"
          ]
        }
      ],
      "source": [
        "import pandas as pd\n",
        "df =pd.read_table('./data/book.txt')"
      ]
    },
    {
      "cell_type": "markdown",
      "id": "455016db",
      "metadata": {
        "id": "455016db"
      },
      "source": [
        "------------------------------"
      ]
    },
    {
      "cell_type": "markdown",
      "id": "dd312d9d",
      "metadata": {
        "id": "dd312d9d"
      },
      "source": [
        "## <a name=\"04.1판다스란\">04.1 판다스란</a>"
      ]
    },
    {
      "cell_type": "markdown",
      "id": "eba0ff10",
      "metadata": {
        "id": "eba0ff10"
      },
      "source": [
        "### 1. 판다스의 개념\n",
        "- https://pandas.pydata.org/\n",
        "- 파이썬의 데이터 분석 라이브러리\n",
        "- 데이터 테이블(data table)을 다루는 도구\n",
        "- 넘파이를 사용, 판다스는 넘파이를 효율적으로 사용하기 위해 인덱싱, 연산, 전처리 등 다양한 함수 제공\n",
        "- **데이터프레임(DataFrame)** : 데이터 테이블 전체 객체\n",
        "- **시리즈(Series)** : 각 열 데이터를 다루는 객체\n",
        "- 10 minutes to pandas : https://pandas.pydata.org/docs/user_guide/10min.html"
      ]
    },
    {
      "cell_type": "markdown",
      "id": "c8a48e86",
      "metadata": {
        "id": "c8a48e86"
      },
      "source": [
        "### 2. 시리즈 객체\n",
        "- 피쳐 벡터(feature vector)와 같은 개념\n",
        "- 데이터프레임(DataFrame) 안에 포함된 열(colume)들을 지칭할 수 있음\n",
        "- list, dict, ndarray 등 다양한 데이터 타입이 시리즈 객체 형태로 변환되기도 함"
      ]
    },
    {
      "cell_type": "markdown",
      "id": "fb78336b",
      "metadata": {
        "id": "fb78336b"
      },
      "source": [
        "### [예제] Series 객체"
      ]
    },
    {
      "cell_type": "code",
      "execution_count": null,
      "id": "c9db6096",
      "metadata": {
        "id": "c9db6096"
      },
      "outputs": [],
      "source": [
        "# from pandas import Series\n",
        "\n"
      ]
    },
    {
      "cell_type": "markdown",
      "id": "ed88770b",
      "metadata": {
        "id": "ed88770b"
      },
      "source": [
        "### Series 객체 생성\n",
        "- 판다스의 모든 객체는 인덱스 값을 기준으로 생성"
      ]
    },
    {
      "cell_type": "code",
      "execution_count": null,
      "id": "f13952a6",
      "metadata": {
        "id": "f13952a6"
      },
      "outputs": [],
      "source": [
        "dict_data = {\"a\":1, \"b\":2, \"c\":3, \"d\":4, \"e\":5}\n"
      ]
    },
    {
      "cell_type": "code",
      "execution_count": null,
      "id": "1b99e493",
      "metadata": {
        "scrolled": true,
        "id": "1b99e493"
      },
      "outputs": [],
      "source": [
        "dict_data = {\"a\":1, \"b\":2, \"c\":3, \"d\":4, \"e\":5}\n"
      ]
    },
    {
      "cell_type": "markdown",
      "id": "53efb3ba",
      "metadata": {
        "id": "53efb3ba"
      },
      "source": [
        "------------------"
      ]
    },
    {
      "cell_type": "markdown",
      "id": "9969a1c0",
      "metadata": {
        "id": "9969a1c0"
      },
      "source": [
        "### 3. 데이터프레임 객체\n",
        "- 데이터 테이블 전체를 지칭하는 객체\n",
        "- 넘파이 배열의 특성을 그대로 가짐\n",
        "- 인덱싱 : 열과 행 각각 사용하여 하나의 데이터에 접근"
      ]
    },
    {
      "cell_type": "markdown",
      "id": "13e63980",
      "metadata": {
        "id": "13e63980"
      },
      "source": [
        "### [예제] Pandas로 다양한 파일 읽어오기"
      ]
    },
    {
      "cell_type": "markdown",
      "id": "434b662f",
      "metadata": {
        "id": "434b662f"
      },
      "source": [
        "#### 1.txt 데이터 Pandas DataFrame으로 나타내기"
      ]
    },
    {
      "cell_type": "code",
      "execution_count": null,
      "id": "46c555bd",
      "metadata": {
        "id": "46c555bd"
      },
      "outputs": [],
      "source": [
        "\n"
      ]
    },
    {
      "cell_type": "markdown",
      "id": "c96e8007",
      "metadata": {
        "id": "c96e8007"
      },
      "source": [
        "#### 2.csv 데이터 Pandas DataFrame으로 나타내기"
      ]
    },
    {
      "cell_type": "code",
      "execution_count": null,
      "id": "767c72d3",
      "metadata": {
        "id": "767c72d3"
      },
      "outputs": [],
      "source": []
    },
    {
      "cell_type": "markdown",
      "id": "t0wTzAduO6hk",
      "metadata": {
        "id": "t0wTzAduO6hk"
      },
      "source": [
        "#### 3.Excel 시트 Pandas DataFrame으로 나타내기"
      ]
    },
    {
      "cell_type": "code",
      "execution_count": null,
      "id": "a3c7dcb7",
      "metadata": {
        "id": "a3c7dcb7"
      },
      "outputs": [],
      "source": [
        "!pip install openpyxl"
      ]
    },
    {
      "cell_type": "markdown",
      "id": "nDna7CDnSoPY",
      "metadata": {
        "id": "nDna7CDnSoPY"
      },
      "source": [
        "##### 1.전체 시트(sheet) 가져오기"
      ]
    },
    {
      "cell_type": "code",
      "execution_count": null,
      "id": "6R4Agf3uO32N",
      "metadata": {
        "id": "6R4Agf3uO32N"
      },
      "outputs": [],
      "source": [
        "import pandas as pd\n",
        "\n",
        "# 전체 시트 가져오기\n",
        "# 시트가 여러개 일 경우 딕셔너리 형태로 나타난다.\n"
      ]
    },
    {
      "cell_type": "markdown",
      "id": "foTGCoMTTSEx",
      "metadata": {
        "id": "foTGCoMTTSEx"
      },
      "source": [
        "##### 2.특정 시트(sheet) 가져오기"
      ]
    },
    {
      "cell_type": "code",
      "execution_count": null,
      "id": "a81OQvEeTSvp",
      "metadata": {
        "id": "a81OQvEeTSvp"
      },
      "outputs": [],
      "source": [
        "# 특정 시트 가져오기\n"
      ]
    },
    {
      "cell_type": "markdown",
      "id": "2LfA2DJXTTPW",
      "metadata": {
        "id": "2LfA2DJXTTPW"
      },
      "source": [
        "##### 3.여러 시트(sheet) 가져오기"
      ]
    },
    {
      "cell_type": "code",
      "execution_count": null,
      "id": "ulUDC-jtTThG",
      "metadata": {
        "id": "ulUDC-jtTThG"
      },
      "outputs": [],
      "source": [
        "# 여러 시트 가져오기: 시트 이름으로 가져오기\n"
      ]
    },
    {
      "cell_type": "code",
      "execution_count": null,
      "id": "WpFPWWAcWRb7",
      "metadata": {
        "id": "WpFPWWAcWRb7"
      },
      "outputs": [],
      "source": [
        "# 여러 시트 가져오기: 시트 번호로 가져오기 (0번부터 시작)\n"
      ]
    },
    {
      "cell_type": "markdown",
      "id": "432937e7",
      "metadata": {
        "id": "432937e7"
      },
      "source": [
        "#### 4.Remote URL의 CSV 데이터 Pandas DataFrame으로 나타내기"
      ]
    },
    {
      "cell_type": "code",
      "execution_count": null,
      "id": "2065b3dd",
      "metadata": {
        "id": "2065b3dd",
        "scrolled": false
      },
      "outputs": [],
      "source": [
        "url = 'https://archive.ics.uci.edu/ml/machine-learning-databases/iris/iris.data'\n"
      ]
    },
    {
      "cell_type": "markdown",
      "id": "3f80fd08",
      "metadata": {
        "id": "3f80fd08"
      },
      "source": [
        "### 1. 데이터프레임 생성\n",
        "- 2차원 리스트 타입으로 만들기\n",
        "- 딕셔너리 타입으로 만들기 :  키(key)는 열 이름, 값(value)은 시퀀스형 데이터 타입을 넣어 각 열의 데이터로 만듦\n"
      ]
    },
    {
      "cell_type": "code",
      "execution_count": null,
      "id": "22d193d6",
      "metadata": {
        "id": "22d193d6"
      },
      "outputs": [],
      "source": [
        "# 2차원 리스트 타입으로 DataFrame 만들기\n",
        "raw_data = [['Jason','Miller', 42, 'San Francisco'],\n",
        "            ['Molly', 'Jacobson', 52, 'Baltimore'],\n",
        "            ['Tina', 'Ali', 36, 'Miami'],\n",
        "            ['Jake', 'Milner', 24, 'Douglas'],\n",
        "            ['Amy', 'Cooze', 73, 'Boston']]\n"
      ]
    },
    {
      "cell_type": "code",
      "execution_count": null,
      "id": "e79fa185",
      "metadata": {
        "id": "e79fa185"
      },
      "outputs": [],
      "source": [
        "# 딕셔너리 타입으로 DataFrame 만들기\n",
        "raw_data = {'first_name': ['Jason', 'Molly', 'Tina', 'Jake', 'Amy'],\n",
        "            'last_name': ['Miller', 'Jacobson', 'Ali', 'Milner', 'Cooze'],\n",
        "            'age': [42, 52, 36, 24, 73],\n",
        "            'city': ['San Francisco', 'Baltimore', 'Miami', 'Douglas', 'Boston']}\n"
      ]
    },
    {
      "cell_type": "markdown",
      "id": "b6987056",
      "metadata": {
        "id": "b6987056"
      },
      "source": [
        "### 2. 데이터프레임의 열 다루기"
      ]
    },
    {
      "cell_type": "code",
      "execution_count": null,
      "id": "28a91fc2",
      "metadata": {
        "id": "28a91fc2"
      },
      "outputs": [],
      "source": [
        "# 데이터 생성시, 딕셔너리 데이터에서 열(Key) 이름을 한정하면 해당 열만 추출\n",
        "\n"
      ]
    },
    {
      "cell_type": "code",
      "execution_count": null,
      "id": "645c82d0",
      "metadata": {
        "id": "645c82d0"
      },
      "outputs": [],
      "source": [
        "# 데이터가 존재하지 않는 열을 추가하면 해당 열에는 NaN 값들 추가\n"
      ]
    },
    {
      "cell_type": "markdown",
      "id": "a326a44e",
      "metadata": {
        "id": "a326a44e"
      },
      "source": [
        "-----------------"
      ]
    },
    {
      "cell_type": "markdown",
      "id": "7c78c97e",
      "metadata": {
        "id": "7c78c97e"
      },
      "source": [
        "## <a name=\"04.2데이터추출\">04.2 데이터 추출</a>"
      ]
    },
    {
      "cell_type": "markdown",
      "id": "1867211e",
      "metadata": {
        "id": "1867211e"
      },
      "source": [
        "### 1. 데이터 로딩"
      ]
    },
    {
      "cell_type": "code",
      "execution_count": null,
      "id": "244eb5a6",
      "metadata": {
        "id": "244eb5a6"
      },
      "outputs": [],
      "source": []
    },
    {
      "cell_type": "markdown",
      "id": "196a3b11",
      "metadata": {
        "id": "196a3b11"
      },
      "source": [
        "### 2. 열 이름을 사용한 데이터 추출"
      ]
    },
    {
      "cell_type": "code",
      "execution_count": null,
      "id": "2cfd5799",
      "metadata": {
        "id": "2cfd5799"
      },
      "outputs": [],
      "source": [
        "# 열 이름을 리스트 형태로 넣어 호출"
      ]
    },
    {
      "cell_type": "markdown",
      "id": "eab5476e",
      "metadata": {
        "id": "eab5476e"
      },
      "source": [
        "### 3. 행 번호를 사용한 데이터 추출"
      ]
    },
    {
      "cell_type": "code",
      "execution_count": null,
      "id": "713ea2a8",
      "metadata": {
        "scrolled": false,
        "id": "713ea2a8"
      },
      "outputs": [],
      "source": [
        "# 인덱스 번호로 호출"
      ]
    },
    {
      "cell_type": "markdown",
      "id": "41fdf695",
      "metadata": {
        "id": "41fdf695"
      },
      "source": [
        "### 4. 행과 열을 모두 사용한 데이터 추출"
      ]
    },
    {
      "cell_type": "code",
      "execution_count": null,
      "id": "bc00a52b",
      "metadata": {
        "id": "bc00a52b"
      },
      "outputs": [],
      "source": [
        "# 열 이름, 인덱스 번호 둘 다 사용해서 호출\n"
      ]
    },
    {
      "cell_type": "code",
      "execution_count": null,
      "id": "e2dc92f5",
      "metadata": {
        "id": "e2dc92f5"
      },
      "outputs": [],
      "source": [
        "# 인덱스 변경하기\n"
      ]
    },
    {
      "cell_type": "code",
      "execution_count": null,
      "id": "f9cbd8d4",
      "metadata": {
        "scrolled": true,
        "id": "f9cbd8d4"
      },
      "outputs": [],
      "source": [
        "# loc 함수 : 인덱스 이름과 열 이름으로 데이터 추출\n"
      ]
    },
    {
      "cell_type": "code",
      "execution_count": null,
      "id": "b198b2fe",
      "metadata": {
        "id": "b198b2fe"
      },
      "outputs": [],
      "source": [
        "# iloc 함수 :  인덱스 번호로만 데이터 호출\n",
        "df.iloc[:10, :3]"
      ]
    },
    {
      "cell_type": "markdown",
      "id": "8aa154e9",
      "metadata": {
        "id": "8aa154e9"
      },
      "source": [
        "### 5.새로운 인덱스 할당"
      ]
    },
    {
      "cell_type": "code",
      "execution_count": null,
      "id": "fa4d0a0b",
      "metadata": {
        "id": "fa4d0a0b"
      },
      "outputs": [],
      "source": [
        "# reset_index 함수로 새로운 인덱스 할당된 객체 생성\n"
      ]
    },
    {
      "cell_type": "markdown",
      "id": "64a58f95",
      "metadata": {
        "id": "64a58f95"
      },
      "source": [
        "### 6. drop 함수"
      ]
    },
    {
      "cell_type": "code",
      "execution_count": null,
      "id": "69b045ff",
      "metadata": {
        "id": "69b045ff"
      },
      "outputs": [],
      "source": [
        "# drop 함수 : 특정 열이나 행을 삭제한 객체를 반환\n"
      ]
    },
    {
      "cell_type": "markdown",
      "id": "285880b7",
      "metadata": {
        "id": "285880b7"
      },
      "source": [
        "------------------------"
      ]
    },
    {
      "cell_type": "markdown",
      "id": "89e3c211",
      "metadata": {
        "id": "89e3c211"
      },
      "source": [
        "## <a name=\"04.3그룹별집계\">04.3 그룹별 집계</a>"
      ]
    },
    {
      "cell_type": "markdown",
      "id": "4d530aba",
      "metadata": {
        "id": "4d530aba"
      },
      "source": [
        "### 1. 그룹별 집계의 개념\n",
        "- 그룹별 집계(groupby) : 데이터로부터 동일한 객체를 가진 데이터만 따로 뽑아 기술통계 데이터를 추출\n",
        "- 엑셀의 피봇테이블(pivot table) 기능과 비슷\n",
        "- groupby 명령어는 분할→적용→결합 과정을 거침\n",
        " - - 분할(split) : 같은 종류의 데이터끼리 나누는 기능 <br>\n",
        " - - 적용(apply) : 데이터 블록마다 sum, count, mean 등 연산 적용\n",
        " - - 결합(combine) : 연산 함수가 적용된 각 블록들을 합침"
      ]
    },
    {
      "cell_type": "markdown",
      "id": "730af36b",
      "metadata": {
        "id": "730af36b"
      },
      "source": [
        "### 2. 그룹별 집계 사용하기"
      ]
    },
    {
      "cell_type": "code",
      "execution_count": null,
      "id": "b56b196e",
      "metadata": {
        "id": "b56b196e"
      },
      "outputs": [],
      "source": [
        "# 그룹별 집계의 기본형\n",
        "ipl_data = {'Team': ['Riders', 'Riders', 'Devils', 'Devils', 'Kings','kings', 'Kings', 'Kings', 'Riders', 'Royals', 'Royals', 'Riders'],\n",
        "            'Rank': [1, 2, 2, 3, 3,4 ,1 ,1,2 , 4,1,2],\n",
        "            'Year': [2014, 2015, 2014, 2015, 2014, 2015, 2016, 2017, 2016, 2014, 2015, 2017],\n",
        "            'Points': [876,789,863,673,741,812,756,788,694,701,804,690]}"
      ]
    },
    {
      "cell_type": "code",
      "execution_count": null,
      "id": "2068702a",
      "metadata": {
        "id": "2068702a"
      },
      "outputs": [],
      "source": [
        "# 그룹별 집계의 기본형\n",
        "# Team별 그룹하여 Points의 합계 구하기"
      ]
    },
    {
      "cell_type": "code",
      "execution_count": null,
      "id": "2e387b47",
      "metadata": {
        "id": "2e387b47"
      },
      "outputs": [],
      "source": [
        "# 멀티 인덱스 그룹별 집계\n",
        "# - 한 개 이상의 열을 기준으로 그룹별 집계를 실행\n"
      ]
    },
    {
      "cell_type": "code",
      "execution_count": null,
      "id": "0c510798",
      "metadata": {
        "id": "0c510798"
      },
      "outputs": [],
      "source": [
        "# 멀티 인덱스\n",
        "# - 한 개 이상의 열로 그룹별 집계 수행하면 여러 열이 모두 인덱스로 반환됨\n"
      ]
    },
    {
      "cell_type": "code",
      "execution_count": null,
      "id": "657598b0",
      "metadata": {
        "scrolled": true,
        "id": "657598b0"
      },
      "outputs": [],
      "source": [
        "# - swaplevel 함수로 인덱스 간 레벨을 변경\n",
        "# - sort_index 함수로 첫 번째 인덱스를 기준으로 데이터 재정렬\n"
      ]
    },
    {
      "cell_type": "markdown",
      "id": "de2c90ef",
      "metadata": {
        "id": "de2c90ef"
      },
      "source": [
        "### 3. 그룹화된 상태\n",
        "- 그룹화된(grouped) 상태 : 분할→적용→결합 중에서 분할까지만 이루어진 상태\n",
        "- get_group 함수 : 해당 키 값을 기준으로 분할된 데이터프레임 객체를 확인"
      ]
    },
    {
      "cell_type": "code",
      "execution_count": null,
      "id": "92bfa2fd",
      "metadata": {
        "id": "92bfa2fd"
      },
      "outputs": [],
      "source": []
    },
    {
      "cell_type": "markdown",
      "id": "166d7ac4",
      "metadata": {
        "id": "166d7ac4"
      },
      "source": [
        "- **집계(aggregation)** : 요약된 통계 정보를 추출"
      ]
    },
    {
      "cell_type": "code",
      "execution_count": null,
      "id": "ef99240b",
      "metadata": {
        "scrolled": true,
        "id": "ef99240b"
      },
      "outputs": [],
      "source": [
        "# 집계(aggregation) : 요약된 통계 정보를 추출\n"
      ]
    },
    {
      "cell_type": "markdown",
      "id": "fb1aa00e",
      "metadata": {
        "id": "fb1aa00e"
      },
      "source": [
        "- **필터(filter)** : 특정 조건으로 데이터를 검색"
      ]
    },
    {
      "cell_type": "code",
      "execution_count": null,
      "id": "51714a27",
      "metadata": {
        "id": "51714a27"
      },
      "outputs": [],
      "source": [
        "# 필터\n",
        "# Team별 레코드 개수 3개 이상인 Team\n",
        "# Team별 Points의 최고값이 800이상인 Team"
      ]
    },
    {
      "cell_type": "markdown",
      "id": "b6197470",
      "metadata": {
        "id": "b6197470"
      },
      "source": [
        "-----------------"
      ]
    },
    {
      "cell_type": "markdown",
      "id": "1719e385",
      "metadata": {
        "id": "1719e385"
      },
      "source": [
        "## <a name=\"04.4병합과연결\">04.4 병합과 연결</a>"
      ]
    },
    {
      "cell_type": "markdown",
      "id": "b3f465c3",
      "metadata": {
        "id": "b3f465c3"
      },
      "source": [
        "### 1. 병합\n",
        "병합(merge) : 두 개의 데이터를 특정 기준한 기준을 가지고 하나로 통합하는 작업"
      ]
    },
    {
      "cell_type": "code",
      "execution_count": null,
      "id": "49b08067",
      "metadata": {
        "id": "49b08067"
      },
      "outputs": [],
      "source": [
        "raw_data = {'subject_id': ['1', '2', '3', '4', '5', '7', '8', '9', '10', '11'],\n",
        "            'test_score': [51, 15, 15, 61, 16, 14, 15, 1, 61, 16]}\n"
      ]
    },
    {
      "cell_type": "code",
      "execution_count": null,
      "id": "70284dbf",
      "metadata": {
        "id": "70284dbf"
      },
      "outputs": [],
      "source": [
        "raw_data = {'subject_id': ['4', '5', '6', '7', '8'],\n",
        "            'first_name': ['Billy', 'Brian', 'Bran', 'Bryce', 'Betty'],\n",
        "            'last_name': ['Bonder', 'Black', 'Balwner', 'Brice', 'Btisan']}\n",
        "\n"
      ]
    },
    {
      "cell_type": "code",
      "execution_count": null,
      "id": "4b3f17b1",
      "metadata": {
        "scrolled": true,
        "id": "4b3f17b1"
      },
      "outputs": [],
      "source": [
        "# 내부 조인: 양쪽의 교집합 데이터를 통합\n"
      ]
    },
    {
      "cell_type": "code",
      "execution_count": null,
      "id": "1c0682ce",
      "metadata": {
        "id": "1c0682ce"
      },
      "outputs": [],
      "source": [
        "# 왼쪽 조인, 오른쪽 조인\n",
        "\n"
      ]
    },
    {
      "cell_type": "code",
      "execution_count": null,
      "id": "9ba704b4",
      "metadata": {
        "id": "9ba704b4"
      },
      "outputs": [],
      "source": [
        "# 완전 조인\n"
      ]
    },
    {
      "cell_type": "markdown",
      "id": "608cca3b",
      "metadata": {
        "id": "608cca3b"
      },
      "source": [
        "### 2. 연결(concatenate)"
      ]
    },
    {
      "cell_type": "code",
      "execution_count": null,
      "id": "b23a48fc",
      "metadata": {
        "id": "b23a48fc"
      },
      "outputs": [],
      "source": [
        "# 디렉토리에서 파일명이 sales 가 포함된 파일명 가져오기\n",
        "\n",
        "\n",
        "\n",
        "# 파일 Pandas DataFrame으로 읽어오기\n",
        "\n",
        "\n",
        "# 파일 병합하기\n",
        "\n"
      ]
    },
    {
      "cell_type": "markdown",
      "id": "70d0ed11",
      "metadata": {
        "id": "70d0ed11"
      },
      "source": [
        "--------------"
      ]
    }
  ],
  "metadata": {
    "kernelspec": {
      "display_name": "Python 3 (ipykernel)",
      "language": "python",
      "name": "python3"
    },
    "language_info": {
      "codemirror_mode": {
        "name": "ipython",
        "version": 3
      },
      "file_extension": ".py",
      "mimetype": "text/x-python",
      "name": "python",
      "nbconvert_exporter": "python",
      "pygments_lexer": "ipython3",
      "version": "3.12.2"
    },
    "colab": {
      "provenance": [],
      "include_colab_link": true
    }
  },
  "nbformat": 4,
  "nbformat_minor": 5
}