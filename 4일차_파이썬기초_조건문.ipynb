{
  "nbformat": 4,
  "nbformat_minor": 0,
  "metadata": {
    "colab": {
      "provenance": [],
      "authorship_tag": "ABX9TyN0ZZe07UVql2jePyS3Bn11",
      "include_colab_link": true
    },
    "kernelspec": {
      "name": "python3",
      "display_name": "Python 3"
    },
    "language_info": {
      "name": "python"
    }
  },
  "cells": [
    {
      "cell_type": "markdown",
      "metadata": {
        "id": "view-in-github",
        "colab_type": "text"
      },
      "source": [
        "<a href=\"https://colab.research.google.com/github/ellieyakim0829/dataAnalysis/blob/main/4%EC%9D%BC%EC%B0%A8_%ED%8C%8C%EC%9D%B4%EC%8D%AC%EA%B8%B0%EC%B4%88_%EC%A1%B0%EA%B1%B4%EB%AC%B8.ipynb\" target=\"_parent\"><img src=\"https://colab.research.google.com/assets/colab-badge.svg\" alt=\"Open In Colab\"/></a>"
      ]
    },
    {
      "cell_type": "markdown",
      "source": [
        "# 4. 파이썬 조건문"
      ],
      "metadata": {
        "id": "dmTWH3QociN8"
      }
    },
    {
      "cell_type": "markdown",
      "source": [
        "## 1.if 조건문(if만 사용)"
      ],
      "metadata": {
        "id": "yAgnwAcvcnBs"
      }
    },
    {
      "cell_type": "code",
      "source": [
        "a = 99\n",
        "if a <100: #만약 a가 10보다 작으면\n",
        "  print(f\"{a}는 100보다 작군요\")\n"
      ],
      "metadata": {
        "id": "0zlCUf-BdGQU"
      },
      "execution_count": 5,
      "outputs": []
    },
    {
      "cell_type": "markdown",
      "source": [
        "## 2.if ~ else ~ 조건문"
      ],
      "metadata": {
        "id": "nrFRTvpycuJj"
      }
    },
    {
      "cell_type": "code",
      "source": [
        "a = int(input('숫자를 입력하세요: '))\n",
        "if a <100: #만약 a가 10보다 작으면 (True)\n",
        "  print(f\"{a}는 100보다 작군요\")\n",
        "else: #그렇지 않다면(False)\n",
        "  print(f\"{a}는 100보다 작지 않군요\")\n"
      ],
      "metadata": {
        "colab": {
          "base_uri": "https://localhost:8080/"
        },
        "id": "L3hDyQCydnP8",
        "outputId": "6f7aa5e0-301c-48c0-8548-58504ceb36e2"
      },
      "execution_count": 8,
      "outputs": [
        {
          "output_type": "stream",
          "name": "stdout",
          "text": [
            "숫자를 입력하세요: 2567\n",
            "2567는 100보다 작지 않군요\n"
          ]
        }
      ]
    },
    {
      "cell_type": "markdown",
      "source": [
        "##3. 중첩 if 조건문(if안에 if문)"
      ],
      "metadata": {
        "id": "BDH7xLZicuVU"
      }
    },
    {
      "cell_type": "code",
      "source": [
        "a = int(input('숫자를 입력하세요: '))\n",
        "if a <100:\n",
        "    if a < 50:\n",
        "        print(f\"{a}는 50보다 작군요\")\n",
        "    else:\n",
        "        print(f\"{a}는 50과 100의 사이군요\")\n",
        "else:\n",
        "     if a ==100:\n",
        "        print(f\"{a}는 100보다 같군요\")\n",
        "     else:\n",
        "        print(f\"{a}는 100보다 작지 않군요\")\n"
      ],
      "metadata": {
        "colab": {
          "base_uri": "https://localhost:8080/"
        },
        "id": "9wG5ZKD_exT7",
        "outputId": "c9f2b564-1ff7-45ba-dea1-a6f59fd34122"
      },
      "execution_count": 11,
      "outputs": [
        {
          "output_type": "stream",
          "name": "stdout",
          "text": [
            "숫자를 입력하세요: 60\n",
            "60는 50보다 작군요\n"
          ]
        }
      ]
    },
    {
      "cell_type": "markdown",
      "source": [],
      "metadata": {
        "id": "nsv5FmBecufL"
      }
    },
    {
      "cell_type": "code",
      "execution_count": 17,
      "metadata": {
        "colab": {
          "base_uri": "https://localhost:8080/"
        },
        "id": "bd3dNRQqWsMW",
        "outputId": "62518b7a-45b7-4bf0-b1cd-347dc437a60a"
      },
      "outputs": [
        {
          "output_type": "stream",
          "name": "stdout",
          "text": [
            "숫자를 입력해 주세요:43\n",
            "입력된 수 : 43 ==> 홀수\n"
          ]
        }
      ],
      "source": [
        " # 짝수/홀수 판별하기\n",
        "x = int(input('숫자를 입력해 주세요:'))\n",
        "if x%2 ==0: print(f'입력된 수 : {x} ==> 짝수')\n",
        "else:       print(f'입력된 수 : {x} ==> 홀수')"
      ]
    },
    {
      "cell_type": "code",
      "source": [
        "#x = int(input('숫자를 입력해 주세요:'))\n",
        "print(f'입력된 수 : {x} ==> 짝수') if x%2 ==0 else print(f'입력된 수 : {x} ==> 홀수')"
      ],
      "metadata": {
        "colab": {
          "base_uri": "https://localhost:8080/"
        },
        "id": "M0DxqHVVhaPC",
        "outputId": "d3528edb-12c3-4c79-f9b7-a283dc10208f"
      },
      "execution_count": 18,
      "outputs": [
        {
          "output_type": "stream",
          "name": "stdout",
          "text": [
            "입력된 수 : 43 ==> 홀수\n"
          ]
        }
      ]
    },
    {
      "cell_type": "code",
      "source": [
        "# 결과 판단하기 방법1\n",
        "import random # 난수 발생 모듈\n",
        "computer = random.choice(['가위', '바위', '보'])\n",
        "my = input('가위/바위/보 중 하나 입력:')\n",
        "\n",
        "if my == '가위':\n",
        "    if computer == '바위':\n",
        "        print(f\"computer:{computer}, my:{my}\")\n",
        "        print(f\"컴퓨터가 이겼습니다.\")\n",
        "    if computer == '보':\n",
        "        print(f\"computer:{computer}, my:{my}\")\n",
        "        print(f\"당신이 이겼습니다.\")\n",
        "    if computer == '가위':\n",
        "        print(f\"computer:{computer}, my:{my}\")\n",
        "        print(f\"비겼습니다.\")\n",
        "else:\n",
        "    if computer == '바위':\n",
        "        print(f\"computer:{computer}, my:{my}\")\n",
        "        print(f\"컴퓨터가 이겼습니다.\")\n",
        "    if computer == '보':\n",
        "        print(f\"computer:{computer}, my:{my}\")\n",
        "        print(f\"당신이 이겼습니다.\")\n",
        "    if computer == '가위':\n",
        "        print(f\"computer:{computer}, my:{my}\")\n",
        "        print(f\"비겼습니다.\")\n",
        "\n",
        "# 결과 판단하기 방법2\n",
        "# import random           # 난수 발생 모듈\n",
        "# # random.randint(1,10)    # 1~10 사이의 임의의 정수 선택\n",
        "# print('가위/바위/보 게임을 시작합니다.')\n",
        "# print('-'*30)\n",
        "\n",
        "# computer = random.choice(['가위','바위','보'])\n",
        "# print('컴퓨터는 정했습니다!')\n",
        "# my = input('가위/바위/보 중 하나 입력: ')\n",
        "# print('-'*30, '게임 결과는?')\n",
        "# print(f\"computer:{computer}, my:{my}\")\n",
        "\n",
        "# # 결과 판단하기\n",
        "# if computer==my:\n",
        "#     print('서로 비겼습니다.')\n",
        "# # 컴퓨터가 이긴 경우\n",
        "# else:\n",
        "#     if (computer=='가위' and my=='보') or \\\n",
        "#     (computer=='바위' and my=='가위') or \\\n",
        "#     (computer=='보' and my=='바위') :\n",
        "#         print('컴퓨터가 이겼습니다.')\n",
        "#     else:\n",
        "#         print('내가 이겼습니다.')\n",
        "\n",
        "\n"
      ],
      "metadata": {
        "colab": {
          "base_uri": "https://localhost:8080/"
        },
        "id": "dyOFFfhbiFDq",
        "outputId": "2c79fede-30ed-49db-9cc6-d4d3004447c2"
      },
      "execution_count": 3,
      "outputs": [
        {
          "output_type": "stream",
          "name": "stdout",
          "text": [
            "가위/바위/보 중 하나 입력:가위\n",
            "computer:보, my:가위\n",
            "당신이 이겼습니다.\n"
          ]
        }
      ]
    },
    {
      "cell_type": "code",
      "source": [
        "a = int(input('변 a의 길이:'))\n",
        "b = int(input('변 b의 길이:'))\n",
        "c = int(input('변 c의 길이:'))\n",
        "\n",
        "if (a**2+b**2) ==c**2:\n",
        "    print(f\"직각삼각형입니다.\")\n",
        "else:\n",
        "    print(f\"직각삼각형이 아닙니다.\")"
      ],
      "metadata": {
        "colab": {
          "base_uri": "https://localhost:8080/"
        },
        "id": "IKeQYbocpN8w",
        "outputId": "0f4e3b63-9d01-4ea6-aa61-6a3d59917048"
      },
      "execution_count": 2,
      "outputs": [
        {
          "output_type": "stream",
          "name": "stdout",
          "text": [
            "변 a의 길이:3\n",
            "변 b의 길이:2\n",
            "변 c의 길이:1\n",
            "직각삼각형이 아닙니다.\n"
          ]
        }
      ]
    },
    {
      "cell_type": "markdown",
      "source": [
        "## 4.다중 조건문\n",
        "if~ else~  if-->if~elif~"
      ],
      "metadata": {
        "id": "4_IjFl93yIj8"
      }
    },
    {
      "cell_type": "code",
      "source": [
        "# 나이별 학생 구분하기\n",
        "age =int(input('나이를 입력하세요:'))\n",
        "if age < 8:\n",
        "    print('미취학 아동입니다.')\n",
        "elif age <14:\n",
        "    print('초등학생 입니다.')\n",
        "elif age <17:\n",
        "    print('중학생 입니다.')\n",
        "elif age <20:\n",
        "    print('고등학생 입니다.')\n",
        "else:\n",
        "    print('성인입니다..')"
      ],
      "metadata": {
        "colab": {
          "base_uri": "https://localhost:8080/"
        },
        "id": "wX44X9zqyC30",
        "outputId": "740a7f43-ea03-4b00-e624-01075003cfb4"
      },
      "execution_count": 4,
      "outputs": [
        {
          "output_type": "stream",
          "name": "stdout",
          "text": [
            "나이를 입력하세요:25\n",
            "성인입니다..\n"
          ]
        }
      ]
    },
    {
      "cell_type": "markdown",
      "source": [
        "## 5. 조건부 표현식"
      ],
      "metadata": {
        "id": "JsVVfanLz5w7"
      }
    },
    {
      "cell_type": "code",
      "source": [
        "score = int(input('점수를 입력하세요'))\n",
        "if score >= 80:\n",
        "    message ='Success'\n",
        "else:\n",
        "    message ='Failure'\n",
        "print(f\"당신의 점수는{score}점은 시험에 {message} 하셨습니다.\")"
      ],
      "metadata": {
        "colab": {
          "base_uri": "https://localhost:8080/"
        },
        "id": "CcCc8Gnlz9ES",
        "outputId": "7f8bedc9-139c-4582-cf84-fd8c3ef6297c"
      },
      "execution_count": 5,
      "outputs": [
        {
          "output_type": "stream",
          "name": "stdout",
          "text": [
            "점수를 입력하세요95\n",
            "당신의 점수는95점은 시험에 Success 하셨습니다.\n"
          ]
        }
      ]
    },
    {
      "cell_type": "code",
      "source": [
        "message ='Success' if score >=80 else 'Failure'\n",
        "print(f\"당신의 점수는{score}점은 시험에 {message} 하셨습니다.\")"
      ],
      "metadata": {
        "colab": {
          "base_uri": "https://localhost:8080/"
        },
        "id": "BIzUtxtU0qZU",
        "outputId": "f1217066-7a7e-4756-da22-0a81822b68e8"
      },
      "execution_count": 8,
      "outputs": [
        {
          "output_type": "stream",
          "name": "stdout",
          "text": [
            "당신의 점수는95점은 시험에 Success 하셨습니다.\n"
          ]
        }
      ]
    },
    {
      "cell_type": "code",
      "source": [
        "Temp = int(input('온도를 입력하세요:'))\n",
        "if Temp >= 30:\n",
        "    print('에어컨을 키세요')\n",
        "elif Temp <20:\n",
        "    print('내복을 입으세요')\n",
        "elif Temp <=10:\n",
        "    print('난방기를 키세요')\n",
        "else:\n",
        "    print('정상입니다.')\n",
        "\n",
        "# Temp = int(input('온도를 입력하세요:'))\n",
        "\n",
        "# if Temp >= 30:\n",
        "#     print('에어컨을 키세요')\n",
        "# elif Temp >= 20:\n",
        "#     print('내복을 입으세요')\n",
        "# elif Temp >= 10:\n",
        "#     print('난방기를 키세요')\n",
        "# else:\n",
        "#     print('정상입니다.')\n"
      ],
      "metadata": {
        "colab": {
          "base_uri": "https://localhost:8080/"
        },
        "id": "znUeNt0z11tz",
        "outputId": "c4a04d79-29be-49ec-e129-0f322bf2b56f"
      },
      "execution_count": 5,
      "outputs": [
        {
          "output_type": "stream",
          "name": "stdout",
          "text": [
            "온도를 입력하세요:9\n",
            "정상입니다.\n"
          ]
        }
      ]
    },
    {
      "cell_type": "code",
      "source": [
        "'''기온 조건 상황\n",
        "- 온도가 30 이상 에어컨 켜기\n",
        "- 온도가 20 미만이면 내복 입기\n",
        "- 온도가 10 이하면 납아기 켜기\n",
        "'''\n",
        "\n",
        "\n",
        "# # 방법 1\n",
        "# degree = int(input('온도를 입력해 주세요:'))\n",
        "# # elif문장은  순서가 중요하다.\n",
        "# if degree >= 30:\n",
        "#     print('에어컨을 켜세요!')\n",
        "# elif degree <= 10:\n",
        "#     print('난방기를 키세요!')\n",
        "# elif degree <20:\n",
        "#     print('내복을 입으세요!')\n",
        "# # elif degree <= 10:\n",
        "# #     print('난방기를 키세요!')\n",
        "# else:\n",
        "#     print('쾌적한 온도입니다.')\n",
        "\n",
        "# 방법 2\n",
        "degree = int(input('온도를 입력해 주세요:'))\n",
        "\n",
        "if degree >= 30:\n",
        "    print('에어컨을 켜세요!')\n",
        "else:\n",
        "     if 20 <= degree <30:\n",
        "        print('쾌적한 날씨입니다.')\n",
        "     if degree <20:\n",
        "        print('내복을 입으세요')\n",
        "     if degree <=10:\n",
        "        print('난방기를 켜세요.')\n",
        "\n",
        "\n",
        "\n",
        "\n",
        "\n",
        "\n",
        ""
      ],
      "metadata": {
        "colab": {
          "base_uri": "https://localhost:8080/"
        },
        "id": "Pstgpd_P5EKq",
        "outputId": "b19007c3-3ae5-4d82-b569-51eda973e392"
      },
      "execution_count": 12,
      "outputs": [
        {
          "output_type": "stream",
          "name": "stdout",
          "text": [
            "온도를 입력해 주세요:8\n",
            "내복을 입으세요\n",
            "난방기를 켜세요.\n"
          ]
        }
      ]
    },
    {
      "cell_type": "code",
      "source": [
        "#gTTs로 텍스트를 음성으로 알려즈는 라이브러리\n",
        "# gtts 모듈로 텍스트를 소리로 읽어주기\n",
        "from gtts import gTTS\n",
        "from IPython.display import Audio\n",
        "import time\n",
        "\n",
        "def Speaker(stmt):\n",
        "    kor_wav = gTTS(stmt, lang = 'ko')\n",
        "    kor_wav.save('kor.wav')\n",
        "    display(Audio('kor.wav', autoplay=True))\n",
        "\n",
        "menu = '''[커피 자동주문 머신메뉴]\n",
        "-----------------------------------\n",
        "- 아메리카노는 2500원\n",
        "- 까페라테는 3000원\n",
        "- 카푸치노는 3000원\n",
        "-----------------------------------\n",
        "원하시는 커피종류와 잔수를 입력하세요.\n",
        "'''\n",
        "print(menu)\n",
        "Speaker(menu)\n",
        "\n",
        "time.sleep(3)\n",
        "coffee1 = int(input('아메리카노 몇잔?'))\n",
        "coffee2 = int(input('까페라뗴 몇잔?'))\n",
        "coffee3 = int(input('카푸치노 몇잔?'))\n",
        "\n",
        "total =2500*coffee1 +3000*coffee2 + 3000*coffee3\n",
        "print(f\"지불하실 총 금액은{total}원 입니다.\")\n",
        "money = int(input('돈을 넣어주세요 :'))\n",
        "\n",
        "change = total-money # 잔돈\n",
        "if total > money:\n",
        "    print(f'입력한 금액이 부족합니다. {change}원을 더 넣어주세요.')\n",
        "else:\n",
        "    print(f'거스름돈은{abs(change)}원입니다.')    #abs 음수를 양수로 바꿔주는 함수\n",
        "\n",
        "\n",
        "\n",
        "# menu = '''[커피 주문 머신 메뉴]\n",
        "# -----------------------------\n",
        "# - 아메리카노: 2500원\n",
        "# - 카페라테:   3000원\n",
        "# - 카페모카:   3000원\n",
        "# -----------------------------\n",
        "# 원하시는 커피종류와 잔수를 입력하세요.'''\n",
        "# print(menu)\n",
        "# coffee1 = int(input('아메리카노 몇잔: '))\n",
        "# coffee2 = int(input('카페라테   몇잔: '))\n",
        "# coffee3 = int(input('카페모카   몇잔: '))\n",
        "\n",
        "# total = 2500*coffee1 + 3000*coffee2 + 3000*coffee3\n",
        "# print(f\"지불하실 총 금액은 {total:,}원 입니다.\")\n",
        "# money = int(input('돈을 넣어 주세요: '))\n",
        "\n",
        "# change = total-money   # 거스름돈\n",
        "# if total > money:\n",
        "#     print(f\"돈이 부족합니다. {change:,}원을 더 넣어주세요.\")\n",
        "# else:\n",
        "#     print(f\"거스름돈은 {abs(change):,}입니다. 커피 맛있게 드세요~\")\n",
        "\n",
        "\n"
      ],
      "metadata": {
        "id": "nHSC5vZ18lrg"
      },
      "execution_count": null,
      "outputs": []
    },
    {
      "cell_type": "code",
      "source": [
        "!pip install gTTS\n",
        "\n"
      ],
      "metadata": {
        "colab": {
          "base_uri": "https://localhost:8080/"
        },
        "id": "I09XnI4uBFDf",
        "outputId": "16c9d995-5012-4fd8-8f44-a200e6b663b7"
      },
      "execution_count": 18,
      "outputs": [
        {
          "output_type": "stream",
          "name": "stdout",
          "text": [
            "Collecting gTTS\n",
            "  Downloading gTTS-2.5.1-py3-none-any.whl (29 kB)\n",
            "Requirement already satisfied: requests<3,>=2.27 in /usr/local/lib/python3.10/dist-packages (from gTTS) (2.31.0)\n",
            "Requirement already satisfied: click<8.2,>=7.1 in /usr/local/lib/python3.10/dist-packages (from gTTS) (8.1.7)\n",
            "Requirement already satisfied: charset-normalizer<4,>=2 in /usr/local/lib/python3.10/dist-packages (from requests<3,>=2.27->gTTS) (3.3.2)\n",
            "Requirement already satisfied: idna<4,>=2.5 in /usr/local/lib/python3.10/dist-packages (from requests<3,>=2.27->gTTS) (3.6)\n",
            "Requirement already satisfied: urllib3<3,>=1.21.1 in /usr/local/lib/python3.10/dist-packages (from requests<3,>=2.27->gTTS) (2.0.7)\n",
            "Requirement already satisfied: certifi>=2017.4.17 in /usr/local/lib/python3.10/dist-packages (from requests<3,>=2.27->gTTS) (2024.2.2)\n",
            "Installing collected packages: gTTS\n",
            "Successfully installed gTTS-2.5.1\n"
          ]
        }
      ]
    },
    {
      "cell_type": "code",
      "source": [],
      "metadata": {
        "id": "m8ei9jqiBQr3"
      },
      "execution_count": null,
      "outputs": []
    },
    {
      "cell_type": "markdown",
      "source": [
        "##[추가] time 모듈로(~초 기다리기 표현"
      ],
      "metadata": {
        "id": "BeFX0rvyGnLE"
      }
    },
    {
      "cell_type": "markdown",
      "source": [
        "# 원도우\n",
        "#pip install pywin32"
      ],
      "metadata": {
        "id": "LJo4TbXKHNcE"
      }
    },
    {
      "cell_type": "code",
      "source": [
        "import time\n",
        "for i in range(1,11,1):\n",
        "    time.sleep(1)\n",
        "    print(i)"
      ],
      "metadata": {
        "colab": {
          "base_uri": "https://localhost:8080/"
        },
        "id": "5N6O5p00Gymc",
        "outputId": "b0efdfc8-959e-48df-b216-3dc64bffe7dc"
      },
      "execution_count": 2,
      "outputs": [
        {
          "output_type": "stream",
          "name": "stdout",
          "text": [
            "1\n",
            "2\n",
            "3\n",
            "4\n",
            "5\n",
            "6\n",
            "7\n",
            "8\n",
            "9\n",
            "10\n"
          ]
        }
      ]
    }
  ]
}