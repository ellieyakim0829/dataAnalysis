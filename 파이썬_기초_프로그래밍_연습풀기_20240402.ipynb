{
  "nbformat": 4,
  "nbformat_minor": 0,
  "metadata": {
    "colab": {
      "provenance": [],
      "authorship_tag": "ABX9TyMDt2Jwgzi7Uj8FZIAGg6MF",
      "include_colab_link": true
    },
    "kernelspec": {
      "name": "python3",
      "display_name": "Python 3"
    },
    "language_info": {
      "name": "python"
    }
  },
  "cells": [
    {
      "cell_type": "markdown",
      "metadata": {
        "id": "view-in-github",
        "colab_type": "text"
      },
      "source": [
        "<a href=\"https://colab.research.google.com/github/ellieyakim0829/dataAnalysis/blob/main/%ED%8C%8C%EC%9D%B4%EC%8D%AC_%EA%B8%B0%EC%B4%88_%ED%94%84%EB%A1%9C%EA%B7%B8%EB%9E%98%EB%B0%8D_%EC%97%B0%EC%8A%B5%ED%92%80%EA%B8%B0_20240402.ipynb\" target=\"_parent\"><img src=\"https://colab.research.google.com/assets/colab-badge.svg\" alt=\"Open In Colab\"/></a>"
      ]
    },
    {
      "cell_type": "code",
      "execution_count": null,
      "metadata": {
        "colab": {
          "base_uri": "https://localhost:8080/"
        },
        "id": "37amE6lOi5vP",
        "outputId": "38ede5a6-5e81-4aca-b55b-98e7108adc1f"
      },
      "outputs": [
        {
          "output_type": "stream",
          "name": "stdout",
          "text": [
            "65\n",
            "33\n",
            "44032\n",
            "0b1000001\n",
            "0b1101001100001100\n",
            "A\n",
            "B\n",
            "C\n",
            "가\n",
            "110100110000110011000111011101001100001101101100"
          ]
        }
      ],
      "source": [
        "# 문자와 문자열 연습\n",
        "\n",
        "print(ord('A'))\n",
        "print(ord('!'))\n",
        "print(ord('가'))\n",
        "print(bin(65))\n",
        "print(bin(ord('파')))\n",
        "print(chr(65))\n",
        "print(chr(66))\n",
        "print(chr(67))\n",
        "print(chr(44032))\n",
        "\n",
        "str =''\n",
        "for c in '파이썬':\n",
        "  print(format(ord(c), 'b'), end = '')\n"
      ]
    },
    {
      "cell_type": "code",
      "source": [
        "# 문자열 따옴표 지정\n",
        "print('Hello')\n",
        "print(\"Hello\")\n",
        "print(\"Hello 'world\")\n",
        "print('Hello \"world')\n",
        "\n",
        "a = '''박씨가 소리질렀다.\n",
        "도둑이야!'''\n",
        "print(a)\n",
        "\n",
        "a = '''아메리카노 메뉴판\n",
        "- 아메리카노 : 3000원\n",
        "- 까페라떼:\\t40000원\n",
        "- 까페모카:\\t5000원\n",
        "'''\n",
        "print(a)\n",
        "\n",
        "print('Hello'+'world')\n",
        "print('Hello','world','i')\n",
        "\n",
        "a = \"Python\"\n",
        "b = \"is very fun!\"\n",
        "print(a+b)\n",
        "\n",
        "print('Hello'*3)\n",
        "print('==='*50)"
      ],
      "metadata": {
        "colab": {
          "base_uri": "https://localhost:8080/"
        },
        "id": "dM7ltLctjwHi",
        "outputId": "6a7a09ec-f07f-43d4-8d16-24a1d93e7178"
      },
      "execution_count": null,
      "outputs": [
        {
          "output_type": "stream",
          "name": "stdout",
          "text": [
            "Hello\n",
            "Hello\n",
            "Hello 'world\n",
            "Hello \"world\n",
            "박씨가 소리질렀다.\n",
            "도둑이야!\n",
            "아메리카노 메뉴판\n",
            "- 아메리카노 : 3000원\n",
            "- 까페라떼:\t40000원\n",
            "- 까페모카:\t5000원\n",
            "\n",
            "Helloworld\n",
            "Hello world i\n",
            "Pythonis very fun!\n",
            "HelloHelloHello\n",
            "======================================================================================================================================================\n"
          ]
        }
      ]
    },
    {
      "cell_type": "code",
      "source": [
        "# 문자열 출력하기\n",
        "print('Mary`s cosmetics')\n",
        "print('박씨가 소리질렀다.\"도둑이야!.\"')\n",
        "print(\"안녕하세요.\\n오늘\\t날씨가\\t\\t좋습니다.\")"
      ],
      "metadata": {
        "colab": {
          "base_uri": "https://localhost:8080/"
        },
        "id": "ytYNM4H3lbEj",
        "outputId": "1989ca01-dc93-40b0-94fd-262d1c776364"
      },
      "execution_count": null,
      "outputs": [
        {
          "output_type": "stream",
          "name": "stdout",
          "text": [
            "Mary`s cosmetics\n",
            "박씨가 소리질렀다.\"도둑이야!.\"\n",
            "안녕하세요.\n",
            "오늘\t날씨가\t\t좋습니다.\n"
          ]
        }
      ]
    },
    {
      "cell_type": "code",
      "source": [
        "# 문자열 인덱싱과 슬라이싱\n",
        "a = '우리는 민족중흥의 역사적 사명을 띠고 이땅에 태어났다.'\n",
        "a[3:12]\n",
        "print(a[3:12])\n",
        "\n",
        "fruits ='orange'\n",
        "print(fruits[1:3])\n",
        "# 문자열 반복\n",
        "result = \"Hello\" * 3\n",
        "print(result)  # 출력: HelloHelloHello\n",
        "\n",
        "result = 3 + 5  # 결과는 8\n",
        "str_result = \"Hello \" + \"World\"  # 결과는 \"Hello World\"\n",
        "print(result)\n",
        "print(str_result)"
      ],
      "metadata": {
        "colab": {
          "base_uri": "https://localhost:8080/"
        },
        "id": "KxKZkE3Wl_qO",
        "outputId": "d37f2be7-bde9-450a-b001-c98ce4999fdd"
      },
      "execution_count": null,
      "outputs": [
        {
          "output_type": "stream",
          "name": "stdout",
          "text": [
            " 민족중흥의 역사\n",
            "ra\n",
            "HelloHelloHello\n",
            "8\n",
            "Hello World\n"
          ]
        }
      ]
    },
    {
      "cell_type": "code",
      "source": [
        "# 문자열 포멧팅\n",
        "a = \"%10s\"%'pathon'\n",
        "print(a)\n",
        "a = \"%10s\"%'파이썬'\n",
        "print(a)\n",
        "a = \"%-10s파이썬\"%'사랑해요'\n",
        "print(a)\n",
        "\n",
        "a = \"%0.4f\"% 3.4213423\n",
        "print(a)\n",
        "a = \"%10.4f\"% 3.4213423\n",
        "print(a)"
      ],
      "metadata": {
        "colab": {
          "base_uri": "https://localhost:8080/"
        },
        "id": "qVe8Sf_HocaM",
        "outputId": "40d866e9-3fdb-40b8-f502-a13659cef3ec"
      },
      "execution_count": null,
      "outputs": [
        {
          "output_type": "stream",
          "name": "stdout",
          "text": [
            "    pathon\n",
            "       파이썬\n",
            "사랑해요      파이썬\n",
            "3.4213\n",
            "    3.4213\n"
          ]
        }
      ]
    },
    {
      "cell_type": "code",
      "source": [
        "# 문자열을 입력받아 거꾸로 출력하는 프로그램을 작성하세요\n",
        "s = input('문자열을 입력하세요:')\n",
        "result = s[::-1]  # 문자열을 거꾸로 출력하는 슬라이싱\n",
        "print(result)"
      ],
      "metadata": {
        "colab": {
          "base_uri": "https://localhost:8080/"
        },
        "id": "6xZAPt3NpQld",
        "outputId": "5210580b-97c5-4c2c-a27c-fd8e42bee050"
      },
      "execution_count": null,
      "outputs": [
        {
          "output_type": "stream",
          "name": "stdout",
          "text": [
            "문자열을 입력하세요:사랑해요 파이썬!\n",
            "!썬이파 요해랑사\n"
          ]
        }
      ]
    },
    {
      "cell_type": "code",
      "source": [
        "# 확장자가 포함된 파일명 전체를 파일명과 확장자 분리해서 출력하는 프로그램을 작성하시오\n",
        "# a = input('파일을 입력하세요')\n",
        "# print('파일:', a)\n",
        "# print('파일명:', a[0:4], '확장자:', a[5:7])\n",
        "\n",
        "a = input('파일을 입력하세요: ')\n",
        "filename, extension = a.split('.')  # 파일명과 확장자 분리 , 로 분리\n",
        "#filename, extension = a.split()  # 다른예시 파일명과 확장자 분리  공백\n",
        "print('파일:', a)\n",
        "print('파일명:', filename, '확장자:', extension)\n"
      ],
      "metadata": {
        "colab": {
          "base_uri": "https://localhost:8080/"
        },
        "id": "ddTP6_UjuvEq",
        "outputId": "4eca8fbc-b29c-440e-f7e4-45b0ead843a0"
      },
      "execution_count": null,
      "outputs": [
        {
          "output_type": "stream",
          "name": "stdout",
          "text": [
            "파일을 입력하세요: test.py\n",
            "파일: test.py\n",
            "파일명: test 확장자: py\n"
          ]
        }
      ]
    },
    {
      "cell_type": "code",
      "source": [
        "# 실습문제 변수활용\n",
        "#지불할 음식 총 가격 계산하기\n",
        "# meal = 4450\n",
        "# tax = 0.0675\n",
        "# tip  = 0.15\n",
        "# total = meal + tax + tip\n",
        "# print ('음식가격:',total )\n",
        "\n",
        "\n",
        "meal = 4450\n",
        "tax_rate = 0.0675  # 세율은 소수로 표현해야 합니다. 6.75%는 0.0675입니다.\n",
        "tip_rate = 0.15  # 팁 비율도 소수로 표현해야 합니다. 15%는 0.15입니다.\n",
        "\n",
        "# 세금 계산\n",
        "tax = meal * tax_rate\n",
        "\n",
        "# 팁 계산\n",
        "tip = meal * tip_rate\n",
        "\n",
        "# 총 가격 계산\n",
        "total = meal + tax + tip\n",
        "\n",
        "print(f'음식가격: {total}')\n",
        "print(f'세금: {tax}')\n",
        "print(f'팁: {tip}')"
      ],
      "metadata": {
        "colab": {
          "base_uri": "https://localhost:8080/"
        },
        "id": "uqRChmHlyLhq",
        "outputId": "f3e39298-1e55-4de1-d883-61b637a4e150"
      },
      "execution_count": null,
      "outputs": [
        {
          "output_type": "stream",
          "name": "stdout",
          "text": [
            "음식가격: 5417.875\n",
            "세금: 300.375\n",
            "팁: 667.5\n"
          ]
        }
      ]
    },
    {
      "cell_type": "code",
      "source": [
        "# 섭씨온도를 입력받아 화씨온도 변환하기\n",
        "celsius = float(input('섭씨온도를 입력하세요:'))\n",
        "Fahrenheit = (celsius * 9/5) +32\n",
        "print('화씨온도:',Fahrenheit )"
      ],
      "metadata": {
        "colab": {
          "base_uri": "https://localhost:8080/"
        },
        "id": "4-9UF_K-7i2n",
        "outputId": "f9430935-c017-4cf3-b160-0ab36b42ea6c"
      },
      "execution_count": null,
      "outputs": [
        {
          "output_type": "stream",
          "name": "stdout",
          "text": [
            "섭씨온도를 입력하세요:100\n",
            "화씨온도: 212.0\n"
          ]
        }
      ]
    },
    {
      "cell_type": "code",
      "source": [
        "# 동전 교환 프로그램 만들기\n",
        "coin = int(input('동전으로 교환할 금액을 입력하세요:'))\n",
        "print('-'*30)\n",
        "a = coin//500\n",
        "b = (coin%500)//100\n",
        "c = (coin%100)//50\n",
        "d = (coin%50)//10\n",
        "e = coin%10\n",
        "print(f'500원짜리 ==> {a}개')\n",
        "print(f'100원짜리 ==> {b}개')\n",
        "print(f'50원짜리 ==> {c}개')\n",
        "print(f'10원짜리 ==> {d}개')\n",
        "print(f'잔돈 ==> {e}원')\n",
        "\n",
        "# coin = int(input('동전으로 교환할 금액을 입력하세요: '))\n",
        "# print('-'*30)\n",
        "\n",
        "# # 각 동전의 개수 계산\n",
        "# five_hundred_count = coin // 500\n",
        "# hundred_count = (coin % 500) // 100\n",
        "# fifty_count = (coin % 100) // 50\n",
        "# ten_count = (coin % 50) // 10\n",
        "# change = coin % 10\n",
        "\n",
        "# # 결과 출력\n",
        "# print('500원짜리 ==> {}개'.format(five_hundred_count))\n",
        "# print('100원짜리 ==> {}개'.format(hundred_count))\n",
        "# print('50원짜리 ==> {}개'.format(fifty_count))\n",
        "# print('10원짜리 ==> {}개'.format(ten_count))\n",
        "# print('잔돈 ==> {}원'.format(change))"
      ],
      "metadata": {
        "colab": {
          "base_uri": "https://localhost:8080/"
        },
        "id": "OzBooYzhzG_k",
        "outputId": "bfd1b32c-b9c5-43db-d6a8-85a48e8df71b"
      },
      "execution_count": null,
      "outputs": [
        {
          "output_type": "stream",
          "name": "stdout",
          "text": [
            "동전으로 교환할 금액을 입력하세요: 4321\n",
            "------------------------------\n",
            "500원짜리 ==> 8개\n",
            "100원짜리 ==> 3개\n",
            "50원짜리 ==> 0개\n",
            "10원짜리 ==> 2개\n",
            "잔돈 ==> 1원\n"
          ]
        }
      ]
    },
    {
      "cell_type": "code",
      "source": [
        "#짝수/홀수 판별하기\n",
        "\n",
        "x = int(input('숫자를 입력해 주세요:'))\n",
        "if x%2 == 0:\n",
        "  print(f'입력된 수 : {x} ==> 짝수')\n",
        "else:\n",
        "  print(f'입력된 수 : {x} ==> 홀수')"
      ],
      "metadata": {
        "colab": {
          "base_uri": "https://localhost:8080/"
        },
        "id": "1R7_X-CKySqX",
        "outputId": "c1a9d2ee-1632-4927-cd95-82d4a37801f9"
      },
      "execution_count": null,
      "outputs": [
        {
          "output_type": "stream",
          "name": "stdout",
          "text": [
            "숫자를 입력해 주세요:43\n",
            "입력된 수 : 43 ==> 홀수\n"
          ]
        }
      ]
    },
    {
      "cell_type": "code",
      "source": [
        "# 컴퓨터와 가위바위보 게임을 해서 승패를 알아보는 프로그램 구현하기\n",
        "import random\n",
        "a = int(random.randint(0,2))\n",
        "print(a)\n",
        "print(f'게임을 시작하지! 가위바위보')\n",
        "print('-'*30)\n",
        "print(f'컴퓨터는 정했습니다!')\n",
        "b =int(input(\"당신의 가위(0), 바위(1), 보(2) 숫자는? : \"))\n",
        "print(f'-'*30, '게임결과는?')\n",
        "if b==0:\n",
        "  if a==0:\n",
        "    print(\"(당신:가위, 컴퓨터:가위)\\n비겼습니다!\")\n",
        "  if a==1:\n",
        "    print(\"(당신:가위, 컴퓨터:바위)\\n컴퓨터가 이겼습니다!\")\n",
        "  if a==2:\n",
        "    print(\"(당신:가위, 컴퓨터:보)\\n컴퓨터가 졌습니다!\")\n"
      ],
      "metadata": {
        "colab": {
          "base_uri": "https://localhost:8080/"
        },
        "id": "BR7oIpdlzSgU",
        "outputId": "822edbe5-f151-445e-e6cb-f0f99b11f1f2"
      },
      "execution_count": null,
      "outputs": [
        {
          "output_type": "stream",
          "name": "stdout",
          "text": [
            "1\n",
            "게임을 시작하지! 가위바위보\n",
            "------------------------------\n",
            "컴퓨터는 정했습니다!\n",
            "당신의 가위(0), 바위(1), 보(2) 숫자는? : 0\n",
            "------------------------------ 게임결과는?\n",
            "(당신:가위, 컴퓨터:바위)\n",
            "컴퓨터가 이겼습니다!\n"
          ]
        }
      ]
    },
    {
      "cell_type": "code",
      "source": [],
      "metadata": {
        "id": "xF0dG2jaNe7P"
      },
      "execution_count": null,
      "outputs": []
    },
    {
      "cell_type": "code",
      "source": [
        "a = int(input('온도를 입력하세요:'))\n",
        "if a >= 30: # 온도가 30도 이상인 경우\n",
        "  print(f'에어컨을 켠다')\n",
        "elif a < 20: # 온도가 20도 미만인 경우\n",
        "  print(f'내복을 입는다')\n",
        "elif a > 10:  # 온도가 10도 미만인 경우\n",
        "  print(f'난방기를 켠다')"
      ],
      "metadata": {
        "colab": {
          "base_uri": "https://localhost:8080/"
        },
        "id": "C28Cmbxs-wwe",
        "outputId": "bc091e3e-6204-4ea5-e89d-2b10265463f3"
      },
      "execution_count": null,
      "outputs": [
        {
          "output_type": "stream",
          "name": "stdout",
          "text": [
            "온도를 입력하세요:10\n",
            "내복을 입는다\n"
          ]
        }
      ]
    },
    {
      "cell_type": "code",
      "source": [
        "# 피타고라스 정의 c^2=a^2+b^2\n",
        "\n",
        "a_length = int(input('변 a의 길이:'))\n",
        "b_length = int(input('변 b의 길이:'))\n",
        "c_length = int(input('변 c의 길이:'))\n",
        "print('-'*40)\n",
        "if a_length**2 + b_length**2 == c_length**2 or a_length**2 + c_length**2 == b_length**2 or b_length**2 + c_length**2 == a_length**2:\n",
        "    print('직각삼각형입니다.')\n",
        "else:\n",
        "    print('직각삼각형이 아닙니다.')\n",
        "\n",
        "#max_value = max(a_length,b_length,c_length)\n",
        "#print(\"최대값:\", max_value)\n",
        "\n",
        "\n",
        "\n",
        "\n"
      ],
      "metadata": {
        "colab": {
          "base_uri": "https://localhost:8080/"
        },
        "id": "OiF6HyhH8YUN",
        "outputId": "92e53b25-db21-40ea-d60e-3778823679e9"
      },
      "execution_count": null,
      "outputs": [
        {
          "output_type": "stream",
          "name": "stdout",
          "text": [
            "변 a의 길이:4\n",
            "변 b의 길이:3\n",
            "변 c의 길이:1\n",
            "----------------------------------------\n",
            "직각삼각형이 아닙니다.\n"
          ]
        }
      ]
    },
    {
      "cell_type": "code",
      "source": [
        "print(\"[커피 자동주문 머신메뉴]\")\n",
        "print(\"-\" * 40)\n",
        "print(''' - 아메리카노는 2500원\n",
        "          - 까페라테는 3000원\n",
        "          - 카푸치노는 3000원\n",
        "         입니다. 원하시는 커피종류와 잔수를 입력하세요.''')\n",
        "print(\"-\" * 45)\n",
        "\n",
        "# 각 커피의 가격 설정\n",
        "Americano_price = 2500\n",
        "latte_price = 3000\n",
        "cappuccino_price = 3000\n",
        "\n",
        "# 각 커피의 수량 입력 받기\n",
        "Americano_count = int(input('아메리카노 몇 잔? '))\n",
        "latte_count = int(input('까페라떼 몇 잔? '))\n",
        "cappuccino_count = int(input('카푸치노 몇 잔? '))\n",
        "\n",
        "# 각 커피별 가격 계산\n",
        "Americano_gap = Americano_price * Americano_count\n",
        "latte_gap = latte_price * latte_count\n",
        "cappuccino_gap = cappuccino_price * cappuccino_count\n",
        "\n",
        "# 총 가격 계산 및 출력\n",
        "total_price = Americano_gap + latte_gap + cappuccino_gap\n",
        "print(f'지불할 총 금액은 {total_price}원 입니다.')\n",
        "\n",
        "# 사용자가 돈을 입력하고 부족한 금액을 계산하여 추가로 넣을 수 있도록 함\n",
        "money = int(input('돈을 넣어주세요: '))\n",
        "if money < total_price:\n",
        "    additional_money = total_price - money\n",
        "    print(f'입력한 금액이 부족합니다. {additional_money}원을 더 넣어주세요.')\n",
        "else:\n",
        "    print('거스름돈은', money - total_price, '원입니다. ')"
      ],
      "metadata": {
        "colab": {
          "base_uri": "https://localhost:8080/"
        },
        "id": "lzlQTxx0Ni70",
        "outputId": "be9a5b3c-85be-4e64-97a9-33b7adff48b9"
      },
      "execution_count": 7,
      "outputs": [
        {
          "output_type": "stream",
          "name": "stdout",
          "text": [
            "[커피 자동주문 머신메뉴]\n",
            "----------------------------------------\n",
            " - 아메리카노는 2500원\n",
            "          - 까페라테는 3000원\n",
            "          - 카푸치노는 3000원\n",
            "         입니다. 원하시는 커피종류와 잔수를 입력하세요.\n",
            "---------------------------------------------\n",
            "아메리카노 몇 잔? 1\n",
            "까페라떼 몇 잔? 1\n",
            "카푸치노 몇 잔? 1\n",
            "지불할 총 금액은 8500원 입니다.\n",
            "돈을 넣어주세요: 4500\n",
            "입력한 금액이 부족합니다. 4000원을 더 넣어주세요.\n"
          ]
        }
      ]
    }
  ]
}