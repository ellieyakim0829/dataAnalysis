{
  "nbformat": 4,
  "nbformat_minor": 0,
  "metadata": {
    "colab": {
      "provenance": [],
      "authorship_tag": "ABX9TyMzVzw/1d2iBpyT9iltg89M",
      "include_colab_link": true
    },
    "kernelspec": {
      "name": "python3",
      "display_name": "Python 3"
    },
    "language_info": {
      "name": "python"
    }
  },
  "cells": [
    {
      "cell_type": "markdown",
      "metadata": {
        "id": "view-in-github",
        "colab_type": "text"
      },
      "source": [
        "<a href=\"https://colab.research.google.com/github/ellieyakim0829/dataAnalysis/blob/main/3%EC%9D%BC%EC%B0%A8_%ED%8C%8C%EC%9D%B4%EC%8D%AC%EA%B8%B0%EC%B4%88_%EC%BB%AC%EB%A0%89%EC%85%98%EC%9E%90%EB%A3%8C%ED%98%95.ipynb\" target=\"_parent\"><img src=\"https://colab.research.google.com/assets/colab-badge.svg\" alt=\"Open In Colab\"/></a>"
      ]
    },
    {
      "cell_type": "markdown",
      "source": [
        "#3. 컬렉션 자료형\n"
      ],
      "metadata": {
        "id": "7HpGbtpZTqim"
      }
    },
    {
      "cell_type": "markdown",
      "source": [
        "## 3-1. 리스트(List)\n"
      ],
      "metadata": {
        "id": "lQ6vj0_ZTuFG"
      }
    },
    {
      "cell_type": "markdown",
      "source": [
        "### 리스트 생성\n"
      ],
      "metadata": {
        "id": "NlJqRsv_TyJu"
      }
    },
    {
      "cell_type": "code",
      "source": [
        "# 빈 리스트 생성\n",
        "a =[]\n",
        "a =list()\n",
        "print(type(a))\n",
        "print(a)"
      ],
      "metadata": {
        "colab": {
          "base_uri": "https://localhost:8080/"
        },
        "id": "XOA7wqOaT00S",
        "outputId": "9caeb84e-1e72-4876-f432-0dd5c0c7f19c"
      },
      "execution_count": 5,
      "outputs": [
        {
          "output_type": "stream",
          "name": "stdout",
          "text": [
            "<class 'list'>\n",
            "[]\n"
          ]
        }
      ]
    },
    {
      "cell_type": "code",
      "source": [
        "#초기 데이타 넣고 리스트 생성\n",
        "import math\n",
        "a= [1,2,3,4,5]\n",
        "a=[1,'apple','딸기',3.14, math.pi, max([10,30,20])]\n",
        "b=[1,2,a,['사과','딸기'],{'k':'kiwi'}]\n",
        "print(a)\n",
        "print(b)\n"
      ],
      "metadata": {
        "colab": {
          "base_uri": "https://localhost:8080/"
        },
        "id": "VIq8vBnDUYd-",
        "outputId": "764d4f72-d022-4ca4-b37b-54e0f971b01c"
      },
      "execution_count": 10,
      "outputs": [
        {
          "output_type": "stream",
          "name": "stdout",
          "text": [
            "[1, 'apple', '딸기', 3.14, 3.141592653589793, 30]\n",
            "[1, 2, [1, 'apple', '딸기', 3.14, 3.141592653589793, 30], ['사과', '딸기'], {'k': 'kiwi'}]\n"
          ]
        }
      ]
    },
    {
      "cell_type": "code",
      "source": [
        "numlist = []\n",
        "for num in range(1,21,2): #for 반복문 ,range():정수를 순차로 발생시키는 함수\n",
        "    numlist.append(num)  # 리스트에 데이타 추가\n",
        "print(numlist)"
      ],
      "metadata": {
        "colab": {
          "base_uri": "https://localhost:8080/"
        },
        "id": "arTHl3i0VLWF",
        "outputId": "f64d5f7f-a503-4bec-a4ff-03d1ee9c745f"
      },
      "execution_count": 11,
      "outputs": [
        {
          "output_type": "stream",
          "name": "stdout",
          "text": [
            "[1, 3, 5, 7, 9, 11, 13, 15, 17, 19]\n"
          ]
        }
      ]
    },
    {
      "cell_type": "code",
      "source": [
        "print(b)\n",
        "for i in b: #for 반복문,b란 이름의 리스트 안에 있는 요소를 하나씩 출력하는 코드\n",
        "  print(i)"
      ],
      "metadata": {
        "colab": {
          "base_uri": "https://localhost:8080/"
        },
        "id": "XE0u_FA8VjDu",
        "outputId": "e01cf9ea-20a3-48ec-f0e3-f036d4c6c552"
      },
      "execution_count": 13,
      "outputs": [
        {
          "output_type": "stream",
          "name": "stdout",
          "text": [
            "[1, 2, [1, 'apple', '딸기', 3.14, 3.141592653589793, 30], ['사과', '딸기'], {'k': 'kiwi'}]\n",
            "1\n",
            "2\n",
            "[1, 'apple', '딸기', 3.14, 3.141592653589793, 30]\n",
            "['사과', '딸기']\n",
            "{'k': 'kiwi'}\n"
          ]
        }
      ]
    },
    {
      "cell_type": "markdown",
      "source": [
        "### 리스트 요소에 접급"
      ],
      "metadata": {
        "id": "IGskLfQIXY-t"
      }
    },
    {
      "cell_type": "code",
      "source": [
        "colors = ['빨강','초록','파랑','노랑','검정']\n",
        "print(colors[0])\n",
        "print(colors[2:4])\n",
        "print(colors[::-1])  #거꾸로 정령\n",
        "\n",
        "for color in colors:\n",
        "    print(f\"나는'{color}' 색상을 좋아합니다.\")\n"
      ],
      "metadata": {
        "colab": {
          "base_uri": "https://localhost:8080/"
        },
        "id": "DTc2FDR0XXXW",
        "outputId": "43d5d49f-fed4-405b-bc60-c933e09f5286"
      },
      "execution_count": 15,
      "outputs": [
        {
          "output_type": "stream",
          "name": "stdout",
          "text": [
            "빨강\n",
            "['파랑', '노랑']\n",
            "['검정', '노랑', '파랑', '초록', '빨강']\n",
            "나는'빨강' 색상을 좋아합니다.\n",
            "나는'초록' 색상을 좋아합니다.\n",
            "나는'파랑' 색상을 좋아합니다.\n",
            "나는'노랑' 색상을 좋아합니다.\n",
            "나는'검정' 색상을 좋아합니다.\n"
          ]
        }
      ]
    },
    {
      "cell_type": "markdown",
      "source": [
        "### 리스트에 요소 추가하기"
      ],
      "metadata": {
        "id": "2Aa7JElHYmtM"
      }
    },
    {
      "cell_type": "code",
      "source": [
        "print(colors)\n",
        "#인덱스 2위치에 '분홍' 넣기\n",
        "colors.insert(2,'분홍')\n",
        "print(colors)\n",
        "#맨 뒤에 추가하기\n",
        "colors.append('보라')\n",
        "print(colors)"
      ],
      "metadata": {
        "colab": {
          "base_uri": "https://localhost:8080/"
        },
        "id": "zE2Xa2_cYp6s",
        "outputId": "5249abb4-0d19-4006-bcfd-8c1d8bc29f3e"
      },
      "execution_count": 17,
      "outputs": [
        {
          "output_type": "stream",
          "name": "stdout",
          "text": [
            "['빨강', '초록', '분홍', '파랑', '노랑', '검정']\n",
            "['빨강', '초록', '분홍', '분홍', '파랑', '노랑', '검정']\n",
            "['빨강', '초록', '분홍', '분홍', '파랑', '노랑', '검정', '보라']\n"
          ]
        }
      ]
    },
    {
      "cell_type": "markdown",
      "source": [
        "### 리스트 특정 위치 요소값 변경"
      ],
      "metadata": {
        "id": "ICCxEeXVZe71"
      }
    },
    {
      "cell_type": "code",
      "source": [
        "colors[3] ='주황'\n",
        "print(colors)\n",
        "colors[1:3] ='갈색'\n",
        "print(colors)\n",
        "colors[1:3] =['갈색','고동']\n",
        "print(colors)\n",
        "colors[1:4] ='갈색' #주의! 인덱스 개수가 다르면 대체가 안되고 없어진다.\n",
        "print(colors)"
      ],
      "metadata": {
        "colab": {
          "base_uri": "https://localhost:8080/"
        },
        "id": "oQSlUv6XZnBs",
        "outputId": "e4302438-0771-4ae6-f236-26b65bd90f1e"
      },
      "execution_count": 22,
      "outputs": [
        {
          "output_type": "stream",
          "name": "stdout",
          "text": [
            "['빨강', '갈색', '고동', '주황', '파랑', '노랑', '검정', '보라']\n",
            "['빨강', '갈', '색', '주황', '파랑', '노랑', '검정', '보라']\n",
            "['빨강', '갈색', '고동', '주황', '파랑', '노랑', '검정', '보라']\n",
            "['빨강', '갈', '색', '파랑', '노랑', '검정', '보라']\n"
          ]
        }
      ]
    },
    {
      "cell_type": "markdown",
      "source": [
        "### 리스트의 요소 삭제"
      ],
      "metadata": {
        "id": "Vr2E8vZEbdJD"
      }
    },
    {
      "cell_type": "code",
      "source": [
        "colors = ['빨강','초록','파랑','노랑','검정','노랑']\n",
        "#맨뒤에 있는 리스트 꺼내기\n",
        "colors.pop()\n",
        "print(colors)\n",
        "\n",
        "#요소값과 일치하는것 삭제\n",
        "colors.remove('노랑')\n",
        "print(colors)\n",
        "# 전체 요소 삭제\n",
        "colors.clear()\n",
        "print(colors)\n"
      ],
      "metadata": {
        "colab": {
          "base_uri": "https://localhost:8080/"
        },
        "id": "Q_XW2MrZbk_r",
        "outputId": "70ba9b3b-79a4-4a03-f9c9-39848fdd54fd"
      },
      "execution_count": 24,
      "outputs": [
        {
          "output_type": "stream",
          "name": "stdout",
          "text": [
            "['빨강', '초록', '파랑', '노랑', '검정']\n",
            "['빨강', '초록', '파랑', '검정']\n",
            "[]\n"
          ]
        }
      ]
    },
    {
      "cell_type": "markdown",
      "source": [
        "### 리스트 자체- 삭제"
      ],
      "metadata": {
        "id": "MTeH8-wscxQ7"
      }
    },
    {
      "cell_type": "code",
      "source": [
        "del(colors)\n",
        "print(colors)"
      ],
      "metadata": {
        "id": "gIRFPUlKc0dj"
      },
      "execution_count": null,
      "outputs": []
    },
    {
      "cell_type": "markdown",
      "source": [
        "### 2차원/3차원... 리스트 요소 접근"
      ],
      "metadata": {
        "id": "1aLVwA44c6O7"
      }
    },
    {
      "cell_type": "code",
      "source": [
        "animals =['사자','호랑이','곰', '고양이','강아지','돌고래','범고래','햄스터']\n",
        "\n",
        "print(animals)\n",
        "print(animals[1])\n",
        "print(animals[3])\n",
        "#print(animals[3][1])"
      ],
      "metadata": {
        "colab": {
          "base_uri": "https://localhost:8080/"
        },
        "id": "z7AQpM8Oc-B7",
        "outputId": "103df924-0b01-44ad-8677-93b544a3fb21"
      },
      "execution_count": 35,
      "outputs": [
        {
          "output_type": "stream",
          "name": "stdout",
          "text": [
            "['사자', '호랑이', '곰', '고양이', '강아지', '돌고래', '범고래', '햄스터']\n",
            "호랑이\n",
            "고양이\n"
          ]
        }
      ]
    },
    {
      "cell_type": "markdown",
      "source": [],
      "metadata": {
        "id": "GnFQlXnRfZmx"
      }
    },
    {
      "cell_type": "code",
      "source": [
        "print(animals)\n",
        "print(len(animals))\n",
        "print(len(animals[3]))\n",
        "print(len(animals[3][2]))\n"
      ],
      "metadata": {
        "id": "fHW7lEWqfYRK"
      },
      "execution_count": null,
      "outputs": []
    },
    {
      "cell_type": "markdown",
      "source": [
        "### 리스트 함수"
      ],
      "metadata": {
        "id": "A0NSYRP8gDpi"
      }
    },
    {
      "cell_type": "code",
      "source": [
        "colors = ['빨강','초록','파랑','노랑','검정']\n",
        "# 리스트 요소 정렬\n",
        "print(colors)\n",
        "colors.sort()   # 순자 정렬(가나다 순)\n",
        "print(colors)\n",
        "\n",
        "colors.reverse()  # 역순 정렬\n",
        "print(colors)\n",
        "\n",
        "# 리스트의 특정 요소 위치 찾기\n",
        "print(colors.index('빨강'))\n",
        "print(colors.index('노랑')) # 여러 개 있을 경우 맨 앞의 인덱스 나타내기\n",
        "\n",
        "# 요수 값 개수 세기\n",
        "print(f\"요소 값 개수세기 : {colors.count('노랑')}\")\n",
        "\n",
        "# 리스트 정렬 새로운 이름을 저장해서 사용\n",
        "new = sorted(colors)\n",
        "print(new)"
      ],
      "metadata": {
        "colab": {
          "base_uri": "https://localhost:8080/"
        },
        "id": "49-WI5MngHcp",
        "outputId": "2e4752ca-5413-49da-b993-f203d19d7ed5"
      },
      "execution_count": 32,
      "outputs": [
        {
          "output_type": "stream",
          "name": "stdout",
          "text": [
            "['빨강', '초록', '파랑', '노랑', '검정']\n",
            "['검정', '노랑', '빨강', '초록', '파랑']\n",
            "['파랑', '초록', '빨강', '노랑', '검정']\n",
            "2\n",
            "3\n",
            "요소 값 개수세기 : 1\n",
            "['검정', '노랑', '빨강', '초록', '파랑']\n"
          ]
        }
      ]
    },
    {
      "cell_type": "code",
      "source": [
        "colors = ['빨강','초록','파랑','노랑','검정','노랑']\n",
        "newColors =['red','green','blus']\n",
        "print(colors)\n",
        "print(newColors)\n",
        "colors.extend(newColors)\n",
        "print(colors)\n",
        "\n",
        "\n",
        "colors = ['빨강','초록','파랑','노랑','검정','노랑']\n",
        "newColors =['red','green','blus']\n",
        "colors += newColors\n",
        "print(colors)"
      ],
      "metadata": {
        "colab": {
          "base_uri": "https://localhost:8080/"
        },
        "id": "I4YN9CSOiEJK",
        "outputId": "5b2f7179-d05d-4be4-8234-3f03bd511277"
      },
      "execution_count": 34,
      "outputs": [
        {
          "output_type": "stream",
          "name": "stdout",
          "text": [
            "['빨강', '초록', '파랑', '노랑', '검정', '노랑']\n",
            "['red', 'green', 'blus']\n",
            "['빨강', '초록', '파랑', '노랑', '검정', '노랑', 'red', 'green', 'blus']\n",
            "['빨강', '초록', '파랑', '노랑', '검정', '노랑', 'red', 'green', 'blus']\n"
          ]
        }
      ]
    },
    {
      "cell_type": "markdown",
      "source": [
        "## 3-2. 딕셔너리(Dictionary)"
      ],
      "metadata": {
        "id": "iTBNWj81ne33"
      }
    },
    {
      "cell_type": "markdown",
      "source": [
        "### 딕셔너리 자료 생성"
      ],
      "metadata": {
        "id": "BcxU1lpfnpZ_"
      }
    },
    {
      "cell_type": "code",
      "source": [
        "dic = dict() #빈 딕셔너리 생성\n",
        "dic ={}     #빈 딕셔너리 생성\n",
        "print(type(dic))"
      ],
      "metadata": {
        "colab": {
          "base_uri": "https://localhost:8080/"
        },
        "id": "lPAW3Wa1tVGc",
        "outputId": "c00b1cd5-ef37-4ad6-b1c3-54a0953cc901"
      },
      "execution_count": 38,
      "outputs": [
        {
          "output_type": "stream",
          "name": "stdout",
          "text": [
            "<class 'dict'>\n"
          ]
        }
      ]
    },
    {
      "cell_type": "code",
      "source": [
        "# 딕셔러니는 key:Value\n",
        "members ={1:'이승철',2:'박정현','bts':['진','rm','뷔','지민']}\n",
        "print(members)\n",
        "print(members[2]) # 2->key값이다.\n",
        "print(members['bts'])\n",
        "print(members['bts'][1])\n",
        "print(len(members))"
      ],
      "metadata": {
        "colab": {
          "base_uri": "https://localhost:8080/"
        },
        "id": "j4Cg2Q-2tqad",
        "outputId": "bf843237-f65f-4d63-ec65-2bccb8b620a1"
      },
      "execution_count": 40,
      "outputs": [
        {
          "output_type": "stream",
          "name": "stdout",
          "text": [
            "{1: '이승철', 2: '박정현', 'bts': ['진', 'rm', '뷔', '지민']}\n",
            "박정현\n",
            "['진', 'rm', '뷔', '지민']\n",
            "rm\n",
            "3\n"
          ]
        }
      ]
    },
    {
      "cell_type": "markdown",
      "source": [
        "###딕셔너리에서 value에 접근하기\n",
        "- key를 통해서 value에 접근할 수 있다."
      ],
      "metadata": {
        "id": "QkqhX82pv1As"
      }
    },
    {
      "cell_type": "code",
      "source": [
        "members ={1:'이승철',2:'박정현','bts':['진','rm','뷔','지민']}\n",
        "for key in members:\n",
        "    print(f\"key ->{key}, value->{members[key]}\")"
      ],
      "metadata": {
        "colab": {
          "base_uri": "https://localhost:8080/"
        },
        "id": "mqIPveeTvJK8",
        "outputId": "5928dcc6-eee9-4205-8893-0fababb01a41"
      },
      "execution_count": 42,
      "outputs": [
        {
          "output_type": "stream",
          "name": "stdout",
          "text": [
            "key ->1, value->이승철\n",
            "key ->2, value->박정현\n",
            "key ->bts, value->['진', 'rm', '뷔', '지민']\n"
          ]
        }
      ]
    },
    {
      "cell_type": "markdown",
      "source": [
        "### 딕셔너리에서 자주 사용하는 함수"
      ],
      "metadata": {
        "id": "jqwsZkDlwHBd"
      }
    },
    {
      "cell_type": "code",
      "source": [
        "members ={1:'이승철',2:'박정현','bts':['진','rm','뷔','지민']}\n",
        "print(members.keys())   #key만 모아둔 것\n",
        "print(members.values()) #value만 모아둔 것\n",
        "print(members.items())  #(key, value) 쌍으로 모아둔 것"
      ],
      "metadata": {
        "colab": {
          "base_uri": "https://localhost:8080/"
        },
        "id": "g1sqL2OEwLbM",
        "outputId": "7c94e1fc-e527-431f-b765-560ad347e58a"
      },
      "execution_count": 44,
      "outputs": [
        {
          "output_type": "stream",
          "name": "stdout",
          "text": [
            "dict_keys([1, 2, 'bts'])\n",
            "dict_values(['이승철', '박정현', ['진', 'rm', '뷔', '지민']])\n",
            "dict_items([(1, '이승철'), (2, '박정현'), ('bts', ['진', 'rm', '뷔', '지민'])])\n"
          ]
        }
      ]
    },
    {
      "cell_type": "code",
      "source": [
        "# for(key,value) in members.items():\n",
        "for key,value in members.items():\n",
        "    print(key, value)\n",
        "\n",
        "for key in members.items():\n",
        "    print(key, members[key])"
      ],
      "metadata": {
        "colab": {
          "base_uri": "https://localhost:8080/"
        },
        "id": "9PgYGsfrwvac",
        "outputId": "ad694f41-436e-4e91-959b-67b87516df78"
      },
      "execution_count": 46,
      "outputs": [
        {
          "output_type": "stream",
          "name": "stdout",
          "text": [
            "1 이승철\n",
            "2 박정현\n",
            "bts ['진', 'rm', '뷔', '지민']\n"
          ]
        }
      ]
    },
    {
      "cell_type": "markdown",
      "source": [
        "### 딕셔너리에 요소 추가/수정/삭제\n"
      ],
      "metadata": {
        "id": "Mr3RQqy8x557"
      }
    },
    {
      "cell_type": "code",
      "source": [
        "members ={1:'이승철',2:'박정현','bts':['진','rm','뷔','지민']}\n",
        "print(members)\n",
        "# 요소 추가\n",
        "members[3] = 'NCT Dream'\n",
        "members['소속사'] = ['하이브','SM기획']\n",
        "print(members)\n",
        "\n",
        "# 요소 수정\n",
        "members[1] ='세븐틴'\n",
        "print(members)\n",
        "\n",
        "#요소 삭제\n",
        "del(members['소속사'])\n",
        "print(members)\n",
        "\n",
        "# 딕셔너리 삭제\n",
        "del(members)\n",
        "print(members)"
      ],
      "metadata": {
        "colab": {
          "base_uri": "https://localhost:8080/"
        },
        "id": "tgFofsw7x_H7",
        "outputId": "cdf98c69-8c04-42cd-ec35-4e9e6c234064"
      },
      "execution_count": 51,
      "outputs": [
        {
          "output_type": "stream",
          "name": "stdout",
          "text": [
            "{1: '이승철', 2: '박정현', 'bts': ['진', 'rm', '뷔', '지민']}\n",
            "{1: '이승철', 2: '박정현', 'bts': ['진', 'rm', '뷔', '지민'], 3: 'NCT Dream', '소속사': ['하이브', 'SM기획']}\n",
            "{1: '세븐틴', 2: '박정현', 'bts': ['진', 'rm', '뷔', '지민'], 3: 'NCT Dream', '소속사': ['하이브', 'SM기획']}\n",
            "{1: '세븐틴', 2: '박정현', 'bts': ['진', 'rm', '뷔', '지민'], 3: 'NCT Dream'}\n"
          ]
        }
      ]
    },
    {
      "cell_type": "code",
      "source": [
        "### 3-3. 튜플(Tuple)"
      ],
      "metadata": {
        "id": "hP1m8pIFzdte"
      },
      "execution_count": null,
      "outputs": []
    },
    {
      "cell_type": "markdown",
      "source": [
        "### 튜플 생성"
      ],
      "metadata": {
        "id": "n97-AHgezjXT"
      }
    },
    {
      "cell_type": "code",
      "source": [
        "tup =tuple() # 빈 튜플 생성\n",
        "tup =()      # 빈 튜플 생성\n",
        "print(type(tup))\n",
        "\n",
        "a = [1,1,3,4]\n",
        "print(a)\n",
        "print(tuple(a)) # 리스트를 튜플로 변환"
      ],
      "metadata": {
        "colab": {
          "base_uri": "https://localhost:8080/"
        },
        "id": "pJYGicCWz3va",
        "outputId": "58d7f9c1-6d56-43ef-fd21-e735bfe58f01"
      },
      "execution_count": 55,
      "outputs": [
        {
          "output_type": "stream",
          "name": "stdout",
          "text": [
            "<class 'tuple'>\n",
            "[1, 1, 3, 4]\n",
            "(1, 1, 3, 4)\n"
          ]
        }
      ]
    },
    {
      "cell_type": "code",
      "source": [
        "tup =('사과') # 괄호는 묶음의 의미로 해석\n",
        "print(type(tup))\n",
        "tup =('사과',)\n",
        "print(type(tup)) # 튜플에서 요소가 하나일 떄는 반드시 맨뒤에 ,(쉼표)추가"
      ],
      "metadata": {
        "colab": {
          "base_uri": "https://localhost:8080/"
        },
        "id": "FvcVs_cR0jdq",
        "outputId": "74a974b1-323d-4d73-b917-b10f9a368817"
      },
      "execution_count": 57,
      "outputs": [
        {
          "output_type": "stream",
          "name": "stdout",
          "text": [
            "<class 'str'>\n",
            "<class 'tuple'>\n"
          ]
        }
      ]
    },
    {
      "cell_type": "code",
      "source": [
        "help(list) # 쓸수있는 함수를 알려준다. 자료형에 대한 도움말"
      ],
      "metadata": {
        "id": "mRXENPNq1G_S"
      },
      "execution_count": null,
      "outputs": []
    },
    {
      "cell_type": "markdown",
      "source": [
        "### 튜플은 변수를 정의할 떄/ 함수의 파라미터의 정의에 사용"
      ],
      "metadata": {
        "id": "f2qwqmmK2Cda"
      }
    },
    {
      "cell_type": "code",
      "source": [
        "a,b = 100,200\n",
        "a,b = 100,[1,2,3]\n",
        "print(a)\n",
        "print(b)"
      ],
      "metadata": {
        "colab": {
          "base_uri": "https://localhost:8080/"
        },
        "id": "j_VCBm262SJC",
        "outputId": "2d0c176c-2f28-47b2-d09b-1da467cd3a91"
      },
      "execution_count": 61,
      "outputs": [
        {
          "output_type": "stream",
          "name": "stdout",
          "text": [
            "100\n",
            "[1, 2, 3]\n"
          ]
        }
      ]
    },
    {
      "cell_type": "code",
      "source": [
        "def nSum(a,b): #parameter\n",
        "    return a+b\n",
        "nSum(100,200) #argument\n"
      ],
      "metadata": {
        "colab": {
          "base_uri": "https://localhost:8080/"
        },
        "id": "S2wZl95C2mgq",
        "outputId": "528e9128-ce81-48ce-bc7b-df408f3764c8"
      },
      "execution_count": 63,
      "outputs": [
        {
          "output_type": "execute_result",
          "data": {
            "text/plain": [
              "300"
            ]
          },
          "metadata": {},
          "execution_count": 63
        }
      ]
    },
    {
      "cell_type": "markdown",
      "source": [
        "## 3-4 집합(set"
      ],
      "metadata": {
        "id": "1mwV2miM6PnY"
      }
    },
    {
      "cell_type": "markdown",
      "source": [
        "### 집합 생성"
      ],
      "metadata": {
        "id": "ZAeawYVG6Vyg"
      }
    },
    {
      "cell_type": "code",
      "source": [
        "a = set() # 빈 집합 생성\n",
        "print(type(a))\n",
        "\n",
        "a ={1,2,3,4,2,2,2,4} #unique한 데이터만 남는다.\n",
        "print(a)"
      ],
      "metadata": {
        "colab": {
          "base_uri": "https://localhost:8080/"
        },
        "id": "3wCI2orw3KQa",
        "outputId": "ee18bf2a-d407-4032-abff-e573db1c6375"
      },
      "execution_count": 65,
      "outputs": [
        {
          "output_type": "stream",
          "name": "stdout",
          "text": [
            "<class 'set'>\n",
            "{1, 2, 3, 4}\n"
          ]
        }
      ]
    },
    {
      "cell_type": "markdown",
      "source": [
        "### 집합은 중복된 데이터는 배제한다.\n",
        "\n",
        " unique한 데이터만 남는다.\n",
        "\n"
      ],
      "metadata": {
        "id": "WGgZsMIn6wqQ"
      }
    },
    {
      "cell_type": "code",
      "source": [
        "a =[1,2,3,4,5,6,7,2,2,3,5,6,7,5,2]\n",
        "print(a)\n",
        "a = list(set(a))\n",
        "print(a)"
      ],
      "metadata": {
        "colab": {
          "base_uri": "https://localhost:8080/"
        },
        "id": "NJb0gSjx69iw",
        "outputId": "0b71f82a-bdfb-4bbe-be43-b4e5336766e2"
      },
      "execution_count": 66,
      "outputs": [
        {
          "output_type": "stream",
          "name": "stdout",
          "text": [
            "[1, 2, 3, 4, 5, 6, 7, 2, 2, 3, 5, 6, 7, 5, 2]\n",
            "[1, 2, 3, 4, 5, 6, 7]\n"
          ]
        }
      ]
    },
    {
      "cell_type": "markdown",
      "source": [
        "### 집합에 요수 추가/삭제"
      ],
      "metadata": {
        "id": "uI39Akgq7YZ4"
      }
    },
    {
      "cell_type": "code",
      "source": [
        "S ={1,2,'a','b'}\n",
        "print(S)\n",
        "\n",
        "#요소 1개 추가\n",
        "S.add(4)\n",
        "print(S)\n",
        "\n",
        "# 요소 여러 개 추가\n",
        "S.update(['c','d',5])\n",
        "print(S)\n",
        "S.update('apple')\n",
        "print(S)\n",
        "\n",
        "# 요소 1개 삭제\n",
        "S.discard('a')\n",
        "print(S)\n",
        "S.discard('apple')\n",
        "print(S)\n",
        "\n",
        "# 특정 요소 삭제\n",
        "S.remove(1)\n",
        "print(S)\n",
        "\n",
        "# 임의의 요소 1개 삭제\n",
        "S.pop()\n",
        "print(S)\n",
        "\n"
      ],
      "metadata": {
        "colab": {
          "base_uri": "https://localhost:8080/"
        },
        "id": "w2wA1w-x7hOg",
        "outputId": "bc622306-9d89-4bf5-ec90-a0e7f581bbbc"
      },
      "execution_count": 81,
      "outputs": [
        {
          "output_type": "stream",
          "name": "stdout",
          "text": [
            "{'a', 1, 2, 'b'}\n",
            "{1, 2, 4, 'a', 'b'}\n",
            "{1, 2, 4, 5, 'a', 'b', 'c', 'd'}\n",
            "{1, 2, 'p', 4, 5, 'l', 'a', 'b', 'c', 'e', 'd'}\n",
            "{1, 2, 'p', 4, 5, 'l', 'b', 'c', 'e', 'd'}\n",
            "{1, 2, 'p', 4, 5, 'l', 'b', 'c', 'e', 'd'}\n",
            "{2, 'p', 4, 5, 'l', 'b', 'c', 'e', 'd'}\n",
            "{'p', 4, 5, 'l', 'b', 'c', 'e', 'd'}\n"
          ]
        }
      ]
    },
    {
      "cell_type": "code",
      "source": [
        "# 집합 삭제\n",
        "del(S)\n",
        "print(S)"
      ],
      "metadata": {
        "id": "CppelOOl-A0A"
      },
      "execution_count": null,
      "outputs": []
    },
    {
      "cell_type": "markdown",
      "source": [
        "### 교집합/합집합/차집합"
      ],
      "metadata": {
        "id": "LX99V55p-klY"
      }
    },
    {
      "cell_type": "code",
      "source": [
        "S1 = {1,2,3,4,5}\n",
        "S2 = {3,4,5,6,7}\n",
        "print(S1)\n",
        "print(S2)\n",
        "\n",
        "# 교집합\n",
        "print(S1 & S2)\n",
        "print(S1.intersection(S2))\n",
        "\n",
        "# 합집합\n",
        "print(S1 | S2)\n",
        "print(S1.union(S2))\n",
        "\n",
        "# 차집합\n",
        "print(S1 - S2)\n",
        "print(S1.difference(S2))\n",
        "print(S2 - S1)\n",
        "print(S1.difference(S1))\n",
        "\n",
        "# 세계 이상 집합에서 사용\n",
        "S3 ={5,6,7}\n",
        "print(S1.intersection_update(S2,S3))\n",
        "print(S1)"
      ],
      "metadata": {
        "colab": {
          "base_uri": "https://localhost:8080/"
        },
        "id": "GlXi7gQ2-pHw",
        "outputId": "e99a9717-83d3-4c0c-bcff-4e38f99abdf1"
      },
      "execution_count": 87,
      "outputs": [
        {
          "output_type": "stream",
          "name": "stdout",
          "text": [
            "{1, 2, 3, 4, 5}\n",
            "{3, 4, 5, 6, 7}\n",
            "{3, 4, 5}\n",
            "{3, 4, 5}\n",
            "{1, 2, 3, 4, 5, 6, 7}\n",
            "{1, 2, 3, 4, 5, 6, 7}\n",
            "{1, 2}\n",
            "{1, 2}\n",
            "{6, 7}\n",
            "set()\n",
            "None\n",
            "{5}\n"
          ]
        }
      ]
    }
  ]
}