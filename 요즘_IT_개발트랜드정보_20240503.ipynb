{
  "nbformat": 4,
  "nbformat_minor": 0,
  "metadata": {
    "colab": {
      "provenance": [],
      "authorship_tag": "ABX9TyPFJL/ELvmtZmo5+aiEU/3y",
      "include_colab_link": true
    },
    "kernelspec": {
      "name": "python3",
      "display_name": "Python 3"
    },
    "language_info": {
      "name": "python"
    }
  },
  "cells": [
    {
      "cell_type": "markdown",
      "metadata": {
        "id": "view-in-github",
        "colab_type": "text"
      },
      "source": [
        "<a href=\"https://colab.research.google.com/github/ellieyakim0829/dataAnalysis/blob/main/%EC%9A%94%EC%A6%98_IT_%EA%B0%9C%EB%B0%9C%ED%8A%B8%EB%9E%9C%EB%93%9C%EC%A0%95%EB%B3%B4_20240503.ipynb\" target=\"_parent\"><img src=\"https://colab.research.google.com/assets/colab-badge.svg\" alt=\"Open In Colab\"/></a>"
      ]
    },
    {
      "cell_type": "code",
      "execution_count": null,
      "metadata": {
        "id": "ccQ3qQ0ZGRmF"
      },
      "outputs": [],
      "source": []
    },
    {
      "cell_type": "markdown",
      "source": [
        "챗봇_생성형 AI\n",
        "\n",
        "걱정\n",
        "1)민감한 정보를 어떻게\n",
        "- API openAPI claude API\n",
        "- LLM 모델 회사 자체에서 생성형 AI를 만들겠다.\n",
        "- 오픈소스 LML 모델 Liama3(Meta) 회사에서 필요한 기능만 따로 분류해서 자체 프로그램으로 만들수 있는 머신\n",
        "=> Langchain\n",
        "\n",
        "2)우리 은행에 특화된 대답을 해줘야 =>RAG\n",
        "생성형 AI+특정테이타 학습\n"
      ],
      "metadata": {
        "id": "1gfxLbLFGTCm"
      }
    }
  ]
}