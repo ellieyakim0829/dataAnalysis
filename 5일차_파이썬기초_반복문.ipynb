{
  "nbformat": 4,
  "nbformat_minor": 0,
  "metadata": {
    "colab": {
      "provenance": [],
      "authorship_tag": "ABX9TyMdBjKgONpuv8+jBvhZhGRs",
      "include_colab_link": true
    },
    "kernelspec": {
      "name": "python3",
      "display_name": "Python 3"
    },
    "language_info": {
      "name": "python"
    }
  },
  "cells": [
    {
      "cell_type": "markdown",
      "metadata": {
        "id": "view-in-github",
        "colab_type": "text"
      },
      "source": [
        "<a href=\"https://colab.research.google.com/github/ellieyakim0829/dataAnalysis/blob/main/5%EC%9D%BC%EC%B0%A8_%ED%8C%8C%EC%9D%B4%EC%8D%AC%EA%B8%B0%EC%B4%88_%EB%B0%98%EB%B3%B5%EB%AC%B8.ipynb\" target=\"_parent\"><img src=\"https://colab.research.google.com/assets/colab-badge.svg\" alt=\"Open In Colab\"/></a>"
      ]
    },
    {
      "cell_type": "markdown",
      "source": [
        "# 5. 반복문"
      ],
      "metadata": {
        "id": "H-NiYErrnJBj"
      }
    },
    {
      "cell_type": "markdown",
      "source": [
        "## 5-1. for 반복문\n",
        "유한개수의 반복"
      ],
      "metadata": {
        "id": "3kqc85NZoCCL"
      }
    },
    {
      "cell_type": "markdown",
      "source": [
        "### 1.다양한 반복문"
      ],
      "metadata": {
        "id": "tPXcZ30lnPpa"
      }
    },
    {
      "cell_type": "code",
      "execution_count": 2,
      "metadata": {
        "colab": {
          "base_uri": "https://localhost:8080/"
        },
        "id": "nXAsdI3HfFVq",
        "outputId": "8e4bec02-0e50-4621-ccd6-11cff03d81a2"
      },
      "outputs": [
        {
          "output_type": "stream",
          "name": "stdout",
          "text": [
            "0\n",
            "1\n",
            "2\n"
          ]
        }
      ],
      "source": [
        "# 1. range() 함수 이용 : 정수를 차례로 발생시키는 함수\n",
        "#for 변수 in range(0,3,1):\n",
        "for 변수 in range(3):\n",
        "    print(변수)"
      ]
    },
    {
      "cell_type": "code",
      "source": [
        "# 2. 리스트 이용\n",
        "a = list(range(10,0,-1))\n",
        "a = list(range(1,11))\n",
        "for i in a:\n",
        "    print(i) # 한줄로 표현하고 싶을때\n",
        "    print(i, end='.') # 한줄로 표현하고 싶을때"
      ],
      "metadata": {
        "colab": {
          "base_uri": "https://localhost:8080/"
        },
        "id": "J9TsgiZkn9Od",
        "outputId": "0c63fcbd-dab2-427a-e1ef-98bff1b56cd1"
      },
      "execution_count": 13,
      "outputs": [
        {
          "output_type": "stream",
          "name": "stdout",
          "text": [
            "1\n",
            "1.2\n",
            "2.3\n",
            "3.4\n",
            "4.5\n",
            "5.6\n",
            "6.7\n",
            "7.8\n",
            "8.9\n",
            "9.10\n",
            "10."
          ]
        }
      ]
    },
    {
      "cell_type": "code",
      "source": [
        "for i in range(1, 101,10):\n",
        "    print(i, end='') # 10씩 끊어서  한줄로 표현하고 싶을때 소스 구현해봐라"
      ],
      "metadata": {
        "colab": {
          "base_uri": "https://localhost:8080/"
        },
        "id": "zmc5pCNGpgwE",
        "outputId": "32983da2-bc9d-4483-cd2c-e94f98e5b1cc"
      },
      "execution_count": 14,
      "outputs": [
        {
          "output_type": "stream",
          "name": "stdout",
          "text": [
            "1112131415161718191"
          ]
        }
      ]
    },
    {
      "cell_type": "code",
      "source": [
        "# 3. 문자열 이용\n",
        "for i in 'python':\n",
        "    print(i)"
      ],
      "metadata": {
        "colab": {
          "base_uri": "https://localhost:8080/"
        },
        "id": "jXTp01p4qP10",
        "outputId": "aef8dc78-8279-4dbb-d909-46715f043619"
      },
      "execution_count": 15,
      "outputs": [
        {
          "output_type": "stream",
          "name": "stdout",
          "text": [
            "p\n",
            "y\n",
            "t\n",
            "h\n",
            "o\n",
            "n\n"
          ]
        }
      ]
    },
    {
      "cell_type": "code",
      "source": [
        "# 4. 변수 사용안하고 반복만 할 때\n",
        "for _ in range(3):\n",
        "    print(\"좋은아침\")"
      ],
      "metadata": {
        "colab": {
          "base_uri": "https://localhost:8080/"
        },
        "id": "64kXsipPqgOb",
        "outputId": "05961583-677c-4f95-a0a1-96d672bd81c5"
      },
      "execution_count": 17,
      "outputs": [
        {
          "output_type": "stream",
          "name": "stdout",
          "text": [
            "좋은아침\n",
            "좋은아침\n",
            "좋은아침\n"
          ]
        }
      ]
    },
    {
      "cell_type": "code",
      "source": [
        "# 5. 리스트와 같은 순서가 있는 자료형의 인덱스를 함께 사용\n",
        "fruits = ['사과','포도','딸기','키위']\n",
        "idx = 0\n",
        "for fruit in fruits:\n",
        "    print(idx,fruit)\n",
        "    idx = idx+1\n",
        "\n",
        "for idx, fruit in enumerate(fruits):\n",
        "    print(idx,fruit)"
      ],
      "metadata": {
        "colab": {
          "base_uri": "https://localhost:8080/"
        },
        "id": "NACyd0NKq4hs",
        "outputId": "7a0708c2-3a38-4795-e16b-af22f5677f2b"
      },
      "execution_count": 20,
      "outputs": [
        {
          "output_type": "stream",
          "name": "stdout",
          "text": [
            "0 사과\n",
            "1 포도\n",
            "2 딸기\n",
            "3 키위\n",
            "0 사과\n",
            "1 포도\n",
            "2 딸기\n",
            "3 키위\n"
          ]
        }
      ]
    },
    {
      "cell_type": "code",
      "source": [
        "# 6. 컬렉션 자료형의 이용\n",
        "for a, b in [(1,2),(3,4),(5,6)]:\n",
        "    print(a,b)\n",
        "print('-'*30)\n",
        "dic ={1:'사과', 2:'포도'}\n",
        "for key in dic:\n",
        "    print(key)  #items 사용안하면 key값만 불러온다.\n",
        "\n",
        "print('-'*30)\n",
        "for key,value in dic.items(): #키 벨류 값 가져오려면 무조건 Items 함수를 사용한다.\n",
        "    print(key,value)\n",
        "\n",
        "print('-'*30)\n",
        "for v in {1,2,3,3,4,5,3}:\n",
        "    print(v)\n",
        "\n"
      ],
      "metadata": {
        "id": "nsQ5Fk-psWSU"
      },
      "execution_count": null,
      "outputs": []
    },
    {
      "cell_type": "code",
      "source": [
        "n = int(input('합계를 구할 숫자 입력 : '))\n",
        "hap = 0\n",
        "for i in range(1,n+1):\n",
        "    if n%2 ==1:\n",
        "        hap+= i\n",
        "print(f'1부터 {n}까지의 짝수를 제외한 합은 :{hap}')\n",
        "\n",
        "\n"
      ],
      "metadata": {
        "colab": {
          "base_uri": "https://localhost:8080/"
        },
        "id": "YM1lhIOhuWuz",
        "outputId": "35c50a2e-a24d-42f1-bb0c-c09d549543dd"
      },
      "execution_count": 34,
      "outputs": [
        {
          "output_type": "stream",
          "name": "stdout",
          "text": [
            "합계를 구할 숫자 입력 : 1000\n",
            "1부터 1000까지의 짝수를 제외한 합은 :0\n"
          ]
        }
      ]
    },
    {
      "cell_type": "code",
      "source": [
        "n = int(input('합계를 구할 숫자 입력 : '))\n",
        "hap = sum([i for i in range(1, n+1, 2)])\n",
        "print(f'1부터 {n}까지의 짝수를 제외한 합은 :{hap}')"
      ],
      "metadata": {
        "colab": {
          "base_uri": "https://localhost:8080/"
        },
        "id": "DhcoFfViwQVp",
        "outputId": "97ef1c6f-4b0a-4e5d-95c3-1fdb86c94466"
      },
      "execution_count": 31,
      "outputs": [
        {
          "output_type": "stream",
          "name": "stdout",
          "text": [
            "합계를 구할 숫자 입력 : 1000\n",
            "1부터 1000까지의 짝수를 제외한 합은 :250000\n"
          ]
        }
      ]
    },
    {
      "cell_type": "code",
      "source": [
        "n = int(input('합계를 구할 숫자 입력 : '))\n",
        "hap = 0\n",
        "for i in range(1,n+1,2):\n",
        "    hap+= i\n",
        "print(f'1부터 {n}까지의 짝수를 제외한 합은 :{hap}')"
      ],
      "metadata": {
        "colab": {
          "base_uri": "https://localhost:8080/"
        },
        "id": "JMj5hDS2wEuJ",
        "outputId": "20535882-7488-4e8b-c8d8-35b9d2a9acb8"
      },
      "execution_count": 33,
      "outputs": [
        {
          "output_type": "stream",
          "name": "stdout",
          "text": [
            "합계를 구할 숫자 입력 : 1000\n",
            "1부터 1000까지의 짝수를 제외한 합은 :250000\n"
          ]
        }
      ]
    },
    {
      "cell_type": "code",
      "source": [
        "n = int(input('숫자 입력 : '))\n",
        "hap = sum([i for i in range(1, n+1, 2)]  )\n",
        "print(hap)"
      ],
      "metadata": {
        "colab": {
          "base_uri": "https://localhost:8080/"
        },
        "id": "nZQXdrVPy7eQ",
        "outputId": "2fa1515d-c09b-4e46-ccf8-bd3a0d509d00"
      },
      "execution_count": 37,
      "outputs": [
        {
          "output_type": "stream",
          "name": "stdout",
          "text": [
            "숫자 입력 : 1000\n",
            "250000\n"
          ]
        }
      ]
    },
    {
      "cell_type": "markdown",
      "source": [
        "### [실습문제 ]정오각형 그리기\n",
        "- turtle 모듈은 코랩에서 사용할 수 없음.\n",
        "pc에서 사용하기\n",
        "\n",
        "import turtle\n",
        "t = turtle.Pen()\n",
        "t.forward(100)\n",
        "t.right(72)\n",
        "\n",
        "turtle.exitonclick()"
      ],
      "metadata": {
        "id": "HAz0GicZ2HP-"
      }
    },
    {
      "cell_type": "code",
      "source": [
        "import turtle\n",
        "t = turtle.Pen()\n",
        "t.forward(100)\n",
        "t.right(72)\n",
        "\n",
        "turtle.exitonclick()"
      ],
      "metadata": {
        "id": "D2B8vatY1El_"
      },
      "execution_count": null,
      "outputs": []
    },
    {
      "cell_type": "markdown",
      "source": [
        "[실습문제] 1~100 숫자를 1줄로 출력하기"
      ],
      "metadata": {
        "id": "BH0L87wT8hGE"
      }
    },
    {
      "cell_type": "code",
      "source": [
        "for i in range(1, 101):\n",
        "    print(i, end='') #"
      ],
      "metadata": {
        "colab": {
          "base_uri": "https://localhost:8080/"
        },
        "id": "8XtgsxDY8E0U",
        "outputId": "1a189775-49b6-4d41-9b54-b129ae60d743"
      },
      "execution_count": 2,
      "outputs": [
        {
          "output_type": "stream",
          "name": "stdout",
          "text": [
            "123456789101112131415161718192021222324252627282930313233343536373839404142434445464748495051525354555657585960616263646566676869707172737475767778798081828384858687888990919293949596979899100"
          ]
        }
      ]
    },
    {
      "cell_type": "code",
      "source": [
        "print(''.join([str(i) for i in range(1,101)]))"
      ],
      "metadata": {
        "colab": {
          "base_uri": "https://localhost:8080/"
        },
        "id": "yCHn4mVg856d",
        "outputId": "9bc49941-1977-4bde-a095-3da66e55f6f1"
      },
      "execution_count": 4,
      "outputs": [
        {
          "output_type": "stream",
          "name": "stdout",
          "text": [
            "123456789101112131415161718192021222324252627282930313233343536373839404142434445464748495051525354555657585960616263646566676869707172737475767778798081828384858687888990919293949596979899100\n"
          ]
        }
      ]
    },
    {
      "cell_type": "code",
      "source": [
        "# 방법 1\n",
        "scores =[90,25,67,45,80]\n",
        "for student in range(6):\n",
        "     if scores[student-1] >= 60:\n",
        "        print(f'{student}번 학생 {scores[student-1]}은 합격입니다..')\n",
        "     else:\n",
        "        print(f'{student}번 학생 {scores[student-1]}은 불합격입니다..')\n",
        "# 방법 2\n",
        "# scores =[90,25,67,45,80]\n",
        "# number = 0\n",
        "# for score in scores:\n",
        "#     number = number+1\n",
        "#     if score >= 60:\n",
        "#         print(\"%d번 학생은 합격입니다.\" % number)\n",
        "#     else:\n",
        "#         print(\"%d번 학생은 불합격입니다.\"% number)"
      ],
      "metadata": {
        "colab": {
          "base_uri": "https://localhost:8080/"
        },
        "id": "jvKil62L8bls",
        "outputId": "7f32a918-4930-4342-ab2f-d35bf6f8983f"
      },
      "execution_count": 9,
      "outputs": [
        {
          "output_type": "stream",
          "name": "stdout",
          "text": [
            "0번 학생 80은 합격입니다..\n",
            "1번 학생 90은 합격입니다..\n",
            "2번 학생 25은 불합격입니다..\n",
            "3번 학생 67은 합격입니다..\n",
            "4번 학생 45은 불합격입니다..\n",
            "5번 학생 80은 합격입니다..\n"
          ]
        }
      ]
    },
    {
      "cell_type": "code",
      "source": [
        "scores =[90,25,67,45,80]\n",
        "for student in range(6):\n",
        "    if scores[student-1] >= 60:\n",
        "        print(f'{student}번 학생 {scores[student-1]}합격입니다')\n",
        "    else:\n",
        "        print(f'{student}번 학생 {scores[student-1]}불합격입니다')"
      ],
      "metadata": {
        "colab": {
          "base_uri": "https://localhost:8080/"
        },
        "id": "L050cKlr8fb0",
        "outputId": "ef78ad87-ca69-4fc2-ede0-ccee75a59a91"
      },
      "execution_count": 13,
      "outputs": [
        {
          "output_type": "stream",
          "name": "stdout",
          "text": [
            "0번 학생 80합격입니다\n",
            "1번 학생 90합격입니다\n",
            "2번 학생 25불합격입니다\n",
            "3번 학생 67합격입니다\n",
            "4번 학생 45불합격입니다\n",
            "5번 학생 80합격입니다\n"
          ]
        }
      ]
    },
    {
      "cell_type": "code",
      "source": [
        "import random\n",
        "# 방법 1 : 직접 지정\n",
        "scores =[90,25,67,45,80]\n",
        "\n",
        "# 방법 2 : 빈 리스트 만들어서 임의의 숫자 리스트에 추가\n",
        "score =[]\n",
        "for _ in range(5):\n",
        "    scores.append(random.randint(1,101))\n",
        "\n",
        "# 방법 3 : 방법2를 한줄로 표현\n",
        "scores = [random.randint(1,101) for _ in range(5)]\n",
        "\n",
        "for idx, score in enumerate(scores):\n",
        "    # if score >= 60:\n",
        "    #     print(f'{idx+1}번 학생 {score}점 : 합격입니다.')\n",
        "    # else:\n",
        "    #     print(f'{idx+1}번 학생 {score}점 : 불합격입니다.')\n",
        "\n",
        "result = '합격' if score >=60 else '불합격'\n",
        "print(f'{idx+1}번 학생 {score}점 : {result}입니다.')\n"
      ],
      "metadata": {
        "id": "5OJB5maN_elk"
      },
      "execution_count": null,
      "outputs": []
    },
    {
      "cell_type": "code",
      "source": [
        "'''\n",
        ")))()()((( => False\n",
        "()()()()()) => False\n",
        "()(())()() => True\n",
        "))(())(( => False\n",
        "()(()))( => False\n",
        "((())()) => True\n",
        "\n",
        "'''\n",
        "a_list = list(input('괄호:'))\n",
        "t = 0\n",
        "for i in a_list:\n",
        "    if i =='(':\n",
        "        t+= 1\n",
        "    elif i ==')':\n",
        "        t-= 1\n",
        "    if t < 0:\n",
        "        break\n",
        "\n",
        "if t == 0:\n",
        "    print('True')\n",
        "else:\n",
        "    print('False')\n"
      ],
      "metadata": {
        "colab": {
          "base_uri": "https://localhost:8080/"
        },
        "id": "COW3sT7MDARJ",
        "outputId": "b191bdbe-ee62-47aa-ba3e-b3483f2f2ff6"
      },
      "execution_count": 21,
      "outputs": [
        {
          "output_type": "stream",
          "name": "stdout",
          "text": [
            "괄호:)))()()(((\n",
            "False\n"
          ]
        }
      ]
    },
    {
      "cell_type": "code",
      "source": [
        "for i in range(3):\n",
        "    for j in range(3):\n",
        "        print(f\"i:{i},j:{j}\")"
      ],
      "metadata": {
        "id": "12zJJCTqHRPY"
      },
      "execution_count": null,
      "outputs": []
    },
    {
      "cell_type": "code",
      "source": [
        "p_list =[')))()()(((','()()()()())' ,'()(())()()' ,'))(())((','()(()))(' ,'((())())' ]\n",
        "\n"
      ],
      "metadata": {
        "id": "-7swK5EsISXx"
      },
      "execution_count": null,
      "outputs": []
    }
  ]
}