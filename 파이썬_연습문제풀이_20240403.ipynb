{
  "nbformat": 4,
  "nbformat_minor": 0,
  "metadata": {
    "colab": {
      "provenance": [],
      "authorship_tag": "ABX9TyPCf/FAkQH0ivRdNc160ziX",
      "include_colab_link": true
    },
    "kernelspec": {
      "name": "python3",
      "display_name": "Python 3"
    },
    "language_info": {
      "name": "python"
    }
  },
  "cells": [
    {
      "cell_type": "markdown",
      "metadata": {
        "id": "view-in-github",
        "colab_type": "text"
      },
      "source": [
        "<a href=\"https://colab.research.google.com/github/ellieyakim0829/dataAnalysis/blob/main/%ED%8C%8C%EC%9D%B4%EC%8D%AC_%EC%97%B0%EC%8A%B5%EB%AC%B8%EC%A0%9C%ED%92%80%EC%9D%B4_20240403.ipynb\" target=\"_parent\"><img src=\"https://colab.research.google.com/assets/colab-badge.svg\" alt=\"Open In Colab\"/></a>"
      ]
    },
    {
      "cell_type": "code",
      "execution_count": 2,
      "metadata": {
        "colab": {
          "base_uri": "https://localhost:8080/"
        },
        "id": "wrfVraz8YrIQ",
        "outputId": "c79e317a-aef8-4796-9b00-fb637e875e4d"
      },
      "outputs": [
        {
          "output_type": "stream",
          "name": "stdout",
          "text": [
            "안녕하세요 for문을 공부중입니다.\n",
            "안녕하세요 for문을 공부중입니다.\n",
            "안녕하세요 for문을 공부중입니다.\n"
          ]
        }
      ],
      "source": [
        "for i in range(0,3,1):\n",
        "    print(\"안녕하세요 for문을 공부중입니다.\")"
      ]
    },
    {
      "cell_type": "code",
      "source": [
        "for c in range(1,3,1):\n",
        "    print(c)\n",
        "\n",
        "for b in ['파','이','썬']:\n",
        "    print(b)"
      ],
      "metadata": {
        "colab": {
          "base_uri": "https://localhost:8080/"
        },
        "id": "6Xuk3KMuZIBV",
        "outputId": "6adb0ca8-f6c9-4888-e056-e2d49d1a8a30"
      },
      "execution_count": 6,
      "outputs": [
        {
          "output_type": "stream",
          "name": "stdout",
          "text": [
            "1\n",
            "2\n",
            "파\n",
            "이\n",
            "썬\n"
          ]
        }
      ]
    },
    {
      "cell_type": "code",
      "source": [
        "n = int(input('합계를 구할 숫자 입력 :'))\n",
        "hap = 0\n",
        "for n in range(1,n+1):\n",
        "    # if n%2 ==1:\n",
        "    if n%2 !=0:\n",
        "        hap+= n\n",
        "\n",
        "print(f'1부터 {n}까지의 짝수를 제외한 합은 :{hap}')\n"
      ],
      "metadata": {
        "colab": {
          "base_uri": "https://localhost:8080/"
        },
        "id": "xIm04Oc7aIEC",
        "outputId": "16027061-cad4-4bcf-b625-438ec8c5e2b7"
      },
      "execution_count": 15,
      "outputs": [
        {
          "output_type": "stream",
          "name": "stdout",
          "text": [
            "합계를 구할 숫자 입력 :200\n",
            "1부터 200까지의 짝수를 제외한 합은 :10000\n"
          ]
        }
      ]
    },
    {
      "cell_type": "code",
      "source": [
        "#정오각형 그리기\n",
        "import turtle\n",
        "\n",
        "t = turtle.Pen()\n",
        "t.forward(100)\n",
        "t.right(72)\n",
        "t.forward(100)\n",
        "t.right(72)\n",
        "t.forward(100)\n",
        "t.right(72)\n",
        "t.forward(100)\n",
        "t.right(72)\n",
        "t.forward(100)\n",
        "t.right(72)\n",
        "turtle.exitonclick()\n",
        "\n",
        "import turtle\n",
        "\n",
        "t = turtle.Pen()\n",
        "\n",
        "for i in range(5):\n",
        "    t.forward(100)\n",
        "    t.right(72)\n",
        "\n",
        "turtle.exitonclick()\n"
      ],
      "metadata": {
        "id": "yD8PDLVQeY5d"
      },
      "execution_count": null,
      "outputs": []
    },
    {
      "cell_type": "code",
      "source": [
        "# for i in range(1, 101):\n",
        "#     print(i)\n",
        "for i in range(1, 101):\n",
        "    print(i, end=\",\")  # 숫자 사이에 공백을 넣어 가로로 출력"
      ],
      "metadata": {
        "colab": {
          "base_uri": "https://localhost:8080/"
        },
        "id": "KLcQViuNhuf1",
        "outputId": "5d26a694-7635-4181-ec2a-5bbdbf372b45"
      },
      "execution_count": 33,
      "outputs": [
        {
          "output_type": "stream",
          "name": "stdout",
          "text": [
            "1,2,3,4,5,6,7,8,9,10,11,12,13,14,15,16,17,18,19,20,21,22,23,24,25,26,27,28,29,30,31,32,33,34,35,36,37,38,39,40,41,42,43,44,45,46,47,48,49,50,51,52,53,54,55,56,57,58,59,60,61,62,63,64,65,66,67,68,69,70,71,72,73,74,75,76,77,78,79,80,81,82,83,84,85,86,87,88,89,90,91,92,93,94,95,96,97,98,99,100,"
          ]
        }
      ]
    },
    {
      "cell_type": "code",
      "source": [
        "# score = int(input('점수를 입력하세요'))\n",
        "# if score >= 80:\n",
        "#     message ='Success'\n",
        "# else:\n",
        "#     message ='Failure'\n",
        "# print(f\"당신의 점수는{score}점은 시험에 {message} 하셨습니다.\")\n",
        "\n",
        "# 방법 1\n",
        "scores =[90,25,67,45,80]\n",
        "for student in range(1,6):\n",
        "     if scores[student-1] >= 60:\n",
        "        print(f'{student}번 학생 {scores[student-1]}은 합격입니다..')\n",
        "     else:\n",
        "        print(f'{student}번 학생 {scores[student-1]}은 합격입니다..')\n",
        "# 방법 2\n",
        "# scores =[90,25,67,45,80]\n",
        "# number = 0\n",
        "# for score in scores:\n",
        "#     number = number+1\n",
        "#     if score >= 60:\n",
        "#         print(\"%d번 학생은 합격입니다.\" % number)\n",
        "#     else:\n",
        "#         print(\"%d번 학생은 불합격입니다.\"% number)\n",
        "\n",
        "\n"
      ],
      "metadata": {
        "colab": {
          "base_uri": "https://localhost:8080/"
        },
        "id": "Qj60Sk0ciUhk",
        "outputId": "b7bc3ff4-4271-44f2-91f5-e71b14e13195"
      },
      "execution_count": 7,
      "outputs": [
        {
          "output_type": "stream",
          "name": "stdout",
          "text": [
            "1번 학생 90은 합격입니다..\n",
            "2번 학생 25은 합격입니다..\n",
            "3번 학생 67은 합격입니다..\n",
            "4번 학생 45은 합격입니다..\n",
            "5번 학생 80은 합격입니다..\n"
          ]
        }
      ]
    }
  ]
}