{
  "nbformat": 4,
  "nbformat_minor": 0,
  "metadata": {
    "colab": {
      "provenance": [],
      "authorship_tag": "ABX9TyOgJrlAlnkhTkaXxk0MIWGc",
      "include_colab_link": true
    },
    "kernelspec": {
      "name": "python3",
      "display_name": "Python 3"
    },
    "language_info": {
      "name": "python"
    }
  },
  "cells": [
    {
      "cell_type": "markdown",
      "metadata": {
        "id": "view-in-github",
        "colab_type": "text"
      },
      "source": [
        "<a href=\"https://colab.research.google.com/github/ellieyakim0829/dataAnalysis/blob/main/%EC%8B%A4%EC%8A%B5%EB%AC%B8%EC%A0%9C_%ED%92%80%EC%9D%B4_20240407.ipynb\" target=\"_parent\"><img src=\"https://colab.research.google.com/assets/colab-badge.svg\" alt=\"Open In Colab\"/></a>"
      ]
    },
    {
      "cell_type": "code",
      "execution_count": null,
      "metadata": {
        "id": "GPXI18NhwB1-"
      },
      "outputs": [],
      "source": [
        "#확장자가 포함된 파일명 전체를 입력 받아 파일명과 확장자를 분리해서  출력하는 프로그램을 만들어 보세요.\n",
        "a = input('파일을 입력하세요:')\n",
        "file, file2 = a.split('.')\n",
        "print(f'파일명 :{file}, 확장자:{file2}')\n"
      ]
    },
    {
      "cell_type": "code",
      "source": [
        "# #지불할 음식 총 가격 계산하기\n",
        "\n",
        "'''\n",
        "✓ 음식가격: 4,450 원\n",
        "✓ 세금: 6.75%\n",
        "✓ 팁: 15%\n",
        "'''\n",
        "meal = 4450\n",
        "tax = 0.0675\n",
        "tip = 0.15\n",
        "meal_tax = meal*tax\n",
        "meal_tip =meal* tip\n",
        "total = meal+meal_tax+meal_tip\n",
        "print(f'음식값은 : {total}')\n",
        "print(f'음식값은 : {total:.0f}')\n",
        "print(f'음식값은 : {total:.1f}')\n",
        "print(f'음식값은 : {total:.2f}')"
      ],
      "metadata": {
        "id": "CSmjlqKmwH6t"
      },
      "execution_count": null,
      "outputs": []
    },
    {
      "cell_type": "code",
      "source": [
        " # 반복문을 이용하여 퀴즈를 맞히는 프로그램을 만들어 보세요.\n",
        "while True:\n",
        "    print('프로그램을 작성할 때 일정한 구간의 명령을 반복해서 싱행하도록 구성한 구문을 무엇이라 하는가?')\n",
        "    answer = input('')\n",
        "    if answer == '반복문':\n",
        "        print('끝!')\n",
        "        break\n",
        "    else:\n",
        "        print(\"틀렸습니다. 다시 시도해보세요.\")"
      ],
      "metadata": {
        "id": "6KINHfvgwMmK"
      },
      "execution_count": null,
      "outputs": []
    },
    {
      "cell_type": "code",
      "source": [
        "#1000만원을 년 이자율 7%로 저금했을 경우 2000만원이 되는 데 몇 년이 걸리는지 계산하는 프로그램을 만들어 보세요\n",
        "money = 10000000\n",
        "target_money = 20000000\n",
        "rate = 0.07\n",
        "year = 0\n",
        "\n",
        "while money < target_money:\n",
        "    money *= (1 + rate)\n",
        "    year += 1\n",
        "\n",
        "print(f\"1000만원이 2000만원이 되기 위해 {year}년이 걸립니다.\")"
      ],
      "metadata": {
        "id": "WwLkycEMwdOZ"
      },
      "execution_count": null,
      "outputs": []
    },
    {
      "cell_type": "code",
      "source": [
        "#▪ Turtle 이용해서 정오각형을 그리기 → while & for 반복문으로 변환하기\n",
        "import turtle\n",
        "t=turtle.Turtle()\n",
        "t.forward(100)\n",
        "t.right(72)\n",
        "t.forward(100)\n",
        "t.right(72)\n",
        "t.forward(100)\n",
        "t.right(72)\n",
        "t.forward(100)\n",
        "t.right(72)\n",
        "t.forward(100)\n",
        "t.right(72)\n",
        "\n",
        "#while 조건문 사용하여 오각형 그리기\n",
        "import turtle\n",
        "t = turtle.Turtle()\n",
        "count = 0\n",
        "while True:\n",
        "    if count <5:\n",
        "        t.forward(100)\n",
        "        t.right(72)\n",
        "        count += 1\n",
        "    else:\n",
        "        break\n",
        "turtle.exitonclick()\n",
        "\n",
        "#for 반복문 사용하여 오각형 그리기\n",
        "import turtle\n",
        "t = turtle.Pen()\n",
        "\n",
        "for i in range(5):\n",
        "    t.forward(100)\n",
        "    t.right(72)\n",
        "\n",
        "turtle.exitonclick()"
      ],
      "metadata": {
        "id": "Tw4-oJvZwjvM"
      },
      "execution_count": null,
      "outputs": []
    },
    {
      "cell_type": "code",
      "source": [
        "# 1부터 1000까지의 자연수 중 3의 배수의 합을 구하는 파이썬 코드\n",
        "# 합을 저장할 변수 초기화\n",
        "total_sum = 0\n",
        "\n",
        "# 1부터 1000까지 반복하면서\n",
        "for num in range(1, 1001):\n",
        "    # 현재 숫자가 3의 배수인지 확인\n",
        "    if num % 3 == 0:\n",
        "        # 3의 배수이면 합에 더하기\n",
        "        total_sum += num\n",
        "\n",
        "# # 결과 출력\n",
        "print(\"1부터 1000까지의 자연수 중 3의 배수의 합:\", total_sum)\n",
        "\n",
        "# 합을 저장할 변수 초기화\n",
        "total_sum = 0\n",
        "\n",
        "# 반복을 위한 변수 초기화\n",
        "num = 1\n",
        "\n",
        "# 1부터 1000까지 반복하면서\n",
        "while num <= 1000:\n",
        "    # 현재 숫자가 3의 배수인지 확인\n",
        "    if num % 3 == 0:\n",
        "        # 3의 배수이면 합에 더하기\n",
        "        total_sum += num\n",
        "    # 다음 숫자로 넘어감\n",
        "    num += 1\n",
        "\n",
        "# 결과 출력\n",
        "print(\"1부터 1000까지의 자연수 중 3의 배수의 합:\", total_sum)\n",
        "\n",
        "# 1부터 1000까지의 자연수 중 3의 배수를 포함하는 리스트 생성\n",
        "multiples_of_three = [num for num in range(1, 1001) if num % 3 == 0]\n",
        "\n",
        "# 리스트의 합 계산\n",
        "total_sum = sum(multiples_of_three)\n",
        "\n",
        "# 결과 출력\n",
        "print(\"1부터 1000까지의 자연수 중 3의 배수의 합:\", total_sum)"
      ],
      "metadata": {
        "id": "ZC0KDLZ5wz_C"
      },
      "execution_count": null,
      "outputs": []
    },
    {
      "cell_type": "code",
      "source": [
        "사용자가 숫자를 입력하면 별 모양을 입력한 숫자의 두 배만큼 출력하는\n",
        "프로그램을 만드세요. 예를 들어 5915를 입력하면 각 행에 10, 18, 2, 10\n",
        "개의 별을 출력해 보세요.\n",
        "\n",
        "사용자로부터 숫자 입력 받기\n",
        "number = input(\"숫자를 입력하세요: \")\n",
        "\n",
        "# 입력받은 숫자의 두 배를 계산하고 각 자릿수를 리스트에 저장\n",
        "stars_count = [int(digit) * 2 for digit in number]\n",
        "\n",
        "# 별 모양 출력\n",
        "for count in stars_count:\n",
        "    print(\"*\" * count)"
      ],
      "metadata": {
        "id": "VEG9GCAexJEs"
      },
      "execution_count": null,
      "outputs": []
    },
    {
      "cell_type": "code",
      "source": [
        "아래와 같이 구구단을 출력해 보세요.\n",
        "구구단 출력\n",
        "for i in range(1, 10):\n",
        "    for j in range(1, 10):\n",
        "        print(f\"{j} x {i} = {i*j}\")\n",
        "\n",
        "2단 출력\n",
        "for i in range(1, 10):\n",
        "    print(f\"2 x {i} = {2*i}\")\n",
        "\n",
        "\n",
        "# 가로로 구구단 출력\n",
        "for i in range(1, 10):\n",
        "    for j in range(2, 10):\n",
        "        print(f\"{j} x {i} = {i*j}\", end=\"\\t\")\n",
        "    print()  # 줄 바꿈"
      ],
      "metadata": {
        "id": "RyxuAppOxQ7i"
      },
      "execution_count": null,
      "outputs": []
    },
    {
      "cell_type": "code",
      "source": [
        "#공이 튕긴 횟수 구하기\n",
        "#초기 높이 설정\n",
        "initial_height = float(input(\"공을 떨어뜨릴 높이를 입력하세요 (미터): \"))\n",
        "\n",
        "# 튀어 오르는 총 횟수를 저장할 변수 초기화\n",
        "total_bounces = 0\n",
        "\n",
        "# 공이 튀어 오르는 동안 반복\n",
        "while initial_height > 0.00001:\n",
        "    # 높이의 반만큼 튀어 오름\n",
        "    initial_height /= 2\n",
        "    # 튀어 오른 횟수 증가\n",
        "    total_bounces += 1\n",
        "\n",
        "# 결과 출력\n",
        "print(\"총 튀어 오른 횟수:\", total_bounces)"
      ],
      "metadata": {
        "id": "36XnRSZcxZwT"
      },
      "execution_count": null,
      "outputs": []
    },
    {
      "cell_type": "code",
      "source": [
        "#도둑잡기 게임 만들기\n",
        "import random\n",
        "\n",
        "# 범인이 숨어 있는 방 선택\n",
        "criminal_room = random.randint(1, 3)\n",
        "\n",
        "# 초기 점수 설정\n",
        "score = 0\n",
        "\n",
        "while True:\n",
        "    print(\"1번 방, 2번 방, 3번 방 중 하나를 선택하세요 (종료하려면 'exit' 입력):\")\n",
        "    user_input = input()\n",
        "\n",
        "    # 사용자가 종료를 선택한 경우\n",
        "    if user_input.lower() == 'exit':\n",
        "        print(\"게임을 종료합니다.\")\n",
        "        break\n",
        "\n",
        "    # 사용자가 1부터 3까지의 숫자를 입력한 경우\n",
        "    if user_input.isdigit() and 1 <= int(user_input) <= 3:\n",
        "        user_choice = int(user_input)\n",
        "        # 범인이 있는 방에 들어간 경우\n",
        "        if user_choice == criminal_room:\n",
        "            print(\"축하합니다! 범인을 잡았습니다!\")\n",
        "            score += 100\n",
        "            print(\"최종 점수:\", score)\n",
        "            break\n",
        "        else:\n",
        "            print(\"범인이 없습니다.\")\n",
        "            score -= 10\n",
        "            print(\"현재 점수:\", score)\n",
        "    else:\n",
        "        print(\"잘못된 입력입니다. 1부터 3까지의 숫자를 입력하세요.\")\n"
      ],
      "metadata": {
        "id": "q5nzjrWRxfdc"
      },
      "execution_count": null,
      "outputs": []
    },
    {
      "cell_type": "code",
      "source": [
        "#커피 자동주문 프로그램 만들기\n",
        " menu = '''[커피 주문 머신 메뉴]\n",
        "-----------------------------\n",
        "- 아메리카노: 2500원\n",
        "- 카페라테:   3000원\n",
        "- 카페모카:   3000원\n",
        "-----------------------------\n",
        "원하시는 커피종류와 잔수를 입력하세요.'''\n",
        "\n",
        "while True:\n",
        "    print(menu)\n",
        "    coffee1 = int(input('아메리카노 몇잔: '))\n",
        "    coffee2 = int(input('카페라테   몇잔: '))\n",
        "    coffee3 = int(input('카페모카   몇잔: '))\n",
        "\n",
        "    total = 2500 * coffee1 + 3000 * coffee2 + 3000 * coffee3\n",
        "    print(f\"지불하실 총 금액은 {total:,}원 입니다.\")\n",
        "    money = int(input('돈을 넣어 주세요: '))\n",
        "\n",
        "    change = total - money  # 거스름돈\n",
        "    if total > money:\n",
        "        print(f\"돈이 부족합니다. {change:,}원을 더 넣어주세요.\")\n",
        "    else:\n",
        "        print(f\"거스름돈은 {abs(change):,}입니다. 커피 맛있게 드세요~\")\n",
        "        break\n"
      ],
      "metadata": {
        "id": "h4F9T-2_xzIp"
      },
      "execution_count": null,
      "outputs": []
    },
    {
      "cell_type": "code",
      "source": [
        "#아래 조건을 만족하는 <무인 호텔 관리 프로그램>을 작성해 주세요\n",
        "def initialize_hotel(num_rooms):\n",
        "    \"\"\"호텔을 초기화하는 함수\"\"\"\n",
        "    return [0] * num_rooms  # 방 개수만큼 0으로 초기화된 리스트 생성\n",
        "\n",
        "def check_in(hotel):\n",
        "    \"\"\"체크인을 처리하는 함수\"\"\"\n",
        "    empty_room = hotel.index(0)  # 비어있는 방 찾기\n",
        "    hotel[empty_room] = 1  # 방을 차지함\n",
        "    print(f\"{empty_room + 1}번 방에 체크인 되었습니다.\")\n",
        "\n",
        "def check_out(hotel):\n",
        "    \"\"\"체크아웃을 처리하는 함수\"\"\"\n",
        "    room_number = int(input(\"체크아웃할 방 번호를 입력하세요: \")) - 1\n",
        "    if hotel[room_number] == 0:\n",
        "        print(\"해당 방은 이미 비어 있습니다.\")\n",
        "    else:\n",
        "        hotel[room_number] = 0\n",
        "        print(f\"{room_number + 1}번 방에서 체크아웃 되었습니다.\")\n",
        "\n",
        "def show_status(hotel):\n",
        "    \"\"\"호텔의 현재 상태를 보여주는 함수\"\"\"\n",
        "    print(\"현재 호텔 상태:\")\n",
        "    for room_number, status in enumerate(hotel, start=1):\n",
        "        print(f\"{room_number}번 방: {'사용 중' if status == 1 else '비어 있음'}\")\n",
        "\n",
        "# 메인 코드\n",
        "num_rooms = int(input(\"방 개수를 입력하세요: \"))\n",
        "hotel = initialize_hotel(num_rooms)\n",
        "\n",
        "while True:\n",
        "    print(\"\\n< 메뉴 >\")\n",
        "    print(\"1. 체크인\")\n",
        "    print(\"2. 체크아웃\")\n",
        "    print(\"3. 현황 보기\")\n",
        "    print(\"0. 종료하기\")\n",
        "    choice = input(\"메뉴를 선택하세요: \")\n",
        "\n",
        "    if choice == '1':\n",
        "        check_in(hotel)\n",
        "    elif choice == '2':\n",
        "        check_out(hotel)\n",
        "    elif choice == '3':\n",
        "        show_status(hotel)\n",
        "    elif choice == '0':\n",
        "        print(\"프로그램을 종료합니다.\")\n",
        "        break\n",
        "    else:\n",
        "        print(\"잘못된 입력입니다. 다시 입력해주세요.\")"
      ],
      "metadata": {
        "id": "SMBl8dlNx5qx"
      },
      "execution_count": null,
      "outputs": []
    },
    {
      "cell_type": "code",
      "source": [
        "#임의의 두 수 합 구하기\n",
        "import random\n",
        "\n",
        "# 무작위로 두 정수 생성\n",
        "a = random.randint(1, 10)\n",
        "b = random.randint(1, 10)\n",
        "\n",
        "# 두 정수 더하기\n",
        "result = a + b\n",
        "\n",
        "# 결과 출력\n",
        "#print(f\"{a}와 {b}를 더한 결과는 {result}입니다.\")\n",
        "print(f'{a} + {b} = {a + b}')"
      ],
      "metadata": {
        "colab": {
          "base_uri": "https://localhost:8080/"
        },
        "id": "Kgb_T-2KzFTR",
        "outputId": "0fd030ca-0646-4131-b845-ac0ab58d8829"
      },
      "execution_count": 7,
      "outputs": [
        {
          "output_type": "stream",
          "name": "stdout",
          "text": [
            "3 + 4 = 7\n"
          ]
        }
      ]
    },
    {
      "cell_type": "code",
      "source": [
        "import random\n",
        "\n",
        "# 주사위 던지기 및 결과 카운트\n",
        "counts = [0] * 6  # 주사위 눈의 개수는 6개\n",
        "for _ in range(100):\n",
        "    roll = random.randint(1, 6)\n",
        "    counts[roll - 1] += 1\n",
        "\n",
        "# 가장 많이 나온 숫자와 그 횟수 찾기\n",
        "max_count = max(counts)\n",
        "max_number = counts.index(max_count) + 1\n",
        "\n",
        "# 결과 출력\n",
        "print(\"주사위를 100번 던졌을 때 각 숫자의 횟수:\")\n",
        "for number, count in enumerate(counts, start=1):\n",
        "    print(f\"{number}: {count}번\")\n",
        "\n",
        "print(f\"\\n가장 많이 나온 숫자는 {max_number}이며, {max_count}번 나왔습니다.\")"
      ],
      "metadata": {
        "colab": {
          "base_uri": "https://localhost:8080/"
        },
        "id": "tbJzDKmLzWJX",
        "outputId": "9c8852bb-5fb2-4cd0-b100-1575546fcffa"
      },
      "execution_count": 8,
      "outputs": [
        {
          "output_type": "stream",
          "name": "stdout",
          "text": [
            "주사위를 100번 던졌을 때 각 숫자의 횟수:\n",
            "1: 17번\n",
            "2: 11번\n",
            "3: 13번\n",
            "4: 19번\n",
            "5: 14번\n",
            "6: 26번\n",
            "\n",
            "가장 많이 나온 숫자는 6이며, 26번 나왔습니다.\n"
          ]
        }
      ]
    },
    {
      "cell_type": "code",
      "source": [
        "import random\n",
        "\n",
        "# 주사위 던지기 및 결과 카운트\n",
        "counts = [0] * 6  # 주사위 눈의 개수는 6개\n",
        "for _ in range(100):\n",
        "    roll = random.randint(1, 6)\n",
        "    counts[roll - 1] += 1\n",
        "\n",
        "# 가장 많이 나온 숫자와 그 횟수 찾기\n",
        "max_count = max(counts)\n",
        "max_number = counts.index(max_count) + 1\n",
        "\n",
        "# 결과 출력\n",
        "print(\"숫자별 개수:\", counts)\n",
        "print(f\"가장 많이 나온 주사위 숫자: {max_number}, 횟수: {max_count}\")"
      ],
      "metadata": {
        "colab": {
          "base_uri": "https://localhost:8080/"
        },
        "id": "LKEFsMr9z0bC",
        "outputId": "2615020a-c24b-4cfb-9dda-63dc0b2bb6e1"
      },
      "execution_count": 11,
      "outputs": [
        {
          "output_type": "stream",
          "name": "stdout",
          "text": [
            "숫자별 개수: [14, 19, 26, 11, 12, 18]\n",
            "가장 많이 나온 주사위 숫자: 3, 횟수: 26\n"
          ]
        }
      ]
    }
  ]
}