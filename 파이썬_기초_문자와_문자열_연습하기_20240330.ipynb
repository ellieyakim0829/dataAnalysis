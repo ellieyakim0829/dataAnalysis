{
  "nbformat": 4,
  "nbformat_minor": 0,
  "metadata": {
    "colab": {
      "provenance": [],
      "authorship_tag": "ABX9TyNV8fAqKMr2fgv5yk9SiMzp",
      "include_colab_link": true
    },
    "kernelspec": {
      "name": "python3",
      "display_name": "Python 3"
    },
    "language_info": {
      "name": "python"
    }
  },
  "cells": [
    {
      "cell_type": "markdown",
      "metadata": {
        "id": "view-in-github",
        "colab_type": "text"
      },
      "source": [
        "<a href=\"https://colab.research.google.com/github/ellieyakim0829/dataAnalysis/blob/main/%ED%8C%8C%EC%9D%B4%EC%8D%AC_%EA%B8%B0%EC%B4%88_%EB%AC%B8%EC%9E%90%EC%99%80_%EB%AC%B8%EC%9E%90%EC%97%B4_%EC%97%B0%EC%8A%B5%ED%95%98%EA%B8%B0_20240330.ipynb\" target=\"_parent\"><img src=\"https://colab.research.google.com/assets/colab-badge.svg\" alt=\"Open In Colab\"/></a>"
      ]
    },
    {
      "cell_type": "code",
      "execution_count": 5,
      "metadata": {
        "colab": {
          "base_uri": "https://localhost:8080/"
        },
        "id": "37amE6lOi5vP",
        "outputId": "38ede5a6-5e81-4aca-b55b-98e7108adc1f"
      },
      "outputs": [
        {
          "output_type": "stream",
          "name": "stdout",
          "text": [
            "65\n",
            "33\n",
            "44032\n",
            "0b1000001\n",
            "0b1101001100001100\n",
            "A\n",
            "B\n",
            "C\n",
            "가\n",
            "110100110000110011000111011101001100001101101100"
          ]
        }
      ],
      "source": [
        "# 문자와 문자열 연습\n",
        "\n",
        "print(ord('A'))\n",
        "print(ord('!'))\n",
        "print(ord('가'))\n",
        "print(bin(65))\n",
        "print(bin(ord('파')))\n",
        "print(chr(65))\n",
        "print(chr(66))\n",
        "print(chr(67))\n",
        "print(chr(44032))\n",
        "\n",
        "str =''\n",
        "for c in '파이썬':\n",
        "  print(format(ord(c), 'b'), end = '')\n"
      ]
    },
    {
      "cell_type": "code",
      "source": [
        "# 문자열 따옴표 지정\n",
        "print('Hello')\n",
        "print(\"Hello\")\n",
        "print(\"Hello 'world\")\n",
        "print('Hello \"world')\n",
        "\n",
        "a = '''박씨가 소리질렀다.\n",
        "도둑이야!'''\n",
        "print(a)\n",
        "\n",
        "a = '''아메리카노 메뉴판\n",
        "- 아메리카노 : 3000원\n",
        "- 까페라떼:     40000원\n",
        "- 까페모카:      5000원\n",
        "'''\n",
        "print(a)\n",
        "\n",
        "print('Hello'+'world')\n",
        "print('Hello','world','i')\n",
        "\n",
        "a = \"Python\"\n",
        "b = \"is very fun!\"\n",
        "print(a+b)\n",
        "\n",
        "print('Hello'*3)\n",
        "print('==='*50)"
      ],
      "metadata": {
        "colab": {
          "base_uri": "https://localhost:8080/"
        },
        "id": "dM7ltLctjwHi",
        "outputId": "63e3e560-371d-46fb-a791-b9ab87144567"
      },
      "execution_count": 12,
      "outputs": [
        {
          "output_type": "stream",
          "name": "stdout",
          "text": [
            "Hello\n",
            "Hello\n",
            "Hello 'world\n",
            "Hello \"world\n",
            "박씨가 소리질렀다.\n",
            "도둑이야!\n",
            "아메리카노 메뉴판\n",
            "- 아메리카노 : 3000원\n",
            "- 까페라떼:     40000원\n",
            "- 까페모카:      5000원\n",
            "\n",
            "Helloworld\n",
            "Hello world i\n",
            "Pythonis very fun!\n",
            "HelloHelloHello\n",
            "======================================================================================================================================================\n"
          ]
        }
      ]
    },
    {
      "cell_type": "code",
      "source": [
        "# 문자열 출력하기\n",
        "print('Mary`s cosmetics')\n",
        "print('박씨가 소리질렀다.\"도둑이야!.\"')\n",
        "print(\"안녕하세요.\\n오늘\\t날씨가\\t\\t좋습니다.\")"
      ],
      "metadata": {
        "colab": {
          "base_uri": "https://localhost:8080/"
        },
        "id": "ytYNM4H3lbEj",
        "outputId": "1989ca01-dc93-40b0-94fd-262d1c776364"
      },
      "execution_count": 13,
      "outputs": [
        {
          "output_type": "stream",
          "name": "stdout",
          "text": [
            "Mary`s cosmetics\n",
            "박씨가 소리질렀다.\"도둑이야!.\"\n",
            "안녕하세요.\n",
            "오늘\t날씨가\t\t좋습니다.\n"
          ]
        }
      ]
    },
    {
      "cell_type": "code",
      "source": [
        "# 문자열 인덱싱과 슬라이싱\n",
        "a = '우리는 민족중흥의 역사적 사명을 띠고 이땅에 태어났다.'\n",
        "a[3:12]\n",
        "print(a[3:12])\n",
        "\n",
        "fruits ='orange'\n",
        "print(fruits[1:3])\n",
        "# 문자열 반복\n",
        "result = \"Hello\" * 3\n",
        "print(result)  # 출력: HelloHelloHello\n",
        "\n",
        "result = 3 + 5  # 결과는 8\n",
        "str_result = \"Hello \" + \"World\"  # 결과는 \"Hello World\"\n",
        "print(result)\n",
        "print(str_result)"
      ],
      "metadata": {
        "colab": {
          "base_uri": "https://localhost:8080/"
        },
        "id": "KxKZkE3Wl_qO",
        "outputId": "d37f2be7-bde9-450a-b001-c98ce4999fdd"
      },
      "execution_count": 20,
      "outputs": [
        {
          "output_type": "stream",
          "name": "stdout",
          "text": [
            " 민족중흥의 역사\n",
            "ra\n",
            "HelloHelloHello\n",
            "8\n",
            "Hello World\n"
          ]
        }
      ]
    },
    {
      "cell_type": "code",
      "source": [
        "# 문자열 포멧팅\n",
        "a = \"%10s\"%'pathon'\n",
        "print(a)\n",
        "a = \"%10s\"%'파이썬'\n",
        "print(a)\n",
        "a = \"%-10s파이썬\"%'사랑해요'\n",
        "print(a)\n",
        "\n",
        "a = \"%0.4f\"% 3.4213423\n",
        "print(a)\n",
        "a = \"%10.4f\"% 3.4213423\n",
        "print(a)"
      ],
      "metadata": {
        "colab": {
          "base_uri": "https://localhost:8080/"
        },
        "id": "qVe8Sf_HocaM",
        "outputId": "40d866e9-3fdb-40b8-f502-a13659cef3ec"
      },
      "execution_count": 27,
      "outputs": [
        {
          "output_type": "stream",
          "name": "stdout",
          "text": [
            "    pathon\n",
            "       파이썬\n",
            "사랑해요      파이썬\n",
            "3.4213\n",
            "    3.4213\n"
          ]
        }
      ]
    },
    {
      "cell_type": "code",
      "source": [
        "# 문자열을 입력받아 거꾸로 출력하는 프로그램을 작성하세요\n",
        "s = input('문자열을 입력하세요:')\n",
        "result = s[::-1]  # 문자열을 거꾸로 출력하는 슬라이싱\n",
        "print(result)"
      ],
      "metadata": {
        "colab": {
          "base_uri": "https://localhost:8080/"
        },
        "id": "6xZAPt3NpQld",
        "outputId": "5210580b-97c5-4c2c-a27c-fd8e42bee050"
      },
      "execution_count": 50,
      "outputs": [
        {
          "output_type": "stream",
          "name": "stdout",
          "text": [
            "문자열을 입력하세요:사랑해요 파이썬!\n",
            "!썬이파 요해랑사\n"
          ]
        }
      ]
    },
    {
      "cell_type": "code",
      "source": [
        "# 확장자가 포함된 파일명 전체를 파일명과 확장자 분리해서 출력하는 프로그램을 작성하시오\n",
        "# a = input('파일을 입력하세요')\n",
        "# print('파일:', a)\n",
        "# print('파일명:', a[0:4], '확장자:', a[5:7])\n",
        "\n",
        "a = input('파일을 입력하세요: ')\n",
        "filename, extension = a.split('.')  # 파일명과 확장자 분리 , 로 분리\n",
        "#filename, extension = a.split()  # 다른예시 파일명과 확장자 분리  공백\n",
        "print('파일:', a)\n",
        "print('파일명:', filename, '확장자:', extension)\n"
      ],
      "metadata": {
        "colab": {
          "base_uri": "https://localhost:8080/"
        },
        "id": "ddTP6_UjuvEq",
        "outputId": "e62e32b5-0916-4ac7-98b0-b6a309f22068"
      },
      "execution_count": 61,
      "outputs": [
        {
          "output_type": "stream",
          "name": "stdout",
          "text": [
            "파일을 입력하세요: 파이썬 테스트\n",
            "파일: 파이썬 테스트\n",
            "파일명: 파이썬 확장자: 테스트\n"
          ]
        }
      ]
    },
    {
      "cell_type": "code",
      "source": [
        "# 실습문제 변수활용\n",
        "#지불할 음식 총 가격 계산하기\n",
        "# meal = 4450\n",
        "# tax = 0.0675\n",
        "# tip  = 0.15\n",
        "# total = meal + tax + tip\n",
        "# print ('음식가격:',total )\n",
        "\n",
        "\n",
        "meal = 4450\n",
        "tax_rate = 0.0675  # 세율은 소수로 표현해야 합니다. 6.75%는 0.0675입니다.\n",
        "tip_rate = 0.15  # 팁 비율도 소수로 표현해야 합니다. 15%는 0.15입니다.\n",
        "\n",
        "# 세금 계산\n",
        "tax = meal * tax_rate\n",
        "\n",
        "# 팁 계산\n",
        "tip = meal * tip_rate\n",
        "\n",
        "# 총 가격 계산\n",
        "total = meal + tax + tip\n",
        "\n",
        "print(f'음식가격: {total}')\n",
        "print(f'세금: {tax}')\n",
        "print(f'팁: {tip}')"
      ],
      "metadata": {
        "colab": {
          "base_uri": "https://localhost:8080/"
        },
        "id": "uqRChmHlyLhq",
        "outputId": "f3e39298-1e55-4de1-d883-61b637a4e150"
      },
      "execution_count": 70,
      "outputs": [
        {
          "output_type": "stream",
          "name": "stdout",
          "text": [
            "음식가격: 5417.875\n",
            "세금: 300.375\n",
            "팁: 667.5\n"
          ]
        }
      ]
    },
    {
      "cell_type": "code",
      "source": [
        "# 섭씨온도를 입력받아 화씨온도 변환하기\n",
        "celsius = float(input('섭씨온도를 입력하세요:'))\n",
        "Fahrenheit = (celsius * 9/5) +32\n",
        "print('화씨온도:',Fahrenheit )"
      ],
      "metadata": {
        "colab": {
          "base_uri": "https://localhost:8080/"
        },
        "id": "4-9UF_K-7i2n",
        "outputId": "f9430935-c017-4cf3-b160-0ab36b42ea6c"
      },
      "execution_count": 72,
      "outputs": [
        {
          "output_type": "stream",
          "name": "stdout",
          "text": [
            "섭씨온도를 입력하세요:100\n",
            "화씨온도: 212.0\n"
          ]
        }
      ]
    }
  ]
}