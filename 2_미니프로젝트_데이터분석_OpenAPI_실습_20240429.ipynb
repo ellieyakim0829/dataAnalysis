{
  "cells": [
    {
      "cell_type": "markdown",
      "metadata": {
        "id": "view-in-github",
        "colab_type": "text"
      },
      "source": [
        "<a href=\"https://colab.research.google.com/github/ellieyakim0829/dataAnalysis/blob/main/2_%EB%AF%B8%EB%8B%88%ED%94%84%EB%A1%9C%EC%A0%9D%ED%8A%B8_%EB%8D%B0%EC%9D%B4%ED%84%B0%EB%B6%84%EC%84%9D_OpenAPI_%EC%8B%A4%EC%8A%B5_20240429.ipynb\" target=\"_parent\"><img src=\"https://colab.research.google.com/assets/colab-badge.svg\" alt=\"Open In Colab\"/></a>"
      ]
    },
    {
      "cell_type": "markdown",
      "id": "46265587",
      "metadata": {
        "id": "46265587"
      },
      "source": [
        "# 데이터 분석"
      ]
    },
    {
      "cell_type": "markdown",
      "id": "go-R3kQSaSrk",
      "metadata": {
        "id": "go-R3kQSaSrk"
      },
      "source": [
        "## 5. OpenAPI를 이용한 데이터 수집"
      ]
    },
    {
      "cell_type": "markdown",
      "id": "0b715273",
      "metadata": {
        "id": "0b715273"
      },
      "source": [
        "- <a href=\"#1)OpenAPI통한데이터수집\">1) OpenAPI 통한 데이터 수집</a>\n",
        "- <a href=\"#2)한글텍스트Cleansing\">2) 한글 텍스트 Cleansing</a>\n",
        "- <a href=\"#3)웹이미지수집하기\">3) 웹 이미지 수집하기</a>"
      ]
    },
    {
      "cell_type": "markdown",
      "id": "VGDzYiKZhR0U",
      "metadata": {
        "id": "VGDzYiKZhR0U"
      },
      "source": [
        "### #그래프에서 한글사용하는 방법\n",
        "- **(코랩에서)한글폰트 설치하기**"
      ]
    },
    {
      "cell_type": "code",
      "execution_count": 1,
      "id": "hwAJP1nahhrF",
      "metadata": {
        "id": "hwAJP1nahhrF",
        "colab": {
          "base_uri": "https://localhost:8080/"
        },
        "outputId": "b21cee9f-cc16-429b-f657-24d7b202e582"
      },
      "outputs": [
        {
          "output_type": "stream",
          "name": "stdout",
          "text": [
            "Reading package lists... Done\n",
            "Building dependency tree... Done\n",
            "Reading state information... Done\n",
            "The following NEW packages will be installed:\n",
            "  fonts-nanum\n",
            "0 upgraded, 1 newly installed, 0 to remove and 45 not upgraded.\n",
            "Need to get 10.3 MB of archives.\n",
            "After this operation, 34.1 MB of additional disk space will be used.\n",
            "Get:1 http://archive.ubuntu.com/ubuntu jammy/universe amd64 fonts-nanum all 20200506-1 [10.3 MB]\n",
            "Fetched 10.3 MB in 1s (13.6 MB/s)\n",
            "debconf: unable to initialize frontend: Dialog\n",
            "debconf: (No usable dialog-like program is installed, so the dialog based frontend cannot be used. at /usr/share/perl5/Debconf/FrontEnd/Dialog.pm line 78, <> line 1.)\n",
            "debconf: falling back to frontend: Readline\n",
            "debconf: unable to initialize frontend: Readline\n",
            "debconf: (This frontend requires a controlling tty.)\n",
            "debconf: falling back to frontend: Teletype\n",
            "dpkg-preconfigure: unable to re-open stdin: \n",
            "Selecting previously unselected package fonts-nanum.\n",
            "(Reading database ... 121752 files and directories currently installed.)\n",
            "Preparing to unpack .../fonts-nanum_20200506-1_all.deb ...\n",
            "Unpacking fonts-nanum (20200506-1) ...\n",
            "Setting up fonts-nanum (20200506-1) ...\n",
            "Processing triggers for fontconfig (2.13.1-4.2ubuntu5) ...\n",
            "/usr/share/fonts: caching, new cache contents: 0 fonts, 1 dirs\n",
            "/usr/share/fonts/truetype: caching, new cache contents: 0 fonts, 3 dirs\n",
            "/usr/share/fonts/truetype/humor-sans: caching, new cache contents: 1 fonts, 0 dirs\n",
            "/usr/share/fonts/truetype/liberation: caching, new cache contents: 16 fonts, 0 dirs\n",
            "/usr/share/fonts/truetype/nanum: caching, new cache contents: 12 fonts, 0 dirs\n",
            "/usr/local/share/fonts: caching, new cache contents: 0 fonts, 0 dirs\n",
            "/root/.local/share/fonts: skipping, no such directory\n",
            "/root/.fonts: skipping, no such directory\n",
            "/usr/share/fonts/truetype: skipping, looped directory detected\n",
            "/usr/share/fonts/truetype/humor-sans: skipping, looped directory detected\n",
            "/usr/share/fonts/truetype/liberation: skipping, looped directory detected\n",
            "/usr/share/fonts/truetype/nanum: skipping, looped directory detected\n",
            "/var/cache/fontconfig: cleaning cache directory\n",
            "/root/.cache/fontconfig: not cleaning non-existent cache directory\n",
            "/root/.fontconfig: not cleaning non-existent cache directory\n",
            "fc-cache: succeeded\n"
          ]
        }
      ],
      "source": [
        "!sudo apt-get install -y fonts-nanum\n",
        "!sudo fc-cache -fv\n",
        "!rm ~/.cache/matplotlib -rf\n",
        "\n",
        "# 코랩에서 위 코드를 실행시킨 후  반드시 코랩 메뉴: \"런타임>런타임 다시 시작\" 합니다."
      ]
    },
    {
      "cell_type": "markdown",
      "id": "4YrZX8Hf1hQ8",
      "metadata": {
        "id": "4YrZX8Hf1hQ8"
      },
      "source": [
        "- **한글 폰트 지정하기**"
      ]
    },
    {
      "cell_type": "markdown",
      "id": "CfuS0iwGhhee",
      "metadata": {
        "id": "CfuS0iwGhhee"
      },
      "source": []
    },
    {
      "cell_type": "code",
      "execution_count": 1,
      "id": "ld3tL_Sh1gXu",
      "metadata": {
        "id": "ld3tL_Sh1gXu"
      },
      "outputs": [],
      "source": [
        "# 코랩에서 한글 폰트 종류와 이름이 win과 다를 수 있다!!!\n",
        "# 코랩: NanumGothic, 윈도우: Malgun Gothic\n",
        "import matplotlib.pyplot as plt\n",
        "plt.rcParams.update({'font.family': 'Malgun Gothic',\n",
        "                     'font.size': 12,\n",
        "                     'figure.figsize': (6, 4),\n",
        "                     'axes.unicode_minus':  False }) # 폰트 설정"
      ]
    },
    {
      "cell_type": "markdown",
      "id": "6d0c04ae",
      "metadata": {
        "id": "6d0c04ae"
      },
      "source": [
        "---"
      ]
    },
    {
      "cell_type": "markdown",
      "id": "f4f12800",
      "metadata": {
        "id": "f4f12800"
      },
      "source": [
        "### <a name=\"1)OpenAPI통한데이터수집\">1) OpenAPI 통한 데이터 수집</a>"
      ]
    },
    {
      "cell_type": "markdown",
      "id": "db60e9f8",
      "metadata": {
        "id": "db60e9f8"
      },
      "source": [
        "#### 1.네이버 OpenAPI 신청하기\n",
        "* 네이버 검색(책, 뉴스, 쇼핑)\n",
        "    - 네이버 OpenAPI 소개: https://developers.naver.com/products/intro/plan/\n",
        "    - 개발 가이드 보기: https://developers.naver.com/docs/serviceapi/search/news\n",
        "    - OpenAPI 신청하기: https://developers.naver.com/apps/#/register"
      ]
    },
    {
      "cell_type": "markdown",
      "id": "6093ed93",
      "metadata": {
        "id": "6093ed93"
      },
      "source": [
        "#### 2.네이버 OpenAPI 사용하기\n",
        "* 검색\n",
        "    - 1.책 검색\n",
        "    - 2.뉴스 검색\n",
        "    - 3.쇼핑 검색"
      ]
    },
    {
      "cell_type": "markdown",
      "id": "0245934c",
      "metadata": {
        "id": "0245934c"
      },
      "source": [
        "#### [실습] : 네이버 검색 API 사용하여 데이터 수집하기"
      ]
    },
    {
      "cell_type": "code",
      "source": [],
      "metadata": {
        "id": "OIAMgzfwK7im"
      },
      "id": "OIAMgzfwK7im",
      "execution_count": null,
      "outputs": []
    },
    {
      "cell_type": "code",
      "execution_count": 2,
      "id": "51bbff90",
      "metadata": {
        "id": "51bbff90",
        "colab": {
          "base_uri": "https://localhost:8080/"
        },
        "outputId": "d474d20c-8270-4405-839c-16a0fd467f54"
      },
      "outputs": [
        {
          "output_type": "stream",
          "name": "stdout",
          "text": [
            "Requirement already satisfied: requests in /usr/local/lib/python3.10/dist-packages (2.31.0)\n",
            "Requirement already satisfied: charset-normalizer<4,>=2 in /usr/local/lib/python3.10/dist-packages (from requests) (3.3.2)\n",
            "Requirement already satisfied: idna<4,>=2.5 in /usr/local/lib/python3.10/dist-packages (from requests) (3.7)\n",
            "Requirement already satisfied: urllib3<3,>=1.21.1 in /usr/local/lib/python3.10/dist-packages (from requests) (2.0.7)\n",
            "Requirement already satisfied: certifi>=2017.4.17 in /usr/local/lib/python3.10/dist-packages (from requests) (2024.2.2)\n"
          ]
        }
      ],
      "source": [
        "# 정적 크롤링을 위한 requests 설치\n",
        "!pip install requests"
      ]
    },
    {
      "cell_type": "code",
      "execution_count": 36,
      "id": "98d12393",
      "metadata": {
        "id": "98d12393"
      },
      "outputs": [],
      "source": [
        "import requests\n",
        "import os\n",
        "import sys\n",
        "import urllib.request\n",
        "import datetime\n",
        "import time\n",
        "import json\n",
        "import xml.etree.ElementTree as ET\n",
        "import pandas as pd\n",
        "url=\"http://data4library.kr/api/loanItemSrch?authKey=b8604a40cf9f0ce1e10c1d20ac9c70e6b6ddf0a5b7b751370b67131552680c20&startDt=2022-01-01&endDt=2022-03-31&gender=1&age=20&region=11;31&addCode=0&kdc=6&pageNo=1&pageSize=10\"\n",
        "\n",
        "\n"
      ]
    },
    {
      "cell_type": "markdown",
      "source": [
        "# 도서관 정보나루 api 활용하기\n"
      ],
      "metadata": {
        "id": "u4OgXkhhLaoI"
      },
      "id": "u4OgXkhhLaoI"
    },
    {
      "cell_type": "code",
      "source": [
        "import requests\n",
        "import xml.etree.ElementTree as ET\n",
        "\n",
        "# URL 설정\n",
        "url = \"http://data4library.kr/api/loanItemSrch?authKey=b8604a40cf9f0ce1e10c1d20ac9c70e6b6ddf0a5b7b751370b67131552680c20&startDt=2022-01-01&endDt=2022-03-31&gender=1&age=20&region=11;31&addCode=0&kdc=6&pageNo=1&pageSize=10\"\n",
        "\n",
        "# GET 요청을 보내고 응답을 받습니다.\n",
        "r = requests.get(url)\n",
        "\n",
        "# 응답의 인코딩을 UTF-8로 설정합니다.\n",
        "r.encoding = 'UTF-8'\n",
        "\n",
        "# 응답을 XML 형식으로 파싱합니다.\n",
        "tree = ET.fromstring(r.text)\n",
        "print(tree)"
      ],
      "metadata": {
        "colab": {
          "base_uri": "https://localhost:8080/"
        },
        "id": "cSAdDrpkACWr",
        "outputId": "f67d27ba-3bd9-4128-e501-e35cd9215199"
      },
      "id": "cSAdDrpkACWr",
      "execution_count": 40,
      "outputs": [
        {
          "output_type": "stream",
          "name": "stdout",
          "text": [
            "<Element 'response' at 0x7fae2edad760>\n"
          ]
        }
      ]
    },
    {
      "cell_type": "code",
      "source": [
        "import requests\n",
        "import xml.etree.ElementTree as ET\n",
        "\n",
        "url = 'http://data4library.kr/api/loanItemSrch?authKey=b8604a40cf9f0ce1e10c1d20ac9c70e6b6ddf0a5b7b751370b67131552680c20&startDt=2022-01-01&endDt=2022-03-31&gender=1&age=20&region=11;31&addCode=0&kdc=6&pageNo=1&pageSize=10'\n",
        "\n",
        "# URL에서 XML 데이터를 가져옵니다.\n",
        "response = requests.get(url)\n",
        "\n",
        "# 응답의 텍스트를 XML 문자열로 변환합니다.\n",
        "xml_data = response.text\n",
        "\n",
        "# XML 문자열을 파싱합니다.\n",
        "root = ET.fromstring(xml_data)\n",
        "\n",
        "# 각 도서 정보에 접근하여 출력합니다.\n",
        "for doc in root.findall('docs/doc'):\n",
        "    bookname = doc.find('bookname').text\n",
        "    ranking = doc.find('ranking').text\n",
        "    authors = doc.find('authors').text\n",
        "    publisher = doc.find('publisher').text\n",
        "    publication_year = doc.find('publication_year').text\n",
        "    isbn13 = doc.find('isbn13').text\n",
        "    loan_count = doc.find('loan_count').text\n",
        "    print(\"도서명:\", bookname)\n",
        "    print(\"순위\",ranking)\n",
        "    print(\"저자:\", authors)\n",
        "    print(\"출판사:\", publisher)\n",
        "    print(\"출판년도:\", publication_year)\n",
        "    print(\"ISBN:\", isbn13)\n",
        "    print(\"대출 횟수:\", loan_count)\n",
        "    print(\"-----\")\n"
      ],
      "metadata": {
        "colab": {
          "base_uri": "https://localhost:8080/"
        },
        "id": "cTHTcsp_IALP",
        "outputId": "684a0e66-4b44-4cd9-8235-0b822e1b25cc"
      },
      "id": "cTHTcsp_IALP",
      "execution_count": 47,
      "outputs": [
        {
          "output_type": "stream",
          "name": "stdout",
          "text": [
            "도서명: 방구석 미술관 :가볍고 편하게 시작하는 유쾌한 교양 미술\n",
            "순위 1\n",
            "저자: 조원재 지음\n",
            "출판사: 백도씨\n",
            "출판년도: 2018\n",
            "ISBN: 9788968331862\n",
            "대출 횟수: 213\n",
            "-----\n",
            "도서명: 방구석 미술관\n",
            "순위 2\n",
            "저자: 조원재 지음\n",
            "출판사: 백도씨\n",
            "출판년도: 2020\n",
            "ISBN: 9788968332845\n",
            "대출 횟수: 152\n",
            "-----\n",
            "도서명: 모국어는 차라리 침묵 :목정원 산문\n",
            "순위 3\n",
            "저자: 지은이: 목정원\n",
            "출판사: 아침달\n",
            "출판년도: 2021\n",
            "ISBN: 9791189467302\n",
            "대출 횟수: 120\n",
            "-----\n",
            "도서명: 우아하고 호쾌한 여자 축구 :김혼비 에세이\n",
            "순위 4\n",
            "저자: 지은이: 김혼비\n",
            "출판사: 민음사\n",
            "출판년도: 2018\n",
            "ISBN: 9788937437571\n",
            "대출 횟수: 108\n",
            "-----\n",
            "도서명: 내가 사랑한 화가들 :살면서 한 번은 꼭 들어야 할 아주 특별한 미술 수업\n",
            "순위 5\n",
            "저자: 정우철 지음\n",
            "출판사: 나무의철학\n",
            "출판년도: 2021\n",
            "ISBN: 9791158512132\n",
            "대출 횟수: 100\n",
            "-----\n",
            "도서명: 기묘한 미술관 :아름답고 서늘한 명화 속 미스터리\n",
            "순위 6\n",
            "저자: 진병관 지음\n",
            "출판사: 빅피시\n",
            "출판년도: 2021\n",
            "ISBN: 9791191825084\n",
            "대출 횟수: 87\n",
            "-----\n",
            "도서명: 김이나의 작사법 :우리의 감정을 사로잡는 일상의 언어들\n",
            "순위 7\n",
            "저자: 지은이: 김이나\n",
            "출판사: 문학동네\n",
            "출판년도: 2015\n",
            "ISBN: 9788954635608\n",
            "대출 횟수: 86\n",
            "-----\n",
            "도서명: 지브리의 천재들 :전 세계 1억 명의 마니아를 탄생시킨 스튜디오 지브리의 성공 비결\n",
            "순위 8\n",
            "저자: 스즈키 도시오 지음 ;이선희 옮김\n",
            "출판사: 포레스트북스\n",
            "출판년도: 2020\n",
            "ISBN: 9791189584887\n",
            "대출 횟수: 75\n",
            "-----\n",
            "도서명: 겁내지 않고 그림 그리는 법\n",
            "순위 9\n",
            "저자: 저자: 이연\n",
            "출판사: 미술문화\n",
            "출판년도: 2021\n",
            "ISBN: 9791185954707\n",
            "대출 횟수: 74\n",
            "-----\n",
            "도서명: 널 위한 문화예술 :미술관에서 길을 잃는 사람들을 위한 가장 친절한 예술 가이드\n",
            "순위 10\n",
            "저자: 오대우,이정우 지음\n",
            "출판사: Whale Books(웨일북)\n",
            "출판년도: 2021\n",
            "ISBN: 9791190313926\n",
            "대출 횟수: 72\n",
            "-----\n"
          ]
        }
      ]
    },
    {
      "cell_type": "code",
      "source": [
        "!pip install xmltodict"
      ],
      "metadata": {
        "colab": {
          "base_uri": "https://localhost:8080/"
        },
        "id": "hWUYTPxwK_k3",
        "outputId": "22c6554e-92ed-470c-c7a3-29c23939eb6e"
      },
      "id": "hWUYTPxwK_k3",
      "execution_count": 49,
      "outputs": [
        {
          "output_type": "stream",
          "name": "stdout",
          "text": [
            "Collecting xmltodict\n",
            "  Downloading xmltodict-0.13.0-py2.py3-none-any.whl (10.0 kB)\n",
            "Installing collected packages: xmltodict\n",
            "Successfully installed xmltodict-0.13.0\n"
          ]
        }
      ]
    },
    {
      "cell_type": "code",
      "source": [
        "import xmltodict\n",
        "import json\n",
        "\n",
        "url = 'http://data4library.kr/api/loanItemSrch?authKey=b8604a40cf9f0ce1e10c1d20ac9c70e6b6ddf0a5b7b751370b67131552680c20&startDt=2022-01-01&endDt=2022-03-31&gender=1&age=20&region=11;31&addCode=0&kdc=6&pageNo=1&pageSize=10'\n",
        "\n",
        "# URL에서 XML 데이터를 가져옵니다.\n",
        "response = requests.get(url)\n",
        "\n",
        "# XML 데이터를 파싱하여 OrderedDict로 변환합니다.\n",
        "xml_data = xmltodict.parse(response.text)\n",
        "\n",
        "# OrderedDict를 JSON 문자열로 변환합니다.\n",
        "json_data = json.dumps(xml_data, indent=4)\n",
        "\n",
        "# JSON 데이터를 출력합니다.\n",
        "print(json_data)"
      ],
      "metadata": {
        "colab": {
          "base_uri": "https://localhost:8080/"
        },
        "id": "pqbhnDNcKwFU",
        "outputId": "1b4c8fb8-9013-44c5-d4db-b02892f0d596"
      },
      "id": "pqbhnDNcKwFU",
      "execution_count": 50,
      "outputs": [
        {
          "output_type": "stream",
          "name": "stdout",
          "text": [
            "{\n",
            "    \"response\": {\n",
            "        \"request\": {\n",
            "            \"startDt\": \"2022-01-01\",\n",
            "            \"endDt\": \"2022-03-31\",\n",
            "            \"gender\": \"1\",\n",
            "            \"age\": \"20\",\n",
            "            \"addCode\": \"0\",\n",
            "            \"kdc\": \"6\",\n",
            "            \"region\": \"11;31\",\n",
            "            \"pageNo\": \"1\",\n",
            "            \"pageSize\": \"10\"\n",
            "        },\n",
            "        \"resultNum\": \"10\",\n",
            "        \"numFound\": \"5000\",\n",
            "        \"docs\": {\n",
            "            \"doc\": [\n",
            "                {\n",
            "                    \"no\": \"1\",\n",
            "                    \"ranking\": \"1\",\n",
            "                    \"bookname\": \"\\ubc29\\uad6c\\uc11d \\ubbf8\\uc220\\uad00 :\\uac00\\ubccd\\uace0 \\ud3b8\\ud558\\uac8c \\uc2dc\\uc791\\ud558\\ub294 \\uc720\\ucf8c\\ud55c \\uad50\\uc591 \\ubbf8\\uc220\",\n",
            "                    \"authors\": \"\\uc870\\uc6d0\\uc7ac \\uc9c0\\uc74c\",\n",
            "                    \"publisher\": \"\\ubc31\\ub3c4\\uc528\",\n",
            "                    \"publication_year\": \"2018\",\n",
            "                    \"isbn13\": \"9788968331862\",\n",
            "                    \"addition_symbol\": \"03600\",\n",
            "                    \"vol\": null,\n",
            "                    \"class_no\": \"650.4\",\n",
            "                    \"class_nm\": \"\\uc608\\uc220 > \\ud68c\\ud654, \\ub3c4\\ud654 > \\ud68c\\ud654, \\ub3c4\\ud654\",\n",
            "                    \"loan_count\": \"213\",\n",
            "                    \"bookImageURL\": \"https://bookthumb-phinf.pstatic.net/cover/138/339/13833956.jpg?type=m1&udate=20180803\",\n",
            "                    \"bookDtlUrl\": \"https://data4library.kr/bookV?seq=3858776\"\n",
            "                },\n",
            "                {\n",
            "                    \"no\": \"2\",\n",
            "                    \"ranking\": \"2\",\n",
            "                    \"bookname\": \"\\ubc29\\uad6c\\uc11d \\ubbf8\\uc220\\uad00\",\n",
            "                    \"authors\": \"\\uc870\\uc6d0\\uc7ac \\uc9c0\\uc74c\",\n",
            "                    \"publisher\": \"\\ubc31\\ub3c4\\uc528\",\n",
            "                    \"publication_year\": \"2020\",\n",
            "                    \"isbn13\": \"9788968332845\",\n",
            "                    \"addition_symbol\": \"03600\",\n",
            "                    \"vol\": \"2\",\n",
            "                    \"class_no\": \"650.4\",\n",
            "                    \"class_nm\": \"\\uc608\\uc220 > \\ud68c\\ud654, \\ub3c4\\ud654 > \\ud68c\\ud654, \\ub3c4\\ud654\",\n",
            "                    \"loan_count\": \"152\",\n",
            "                    \"bookImageURL\": \"https://image.aladin.co.kr/product/25566/91/cover/8968332843_2.jpg\",\n",
            "                    \"bookDtlUrl\": \"https://data4library.kr/bookV?seq=5799196\"\n",
            "                },\n",
            "                {\n",
            "                    \"no\": \"3\",\n",
            "                    \"ranking\": \"3\",\n",
            "                    \"bookname\": \"\\ubaa8\\uad6d\\uc5b4\\ub294 \\ucc28\\ub77c\\ub9ac \\uce68\\ubb35 :\\ubaa9\\uc815\\uc6d0 \\uc0b0\\ubb38\",\n",
            "                    \"authors\": \"\\uc9c0\\uc740\\uc774: \\ubaa9\\uc815\\uc6d0\",\n",
            "                    \"publisher\": \"\\uc544\\uce68\\ub2ec\",\n",
            "                    \"publication_year\": \"2021\",\n",
            "                    \"isbn13\": \"9791189467302\",\n",
            "                    \"addition_symbol\": \"03600\",\n",
            "                    \"vol\": null,\n",
            "                    \"class_no\": \"600.04\",\n",
            "                    \"class_nm\": \"\\uc608\\uc220 > \\uc608\\uc220 > \\uc608\\uc220\",\n",
            "                    \"loan_count\": \"120\",\n",
            "                    \"bookImageURL\": \"https://image.aladin.co.kr/product/28091/4/cover/k062734948_1.jpg\",\n",
            "                    \"bookDtlUrl\": \"https://data4library.kr/bookV?seq=6315295\"\n",
            "                },\n",
            "                {\n",
            "                    \"no\": \"4\",\n",
            "                    \"ranking\": \"4\",\n",
            "                    \"bookname\": \"\\uc6b0\\uc544\\ud558\\uace0 \\ud638\\ucf8c\\ud55c \\uc5ec\\uc790 \\ucd95\\uad6c :\\uae40\\ud63c\\ube44 \\uc5d0\\uc138\\uc774\",\n",
            "                    \"authors\": \"\\uc9c0\\uc740\\uc774: \\uae40\\ud63c\\ube44\",\n",
            "                    \"publisher\": \"\\ubbfc\\uc74c\\uc0ac\",\n",
            "                    \"publication_year\": \"2018\",\n",
            "                    \"isbn13\": \"9788937437571\",\n",
            "                    \"addition_symbol\": \"03810\",\n",
            "                    \"vol\": null,\n",
            "                    \"class_no\": \"695.404\",\n",
            "                    \"class_nm\": \"\\uc608\\uc220 > \\uc624\\ub77d, \\uc6b4\\ub3d9 > \\uad6c\\uae30\",\n",
            "                    \"loan_count\": \"108\",\n",
            "                    \"bookImageURL\": \"http://image.aladin.co.kr/product/14970/22/cover/8937437570_1.jpg\",\n",
            "                    \"bookDtlUrl\": \"https://data4library.kr/bookV?seq=3766967\"\n",
            "                },\n",
            "                {\n",
            "                    \"no\": \"5\",\n",
            "                    \"ranking\": \"5\",\n",
            "                    \"bookname\": \"\\ub0b4\\uac00 \\uc0ac\\ub791\\ud55c \\ud654\\uac00\\ub4e4 :\\uc0b4\\uba74\\uc11c \\ud55c \\ubc88\\uc740 \\uaf2d \\ub4e4\\uc5b4\\uc57c \\ud560 \\uc544\\uc8fc \\ud2b9\\ubcc4\\ud55c \\ubbf8\\uc220 \\uc218\\uc5c5\",\n",
            "                    \"authors\": \"\\uc815\\uc6b0\\ucca0 \\uc9c0\\uc74c\",\n",
            "                    \"publisher\": \"\\ub098\\ubb34\\uc758\\ucca0\\ud559\",\n",
            "                    \"publication_year\": \"2021\",\n",
            "                    \"isbn13\": \"9791158512132\",\n",
            "                    \"addition_symbol\": \"03600\",\n",
            "                    \"vol\": null,\n",
            "                    \"class_no\": \"650.4\",\n",
            "                    \"class_nm\": \"\\uc608\\uc220 > \\ud68c\\ud654, \\ub3c4\\ud654 > \\ud68c\\ud654, \\ub3c4\\ud654\",\n",
            "                    \"loan_count\": \"100\",\n",
            "                    \"bookImageURL\": \"https://bookthumb-phinf.pstatic.net/cover/189/259/18925927.jpg?type=m1&udate=20210413\",\n",
            "                    \"bookDtlUrl\": \"https://data4library.kr/bookV?seq=5962096\"\n",
            "                },\n",
            "                {\n",
            "                    \"no\": \"6\",\n",
            "                    \"ranking\": \"6\",\n",
            "                    \"bookname\": \"\\uae30\\ubb18\\ud55c \\ubbf8\\uc220\\uad00 :\\uc544\\ub984\\ub2f5\\uace0 \\uc11c\\ub298\\ud55c \\uba85\\ud654 \\uc18d \\ubbf8\\uc2a4\\ud130\\ub9ac\",\n",
            "                    \"authors\": \"\\uc9c4\\ubcd1\\uad00 \\uc9c0\\uc74c\",\n",
            "                    \"publisher\": \"\\ube45\\ud53c\\uc2dc\",\n",
            "                    \"publication_year\": \"2021\",\n",
            "                    \"isbn13\": \"9791191825084\",\n",
            "                    \"addition_symbol\": \"03600\",\n",
            "                    \"vol\": null,\n",
            "                    \"class_no\": \"650.4\",\n",
            "                    \"class_nm\": \"\\uc608\\uc220 > \\ud68c\\ud654, \\ub3c4\\ud654 > \\ud68c\\ud654, \\ub3c4\\ud654\",\n",
            "                    \"loan_count\": \"87\",\n",
            "                    \"bookImageURL\": \"https://image.aladin.co.kr/product/27920/22/cover/k122734505_2.jpg\",\n",
            "                    \"bookDtlUrl\": \"https://data4library.kr/bookV?seq=6091133\"\n",
            "                },\n",
            "                {\n",
            "                    \"no\": \"7\",\n",
            "                    \"ranking\": \"7\",\n",
            "                    \"bookname\": \"\\uae40\\uc774\\ub098\\uc758 \\uc791\\uc0ac\\ubc95 :\\uc6b0\\ub9ac\\uc758 \\uac10\\uc815\\uc744 \\uc0ac\\ub85c\\uc7a1\\ub294 \\uc77c\\uc0c1\\uc758 \\uc5b8\\uc5b4\\ub4e4\",\n",
            "                    \"authors\": \"\\uc9c0\\uc740\\uc774: \\uae40\\uc774\\ub098\",\n",
            "                    \"publisher\": \"\\ubb38\\ud559\\ub3d9\\ub124\",\n",
            "                    \"publication_year\": \"2015\",\n",
            "                    \"isbn13\": \"9788954635608\",\n",
            "                    \"addition_symbol\": \"03810\",\n",
            "                    \"vol\": null,\n",
            "                    \"class_no\": \"673.511\",\n",
            "                    \"class_nm\": \"\\uc608\\uc220 > \\uc74c\\uc545 > \\uc131\\uc545\",\n",
            "                    \"loan_count\": \"86\",\n",
            "                    \"bookImageURL\": \"http://image.aladin.co.kr/product/5482/88/cover/8954635601_1.jpg\",\n",
            "                    \"bookDtlUrl\": \"https://data4library.kr/bookV?seq=2619164\"\n",
            "                },\n",
            "                {\n",
            "                    \"no\": \"8\",\n",
            "                    \"ranking\": \"8\",\n",
            "                    \"bookname\": \"\\uc9c0\\ube0c\\ub9ac\\uc758 \\ucc9c\\uc7ac\\ub4e4 :\\uc804 \\uc138\\uacc4 1\\uc5b5 \\uba85\\uc758 \\ub9c8\\ub2c8\\uc544\\ub97c \\ud0c4\\uc0dd\\uc2dc\\ud0a8 \\uc2a4\\ud29c\\ub514\\uc624 \\uc9c0\\ube0c\\ub9ac\\uc758 \\uc131\\uacf5 \\ube44\\uacb0\",\n",
            "                    \"authors\": \"\\uc2a4\\uc988\\ud0a4 \\ub3c4\\uc2dc\\uc624 \\uc9c0\\uc74c ;\\uc774\\uc120\\ud76c \\uc62e\\uae40\",\n",
            "                    \"publisher\": \"\\ud3ec\\ub808\\uc2a4\\ud2b8\\ubd81\\uc2a4\",\n",
            "                    \"publication_year\": \"2020\",\n",
            "                    \"isbn13\": \"9791189584887\",\n",
            "                    \"addition_symbol\": \"03320\",\n",
            "                    \"vol\": null,\n",
            "                    \"class_no\": \"688.6\",\n",
            "                    \"class_nm\": \"\\uc608\\uc220 > \\uc5f0\\uadf9 > \\uc601\\ud654\",\n",
            "                    \"loan_count\": \"75\",\n",
            "                    \"bookImageURL\": \"https://image.aladin.co.kr/product/26651/39/cover/k442739334_1.jpg\",\n",
            "                    \"bookDtlUrl\": \"https://data4library.kr/bookV?seq=5938566\"\n",
            "                },\n",
            "                {\n",
            "                    \"no\": \"9\",\n",
            "                    \"ranking\": \"9\",\n",
            "                    \"bookname\": \"\\uac81\\ub0b4\\uc9c0 \\uc54a\\uace0 \\uadf8\\ub9bc \\uadf8\\ub9ac\\ub294 \\ubc95\",\n",
            "                    \"authors\": \"\\uc800\\uc790: \\uc774\\uc5f0\",\n",
            "                    \"publisher\": \"\\ubbf8\\uc220\\ubb38\\ud654\",\n",
            "                    \"publication_year\": \"2021\",\n",
            "                    \"isbn13\": \"9791185954707\",\n",
            "                    \"addition_symbol\": \"03600\",\n",
            "                    \"vol\": null,\n",
            "                    \"class_no\": \"650.4\",\n",
            "                    \"class_nm\": \"\\uc608\\uc220 > \\ud68c\\ud654, \\ub3c4\\ud654 > \\ud68c\\ud654, \\ub3c4\\ud654\",\n",
            "                    \"loan_count\": \"74\",\n",
            "                    \"bookImageURL\": \"https://image.aladin.co.kr/product/26722/32/cover/k282730189_2.jpg\",\n",
            "                    \"bookDtlUrl\": \"https://data4library.kr/bookV?seq=5945219\"\n",
            "                },\n",
            "                {\n",
            "                    \"no\": \"10\",\n",
            "                    \"ranking\": \"10\",\n",
            "                    \"bookname\": \"\\ub110 \\uc704\\ud55c \\ubb38\\ud654\\uc608\\uc220 :\\ubbf8\\uc220\\uad00\\uc5d0\\uc11c \\uae38\\uc744 \\uc783\\ub294 \\uc0ac\\ub78c\\ub4e4\\uc744 \\uc704\\ud55c \\uac00\\uc7a5 \\uce5c\\uc808\\ud55c \\uc608\\uc220 \\uac00\\uc774\\ub4dc\",\n",
            "                    \"authors\": \"\\uc624\\ub300\\uc6b0,\\uc774\\uc815\\uc6b0 \\uc9c0\\uc74c\",\n",
            "                    \"publisher\": \"Whale Books(\\uc6e8\\uc77c\\ubd81)\",\n",
            "                    \"publication_year\": \"2021\",\n",
            "                    \"isbn13\": \"9791190313926\",\n",
            "                    \"addition_symbol\": \"03600\",\n",
            "                    \"vol\": null,\n",
            "                    \"class_no\": \"650.4\",\n",
            "                    \"class_nm\": \"\\uc608\\uc220 > \\ud68c\\ud654, \\ub3c4\\ud654 > \\ud68c\\ud654, \\ub3c4\\ud654\",\n",
            "                    \"loan_count\": \"72\",\n",
            "                    \"bookImageURL\": \"https://image.aladin.co.kr/product/27473/16/cover/k022733795_1.jpg\",\n",
            "                    \"bookDtlUrl\": \"https://data4library.kr/bookV?seq=6041902\"\n",
            "                }\n",
            "            ]\n",
            "        }\n",
            "    }\n",
            "}\n"
          ]
        }
      ]
    },
    {
      "cell_type": "code",
      "execution_count": null,
      "id": "03fe1289",
      "metadata": {
        "id": "03fe1289"
      },
      "outputs": [],
      "source": [
        "import os\n",
        "import sys\n",
        "import urllib.request\n",
        "import datetime\n",
        "import time\n",
        "import json\n",
        "import pandas as pd\n",
        "\n",
        "now = datetime.datetime.now()\n",
        "datas = []   #csv파일을 위한 변수\n",
        "\n",
        "client_id = ''          # 자신의 client_id\n",
        "client_pw = ''          # 자신의 client_secret\n",
        "PATH = './data'         # 수집 데이터 저장 폴더\n",
        "\n",
        "\n",
        "#[CODE 1]\n",
        "def get_RequestUrl(url):\n",
        "    req = urllib.request.Request(url)\n",
        "    req.add_header(\"X-Naver-Client-Id\", client_id)\n",
        "    req.add_header(\"X-Naver-Client-Secret\", client_pw)\n",
        "\n",
        "    try:\n",
        "        response = urllib.request.urlopen(req)\n",
        "        if response.getcode() == 200:\n",
        "            print(f\"[{now.strftime('%Y년%m월%d일 %H시%M분%S초')}] Url Request Success\")\n",
        "            return response.read().decode('utf-8')\n",
        "\n",
        "    except Exception as e:\n",
        "#         if response.getcode() == 400 and datas:\n",
        "#             return None\n",
        "        print(e)\n",
        "        print(f\"[{now.strftime('%Y년%m월%d일 %H시%M분%S초')}] Error for URL : {url}\" )\n",
        "        return None\n",
        "\n",
        "\n",
        "#[CODE 2]  네이버 검색 API\n",
        "def get_NaverSearch(node, keyword, start, display):\n",
        "    base = \"https://openapi.naver.com/v1/search\"\n",
        "    node = \"/%s.json\" % node\n",
        "    parameters = \"?query=%s&start=%s&display=%s\" % (urllib.parse.quote(keyword), start, display)\n",
        "\n",
        "    url = base + node + parameters\n",
        "    responseDecode = get_RequestUrl(url)   #[CODE 1]\n",
        "\n",
        "    if (responseDecode == None):\n",
        "        return None\n",
        "    else:\n",
        "        return json.loads(responseDecode)\n",
        "\n",
        "#[CODE 3]\n",
        "def get_PostData(node, post, jsonResult, cnt):\n",
        "    if node == 'book':\n",
        "        data = {'제목':post['title'],\n",
        "                '저자':post['author'],\n",
        "                '출판사':post['publisher'],\n",
        "                '출간일':post['pubdate'],\n",
        "                '링크':post['link'],\n",
        "                '이미지':post['image']}\n",
        "    elif node == 'news':\n",
        "        data = {'제목':post['title'],\n",
        "                '링크':post['originallink'],\n",
        "                '내용':post['description']}\n",
        "    elif node == 'shop':\n",
        "        data = {'제목':post['title'],\n",
        "                '브랜드':post['brand'],\n",
        "                '제조사':post['maker'],\n",
        "                '가격':post['lprice'],\n",
        "                '이미지':post['image']}\n",
        "\n",
        "    jsonResult.append(data)\n",
        "    datas.append(data)\n",
        "\n",
        "    return\n",
        "\n",
        "#[CODE 0]\n",
        "def main():\n",
        "    global node, keyword\n",
        "\n",
        "    nodeType = '''-----------------------------\n",
        "    네이버 검색 대상입니다.\n",
        "      1.book,  2.news,  3.shop\n",
        "    -----------------------------'''\n",
        "    print(nodeType)\n",
        "    node = input('번호를 선택하세요.[1:책, 2:뉴스, 3:쇼핑]')\n",
        "    if node == '1': node = 'book'\n",
        "    elif node == '2': node = 'news'\n",
        "    elif node == '3': node = 'shop'\n",
        "    else:\n",
        "        node == '1'\n",
        "        node = 'book'\n",
        "\n",
        "    keyword = input(f'{node} 검색할 검색어를 입력하세요: ')\n",
        "\n",
        "    display, cnt = 100, 0\n",
        "    jsonResult = []\n",
        "    jsonResponse = get_NaverSearch(node, keyword, 1, display)  #[CODE 2]\n",
        "    total = jsonResponse['total']\n",
        "\n",
        "    while ((jsonResponse != None) and (jsonResponse['display'] != 0)):\n",
        "        for post in jsonResponse['items']:\n",
        "            cnt += 1\n",
        "            get_PostData(node, post, jsonResult, cnt)  #[CODE 3]\n",
        "\n",
        "        start = jsonResponse['start'] + jsonResponse['display']\n",
        "        jsonResponse = get_NaverSearch(node, keyword, start, total)\n",
        "#     print(f'가져올 데이터 : {total} 건')\n",
        "\n",
        "    # with open(f'{PATH}/naver_{node}_{keyword}', 'w', encoding='utf8') as outfile:\n",
        "    #     jsonFile = json.dumps(jsonResult,  indent=4, sort_keys=True,  ensure_ascii=False)\n",
        "\n",
        "    #     outfile.write(jsonFile)\n",
        "\n",
        "    print(\"가져온 데이터 : %d 건\" %(cnt))\n",
        "\n",
        "\n",
        "\n",
        "    # csv 파일로 저장하기\n",
        "    file = f'{PATH}/naver_{node}_{keyword}.csv'\n",
        "    df = pd.DataFrame(datas)\n",
        "    df.to_csv(file, index=False, encoding=\"utf-8-sig\")\n",
        "    print(f'{PATH}/naver_{node}_{keyword}.csv SAVED')\n",
        "    return df\n",
        "\n",
        "#-----------\n",
        "# 시작\n",
        "#-----------\n",
        "df = main()\n",
        "df"
      ]
    },
    {
      "cell_type": "markdown",
      "id": "6lHcEMfHjLfk",
      "metadata": {
        "id": "6lHcEMfHjLfk"
      },
      "source": [
        "\n",
        "\n",
        "---\n",
        "\n"
      ]
    },
    {
      "cell_type": "markdown",
      "id": "7a27fa6d",
      "metadata": {
        "id": "7a27fa6d"
      },
      "source": [
        "#### (24.2.29 서비스 종료됨)[실습] :  네이버 Papago API 사용하여 번역하기"
      ]
    },
    {
      "cell_type": "code",
      "execution_count": null,
      "id": "c8b6e522",
      "metadata": {
        "id": "c8b6e522",
        "scrolled": true
      },
      "outputs": [],
      "source": [
        "# import os\n",
        "# import sys\n",
        "# import urllib.request\n",
        "# import datetime\n",
        "# import json\n",
        "\n",
        "\n",
        "# client_id = ''  # 자신의 파파고 NMT API ID\n",
        "# client_pw = ''            # 자신의 파파고 NMT API PASSWORD\n",
        "\n",
        "# news = []   #csv파일을 위한 변수\n",
        "\n",
        "# #[CODE 1]\n",
        "# def papago(prompt, lang=1):\n",
        "\n",
        "#     encText = urllib.parse.quote(prompt)\n",
        "#     if lang == 1 :\n",
        "#         data = \"source=ko&target=en&text=\" + encText\n",
        "#     else:\n",
        "#         data = \"source=en&target=ko&text=\" + encText\n",
        "#     url = \"https://openapi.naver.com/v1/papago/n2mt\"\n",
        "\n",
        "#     req = urllib.request.Request(url)\n",
        "#     req.add_header(\"X-Naver-Client-Id\", client_id)\n",
        "#     req.add_header(\"X-Naver-Client-Secret\", client_pw)\n",
        "\n",
        "#     try:\n",
        "#         response = urllib.request.urlopen(req, data=data.encode(\"utf-8\") )\n",
        "#         if response.getcode() == 200:\n",
        "#             print(f\"[{now.strftime('%Y년%m월%d일 %H시%M분%S초')}] Url Request Success\")\n",
        "#             responseDecode = response.read().decode('utf-8')\n",
        "\n",
        "#             if responseDecode == None:\n",
        "#                 return None\n",
        "#             else:\n",
        "#                 return json.loads(responseDecode)\n",
        "\n",
        "#     except Exception as e:\n",
        "#         print(e)\n",
        "#         print(\"[%s] Error for URL : %s\" % (datetime.datetime.now(), url))\n",
        "#         return None\n",
        "\n",
        "# # 메인\n",
        "# lang= int(input('[선택] 1:한글->영어, 2:영어->한글: '))\n",
        "# txt =  '한글' if lang==1 else '영어'\n",
        "# prompt= input(f'[번역] 변환할 문장을 입력하세요.[{txt}로 입력]: ')\n",
        "\n",
        "# jsonResponse = papago(prompt, lang)  # 파파고 번역\n",
        "# jsonResponse\n",
        "# print('-'*50)\n",
        "# print(f\"[번역 결과] => {jsonResponse['message']['result']['translatedText']}\")\n"
      ]
    },
    {
      "cell_type": "markdown",
      "id": "aa56f180",
      "metadata": {
        "id": "aa56f180"
      },
      "source": [
        "-------------------------"
      ]
    },
    {
      "cell_type": "markdown",
      "id": "OARyiX8OjSDk",
      "metadata": {
        "id": "OARyiX8OjSDk"
      },
      "source": [
        "### <a name=\"2)한글텍스트Cleansing\">2) 한글 텍스트 Cleansing</a>"
      ]
    },
    {
      "cell_type": "markdown",
      "id": "iSHlDdMOkhPa",
      "metadata": {
        "id": "iSHlDdMOkhPa"
      },
      "source": [
        "#### 1.라이브러리 설치"
      ]
    },
    {
      "cell_type": "code",
      "execution_count": null,
      "id": "yW92MW8gjwcV",
      "metadata": {
        "id": "yW92MW8gjwcV"
      },
      "outputs": [],
      "source": [
        "# 자연어처리 형태소 분석 및 토큰화\n",
        "!pip install nltk"
      ]
    },
    {
      "cell_type": "code",
      "execution_count": null,
      "id": "xG_Jjc3Vjyvn",
      "metadata": {
        "id": "xG_Jjc3Vjyvn"
      },
      "outputs": [],
      "source": [
        "# (한글)자연어처리 형태소 분석 및 토큰화\n",
        "# (WinOS에서는 konlpy를 사용하기 위해 JDK를 설치해야 오류가 없어 코랩에서 실행함)\n",
        "!pip install konlpy"
      ]
    },
    {
      "cell_type": "code",
      "execution_count": null,
      "id": "QnXMfe_tj2Tr",
      "metadata": {
        "id": "QnXMfe_tj2Tr"
      },
      "outputs": [],
      "source": [
        "# html tag parsing을 위한 라이브러리\n",
        "!pip install beautifulsoup4"
      ]
    },
    {
      "cell_type": "code",
      "execution_count": null,
      "id": "MYcUubDGfUjr",
      "metadata": {
        "id": "MYcUubDGfUjr"
      },
      "outputs": [],
      "source": [
        "# 사이킷런 CountVectorizer클래스 사용 : 단어 빈도수 추출\n",
        "!pip install scikit-learn"
      ]
    },
    {
      "cell_type": "markdown",
      "id": "tQ6-YXHGkkCN",
      "metadata": {
        "id": "tQ6-YXHGkkCN"
      },
      "source": [
        "#### 2.한글 테스트 자연어 처리(Text Cleansing)\n",
        "- 앞에서 OpenAPI를 사용하여 뉴스 데이터를 가져온 뒤에 아래 코트를 실행시키도록 한다.\n"
      ]
    },
    {
      "cell_type": "code",
      "execution_count": null,
      "id": "bBQc3PLwjLzQ",
      "metadata": {
        "id": "bBQc3PLwjLzQ"
      },
      "outputs": [],
      "source": [
        "import pandas as pd\n",
        "import re\n",
        "from bs4 import BeautifulSoup\n",
        "import konlpy\n",
        "import nltk\n",
        "\n",
        "def clean_korean_documents(documents):\n",
        "    #텍스트 정제 (HTML 태그 제거)\n",
        "    for i, document in enumerate(documents):\n",
        "        document = BeautifulSoup(document, 'html.parser').text\n",
        "        documents[i] = document\n",
        "\n",
        "    #텍스트 정제 (특수기호 제거)\n",
        "    for i, document in enumerate(documents):\n",
        "        document = re.sub(r'[^ ㄱ-ㅣ가-힣]', '', document) #특수기호 제거, 정규 표현식\n",
        "        documents[i] = document\n",
        "\n",
        "    #텍스트 정제 (형태소 분석)\n",
        "    for i, document in enumerate(documents):\n",
        "        okt = konlpy.tag.Okt()\n",
        "        clean_words = []\n",
        "        for word in okt.pos(document, stem=True): #어간 추출\n",
        "            if word[1] in ['Noun', 'Verb', 'Adjective']: #명사, 동사, 형용사\n",
        "                clean_words.append(word[0])\n",
        "        document = ' '.join(clean_words)\n",
        "        documents[i] = document\n",
        "\n",
        "    #텍스트 정제 (불용어 제거)\n",
        "    df = pd.read_csv('https://raw.githubusercontent.com/cranberryai/todak_todak_python/master/machine_learning_text/clean_korean_documents/korean_stopwords.txt', header=None)\n",
        "    df[0] = df[0].apply(lambda x: x.strip())\n",
        "    stopwords = df[0].to_numpy()\n",
        "    nltk.download('punkt')\n",
        "    for i, document in enumerate(documents):\n",
        "        clean_words = []\n",
        "        for word in nltk.tokenize.word_tokenize(document):\n",
        "            if word not in stopwords: #불용어 제거\n",
        "                clean_words.append(word)\n",
        "        documents[i] = ' '.join(clean_words)\n",
        "\n",
        "    return documents\n",
        "\n",
        "\n",
        "def clean_target_feature(data):\n",
        "    x_data = data.to_list()\n",
        "    return clean_korean_documents(x_data)\n",
        "\n",
        "\n",
        "\n",
        "# ---------------------\n",
        "# 1.클린징할 파일 가져오기\n",
        "file = f'{PATH}/naver_{node}_{keyword}.csv'  # 앞에서 만들어진 파일 사용하기\n",
        "df = pd.read_csv(file)\n",
        "\n",
        "# 2.클린징할 컬럼 선택해서 클린징하기\n",
        "# (앞 OpenAPI검색에서 2.news 검색을 한 후 실행하기)\n",
        "df['제목'] = clean_target_feature(df['제목'])  # 기사 제목\n",
        "df['내용'] = clean_target_feature(df['내용'])  # 기사 내용\n",
        "\n",
        "# 3.클린징 결과 csv 파일로 저장하기\n",
        "file = f'{PATH}/naver_{node}_{keyword}_clean.csv'\n",
        "df.to_csv(file, index=False, encoding=\"utf-8-sig\")\n",
        "print(f'{file} SAVED')\n",
        "\n",
        "df.head()\n"
      ]
    },
    {
      "cell_type": "markdown",
      "id": "4k38KlXmtWPn",
      "metadata": {
        "id": "4k38KlXmtWPn"
      },
      "source": [
        "#### 3.워드 클라우드 만들기"
      ]
    },
    {
      "cell_type": "code",
      "execution_count": null,
      "id": "vkCWhYlgt8c2",
      "metadata": {
        "id": "vkCWhYlgt8c2"
      },
      "outputs": [],
      "source": [
        "import numpy as np\n",
        "import matplotlib.pyplot as plt\n",
        "from wordcloud import WordCloud\n",
        "import matplotlib.pyplot as plt\n",
        "plt.rcParams['figure.figsize'] = (10,6)\n",
        "\n",
        "# 말뭉치를 토큰화하여 빈도수 가져오기\n",
        "def get_wordTokenCount(corpus):\n",
        "    from sklearn.feature_extraction.text import CountVectorizer\n",
        "\n",
        "    # 말뭉치를 토큰화하기\n",
        "    vect = CountVectorizer().fit(corpus)\n",
        "    count = vect.transform(corpus).toarray().sum(axis=0)\n",
        "\n",
        "    # 토큰 빈도수로 정렬하고 토큰명 추출\n",
        "    idx = np.argsort(-count)  # 내림 정렬하여 인덱스 반환: 토큰의 인덱스\n",
        "    count = count[idx]        # 토큰의 빈도수\n",
        "    feature_name = np.array(vect.get_feature_names_out())[idx]  # 토큰값\n",
        "\n",
        "    # 빈도수 많은 순서대로 토큰명 10개만 출력\n",
        "    print(list(zip(feature_name, count))[:10])\n",
        "\n",
        "    return feature_name, count\n",
        "\n",
        "\n",
        "# 단어(토큰) 빈도수 막대 그래프 그리기\n",
        "def draw_wordTokenCountGraph(data, freq):\n",
        "    plt.bar(data, freq)\n",
        "    plt.grid()\n",
        "    plt.show()\n",
        "\n",
        "    # 그래프 그림 저장히기\n",
        "    plt.savefig(f'./token_bar_graph.png')\n",
        "\n",
        "# 워드클라우드 만들기\n",
        "def make_wordcloud(feature_name, count):\n",
        "    # 한글 폰트 경로를 설정\n",
        "    # font_path = 'NanumGothic'  #/usr/share/fonts/truetype/nanum/NanumGothic.ttf  #코랩\n",
        "    font_path = 'malgun'  # C:/Windows/Fonts/                                  #window\n",
        "\n",
        "    # (토큰명, 빈도수) 딕셔너리 타입으로 변환\n",
        "    data = dict(zip(feature_name, count))\n",
        "\n",
        "    # 워드클라우드로 그래프로 시각화\n",
        "    wc = WordCloud(width = 1000, height = 600, background_color=\"black\", font_path=font_path)\n",
        "    plt.imshow(wc.generate_from_frequencies(data)) #딕셔너리\n",
        "    plt.axis(\"off\")\n",
        "    plt.show()\n",
        "\n",
        "    # 이미지 파일로 저장하기\n",
        "    wc.to_file(f'./워드클라우드.png')\n"
      ]
    },
    {
      "cell_type": "code",
      "execution_count": null,
      "id": "ijyL_9YSgg0q",
      "metadata": {
        "id": "ijyL_9YSgg0q"
      },
      "outputs": [],
      "source": [
        "import pandas as pd\n",
        "\n",
        "# 1.텍스트 말뭉치(corpus) 데이터 지정하기\n",
        "corpus = df['제목'].to_list()\n",
        "# print(corpus)\n",
        "\n",
        "# 2.말뭉치를 토큰화하여 빈도수 가져오기\n",
        "feature_name, count = get_wordTokenCount(corpus)\n",
        "\n",
        "# 3.단어(토큰) 빈도수 막대 그래프 그리기(상위 10개)\n",
        "# draw_wordTokenCountGraph(feature_name[:10], count[:10])\n",
        "\n",
        "# 3.워드 클라우드 만들기\n",
        "make_wordcloud(feature_name, count)"
      ]
    },
    {
      "cell_type": "markdown",
      "id": "Ajcnidsqs2hR",
      "metadata": {
        "id": "Ajcnidsqs2hR"
      },
      "source": [
        "\n",
        "\n",
        "---\n",
        "\n"
      ]
    },
    {
      "cell_type": "markdown",
      "id": "59fa45de",
      "metadata": {
        "id": "59fa45de"
      },
      "source": [
        "### <a name=\"3)웹이미지수집하기\">3) 웹 이미지 수집하기</a>"
      ]
    },
    {
      "cell_type": "markdown",
      "id": "44d3fd31",
      "metadata": {
        "id": "44d3fd31"
      },
      "source": [
        "#### 1.웹 이미지 화면에 출력하기"
      ]
    },
    {
      "cell_type": "code",
      "execution_count": null,
      "id": "337a091d",
      "metadata": {
        "id": "337a091d",
        "scrolled": true
      },
      "outputs": [],
      "source": [
        "from IPython.display import Image\n",
        "Image(url='https://shopping-phinf.pstatic.net/main_3815224/38152244716.20230516165404.jpg')"
      ]
    },
    {
      "cell_type": "markdown",
      "id": "0680e362",
      "metadata": {
        "id": "0680e362"
      },
      "source": [
        "#### 2.웹 이미지 파일로 저장하기"
      ]
    },
    {
      "cell_type": "code",
      "execution_count": null,
      "id": "a580299b",
      "metadata": {
        "id": "a580299b"
      },
      "outputs": [],
      "source": [
        "import requests\n",
        "from io import BytesIO\n",
        "from PIL import Image\n",
        "\n",
        "# 다운받을 이미지 url\n",
        "urls = [\n",
        "    \"https://shopping-phinf.pstatic.net/main_3815224/38152244716.20230516165404.jpg\",\n",
        "    \"https://shopping-phinf.pstatic.net/main_3726611/37266116619.20230119071117.jpg\"\n",
        "]\n",
        "# 파일로 저장하기\n",
        "for idx, url in enumerate(urls):\n",
        "    res = requests.get(url)                   # url 요청\n",
        "    img = Image.open(BytesIO(res.content))    # 응답결과(res.content)바이트파일 이미지 파일로 오픈\n",
        "    img.save(f'./testimg_{idx}.png', 'png')   # 'png'이미지로(만) 저장"
      ]
    },
    {
      "cell_type": "markdown",
      "id": "cfdf3dbf",
      "metadata": {
        "id": "cfdf3dbf"
      },
      "source": [
        "#### [실습] : 웹 이미지 수집하기\n",
        "- 앞에서 저장한 쇼핑 목록에 있는 URL을 이용하여 이미지 저장하기"
      ]
    },
    {
      "cell_type": "code",
      "execution_count": null,
      "id": "9cc4ce14",
      "metadata": {
        "id": "9cc4ce14"
      },
      "outputs": [],
      "source": [
        "# 이미지 다운로드 하기\n",
        "import pandas as pd\n",
        "import requests\n",
        "from io import BytesIO\n",
        "from PIL import Image\n",
        "import time\n",
        "import os\n",
        "\n",
        "# 자신에게 맞게 폴더/파일 위치 정보를 수정한다.\n",
        "FILE = f'./data/naver_shop_샌들.csv'  # 앞에서 자신이 검색한 쇼핑 파일\n",
        "ImgFolder = f'./image/download/'      # 다운받을 이미지 폴더\n",
        "MAX = 10                              # 이미지 파일 다운로드 건수\n",
        "\n",
        "def getImageUrl(file):\n",
        "    print(f'읽은 파일명: {file}')\n",
        "    df = pd.read_csv(file, encoding='utf-8') # 이미지가 있는 쇼핑 파일 불러오기\n",
        "    return df['이미지'].to_list()\n",
        "\n",
        "def createDirectory(directory): # 다운받을 이미지 폴더 만들기\n",
        "    try:\n",
        "        if not os.path.exists(directory):\n",
        "            print(f'{directory} 폴더가 생성되었습니다.')\n",
        "            os.makedirs(directory)\n",
        "        print(f'이미지 폴더 위치 : {directory}')\n",
        "    except OSError:\n",
        "        print(\"Error: Failed to create the directory.\")\n",
        "\n",
        "def downloadImageFile(urls, imgfolder):\n",
        "    start = time.time()             # 이미지 다운로드 속도 time check\n",
        "    for idx, url in enumerate(urls):\n",
        "        if idx == MAX:\n",
        "            break  # MAX 건수만 처리하기\n",
        "        res = requests.get(url)     # request.get 요청\n",
        "#         print(f'[{idx+1:2>}][{time.time() - start}] : {url}')  # 이미지 다운로드 시간 체크\n",
        "        print(f'[{idx+1:0>2}] : {url}')  # 이미지 다운로드 시간 체크\n",
        "        img = Image.open(BytesIO(res.content))  #Img open\n",
        "        img.save(f'{imgfolder}testimage_{idx}.png', 'png')\n",
        "    return idx\n",
        "\n",
        "\n",
        "urls = getImageUrl(FILE)                # 이미지 URL 목록 가져오기\n",
        "createDirectory(ImgFolder)              # 다운받을 이미지 폴더 만들기\n",
        "totalcnt = downloadImageFile(urls, ImgFolder)      # 이미지 다운로드하기\n",
        "print(f'총 다운로드 건수: {totalcnt}')\n"
      ]
    },
    {
      "cell_type": "markdown",
      "id": "fb18b237",
      "metadata": {
        "id": "fb18b237"
      },
      "source": [
        "---------------------------"
      ]
    },
    {
      "cell_type": "markdown",
      "id": "dd06d7e8",
      "metadata": {
        "id": "dd06d7e8"
      },
      "source": [
        "끝!"
      ]
    }
  ],
  "metadata": {
    "colab": {
      "provenance": [],
      "include_colab_link": true
    },
    "kernelspec": {
      "display_name": "Python 3 (ipykernel)",
      "language": "python",
      "name": "python3"
    },
    "language_info": {
      "codemirror_mode": {
        "name": "ipython",
        "version": 3
      },
      "file_extension": ".py",
      "mimetype": "text/x-python",
      "name": "python",
      "nbconvert_exporter": "python",
      "pygments_lexer": "ipython3",
      "version": "3.12.1"
    }
  },
  "nbformat": 4,
  "nbformat_minor": 5
}